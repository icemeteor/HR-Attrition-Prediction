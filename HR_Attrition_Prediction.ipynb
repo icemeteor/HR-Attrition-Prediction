{
 "cells": [
  {
   "cell_type": "markdown",
   "metadata": {},
   "source": [
    "# Project 7 - HR Attrtion Prediction"
   ]
  },
  {
   "cell_type": "markdown",
   "metadata": {},
   "source": [
    "## 1. Load the libraries and dataset"
   ]
  },
  {
   "cell_type": "code",
   "execution_count": 1,
   "metadata": {},
   "outputs": [
    {
     "data": {
      "text/html": [
       "        <script type=\"text/javascript\">\n",
       "        window.PlotlyConfig = {MathJaxConfig: 'local'};\n",
       "        if (window.MathJax) {MathJax.Hub.Config({SVG: {font: \"STIX-Web\"}});}\n",
       "        if (typeof require !== 'undefined') {\n",
       "        require.undef(\"plotly\");\n",
       "        requirejs.config({\n",
       "            paths: {\n",
       "                'plotly': ['https://cdn.plot.ly/plotly-latest.min']\n",
       "            }\n",
       "        });\n",
       "        require(['plotly'], function(Plotly) {\n",
       "            window._Plotly = Plotly;\n",
       "        });\n",
       "        }\n",
       "        </script>\n",
       "        "
      ]
     },
     "metadata": {},
     "output_type": "display_data"
    }
   ],
   "source": [
    "import pandas as pd\n",
    "import numpy as np\n",
    "import matplotlib.pyplot as plt\n",
    "import seaborn as sns\n",
    "\n",
    "import plotly.offline as py\n",
    "py.init_notebook_mode(connected=True)\n",
    "import plotly.graph_objs as go"
   ]
  },
  {
   "cell_type": "code",
   "execution_count": 2,
   "metadata": {},
   "outputs": [],
   "source": [
    "hr = pd.read_csv('HR.csv')"
   ]
  },
  {
   "cell_type": "markdown",
   "metadata": {},
   "source": [
    "## 2. EDA"
   ]
  },
  {
   "cell_type": "code",
   "execution_count": 3,
   "metadata": {
    "scrolled": true
   },
   "outputs": [
    {
     "name": "stdout",
     "output_type": "stream",
     "text": [
      "<class 'pandas.core.frame.DataFrame'>\n",
      "RangeIndex: 14999 entries, 0 to 14998\n",
      "Data columns (total 10 columns):\n",
      "satisfaction_level       14999 non-null float64\n",
      "last_evaluation          14999 non-null float64\n",
      "number_project           14999 non-null int64\n",
      "average_monthly_hours    14999 non-null int64\n",
      "time_spend_company       14999 non-null int64\n",
      "Work_accident            14999 non-null int64\n",
      "left                     14999 non-null int64\n",
      "promotion_last_5years    14999 non-null int64\n",
      "department               14999 non-null object\n",
      "salary                   14999 non-null object\n",
      "dtypes: float64(2), int64(6), object(2)\n",
      "memory usage: 1.1+ MB\n"
     ]
    }
   ],
   "source": [
    "hr.info()"
   ]
  },
  {
   "cell_type": "code",
   "execution_count": 4,
   "metadata": {},
   "outputs": [
    {
     "data": {
      "text/html": [
       "<div>\n",
       "<style scoped>\n",
       "    .dataframe tbody tr th:only-of-type {\n",
       "        vertical-align: middle;\n",
       "    }\n",
       "\n",
       "    .dataframe tbody tr th {\n",
       "        vertical-align: top;\n",
       "    }\n",
       "\n",
       "    .dataframe thead th {\n",
       "        text-align: right;\n",
       "    }\n",
       "</style>\n",
       "<table border=\"1\" class=\"dataframe\">\n",
       "  <thead>\n",
       "    <tr style=\"text-align: right;\">\n",
       "      <th></th>\n",
       "      <th>satisfaction_level</th>\n",
       "      <th>last_evaluation</th>\n",
       "      <th>number_project</th>\n",
       "      <th>average_monthly_hours</th>\n",
       "      <th>time_spend_company</th>\n",
       "      <th>Work_accident</th>\n",
       "      <th>left</th>\n",
       "      <th>promotion_last_5years</th>\n",
       "      <th>department</th>\n",
       "      <th>salary</th>\n",
       "    </tr>\n",
       "  </thead>\n",
       "  <tbody>\n",
       "    <tr>\n",
       "      <th>0</th>\n",
       "      <td>0.38</td>\n",
       "      <td>0.53</td>\n",
       "      <td>2</td>\n",
       "      <td>157</td>\n",
       "      <td>3</td>\n",
       "      <td>0</td>\n",
       "      <td>1</td>\n",
       "      <td>0</td>\n",
       "      <td>sales</td>\n",
       "      <td>low</td>\n",
       "    </tr>\n",
       "    <tr>\n",
       "      <th>1</th>\n",
       "      <td>0.80</td>\n",
       "      <td>0.86</td>\n",
       "      <td>5</td>\n",
       "      <td>262</td>\n",
       "      <td>6</td>\n",
       "      <td>0</td>\n",
       "      <td>1</td>\n",
       "      <td>0</td>\n",
       "      <td>sales</td>\n",
       "      <td>medium</td>\n",
       "    </tr>\n",
       "    <tr>\n",
       "      <th>2</th>\n",
       "      <td>0.11</td>\n",
       "      <td>0.88</td>\n",
       "      <td>7</td>\n",
       "      <td>272</td>\n",
       "      <td>4</td>\n",
       "      <td>0</td>\n",
       "      <td>1</td>\n",
       "      <td>0</td>\n",
       "      <td>sales</td>\n",
       "      <td>medium</td>\n",
       "    </tr>\n",
       "    <tr>\n",
       "      <th>3</th>\n",
       "      <td>0.72</td>\n",
       "      <td>0.87</td>\n",
       "      <td>5</td>\n",
       "      <td>223</td>\n",
       "      <td>5</td>\n",
       "      <td>0</td>\n",
       "      <td>1</td>\n",
       "      <td>0</td>\n",
       "      <td>sales</td>\n",
       "      <td>low</td>\n",
       "    </tr>\n",
       "    <tr>\n",
       "      <th>4</th>\n",
       "      <td>0.37</td>\n",
       "      <td>0.52</td>\n",
       "      <td>2</td>\n",
       "      <td>159</td>\n",
       "      <td>3</td>\n",
       "      <td>0</td>\n",
       "      <td>1</td>\n",
       "      <td>0</td>\n",
       "      <td>sales</td>\n",
       "      <td>low</td>\n",
       "    </tr>\n",
       "  </tbody>\n",
       "</table>\n",
       "</div>"
      ],
      "text/plain": [
       "   satisfaction_level  last_evaluation  number_project  average_monthly_hours  \\\n",
       "0                0.38             0.53               2                    157   \n",
       "1                0.80             0.86               5                    262   \n",
       "2                0.11             0.88               7                    272   \n",
       "3                0.72             0.87               5                    223   \n",
       "4                0.37             0.52               2                    159   \n",
       "\n",
       "   time_spend_company  Work_accident  left  promotion_last_5years department  \\\n",
       "0                   3              0     1                      0      sales   \n",
       "1                   6              0     1                      0      sales   \n",
       "2                   4              0     1                      0      sales   \n",
       "3                   5              0     1                      0      sales   \n",
       "4                   3              0     1                      0      sales   \n",
       "\n",
       "   salary  \n",
       "0     low  \n",
       "1  medium  \n",
       "2  medium  \n",
       "3     low  \n",
       "4     low  "
      ]
     },
     "execution_count": 4,
     "metadata": {},
     "output_type": "execute_result"
    }
   ],
   "source": [
    "hr.head()"
   ]
  },
  {
   "cell_type": "markdown",
   "metadata": {},
   "source": [
    "### 2.1 Missing Values"
   ]
  },
  {
   "cell_type": "code",
   "execution_count": null,
   "metadata": {},
   "outputs": [],
   "source": []
  },
  {
   "cell_type": "markdown",
   "metadata": {},
   "source": [
    "### 2.2 Target Distribution"
   ]
  },
  {
   "cell_type": "code",
   "execution_count": 5,
   "metadata": {
    "scrolled": true
   },
   "outputs": [
    {
     "data": {
      "text/plain": [
       "0    11428\n",
       "1     3571\n",
       "Name: left, dtype: int64"
      ]
     },
     "execution_count": 5,
     "metadata": {},
     "output_type": "execute_result"
    }
   ],
   "source": [
    "hr['left'].value_counts()"
   ]
  },
  {
   "cell_type": "code",
   "execution_count": 7,
   "metadata": {
    "scrolled": true
   },
   "outputs": [
    {
     "data": {
      "application/vnd.plotly.v1+json": {
       "config": {
        "linkText": "Export to plot.ly",
        "plotlyServerURL": "https://plot.ly",
        "showLink": false
       },
       "data": [
        {
         "marker": {
          "color": [
           "gold",
           "lightskyblue"
          ],
          "line": {
           "color": "#000000",
           "width": 1.5
          }
         },
         "opacity": 0.8,
         "orientation": "h",
         "type": "bar",
         "x": [
          3571,
          11428
         ],
         "y": [
          "Left",
          "Still_Employed"
         ]
        }
       ],
       "layout": {
        "template": {
         "data": {
          "bar": [
           {
            "error_x": {
             "color": "#2a3f5f"
            },
            "error_y": {
             "color": "#2a3f5f"
            },
            "marker": {
             "line": {
              "color": "#E5ECF6",
              "width": 0.5
             }
            },
            "type": "bar"
           }
          ],
          "barpolar": [
           {
            "marker": {
             "line": {
              "color": "#E5ECF6",
              "width": 0.5
             }
            },
            "type": "barpolar"
           }
          ],
          "carpet": [
           {
            "aaxis": {
             "endlinecolor": "#2a3f5f",
             "gridcolor": "white",
             "linecolor": "white",
             "minorgridcolor": "white",
             "startlinecolor": "#2a3f5f"
            },
            "baxis": {
             "endlinecolor": "#2a3f5f",
             "gridcolor": "white",
             "linecolor": "white",
             "minorgridcolor": "white",
             "startlinecolor": "#2a3f5f"
            },
            "type": "carpet"
           }
          ],
          "choropleth": [
           {
            "colorbar": {
             "outlinewidth": 0,
             "ticks": ""
            },
            "type": "choropleth"
           }
          ],
          "contour": [
           {
            "colorbar": {
             "outlinewidth": 0,
             "ticks": ""
            },
            "colorscale": [
             [
              0,
              "#0d0887"
             ],
             [
              0.1111111111111111,
              "#46039f"
             ],
             [
              0.2222222222222222,
              "#7201a8"
             ],
             [
              0.3333333333333333,
              "#9c179e"
             ],
             [
              0.4444444444444444,
              "#bd3786"
             ],
             [
              0.5555555555555556,
              "#d8576b"
             ],
             [
              0.6666666666666666,
              "#ed7953"
             ],
             [
              0.7777777777777778,
              "#fb9f3a"
             ],
             [
              0.8888888888888888,
              "#fdca26"
             ],
             [
              1,
              "#f0f921"
             ]
            ],
            "type": "contour"
           }
          ],
          "contourcarpet": [
           {
            "colorbar": {
             "outlinewidth": 0,
             "ticks": ""
            },
            "type": "contourcarpet"
           }
          ],
          "heatmap": [
           {
            "colorbar": {
             "outlinewidth": 0,
             "ticks": ""
            },
            "colorscale": [
             [
              0,
              "#0d0887"
             ],
             [
              0.1111111111111111,
              "#46039f"
             ],
             [
              0.2222222222222222,
              "#7201a8"
             ],
             [
              0.3333333333333333,
              "#9c179e"
             ],
             [
              0.4444444444444444,
              "#bd3786"
             ],
             [
              0.5555555555555556,
              "#d8576b"
             ],
             [
              0.6666666666666666,
              "#ed7953"
             ],
             [
              0.7777777777777778,
              "#fb9f3a"
             ],
             [
              0.8888888888888888,
              "#fdca26"
             ],
             [
              1,
              "#f0f921"
             ]
            ],
            "type": "heatmap"
           }
          ],
          "heatmapgl": [
           {
            "colorbar": {
             "outlinewidth": 0,
             "ticks": ""
            },
            "colorscale": [
             [
              0,
              "#0d0887"
             ],
             [
              0.1111111111111111,
              "#46039f"
             ],
             [
              0.2222222222222222,
              "#7201a8"
             ],
             [
              0.3333333333333333,
              "#9c179e"
             ],
             [
              0.4444444444444444,
              "#bd3786"
             ],
             [
              0.5555555555555556,
              "#d8576b"
             ],
             [
              0.6666666666666666,
              "#ed7953"
             ],
             [
              0.7777777777777778,
              "#fb9f3a"
             ],
             [
              0.8888888888888888,
              "#fdca26"
             ],
             [
              1,
              "#f0f921"
             ]
            ],
            "type": "heatmapgl"
           }
          ],
          "histogram": [
           {
            "marker": {
             "colorbar": {
              "outlinewidth": 0,
              "ticks": ""
             }
            },
            "type": "histogram"
           }
          ],
          "histogram2d": [
           {
            "colorbar": {
             "outlinewidth": 0,
             "ticks": ""
            },
            "colorscale": [
             [
              0,
              "#0d0887"
             ],
             [
              0.1111111111111111,
              "#46039f"
             ],
             [
              0.2222222222222222,
              "#7201a8"
             ],
             [
              0.3333333333333333,
              "#9c179e"
             ],
             [
              0.4444444444444444,
              "#bd3786"
             ],
             [
              0.5555555555555556,
              "#d8576b"
             ],
             [
              0.6666666666666666,
              "#ed7953"
             ],
             [
              0.7777777777777778,
              "#fb9f3a"
             ],
             [
              0.8888888888888888,
              "#fdca26"
             ],
             [
              1,
              "#f0f921"
             ]
            ],
            "type": "histogram2d"
           }
          ],
          "histogram2dcontour": [
           {
            "colorbar": {
             "outlinewidth": 0,
             "ticks": ""
            },
            "colorscale": [
             [
              0,
              "#0d0887"
             ],
             [
              0.1111111111111111,
              "#46039f"
             ],
             [
              0.2222222222222222,
              "#7201a8"
             ],
             [
              0.3333333333333333,
              "#9c179e"
             ],
             [
              0.4444444444444444,
              "#bd3786"
             ],
             [
              0.5555555555555556,
              "#d8576b"
             ],
             [
              0.6666666666666666,
              "#ed7953"
             ],
             [
              0.7777777777777778,
              "#fb9f3a"
             ],
             [
              0.8888888888888888,
              "#fdca26"
             ],
             [
              1,
              "#f0f921"
             ]
            ],
            "type": "histogram2dcontour"
           }
          ],
          "mesh3d": [
           {
            "colorbar": {
             "outlinewidth": 0,
             "ticks": ""
            },
            "type": "mesh3d"
           }
          ],
          "parcoords": [
           {
            "line": {
             "colorbar": {
              "outlinewidth": 0,
              "ticks": ""
             }
            },
            "type": "parcoords"
           }
          ],
          "pie": [
           {
            "automargin": true,
            "type": "pie"
           }
          ],
          "scatter": [
           {
            "marker": {
             "colorbar": {
              "outlinewidth": 0,
              "ticks": ""
             }
            },
            "type": "scatter"
           }
          ],
          "scatter3d": [
           {
            "line": {
             "colorbar": {
              "outlinewidth": 0,
              "ticks": ""
             }
            },
            "marker": {
             "colorbar": {
              "outlinewidth": 0,
              "ticks": ""
             }
            },
            "type": "scatter3d"
           }
          ],
          "scattercarpet": [
           {
            "marker": {
             "colorbar": {
              "outlinewidth": 0,
              "ticks": ""
             }
            },
            "type": "scattercarpet"
           }
          ],
          "scattergeo": [
           {
            "marker": {
             "colorbar": {
              "outlinewidth": 0,
              "ticks": ""
             }
            },
            "type": "scattergeo"
           }
          ],
          "scattergl": [
           {
            "marker": {
             "colorbar": {
              "outlinewidth": 0,
              "ticks": ""
             }
            },
            "type": "scattergl"
           }
          ],
          "scattermapbox": [
           {
            "marker": {
             "colorbar": {
              "outlinewidth": 0,
              "ticks": ""
             }
            },
            "type": "scattermapbox"
           }
          ],
          "scatterpolar": [
           {
            "marker": {
             "colorbar": {
              "outlinewidth": 0,
              "ticks": ""
             }
            },
            "type": "scatterpolar"
           }
          ],
          "scatterpolargl": [
           {
            "marker": {
             "colorbar": {
              "outlinewidth": 0,
              "ticks": ""
             }
            },
            "type": "scatterpolargl"
           }
          ],
          "scatterternary": [
           {
            "marker": {
             "colorbar": {
              "outlinewidth": 0,
              "ticks": ""
             }
            },
            "type": "scatterternary"
           }
          ],
          "surface": [
           {
            "colorbar": {
             "outlinewidth": 0,
             "ticks": ""
            },
            "colorscale": [
             [
              0,
              "#0d0887"
             ],
             [
              0.1111111111111111,
              "#46039f"
             ],
             [
              0.2222222222222222,
              "#7201a8"
             ],
             [
              0.3333333333333333,
              "#9c179e"
             ],
             [
              0.4444444444444444,
              "#bd3786"
             ],
             [
              0.5555555555555556,
              "#d8576b"
             ],
             [
              0.6666666666666666,
              "#ed7953"
             ],
             [
              0.7777777777777778,
              "#fb9f3a"
             ],
             [
              0.8888888888888888,
              "#fdca26"
             ],
             [
              1,
              "#f0f921"
             ]
            ],
            "type": "surface"
           }
          ],
          "table": [
           {
            "cells": {
             "fill": {
              "color": "#EBF0F8"
             },
             "line": {
              "color": "white"
             }
            },
            "header": {
             "fill": {
              "color": "#C8D4E3"
             },
             "line": {
              "color": "white"
             }
            },
            "type": "table"
           }
          ]
         },
         "layout": {
          "annotationdefaults": {
           "arrowcolor": "#2a3f5f",
           "arrowhead": 0,
           "arrowwidth": 1
          },
          "autotypenumbers": "strict",
          "coloraxis": {
           "colorbar": {
            "outlinewidth": 0,
            "ticks": ""
           }
          },
          "colorscale": {
           "diverging": [
            [
             0,
             "#8e0152"
            ],
            [
             0.1,
             "#c51b7d"
            ],
            [
             0.2,
             "#de77ae"
            ],
            [
             0.3,
             "#f1b6da"
            ],
            [
             0.4,
             "#fde0ef"
            ],
            [
             0.5,
             "#f7f7f7"
            ],
            [
             0.6,
             "#e6f5d0"
            ],
            [
             0.7,
             "#b8e186"
            ],
            [
             0.8,
             "#7fbc41"
            ],
            [
             0.9,
             "#4d9221"
            ],
            [
             1,
             "#276419"
            ]
           ],
           "sequential": [
            [
             0,
             "#0d0887"
            ],
            [
             0.1111111111111111,
             "#46039f"
            ],
            [
             0.2222222222222222,
             "#7201a8"
            ],
            [
             0.3333333333333333,
             "#9c179e"
            ],
            [
             0.4444444444444444,
             "#bd3786"
            ],
            [
             0.5555555555555556,
             "#d8576b"
            ],
            [
             0.6666666666666666,
             "#ed7953"
            ],
            [
             0.7777777777777778,
             "#fb9f3a"
            ],
            [
             0.8888888888888888,
             "#fdca26"
            ],
            [
             1,
             "#f0f921"
            ]
           ],
           "sequentialminus": [
            [
             0,
             "#0d0887"
            ],
            [
             0.1111111111111111,
             "#46039f"
            ],
            [
             0.2222222222222222,
             "#7201a8"
            ],
            [
             0.3333333333333333,
             "#9c179e"
            ],
            [
             0.4444444444444444,
             "#bd3786"
            ],
            [
             0.5555555555555556,
             "#d8576b"
            ],
            [
             0.6666666666666666,
             "#ed7953"
            ],
            [
             0.7777777777777778,
             "#fb9f3a"
            ],
            [
             0.8888888888888888,
             "#fdca26"
            ],
            [
             1,
             "#f0f921"
            ]
           ]
          },
          "colorway": [
           "#636efa",
           "#EF553B",
           "#00cc96",
           "#ab63fa",
           "#FFA15A",
           "#19d3f3",
           "#FF6692",
           "#B6E880",
           "#FF97FF",
           "#FECB52"
          ],
          "font": {
           "color": "#2a3f5f"
          },
          "geo": {
           "bgcolor": "white",
           "lakecolor": "white",
           "landcolor": "#E5ECF6",
           "showlakes": true,
           "showland": true,
           "subunitcolor": "white"
          },
          "hoverlabel": {
           "align": "left"
          },
          "hovermode": "closest",
          "mapbox": {
           "style": "light"
          },
          "paper_bgcolor": "white",
          "plot_bgcolor": "#E5ECF6",
          "polar": {
           "angularaxis": {
            "gridcolor": "white",
            "linecolor": "white",
            "ticks": ""
           },
           "bgcolor": "#E5ECF6",
           "radialaxis": {
            "gridcolor": "white",
            "linecolor": "white",
            "ticks": ""
           }
          },
          "scene": {
           "xaxis": {
            "backgroundcolor": "#E5ECF6",
            "gridcolor": "white",
            "gridwidth": 2,
            "linecolor": "white",
            "showbackground": true,
            "ticks": "",
            "zerolinecolor": "white"
           },
           "yaxis": {
            "backgroundcolor": "#E5ECF6",
            "gridcolor": "white",
            "gridwidth": 2,
            "linecolor": "white",
            "showbackground": true,
            "ticks": "",
            "zerolinecolor": "white"
           },
           "zaxis": {
            "backgroundcolor": "#E5ECF6",
            "gridcolor": "white",
            "gridwidth": 2,
            "linecolor": "white",
            "showbackground": true,
            "ticks": "",
            "zerolinecolor": "white"
           }
          },
          "shapedefaults": {
           "line": {
            "color": "#2a3f5f"
           }
          },
          "ternary": {
           "aaxis": {
            "gridcolor": "white",
            "linecolor": "white",
            "ticks": ""
           },
           "baxis": {
            "gridcolor": "white",
            "linecolor": "white",
            "ticks": ""
           },
           "bgcolor": "#E5ECF6",
           "caxis": {
            "gridcolor": "white",
            "linecolor": "white",
            "ticks": ""
           }
          },
          "title": {
           "x": 0.05
          },
          "xaxis": {
           "automargin": true,
           "gridcolor": "white",
           "linecolor": "white",
           "ticks": "",
           "title": {
            "standoff": 15
           },
           "zerolinecolor": "white",
           "zerolinewidth": 2
          },
          "yaxis": {
           "automargin": true,
           "gridcolor": "white",
           "linecolor": "white",
           "ticks": "",
           "title": {
            "standoff": 15
           },
           "zerolinecolor": "white",
           "zerolinewidth": 2
          }
         }
        },
        "title": {
         "text": "Count of left variable"
        }
       }
      },
      "text/html": [
       "<div>                            <div id=\"7d787c4b-95e1-44dc-bea8-dd6e59e981a8\" class=\"plotly-graph-div\" style=\"height:525px; width:100%;\"></div>            <script type=\"text/javascript\">                require([\"plotly\"], function(Plotly) {                    window.PLOTLYENV=window.PLOTLYENV || {};                                    if (document.getElementById(\"7d787c4b-95e1-44dc-bea8-dd6e59e981a8\")) {                    Plotly.newPlot(                        \"7d787c4b-95e1-44dc-bea8-dd6e59e981a8\",                        [{\"marker\": {\"color\": [\"gold\", \"lightskyblue\"], \"line\": {\"color\": \"#000000\", \"width\": 1.5}}, \"opacity\": 0.8, \"orientation\": \"h\", \"type\": \"bar\", \"x\": [3571, 11428], \"y\": [\"Left\", \"Still_Employed\"]}],                        {\"template\": {\"data\": {\"bar\": [{\"error_x\": {\"color\": \"#2a3f5f\"}, \"error_y\": {\"color\": \"#2a3f5f\"}, \"marker\": {\"line\": {\"color\": \"#E5ECF6\", \"width\": 0.5}}, \"type\": \"bar\"}], \"barpolar\": [{\"marker\": {\"line\": {\"color\": \"#E5ECF6\", \"width\": 0.5}}, \"type\": \"barpolar\"}], \"carpet\": [{\"aaxis\": {\"endlinecolor\": \"#2a3f5f\", \"gridcolor\": \"white\", \"linecolor\": \"white\", \"minorgridcolor\": \"white\", \"startlinecolor\": \"#2a3f5f\"}, \"baxis\": {\"endlinecolor\": \"#2a3f5f\", \"gridcolor\": \"white\", \"linecolor\": \"white\", \"minorgridcolor\": \"white\", \"startlinecolor\": \"#2a3f5f\"}, \"type\": \"carpet\"}], \"choropleth\": [{\"colorbar\": {\"outlinewidth\": 0, \"ticks\": \"\"}, \"type\": \"choropleth\"}], \"contour\": [{\"colorbar\": {\"outlinewidth\": 0, \"ticks\": \"\"}, \"colorscale\": [[0.0, \"#0d0887\"], [0.1111111111111111, \"#46039f\"], [0.2222222222222222, \"#7201a8\"], [0.3333333333333333, \"#9c179e\"], [0.4444444444444444, \"#bd3786\"], [0.5555555555555556, \"#d8576b\"], [0.6666666666666666, \"#ed7953\"], [0.7777777777777778, \"#fb9f3a\"], [0.8888888888888888, \"#fdca26\"], [1.0, \"#f0f921\"]], \"type\": \"contour\"}], \"contourcarpet\": [{\"colorbar\": {\"outlinewidth\": 0, \"ticks\": \"\"}, \"type\": \"contourcarpet\"}], \"heatmap\": [{\"colorbar\": {\"outlinewidth\": 0, \"ticks\": \"\"}, \"colorscale\": [[0.0, \"#0d0887\"], [0.1111111111111111, \"#46039f\"], [0.2222222222222222, \"#7201a8\"], [0.3333333333333333, \"#9c179e\"], [0.4444444444444444, \"#bd3786\"], [0.5555555555555556, \"#d8576b\"], [0.6666666666666666, \"#ed7953\"], [0.7777777777777778, \"#fb9f3a\"], [0.8888888888888888, \"#fdca26\"], [1.0, \"#f0f921\"]], \"type\": \"heatmap\"}], \"heatmapgl\": [{\"colorbar\": {\"outlinewidth\": 0, \"ticks\": \"\"}, \"colorscale\": [[0.0, \"#0d0887\"], [0.1111111111111111, \"#46039f\"], [0.2222222222222222, \"#7201a8\"], [0.3333333333333333, \"#9c179e\"], [0.4444444444444444, \"#bd3786\"], [0.5555555555555556, \"#d8576b\"], [0.6666666666666666, \"#ed7953\"], [0.7777777777777778, \"#fb9f3a\"], [0.8888888888888888, \"#fdca26\"], [1.0, \"#f0f921\"]], \"type\": \"heatmapgl\"}], \"histogram\": [{\"marker\": {\"colorbar\": {\"outlinewidth\": 0, \"ticks\": \"\"}}, \"type\": \"histogram\"}], \"histogram2d\": [{\"colorbar\": {\"outlinewidth\": 0, \"ticks\": \"\"}, \"colorscale\": [[0.0, \"#0d0887\"], [0.1111111111111111, \"#46039f\"], [0.2222222222222222, \"#7201a8\"], [0.3333333333333333, \"#9c179e\"], [0.4444444444444444, \"#bd3786\"], [0.5555555555555556, \"#d8576b\"], [0.6666666666666666, \"#ed7953\"], [0.7777777777777778, \"#fb9f3a\"], [0.8888888888888888, \"#fdca26\"], [1.0, \"#f0f921\"]], \"type\": \"histogram2d\"}], \"histogram2dcontour\": [{\"colorbar\": {\"outlinewidth\": 0, \"ticks\": \"\"}, \"colorscale\": [[0.0, \"#0d0887\"], [0.1111111111111111, \"#46039f\"], [0.2222222222222222, \"#7201a8\"], [0.3333333333333333, \"#9c179e\"], [0.4444444444444444, \"#bd3786\"], [0.5555555555555556, \"#d8576b\"], [0.6666666666666666, \"#ed7953\"], [0.7777777777777778, \"#fb9f3a\"], [0.8888888888888888, \"#fdca26\"], [1.0, \"#f0f921\"]], \"type\": \"histogram2dcontour\"}], \"mesh3d\": [{\"colorbar\": {\"outlinewidth\": 0, \"ticks\": \"\"}, \"type\": \"mesh3d\"}], \"parcoords\": [{\"line\": {\"colorbar\": {\"outlinewidth\": 0, \"ticks\": \"\"}}, \"type\": \"parcoords\"}], \"pie\": [{\"automargin\": true, \"type\": \"pie\"}], \"scatter\": [{\"marker\": {\"colorbar\": {\"outlinewidth\": 0, \"ticks\": \"\"}}, \"type\": \"scatter\"}], \"scatter3d\": [{\"line\": {\"colorbar\": {\"outlinewidth\": 0, \"ticks\": \"\"}}, \"marker\": {\"colorbar\": {\"outlinewidth\": 0, \"ticks\": \"\"}}, \"type\": \"scatter3d\"}], \"scattercarpet\": [{\"marker\": {\"colorbar\": {\"outlinewidth\": 0, \"ticks\": \"\"}}, \"type\": \"scattercarpet\"}], \"scattergeo\": [{\"marker\": {\"colorbar\": {\"outlinewidth\": 0, \"ticks\": \"\"}}, \"type\": \"scattergeo\"}], \"scattergl\": [{\"marker\": {\"colorbar\": {\"outlinewidth\": 0, \"ticks\": \"\"}}, \"type\": \"scattergl\"}], \"scattermapbox\": [{\"marker\": {\"colorbar\": {\"outlinewidth\": 0, \"ticks\": \"\"}}, \"type\": \"scattermapbox\"}], \"scatterpolar\": [{\"marker\": {\"colorbar\": {\"outlinewidth\": 0, \"ticks\": \"\"}}, \"type\": \"scatterpolar\"}], \"scatterpolargl\": [{\"marker\": {\"colorbar\": {\"outlinewidth\": 0, \"ticks\": \"\"}}, \"type\": \"scatterpolargl\"}], \"scatterternary\": [{\"marker\": {\"colorbar\": {\"outlinewidth\": 0, \"ticks\": \"\"}}, \"type\": \"scatterternary\"}], \"surface\": [{\"colorbar\": {\"outlinewidth\": 0, \"ticks\": \"\"}, \"colorscale\": [[0.0, \"#0d0887\"], [0.1111111111111111, \"#46039f\"], [0.2222222222222222, \"#7201a8\"], [0.3333333333333333, \"#9c179e\"], [0.4444444444444444, \"#bd3786\"], [0.5555555555555556, \"#d8576b\"], [0.6666666666666666, \"#ed7953\"], [0.7777777777777778, \"#fb9f3a\"], [0.8888888888888888, \"#fdca26\"], [1.0, \"#f0f921\"]], \"type\": \"surface\"}], \"table\": [{\"cells\": {\"fill\": {\"color\": \"#EBF0F8\"}, \"line\": {\"color\": \"white\"}}, \"header\": {\"fill\": {\"color\": \"#C8D4E3\"}, \"line\": {\"color\": \"white\"}}, \"type\": \"table\"}]}, \"layout\": {\"annotationdefaults\": {\"arrowcolor\": \"#2a3f5f\", \"arrowhead\": 0, \"arrowwidth\": 1}, \"autotypenumbers\": \"strict\", \"coloraxis\": {\"colorbar\": {\"outlinewidth\": 0, \"ticks\": \"\"}}, \"colorscale\": {\"diverging\": [[0, \"#8e0152\"], [0.1, \"#c51b7d\"], [0.2, \"#de77ae\"], [0.3, \"#f1b6da\"], [0.4, \"#fde0ef\"], [0.5, \"#f7f7f7\"], [0.6, \"#e6f5d0\"], [0.7, \"#b8e186\"], [0.8, \"#7fbc41\"], [0.9, \"#4d9221\"], [1, \"#276419\"]], \"sequential\": [[0.0, \"#0d0887\"], [0.1111111111111111, \"#46039f\"], [0.2222222222222222, \"#7201a8\"], [0.3333333333333333, \"#9c179e\"], [0.4444444444444444, \"#bd3786\"], [0.5555555555555556, \"#d8576b\"], [0.6666666666666666, \"#ed7953\"], [0.7777777777777778, \"#fb9f3a\"], [0.8888888888888888, \"#fdca26\"], [1.0, \"#f0f921\"]], \"sequentialminus\": [[0.0, \"#0d0887\"], [0.1111111111111111, \"#46039f\"], [0.2222222222222222, \"#7201a8\"], [0.3333333333333333, \"#9c179e\"], [0.4444444444444444, \"#bd3786\"], [0.5555555555555556, \"#d8576b\"], [0.6666666666666666, \"#ed7953\"], [0.7777777777777778, \"#fb9f3a\"], [0.8888888888888888, \"#fdca26\"], [1.0, \"#f0f921\"]]}, \"colorway\": [\"#636efa\", \"#EF553B\", \"#00cc96\", \"#ab63fa\", \"#FFA15A\", \"#19d3f3\", \"#FF6692\", \"#B6E880\", \"#FF97FF\", \"#FECB52\"], \"font\": {\"color\": \"#2a3f5f\"}, \"geo\": {\"bgcolor\": \"white\", \"lakecolor\": \"white\", \"landcolor\": \"#E5ECF6\", \"showlakes\": true, \"showland\": true, \"subunitcolor\": \"white\"}, \"hoverlabel\": {\"align\": \"left\"}, \"hovermode\": \"closest\", \"mapbox\": {\"style\": \"light\"}, \"paper_bgcolor\": \"white\", \"plot_bgcolor\": \"#E5ECF6\", \"polar\": {\"angularaxis\": {\"gridcolor\": \"white\", \"linecolor\": \"white\", \"ticks\": \"\"}, \"bgcolor\": \"#E5ECF6\", \"radialaxis\": {\"gridcolor\": \"white\", \"linecolor\": \"white\", \"ticks\": \"\"}}, \"scene\": {\"xaxis\": {\"backgroundcolor\": \"#E5ECF6\", \"gridcolor\": \"white\", \"gridwidth\": 2, \"linecolor\": \"white\", \"showbackground\": true, \"ticks\": \"\", \"zerolinecolor\": \"white\"}, \"yaxis\": {\"backgroundcolor\": \"#E5ECF6\", \"gridcolor\": \"white\", \"gridwidth\": 2, \"linecolor\": \"white\", \"showbackground\": true, \"ticks\": \"\", \"zerolinecolor\": \"white\"}, \"zaxis\": {\"backgroundcolor\": \"#E5ECF6\", \"gridcolor\": \"white\", \"gridwidth\": 2, \"linecolor\": \"white\", \"showbackground\": true, \"ticks\": \"\", \"zerolinecolor\": \"white\"}}, \"shapedefaults\": {\"line\": {\"color\": \"#2a3f5f\"}}, \"ternary\": {\"aaxis\": {\"gridcolor\": \"white\", \"linecolor\": \"white\", \"ticks\": \"\"}, \"baxis\": {\"gridcolor\": \"white\", \"linecolor\": \"white\", \"ticks\": \"\"}, \"bgcolor\": \"#E5ECF6\", \"caxis\": {\"gridcolor\": \"white\", \"linecolor\": \"white\", \"ticks\": \"\"}}, \"title\": {\"x\": 0.05}, \"xaxis\": {\"automargin\": true, \"gridcolor\": \"white\", \"linecolor\": \"white\", \"ticks\": \"\", \"title\": {\"standoff\": 15}, \"zerolinecolor\": \"white\", \"zerolinewidth\": 2}, \"yaxis\": {\"automargin\": true, \"gridcolor\": \"white\", \"linecolor\": \"white\", \"ticks\": \"\", \"title\": {\"standoff\": 15}, \"zerolinecolor\": \"white\", \"zerolinewidth\": 2}}}, \"title\": {\"text\": \"Count of left variable\"}},                        {\"responsive\": true}                    ).then(function(){\n",
       "                            \n",
       "var gd = document.getElementById('7d787c4b-95e1-44dc-bea8-dd6e59e981a8');\n",
       "var x = new MutationObserver(function (mutations, observer) {{\n",
       "        var display = window.getComputedStyle(gd).display;\n",
       "        if (!display || display === 'none') {{\n",
       "            console.log([gd, 'removed!']);\n",
       "            Plotly.purge(gd);\n",
       "            observer.disconnect();\n",
       "        }}\n",
       "}});\n",
       "\n",
       "// Listen for the removal of the full notebook cells\n",
       "var notebookContainer = gd.closest('#notebook-container');\n",
       "if (notebookContainer) {{\n",
       "    x.observe(notebookContainer, {childList: true});\n",
       "}}\n",
       "\n",
       "// Listen for the clearing of the current output cell\n",
       "var outputEl = gd.closest('.output');\n",
       "if (outputEl) {{\n",
       "    x.observe(outputEl, {childList: true});\n",
       "}}\n",
       "\n",
       "                        })                };                });            </script>        </div>"
      ]
     },
     "metadata": {},
     "output_type": "display_data"
    },
    {
     "data": {
      "application/vnd.plotly.v1+json": {
       "config": {
        "linkText": "Export to plot.ly",
        "plotlyServerURL": "https://plot.ly",
        "showLink": false
       },
       "data": [
        {
         "labels": [
          "Left",
          "Still_Employed"
         ],
         "marker": {
          "colors": [
           "lightskyblue",
           "gold"
          ],
          "line": {
           "color": "#000000",
           "width": 1.5
          }
         },
         "opacity": 0.8,
         "textfont": {
          "size": 15
         },
         "type": "pie",
         "values": [
          11428,
          3571
         ]
        }
       ],
       "layout": {
        "template": {
         "data": {
          "bar": [
           {
            "error_x": {
             "color": "#2a3f5f"
            },
            "error_y": {
             "color": "#2a3f5f"
            },
            "marker": {
             "line": {
              "color": "#E5ECF6",
              "width": 0.5
             }
            },
            "type": "bar"
           }
          ],
          "barpolar": [
           {
            "marker": {
             "line": {
              "color": "#E5ECF6",
              "width": 0.5
             }
            },
            "type": "barpolar"
           }
          ],
          "carpet": [
           {
            "aaxis": {
             "endlinecolor": "#2a3f5f",
             "gridcolor": "white",
             "linecolor": "white",
             "minorgridcolor": "white",
             "startlinecolor": "#2a3f5f"
            },
            "baxis": {
             "endlinecolor": "#2a3f5f",
             "gridcolor": "white",
             "linecolor": "white",
             "minorgridcolor": "white",
             "startlinecolor": "#2a3f5f"
            },
            "type": "carpet"
           }
          ],
          "choropleth": [
           {
            "colorbar": {
             "outlinewidth": 0,
             "ticks": ""
            },
            "type": "choropleth"
           }
          ],
          "contour": [
           {
            "colorbar": {
             "outlinewidth": 0,
             "ticks": ""
            },
            "colorscale": [
             [
              0,
              "#0d0887"
             ],
             [
              0.1111111111111111,
              "#46039f"
             ],
             [
              0.2222222222222222,
              "#7201a8"
             ],
             [
              0.3333333333333333,
              "#9c179e"
             ],
             [
              0.4444444444444444,
              "#bd3786"
             ],
             [
              0.5555555555555556,
              "#d8576b"
             ],
             [
              0.6666666666666666,
              "#ed7953"
             ],
             [
              0.7777777777777778,
              "#fb9f3a"
             ],
             [
              0.8888888888888888,
              "#fdca26"
             ],
             [
              1,
              "#f0f921"
             ]
            ],
            "type": "contour"
           }
          ],
          "contourcarpet": [
           {
            "colorbar": {
             "outlinewidth": 0,
             "ticks": ""
            },
            "type": "contourcarpet"
           }
          ],
          "heatmap": [
           {
            "colorbar": {
             "outlinewidth": 0,
             "ticks": ""
            },
            "colorscale": [
             [
              0,
              "#0d0887"
             ],
             [
              0.1111111111111111,
              "#46039f"
             ],
             [
              0.2222222222222222,
              "#7201a8"
             ],
             [
              0.3333333333333333,
              "#9c179e"
             ],
             [
              0.4444444444444444,
              "#bd3786"
             ],
             [
              0.5555555555555556,
              "#d8576b"
             ],
             [
              0.6666666666666666,
              "#ed7953"
             ],
             [
              0.7777777777777778,
              "#fb9f3a"
             ],
             [
              0.8888888888888888,
              "#fdca26"
             ],
             [
              1,
              "#f0f921"
             ]
            ],
            "type": "heatmap"
           }
          ],
          "heatmapgl": [
           {
            "colorbar": {
             "outlinewidth": 0,
             "ticks": ""
            },
            "colorscale": [
             [
              0,
              "#0d0887"
             ],
             [
              0.1111111111111111,
              "#46039f"
             ],
             [
              0.2222222222222222,
              "#7201a8"
             ],
             [
              0.3333333333333333,
              "#9c179e"
             ],
             [
              0.4444444444444444,
              "#bd3786"
             ],
             [
              0.5555555555555556,
              "#d8576b"
             ],
             [
              0.6666666666666666,
              "#ed7953"
             ],
             [
              0.7777777777777778,
              "#fb9f3a"
             ],
             [
              0.8888888888888888,
              "#fdca26"
             ],
             [
              1,
              "#f0f921"
             ]
            ],
            "type": "heatmapgl"
           }
          ],
          "histogram": [
           {
            "marker": {
             "colorbar": {
              "outlinewidth": 0,
              "ticks": ""
             }
            },
            "type": "histogram"
           }
          ],
          "histogram2d": [
           {
            "colorbar": {
             "outlinewidth": 0,
             "ticks": ""
            },
            "colorscale": [
             [
              0,
              "#0d0887"
             ],
             [
              0.1111111111111111,
              "#46039f"
             ],
             [
              0.2222222222222222,
              "#7201a8"
             ],
             [
              0.3333333333333333,
              "#9c179e"
             ],
             [
              0.4444444444444444,
              "#bd3786"
             ],
             [
              0.5555555555555556,
              "#d8576b"
             ],
             [
              0.6666666666666666,
              "#ed7953"
             ],
             [
              0.7777777777777778,
              "#fb9f3a"
             ],
             [
              0.8888888888888888,
              "#fdca26"
             ],
             [
              1,
              "#f0f921"
             ]
            ],
            "type": "histogram2d"
           }
          ],
          "histogram2dcontour": [
           {
            "colorbar": {
             "outlinewidth": 0,
             "ticks": ""
            },
            "colorscale": [
             [
              0,
              "#0d0887"
             ],
             [
              0.1111111111111111,
              "#46039f"
             ],
             [
              0.2222222222222222,
              "#7201a8"
             ],
             [
              0.3333333333333333,
              "#9c179e"
             ],
             [
              0.4444444444444444,
              "#bd3786"
             ],
             [
              0.5555555555555556,
              "#d8576b"
             ],
             [
              0.6666666666666666,
              "#ed7953"
             ],
             [
              0.7777777777777778,
              "#fb9f3a"
             ],
             [
              0.8888888888888888,
              "#fdca26"
             ],
             [
              1,
              "#f0f921"
             ]
            ],
            "type": "histogram2dcontour"
           }
          ],
          "mesh3d": [
           {
            "colorbar": {
             "outlinewidth": 0,
             "ticks": ""
            },
            "type": "mesh3d"
           }
          ],
          "parcoords": [
           {
            "line": {
             "colorbar": {
              "outlinewidth": 0,
              "ticks": ""
             }
            },
            "type": "parcoords"
           }
          ],
          "pie": [
           {
            "automargin": true,
            "type": "pie"
           }
          ],
          "scatter": [
           {
            "marker": {
             "colorbar": {
              "outlinewidth": 0,
              "ticks": ""
             }
            },
            "type": "scatter"
           }
          ],
          "scatter3d": [
           {
            "line": {
             "colorbar": {
              "outlinewidth": 0,
              "ticks": ""
             }
            },
            "marker": {
             "colorbar": {
              "outlinewidth": 0,
              "ticks": ""
             }
            },
            "type": "scatter3d"
           }
          ],
          "scattercarpet": [
           {
            "marker": {
             "colorbar": {
              "outlinewidth": 0,
              "ticks": ""
             }
            },
            "type": "scattercarpet"
           }
          ],
          "scattergeo": [
           {
            "marker": {
             "colorbar": {
              "outlinewidth": 0,
              "ticks": ""
             }
            },
            "type": "scattergeo"
           }
          ],
          "scattergl": [
           {
            "marker": {
             "colorbar": {
              "outlinewidth": 0,
              "ticks": ""
             }
            },
            "type": "scattergl"
           }
          ],
          "scattermapbox": [
           {
            "marker": {
             "colorbar": {
              "outlinewidth": 0,
              "ticks": ""
             }
            },
            "type": "scattermapbox"
           }
          ],
          "scatterpolar": [
           {
            "marker": {
             "colorbar": {
              "outlinewidth": 0,
              "ticks": ""
             }
            },
            "type": "scatterpolar"
           }
          ],
          "scatterpolargl": [
           {
            "marker": {
             "colorbar": {
              "outlinewidth": 0,
              "ticks": ""
             }
            },
            "type": "scatterpolargl"
           }
          ],
          "scatterternary": [
           {
            "marker": {
             "colorbar": {
              "outlinewidth": 0,
              "ticks": ""
             }
            },
            "type": "scatterternary"
           }
          ],
          "surface": [
           {
            "colorbar": {
             "outlinewidth": 0,
             "ticks": ""
            },
            "colorscale": [
             [
              0,
              "#0d0887"
             ],
             [
              0.1111111111111111,
              "#46039f"
             ],
             [
              0.2222222222222222,
              "#7201a8"
             ],
             [
              0.3333333333333333,
              "#9c179e"
             ],
             [
              0.4444444444444444,
              "#bd3786"
             ],
             [
              0.5555555555555556,
              "#d8576b"
             ],
             [
              0.6666666666666666,
              "#ed7953"
             ],
             [
              0.7777777777777778,
              "#fb9f3a"
             ],
             [
              0.8888888888888888,
              "#fdca26"
             ],
             [
              1,
              "#f0f921"
             ]
            ],
            "type": "surface"
           }
          ],
          "table": [
           {
            "cells": {
             "fill": {
              "color": "#EBF0F8"
             },
             "line": {
              "color": "white"
             }
            },
            "header": {
             "fill": {
              "color": "#C8D4E3"
             },
             "line": {
              "color": "white"
             }
            },
            "type": "table"
           }
          ]
         },
         "layout": {
          "annotationdefaults": {
           "arrowcolor": "#2a3f5f",
           "arrowhead": 0,
           "arrowwidth": 1
          },
          "autotypenumbers": "strict",
          "coloraxis": {
           "colorbar": {
            "outlinewidth": 0,
            "ticks": ""
           }
          },
          "colorscale": {
           "diverging": [
            [
             0,
             "#8e0152"
            ],
            [
             0.1,
             "#c51b7d"
            ],
            [
             0.2,
             "#de77ae"
            ],
            [
             0.3,
             "#f1b6da"
            ],
            [
             0.4,
             "#fde0ef"
            ],
            [
             0.5,
             "#f7f7f7"
            ],
            [
             0.6,
             "#e6f5d0"
            ],
            [
             0.7,
             "#b8e186"
            ],
            [
             0.8,
             "#7fbc41"
            ],
            [
             0.9,
             "#4d9221"
            ],
            [
             1,
             "#276419"
            ]
           ],
           "sequential": [
            [
             0,
             "#0d0887"
            ],
            [
             0.1111111111111111,
             "#46039f"
            ],
            [
             0.2222222222222222,
             "#7201a8"
            ],
            [
             0.3333333333333333,
             "#9c179e"
            ],
            [
             0.4444444444444444,
             "#bd3786"
            ],
            [
             0.5555555555555556,
             "#d8576b"
            ],
            [
             0.6666666666666666,
             "#ed7953"
            ],
            [
             0.7777777777777778,
             "#fb9f3a"
            ],
            [
             0.8888888888888888,
             "#fdca26"
            ],
            [
             1,
             "#f0f921"
            ]
           ],
           "sequentialminus": [
            [
             0,
             "#0d0887"
            ],
            [
             0.1111111111111111,
             "#46039f"
            ],
            [
             0.2222222222222222,
             "#7201a8"
            ],
            [
             0.3333333333333333,
             "#9c179e"
            ],
            [
             0.4444444444444444,
             "#bd3786"
            ],
            [
             0.5555555555555556,
             "#d8576b"
            ],
            [
             0.6666666666666666,
             "#ed7953"
            ],
            [
             0.7777777777777778,
             "#fb9f3a"
            ],
            [
             0.8888888888888888,
             "#fdca26"
            ],
            [
             1,
             "#f0f921"
            ]
           ]
          },
          "colorway": [
           "#636efa",
           "#EF553B",
           "#00cc96",
           "#ab63fa",
           "#FFA15A",
           "#19d3f3",
           "#FF6692",
           "#B6E880",
           "#FF97FF",
           "#FECB52"
          ],
          "font": {
           "color": "#2a3f5f"
          },
          "geo": {
           "bgcolor": "white",
           "lakecolor": "white",
           "landcolor": "#E5ECF6",
           "showlakes": true,
           "showland": true,
           "subunitcolor": "white"
          },
          "hoverlabel": {
           "align": "left"
          },
          "hovermode": "closest",
          "mapbox": {
           "style": "light"
          },
          "paper_bgcolor": "white",
          "plot_bgcolor": "#E5ECF6",
          "polar": {
           "angularaxis": {
            "gridcolor": "white",
            "linecolor": "white",
            "ticks": ""
           },
           "bgcolor": "#E5ECF6",
           "radialaxis": {
            "gridcolor": "white",
            "linecolor": "white",
            "ticks": ""
           }
          },
          "scene": {
           "xaxis": {
            "backgroundcolor": "#E5ECF6",
            "gridcolor": "white",
            "gridwidth": 2,
            "linecolor": "white",
            "showbackground": true,
            "ticks": "",
            "zerolinecolor": "white"
           },
           "yaxis": {
            "backgroundcolor": "#E5ECF6",
            "gridcolor": "white",
            "gridwidth": 2,
            "linecolor": "white",
            "showbackground": true,
            "ticks": "",
            "zerolinecolor": "white"
           },
           "zaxis": {
            "backgroundcolor": "#E5ECF6",
            "gridcolor": "white",
            "gridwidth": 2,
            "linecolor": "white",
            "showbackground": true,
            "ticks": "",
            "zerolinecolor": "white"
           }
          },
          "shapedefaults": {
           "line": {
            "color": "#2a3f5f"
           }
          },
          "ternary": {
           "aaxis": {
            "gridcolor": "white",
            "linecolor": "white",
            "ticks": ""
           },
           "baxis": {
            "gridcolor": "white",
            "linecolor": "white",
            "ticks": ""
           },
           "bgcolor": "#E5ECF6",
           "caxis": {
            "gridcolor": "white",
            "linecolor": "white",
            "ticks": ""
           }
          },
          "title": {
           "x": 0.05
          },
          "xaxis": {
           "automargin": true,
           "gridcolor": "white",
           "linecolor": "white",
           "ticks": "",
           "title": {
            "standoff": 15
           },
           "zerolinecolor": "white",
           "zerolinewidth": 2
          },
          "yaxis": {
           "automargin": true,
           "gridcolor": "white",
           "linecolor": "white",
           "ticks": "",
           "title": {
            "standoff": 15
           },
           "zerolinecolor": "white",
           "zerolinewidth": 2
          }
         }
        },
        "title": {
         "text": "Distribution of left variable"
        }
       }
      },
      "text/html": [
       "<div>                            <div id=\"6ad462b8-d334-433d-8c66-746b88f45670\" class=\"plotly-graph-div\" style=\"height:525px; width:100%;\"></div>            <script type=\"text/javascript\">                require([\"plotly\"], function(Plotly) {                    window.PLOTLYENV=window.PLOTLYENV || {};                                    if (document.getElementById(\"6ad462b8-d334-433d-8c66-746b88f45670\")) {                    Plotly.newPlot(                        \"6ad462b8-d334-433d-8c66-746b88f45670\",                        [{\"labels\": [\"Left\", \"Still_Employed\"], \"marker\": {\"colors\": [\"lightskyblue\", \"gold\"], \"line\": {\"color\": \"#000000\", \"width\": 1.5}}, \"opacity\": 0.8, \"textfont\": {\"size\": 15}, \"type\": \"pie\", \"values\": [11428, 3571]}],                        {\"template\": {\"data\": {\"bar\": [{\"error_x\": {\"color\": \"#2a3f5f\"}, \"error_y\": {\"color\": \"#2a3f5f\"}, \"marker\": {\"line\": {\"color\": \"#E5ECF6\", \"width\": 0.5}}, \"type\": \"bar\"}], \"barpolar\": [{\"marker\": {\"line\": {\"color\": \"#E5ECF6\", \"width\": 0.5}}, \"type\": \"barpolar\"}], \"carpet\": [{\"aaxis\": {\"endlinecolor\": \"#2a3f5f\", \"gridcolor\": \"white\", \"linecolor\": \"white\", \"minorgridcolor\": \"white\", \"startlinecolor\": \"#2a3f5f\"}, \"baxis\": {\"endlinecolor\": \"#2a3f5f\", \"gridcolor\": \"white\", \"linecolor\": \"white\", \"minorgridcolor\": \"white\", \"startlinecolor\": \"#2a3f5f\"}, \"type\": \"carpet\"}], \"choropleth\": [{\"colorbar\": {\"outlinewidth\": 0, \"ticks\": \"\"}, \"type\": \"choropleth\"}], \"contour\": [{\"colorbar\": {\"outlinewidth\": 0, \"ticks\": \"\"}, \"colorscale\": [[0.0, \"#0d0887\"], [0.1111111111111111, \"#46039f\"], [0.2222222222222222, \"#7201a8\"], [0.3333333333333333, \"#9c179e\"], [0.4444444444444444, \"#bd3786\"], [0.5555555555555556, \"#d8576b\"], [0.6666666666666666, \"#ed7953\"], [0.7777777777777778, \"#fb9f3a\"], [0.8888888888888888, \"#fdca26\"], [1.0, \"#f0f921\"]], \"type\": \"contour\"}], \"contourcarpet\": [{\"colorbar\": {\"outlinewidth\": 0, \"ticks\": \"\"}, \"type\": \"contourcarpet\"}], \"heatmap\": [{\"colorbar\": {\"outlinewidth\": 0, \"ticks\": \"\"}, \"colorscale\": [[0.0, \"#0d0887\"], [0.1111111111111111, \"#46039f\"], [0.2222222222222222, \"#7201a8\"], [0.3333333333333333, \"#9c179e\"], [0.4444444444444444, \"#bd3786\"], [0.5555555555555556, \"#d8576b\"], [0.6666666666666666, \"#ed7953\"], [0.7777777777777778, \"#fb9f3a\"], [0.8888888888888888, \"#fdca26\"], [1.0, \"#f0f921\"]], \"type\": \"heatmap\"}], \"heatmapgl\": [{\"colorbar\": {\"outlinewidth\": 0, \"ticks\": \"\"}, \"colorscale\": [[0.0, \"#0d0887\"], [0.1111111111111111, \"#46039f\"], [0.2222222222222222, \"#7201a8\"], [0.3333333333333333, \"#9c179e\"], [0.4444444444444444, \"#bd3786\"], [0.5555555555555556, \"#d8576b\"], [0.6666666666666666, \"#ed7953\"], [0.7777777777777778, \"#fb9f3a\"], [0.8888888888888888, \"#fdca26\"], [1.0, \"#f0f921\"]], \"type\": \"heatmapgl\"}], \"histogram\": [{\"marker\": {\"colorbar\": {\"outlinewidth\": 0, \"ticks\": \"\"}}, \"type\": \"histogram\"}], \"histogram2d\": [{\"colorbar\": {\"outlinewidth\": 0, \"ticks\": \"\"}, \"colorscale\": [[0.0, \"#0d0887\"], [0.1111111111111111, \"#46039f\"], [0.2222222222222222, \"#7201a8\"], [0.3333333333333333, \"#9c179e\"], [0.4444444444444444, \"#bd3786\"], [0.5555555555555556, \"#d8576b\"], [0.6666666666666666, \"#ed7953\"], [0.7777777777777778, \"#fb9f3a\"], [0.8888888888888888, \"#fdca26\"], [1.0, \"#f0f921\"]], \"type\": \"histogram2d\"}], \"histogram2dcontour\": [{\"colorbar\": {\"outlinewidth\": 0, \"ticks\": \"\"}, \"colorscale\": [[0.0, \"#0d0887\"], [0.1111111111111111, \"#46039f\"], [0.2222222222222222, \"#7201a8\"], [0.3333333333333333, \"#9c179e\"], [0.4444444444444444, \"#bd3786\"], [0.5555555555555556, \"#d8576b\"], [0.6666666666666666, \"#ed7953\"], [0.7777777777777778, \"#fb9f3a\"], [0.8888888888888888, \"#fdca26\"], [1.0, \"#f0f921\"]], \"type\": \"histogram2dcontour\"}], \"mesh3d\": [{\"colorbar\": {\"outlinewidth\": 0, \"ticks\": \"\"}, \"type\": \"mesh3d\"}], \"parcoords\": [{\"line\": {\"colorbar\": {\"outlinewidth\": 0, \"ticks\": \"\"}}, \"type\": \"parcoords\"}], \"pie\": [{\"automargin\": true, \"type\": \"pie\"}], \"scatter\": [{\"marker\": {\"colorbar\": {\"outlinewidth\": 0, \"ticks\": \"\"}}, \"type\": \"scatter\"}], \"scatter3d\": [{\"line\": {\"colorbar\": {\"outlinewidth\": 0, \"ticks\": \"\"}}, \"marker\": {\"colorbar\": {\"outlinewidth\": 0, \"ticks\": \"\"}}, \"type\": \"scatter3d\"}], \"scattercarpet\": [{\"marker\": {\"colorbar\": {\"outlinewidth\": 0, \"ticks\": \"\"}}, \"type\": \"scattercarpet\"}], \"scattergeo\": [{\"marker\": {\"colorbar\": {\"outlinewidth\": 0, \"ticks\": \"\"}}, \"type\": \"scattergeo\"}], \"scattergl\": [{\"marker\": {\"colorbar\": {\"outlinewidth\": 0, \"ticks\": \"\"}}, \"type\": \"scattergl\"}], \"scattermapbox\": [{\"marker\": {\"colorbar\": {\"outlinewidth\": 0, \"ticks\": \"\"}}, \"type\": \"scattermapbox\"}], \"scatterpolar\": [{\"marker\": {\"colorbar\": {\"outlinewidth\": 0, \"ticks\": \"\"}}, \"type\": \"scatterpolar\"}], \"scatterpolargl\": [{\"marker\": {\"colorbar\": {\"outlinewidth\": 0, \"ticks\": \"\"}}, \"type\": \"scatterpolargl\"}], \"scatterternary\": [{\"marker\": {\"colorbar\": {\"outlinewidth\": 0, \"ticks\": \"\"}}, \"type\": \"scatterternary\"}], \"surface\": [{\"colorbar\": {\"outlinewidth\": 0, \"ticks\": \"\"}, \"colorscale\": [[0.0, \"#0d0887\"], [0.1111111111111111, \"#46039f\"], [0.2222222222222222, \"#7201a8\"], [0.3333333333333333, \"#9c179e\"], [0.4444444444444444, \"#bd3786\"], [0.5555555555555556, \"#d8576b\"], [0.6666666666666666, \"#ed7953\"], [0.7777777777777778, \"#fb9f3a\"], [0.8888888888888888, \"#fdca26\"], [1.0, \"#f0f921\"]], \"type\": \"surface\"}], \"table\": [{\"cells\": {\"fill\": {\"color\": \"#EBF0F8\"}, \"line\": {\"color\": \"white\"}}, \"header\": {\"fill\": {\"color\": \"#C8D4E3\"}, \"line\": {\"color\": \"white\"}}, \"type\": \"table\"}]}, \"layout\": {\"annotationdefaults\": {\"arrowcolor\": \"#2a3f5f\", \"arrowhead\": 0, \"arrowwidth\": 1}, \"autotypenumbers\": \"strict\", \"coloraxis\": {\"colorbar\": {\"outlinewidth\": 0, \"ticks\": \"\"}}, \"colorscale\": {\"diverging\": [[0, \"#8e0152\"], [0.1, \"#c51b7d\"], [0.2, \"#de77ae\"], [0.3, \"#f1b6da\"], [0.4, \"#fde0ef\"], [0.5, \"#f7f7f7\"], [0.6, \"#e6f5d0\"], [0.7, \"#b8e186\"], [0.8, \"#7fbc41\"], [0.9, \"#4d9221\"], [1, \"#276419\"]], \"sequential\": [[0.0, \"#0d0887\"], [0.1111111111111111, \"#46039f\"], [0.2222222222222222, \"#7201a8\"], [0.3333333333333333, \"#9c179e\"], [0.4444444444444444, \"#bd3786\"], [0.5555555555555556, \"#d8576b\"], [0.6666666666666666, \"#ed7953\"], [0.7777777777777778, \"#fb9f3a\"], [0.8888888888888888, \"#fdca26\"], [1.0, \"#f0f921\"]], \"sequentialminus\": [[0.0, \"#0d0887\"], [0.1111111111111111, \"#46039f\"], [0.2222222222222222, \"#7201a8\"], [0.3333333333333333, \"#9c179e\"], [0.4444444444444444, \"#bd3786\"], [0.5555555555555556, \"#d8576b\"], [0.6666666666666666, \"#ed7953\"], [0.7777777777777778, \"#fb9f3a\"], [0.8888888888888888, \"#fdca26\"], [1.0, \"#f0f921\"]]}, \"colorway\": [\"#636efa\", \"#EF553B\", \"#00cc96\", \"#ab63fa\", \"#FFA15A\", \"#19d3f3\", \"#FF6692\", \"#B6E880\", \"#FF97FF\", \"#FECB52\"], \"font\": {\"color\": \"#2a3f5f\"}, \"geo\": {\"bgcolor\": \"white\", \"lakecolor\": \"white\", \"landcolor\": \"#E5ECF6\", \"showlakes\": true, \"showland\": true, \"subunitcolor\": \"white\"}, \"hoverlabel\": {\"align\": \"left\"}, \"hovermode\": \"closest\", \"mapbox\": {\"style\": \"light\"}, \"paper_bgcolor\": \"white\", \"plot_bgcolor\": \"#E5ECF6\", \"polar\": {\"angularaxis\": {\"gridcolor\": \"white\", \"linecolor\": \"white\", \"ticks\": \"\"}, \"bgcolor\": \"#E5ECF6\", \"radialaxis\": {\"gridcolor\": \"white\", \"linecolor\": \"white\", \"ticks\": \"\"}}, \"scene\": {\"xaxis\": {\"backgroundcolor\": \"#E5ECF6\", \"gridcolor\": \"white\", \"gridwidth\": 2, \"linecolor\": \"white\", \"showbackground\": true, \"ticks\": \"\", \"zerolinecolor\": \"white\"}, \"yaxis\": {\"backgroundcolor\": \"#E5ECF6\", \"gridcolor\": \"white\", \"gridwidth\": 2, \"linecolor\": \"white\", \"showbackground\": true, \"ticks\": \"\", \"zerolinecolor\": \"white\"}, \"zaxis\": {\"backgroundcolor\": \"#E5ECF6\", \"gridcolor\": \"white\", \"gridwidth\": 2, \"linecolor\": \"white\", \"showbackground\": true, \"ticks\": \"\", \"zerolinecolor\": \"white\"}}, \"shapedefaults\": {\"line\": {\"color\": \"#2a3f5f\"}}, \"ternary\": {\"aaxis\": {\"gridcolor\": \"white\", \"linecolor\": \"white\", \"ticks\": \"\"}, \"baxis\": {\"gridcolor\": \"white\", \"linecolor\": \"white\", \"ticks\": \"\"}, \"bgcolor\": \"#E5ECF6\", \"caxis\": {\"gridcolor\": \"white\", \"linecolor\": \"white\", \"ticks\": \"\"}}, \"title\": {\"x\": 0.05}, \"xaxis\": {\"automargin\": true, \"gridcolor\": \"white\", \"linecolor\": \"white\", \"ticks\": \"\", \"title\": {\"standoff\": 15}, \"zerolinecolor\": \"white\", \"zerolinewidth\": 2}, \"yaxis\": {\"automargin\": true, \"gridcolor\": \"white\", \"linecolor\": \"white\", \"ticks\": \"\", \"title\": {\"standoff\": 15}, \"zerolinecolor\": \"white\", \"zerolinewidth\": 2}}}, \"title\": {\"text\": \"Distribution of left variable\"}},                        {\"responsive\": true}                    ).then(function(){\n",
       "                            \n",
       "var gd = document.getElementById('6ad462b8-d334-433d-8c66-746b88f45670');\n",
       "var x = new MutationObserver(function (mutations, observer) {{\n",
       "        var display = window.getComputedStyle(gd).display;\n",
       "        if (!display || display === 'none') {{\n",
       "            console.log([gd, 'removed!']);\n",
       "            Plotly.purge(gd);\n",
       "            observer.disconnect();\n",
       "        }}\n",
       "}});\n",
       "\n",
       "// Listen for the removal of the full notebook cells\n",
       "var notebookContainer = gd.closest('#notebook-container');\n",
       "if (notebookContainer) {{\n",
       "    x.observe(notebookContainer, {childList: true});\n",
       "}}\n",
       "\n",
       "// Listen for the clearing of the current output cell\n",
       "var outputEl = gd.closest('.output');\n",
       "if (outputEl) {{\n",
       "    x.observe(outputEl, {childList: true});\n",
       "}}\n",
       "\n",
       "                        })                };                });            </script>        </div>"
      ]
     },
     "metadata": {},
     "output_type": "display_data"
    }
   ],
   "source": [
    "left = hr[(hr['left'] == 1)]\n",
    "no_left = hr[(hr['left'] == 0)]\n",
    "\n",
    "#------------COUNT-----------------------\n",
    "trace = go.Bar(x = (len(left), len(no_left)), y = ['Left', 'Still_Employed'], orientation = 'h', opacity = 0.8, marker=dict(\n",
    "        color=['gold', 'lightskyblue'],\n",
    "        line=dict(color='#000000',width=1.5)))\n",
    "\n",
    "layout = dict(title =  'Count of left variable')\n",
    "                    \n",
    "fig = dict(data = [trace], layout=layout)\n",
    "py.iplot(fig)\n",
    "\n",
    "#------------PERCENTAGE-------------------\n",
    "trace = go.Pie(labels = ['Left','Still_Employed'],values = hr['left'].value_counts(),\n",
    "              textfont = dict(size=15),opacity = 0.8,\n",
    "              marker = dict(colors = ['lightskyblue','gold'],\n",
    "              line = dict(color='#000000',width=1.5)))\n",
    "\n",
    "\n",
    "layout = dict(title =  'Distribution of left variable')\n",
    "           \n",
    "fig = dict(data = [trace], layout=layout)\n",
    "py.iplot(fig)"
   ]
  },
  {
   "cell_type": "markdown",
   "metadata": {},
   "source": [
    "### 2.3 Independent Variables Correlation Analysis"
   ]
  },
  {
   "cell_type": "code",
   "execution_count": 8,
   "metadata": {},
   "outputs": [
    {
     "data": {
      "image/png": "[encoded data removed]",
      "text/plain": [
       "<Figure size 1080x1080 with 2 Axes>"
      ]
     },
     "metadata": {
      "needs_background": "light"
     },
     "output_type": "display_data"
    }
   ],
   "source": [
    "f,ax = plt.subplots(figsize=(15,15))\n",
    "sns.heatmap(hr.corr(), annot=True, linewidths = 0.5, fmt = '0.1f', ax = ax)\n",
    "plt.show()"
   ]
  },
  {
   "cell_type": "code",
   "execution_count": 9,
   "metadata": {},
   "outputs": [
    {
     "data": {
      "text/plain": [
       "(140, 160]    2484\n",
       "(240, 260]    2064\n",
       "(220, 240]    1759\n",
       "(160, 180]    1644\n",
       "(260, 280]    1582\n",
       "(180, 200]    1540\n",
       "(200, 220]    1508\n",
       "(120, 140]    1457\n",
       "(280, 300]     403\n",
       "(100, 120]     326\n",
       "(300, 320]     159\n",
       "(0, 100]        73\n",
       "Name: hoursbin, dtype: int64"
      ]
     },
     "execution_count": 9,
     "metadata": {},
     "output_type": "execute_result"
    }
   ],
   "source": [
    "# create bins for hours\n",
    "bins = [0,100,120,140,160,180,200,220,240,260,280,300,320]\n",
    "hr['hoursbin']=pd.cut(hr['average_monthly_hours'],bins)\n",
    "hr['hoursbin'].value_counts()"
   ]
  },
  {
   "cell_type": "code",
   "execution_count": 10,
   "metadata": {},
   "outputs": [
    {
     "data": {
      "text/plain": [
       "str"
      ]
     },
     "execution_count": 10,
     "metadata": {},
     "output_type": "execute_result"
    }
   ],
   "source": [
    "hr['hoursbin'] = hr['hoursbin'].astype(\"str\")\n",
    "hr.head()\n",
    "type(hr['hoursbin'][2])"
   ]
  },
  {
   "cell_type": "code",
   "execution_count": 11,
   "metadata": {
    "scrolled": true
   },
   "outputs": [
    {
     "data": {
      "text/plain": [
       "(0, 100]        73\n",
       "(300, 320]     159\n",
       "(100, 120]     326\n",
       "(280, 300]     403\n",
       "(120, 140]    1457\n",
       "(200, 220]    1508\n",
       "(180, 200]    1540\n",
       "(260, 280]    1582\n",
       "(160, 180]    1644\n",
       "(220, 240]    1759\n",
       "(240, 260]    2064\n",
       "(140, 160]    2484\n",
       "Name: hoursbin, dtype: int64"
      ]
     },
     "execution_count": 11,
     "metadata": {},
     "output_type": "execute_result"
    }
   ],
   "source": [
    "hr['hoursbin'].value_counts().sort_values()"
   ]
  },
  {
   "cell_type": "markdown",
   "metadata": {},
   "source": [
    "### 2.4 Features Distribution and Barplot"
   ]
  },
  {
   "cell_type": "code",
   "execution_count": 12,
   "metadata": {},
   "outputs": [],
   "source": [
    "def barplot(var_select) :\n",
    "    \n",
    "    tmp1 = pd.DataFrame(pd.crosstab(hr[var_select],hr['left']), )\n",
    "    tmp1['left%'] = tmp1[1] / (tmp1[1] + tmp1[0]) * 100\n",
    "\n",
    "    color=['lightskyblue','gold' ]\n",
    "    \n",
    "    trace1 = go.Bar(\n",
    "        x=tmp1.index,\n",
    "        y=tmp1[1],\n",
    "        name='Left',opacity = 0.8, marker=dict(\n",
    "        color='gold',\n",
    "        line=dict(color='#000000',width=1)))\n",
    "\n",
    "    trace2 = go.Bar(\n",
    "        x=tmp1.index,\n",
    "        y=tmp1[0],\n",
    "        name='Still_Employed', opacity = 0.8, marker=dict(\n",
    "        color='lightskyblue',\n",
    "        line=dict(color='#000000',width=1)))\n",
    "    \n",
    "    trace3 =  go.Scatter(   \n",
    "        x=tmp1.index,\n",
    "        y=tmp1['left%'],\n",
    "        yaxis = 'y2',\n",
    "        name='% Left', opacity = 0.6, marker=dict(\n",
    "        color='black',\n",
    "        line=dict(color='#000000',width=0.5\n",
    "        )))\n",
    "\n",
    "    layout = dict(title =  str(var_select),\n",
    "              xaxis=dict(), \n",
    "              yaxis=dict(title= 'Count'), \n",
    "              yaxis2=dict(range= [-0, 105], \n",
    "                          overlaying= 'y', \n",
    "                          anchor= 'x', \n",
    "                          side= 'right',\n",
    "                          zeroline=False,\n",
    "                          showgrid= False, \n",
    "                          title= '% Left'\n",
    "                         ))\n",
    "\n",
    "    fig = go.Figure(data=[trace1, trace2, trace3], layout=layout)\n",
    "    py.iplot(fig)"
   ]
  },
  {
   "cell_type": "code",
   "execution_count": 13,
   "metadata": {},
   "outputs": [
    {
     "data": {
      "application/vnd.plotly.v1+json": {
       "config": {
        "linkText": "Export to plot.ly",
        "plotlyServerURL": "https://plot.ly",
        "showLink": false
       },
       "data": [
        {
         "marker": {
          "color": "gold",
          "line": {
           "color": "#000000",
           "width": 1
          }
         },
         "name": "Left",
         "opacity": 0.8,
         "type": "bar",
         "x": [
          0.09,
          0.1,
          0.11,
          0.12,
          0.13,
          0.14,
          0.15,
          0.16,
          0.17,
          0.18,
          0.19,
          0.2,
          0.21,
          0.22,
          0.23,
          0.24,
          0.25,
          0.26,
          0.27,
          0.28,
          0.29,
          0.3,
          0.31,
          0.32,
          0.33,
          0.34,
          0.35,
          0.36,
          0.37,
          0.38,
          0.39,
          0.4,
          0.41,
          0.42,
          0.43,
          0.44,
          0.45,
          0.46,
          0.47,
          0.48,
          0.49,
          0.5,
          0.51,
          0.52,
          0.53,
          0.54,
          0.55,
          0.56,
          0.57,
          0.58,
          0.59,
          0.6,
          0.61,
          0.62,
          0.63,
          0.64,
          0.65,
          0.66,
          0.67,
          0.68,
          0.69,
          0.7,
          0.71,
          0.72,
          0.73,
          0.74,
          0.75,
          0.76,
          0.77,
          0.78,
          0.79,
          0.8,
          0.81,
          0.82,
          0.83,
          0.84,
          0.85,
          0.86,
          0.87,
          0.88,
          0.89,
          0.9,
          0.91,
          0.92,
          0.93,
          0.94,
          0.95,
          0.96,
          0.97,
          0.98,
          0.99,
          1
         ],
         "y": [
          195,
          358,
          335,
          4,
          3,
          10,
          3,
          1,
          5,
          0,
          6,
          4,
          1,
          1,
          2,
          3,
          3,
          1,
          6,
          3,
          1,
          2,
          17,
          8,
          3,
          4,
          3,
          96,
          194,
          154,
          140,
          169,
          132,
          108,
          178,
          153,
          157,
          68,
          4,
          10,
          2,
          3,
          5,
          0,
          8,
          6,
          4,
          5,
          8,
          3,
          7,
          4,
          6,
          2,
          4,
          2,
          1,
          11,
          1,
          1,
          0,
          10,
          4,
          30,
          42,
          51,
          38,
          45,
          51,
          50,
          45,
          28,
          51,
          58,
          47,
          62,
          36,
          41,
          58,
          25,
          56,
          52,
          43,
          20,
          0,
          0,
          0,
          0,
          0,
          0,
          0,
          0
         ]
        },
        {
         "marker": {
          "color": "lightskyblue",
          "line": {
           "color": "#000000",
           "width": 1
          }
         },
         "name": "Still_Employed",
         "opacity": 0.8,
         "type": "bar",
         "x": [
          0.09,
          0.1,
          0.11,
          0.12,
          0.13,
          0.14,
          0.15,
          0.16,
          0.17,
          0.18,
          0.19,
          0.2,
          0.21,
          0.22,
          0.23,
          0.24,
          0.25,
          0.26,
          0.27,
          0.28,
          0.29,
          0.3,
          0.31,
          0.32,
          0.33,
          0.34,
          0.35,
          0.36,
          0.37,
          0.38,
          0.39,
          0.4,
          0.41,
          0.42,
          0.43,
          0.44,
          0.45,
          0.46,
          0.47,
          0.48,
          0.49,
          0.5,
          0.51,
          0.52,
          0.53,
          0.54,
          0.55,
          0.56,
          0.57,
          0.58,
          0.59,
          0.6,
          0.61,
          0.62,
          0.63,
          0.64,
          0.65,
          0.66,
          0.67,
          0.68,
          0.69,
          0.7,
          0.71,
          0.72,
          0.73,
          0.74,
          0.75,
          0.76,
          0.77,
          0.78,
          0.79,
          0.8,
          0.81,
          0.82,
          0.83,
          0.84,
          0.85,
          0.86,
          0.87,
          0.88,
          0.89,
          0.9,
          0.91,
          0.92,
          0.93,
          0.94,
          0.95,
          0.96,
          0.97,
          0.98,
          0.99,
          1
         ],
         "y": [
          0,
          0,
          0,
          26,
          51,
          63,
          73,
          78,
          67,
          63,
          68,
          65,
          66,
          59,
          52,
          77,
          31,
          29,
          24,
          28,
          37,
          37,
          42,
          42,
          33,
          44,
          34,
          43,
          47,
          35,
          35,
          40,
          39,
          47,
          46,
          58,
          46,
          27,
          38,
          139,
          207,
          226,
          182,
          196,
          171,
          179,
          175,
          182,
          202,
          179,
          212,
          189,
          202,
          186,
          205,
          185,
          198,
          217,
          176,
          161,
          209,
          195,
          167,
          200,
          204,
          206,
          188,
          189,
          201,
          191,
          172,
          194,
          169,
          183,
          187,
          185,
          171,
          159,
          167,
          162,
          181,
          168,
          181,
          178,
          169,
          167,
          181,
          203,
          176,
          183,
          172,
          111
         ]
        },
        {
         "marker": {
          "color": "black",
          "line": {
           "color": "#000000",
           "width": 0.5
          }
         },
         "name": "% Left",
         "opacity": 0.6,
         "type": "scatter",
         "x": [
          0.09,
          0.1,
          0.11,
          0.12,
          0.13,
          0.14,
          0.15,
          0.16,
          0.17,
          0.18,
          0.19,
          0.2,
          0.21,
          0.22,
          0.23,
          0.24,
          0.25,
          0.26,
          0.27,
          0.28,
          0.29,
          0.3,
          0.31,
          0.32,
          0.33,
          0.34,
          0.35,
          0.36,
          0.37,
          0.38,
          0.39,
          0.4,
          0.41,
          0.42,
          0.43,
          0.44,
          0.45,
          0.46,
          0.47,
          0.48,
          0.49,
          0.5,
          0.51,
          0.52,
          0.53,
          0.54,
          0.55,
          0.56,
          0.57,
          0.58,
          0.59,
          0.6,
          0.61,
          0.62,
          0.63,
          0.64,
          0.65,
          0.66,
          0.67,
          0.68,
          0.69,
          0.7,
          0.71,
          0.72,
          0.73,
          0.74,
          0.75,
          0.76,
          0.77,
          0.78,
          0.79,
          0.8,
          0.81,
          0.82,
          0.83,
          0.84,
          0.85,
          0.86,
          0.87,
          0.88,
          0.89,
          0.9,
          0.91,
          0.92,
          0.93,
          0.94,
          0.95,
          0.96,
          0.97,
          0.98,
          0.99,
          1
         ],
         "y": [
          100,
          100,
          100,
          13.333333333333334,
          5.555555555555555,
          13.698630136986301,
          3.9473684210526314,
          1.2658227848101267,
          6.944444444444445,
          0,
          8.108108108108109,
          5.797101449275362,
          1.4925373134328357,
          1.6666666666666667,
          3.7037037037037033,
          3.75,
          8.823529411764707,
          3.3333333333333335,
          20,
          9.67741935483871,
          2.631578947368421,
          5.128205128205128,
          28.8135593220339,
          16,
          8.333333333333332,
          8.333333333333332,
          8.108108108108109,
          69.06474820143885,
          80.49792531120332,
          81.48148148148148,
          80,
          80.86124401913875,
          77.19298245614034,
          69.6774193548387,
          79.46428571428571,
          72.51184834123224,
          77.33990147783251,
          71.57894736842105,
          9.523809523809524,
          6.7114093959731544,
          0.9569377990430622,
          1.3100436681222707,
          2.6737967914438503,
          0,
          4.4692737430167595,
          3.2432432432432434,
          2.2346368715083798,
          2.6737967914438503,
          3.8095238095238098,
          1.6483516483516485,
          3.1963470319634704,
          2.072538860103627,
          2.8846153846153846,
          1.0638297872340425,
          1.9138755980861244,
          1.06951871657754,
          0.5025125628140703,
          4.824561403508771,
          0.5649717514124294,
          0.6172839506172839,
          0,
          4.878048780487805,
          2.3391812865497075,
          13.043478260869565,
          17.073170731707318,
          19.844357976653697,
          16.8141592920354,
          19.230769230769234,
          20.238095238095237,
          20.74688796680498,
          20.737327188940093,
          12.612612612612612,
          23.18181818181818,
          24.066390041493776,
          20.085470085470085,
          25.101214574898783,
          17.391304347826086,
          20.5,
          25.77777777777778,
          13.368983957219251,
          23.628691983122362,
          23.636363636363637,
          19.196428571428573,
          10.1010101010101,
          0,
          0,
          0,
          0,
          0,
          0,
          0,
          0
         ],
         "yaxis": "y2"
        }
       ],
       "layout": {
        "template": {
         "data": {
          "bar": [
           {
            "error_x": {
             "color": "#2a3f5f"
            },
            "error_y": {
             "color": "#2a3f5f"
            },
            "marker": {
             "line": {
              "color": "#E5ECF6",
              "width": 0.5
             }
            },
            "type": "bar"
           }
          ],
          "barpolar": [
           {
            "marker": {
             "line": {
              "color": "#E5ECF6",
              "width": 0.5
             }
            },
            "type": "barpolar"
           }
          ],
          "carpet": [
           {
            "aaxis": {
             "endlinecolor": "#2a3f5f",
             "gridcolor": "white",
             "linecolor": "white",
             "minorgridcolor": "white",
             "startlinecolor": "#2a3f5f"
            },
            "baxis": {
             "endlinecolor": "#2a3f5f",
             "gridcolor": "white",
             "linecolor": "white",
             "minorgridcolor": "white",
             "startlinecolor": "#2a3f5f"
            },
            "type": "carpet"
           }
          ],
          "choropleth": [
           {
            "colorbar": {
             "outlinewidth": 0,
             "ticks": ""
            },
            "type": "choropleth"
           }
          ],
          "contour": [
           {
            "colorbar": {
             "outlinewidth": 0,
             "ticks": ""
            },
            "colorscale": [
             [
              0,
              "#0d0887"
             ],
             [
              0.1111111111111111,
              "#46039f"
             ],
             [
              0.2222222222222222,
              "#7201a8"
             ],
             [
              0.3333333333333333,
              "#9c179e"
             ],
             [
              0.4444444444444444,
              "#bd3786"
             ],
             [
              0.5555555555555556,
              "#d8576b"
             ],
             [
              0.6666666666666666,
              "#ed7953"
             ],
             [
              0.7777777777777778,
              "#fb9f3a"
             ],
             [
              0.8888888888888888,
              "#fdca26"
             ],
             [
              1,
              "#f0f921"
             ]
            ],
            "type": "contour"
           }
          ],
          "contourcarpet": [
           {
            "colorbar": {
             "outlinewidth": 0,
             "ticks": ""
            },
            "type": "contourcarpet"
           }
          ],
          "heatmap": [
           {
            "colorbar": {
             "outlinewidth": 0,
             "ticks": ""
            },
            "colorscale": [
             [
              0,
              "#0d0887"
             ],
             [
              0.1111111111111111,
              "#46039f"
             ],
             [
              0.2222222222222222,
              "#7201a8"
             ],
             [
              0.3333333333333333,
              "#9c179e"
             ],
             [
              0.4444444444444444,
              "#bd3786"
             ],
             [
              0.5555555555555556,
              "#d8576b"
             ],
             [
              0.6666666666666666,
              "#ed7953"
             ],
             [
              0.7777777777777778,
              "#fb9f3a"
             ],
             [
              0.8888888888888888,
              "#fdca26"
             ],
             [
              1,
              "#f0f921"
             ]
            ],
            "type": "heatmap"
           }
          ],
          "heatmapgl": [
           {
            "colorbar": {
             "outlinewidth": 0,
             "ticks": ""
            },
            "colorscale": [
             [
              0,
              "#0d0887"
             ],
             [
              0.1111111111111111,
              "#46039f"
             ],
             [
              0.2222222222222222,
              "#7201a8"
             ],
             [
              0.3333333333333333,
              "#9c179e"
             ],
             [
              0.4444444444444444,
              "#bd3786"
             ],
             [
              0.5555555555555556,
              "#d8576b"
             ],
             [
              0.6666666666666666,
              "#ed7953"
             ],
             [
              0.7777777777777778,
              "#fb9f3a"
             ],
             [
              0.8888888888888888,
              "#fdca26"
             ],
             [
              1,
              "#f0f921"
             ]
            ],
            "type": "heatmapgl"
           }
          ],
          "histogram": [
           {
            "marker": {
             "colorbar": {
              "outlinewidth": 0,
              "ticks": ""
             }
            },
            "type": "histogram"
           }
          ],
          "histogram2d": [
           {
            "colorbar": {
             "outlinewidth": 0,
             "ticks": ""
            },
            "colorscale": [
             [
              0,
              "#0d0887"
             ],
             [
              0.1111111111111111,
              "#46039f"
             ],
             [
              0.2222222222222222,
              "#7201a8"
             ],
             [
              0.3333333333333333,
              "#9c179e"
             ],
             [
              0.4444444444444444,
              "#bd3786"
             ],
             [
              0.5555555555555556,
              "#d8576b"
             ],
             [
              0.6666666666666666,
              "#ed7953"
             ],
             [
              0.7777777777777778,
              "#fb9f3a"
             ],
             [
              0.8888888888888888,
              "#fdca26"
             ],
             [
              1,
              "#f0f921"
             ]
            ],
            "type": "histogram2d"
           }
          ],
          "histogram2dcontour": [
           {
            "colorbar": {
             "outlinewidth": 0,
             "ticks": ""
            },
            "colorscale": [
             [
              0,
              "#0d0887"
             ],
             [
              0.1111111111111111,
              "#46039f"
             ],
             [
              0.2222222222222222,
              "#7201a8"
             ],
             [
              0.3333333333333333,
              "#9c179e"
             ],
             [
              0.4444444444444444,
              "#bd3786"
             ],
             [
              0.5555555555555556,
              "#d8576b"
             ],
             [
              0.6666666666666666,
              "#ed7953"
             ],
             [
              0.7777777777777778,
              "#fb9f3a"
             ],
             [
              0.8888888888888888,
              "#fdca26"
             ],
             [
              1,
              "#f0f921"
             ]
            ],
            "type": "histogram2dcontour"
           }
          ],
          "mesh3d": [
           {
            "colorbar": {
             "outlinewidth": 0,
             "ticks": ""
            },
            "type": "mesh3d"
           }
          ],
          "parcoords": [
           {
            "line": {
             "colorbar": {
              "outlinewidth": 0,
              "ticks": ""
             }
            },
            "type": "parcoords"
           }
          ],
          "pie": [
           {
            "automargin": true,
            "type": "pie"
           }
          ],
          "scatter": [
           {
            "marker": {
             "colorbar": {
              "outlinewidth": 0,
              "ticks": ""
             }
            },
            "type": "scatter"
           }
          ],
          "scatter3d": [
           {
            "line": {
             "colorbar": {
              "outlinewidth": 0,
              "ticks": ""
             }
            },
            "marker": {
             "colorbar": {
              "outlinewidth": 0,
              "ticks": ""
             }
            },
            "type": "scatter3d"
           }
          ],
          "scattercarpet": [
           {
            "marker": {
             "colorbar": {
              "outlinewidth": 0,
              "ticks": ""
             }
            },
            "type": "scattercarpet"
           }
          ],
          "scattergeo": [
           {
            "marker": {
             "colorbar": {
              "outlinewidth": 0,
              "ticks": ""
             }
            },
            "type": "scattergeo"
           }
          ],
          "scattergl": [
           {
            "marker": {
             "colorbar": {
              "outlinewidth": 0,
              "ticks": ""
             }
            },
            "type": "scattergl"
           }
          ],
          "scattermapbox": [
           {
            "marker": {
             "colorbar": {
              "outlinewidth": 0,
              "ticks": ""
             }
            },
            "type": "scattermapbox"
           }
          ],
          "scatterpolar": [
           {
            "marker": {
             "colorbar": {
              "outlinewidth": 0,
              "ticks": ""
             }
            },
            "type": "scatterpolar"
           }
          ],
          "scatterpolargl": [
           {
            "marker": {
             "colorbar": {
              "outlinewidth": 0,
              "ticks": ""
             }
            },
            "type": "scatterpolargl"
           }
          ],
          "scatterternary": [
           {
            "marker": {
             "colorbar": {
              "outlinewidth": 0,
              "ticks": ""
             }
            },
            "type": "scatterternary"
           }
          ],
          "surface": [
           {
            "colorbar": {
             "outlinewidth": 0,
             "ticks": ""
            },
            "colorscale": [
             [
              0,
              "#0d0887"
             ],
             [
              0.1111111111111111,
              "#46039f"
             ],
             [
              0.2222222222222222,
              "#7201a8"
             ],
             [
              0.3333333333333333,
              "#9c179e"
             ],
             [
              0.4444444444444444,
              "#bd3786"
             ],
             [
              0.5555555555555556,
              "#d8576b"
             ],
             [
              0.6666666666666666,
              "#ed7953"
             ],
             [
              0.7777777777777778,
              "#fb9f3a"
             ],
             [
              0.8888888888888888,
              "#fdca26"
             ],
             [
              1,
              "#f0f921"
             ]
            ],
            "type": "surface"
           }
          ],
          "table": [
           {
            "cells": {
             "fill": {
              "color": "#EBF0F8"
             },
             "line": {
              "color": "white"
             }
            },
            "header": {
             "fill": {
              "color": "#C8D4E3"
             },
             "line": {
              "color": "white"
             }
            },
            "type": "table"
           }
          ]
         },
         "layout": {
          "annotationdefaults": {
           "arrowcolor": "#2a3f5f",
           "arrowhead": 0,
           "arrowwidth": 1
          },
          "autotypenumbers": "strict",
          "coloraxis": {
           "colorbar": {
            "outlinewidth": 0,
            "ticks": ""
           }
          },
          "colorscale": {
           "diverging": [
            [
             0,
             "#8e0152"
            ],
            [
             0.1,
             "#c51b7d"
            ],
            [
             0.2,
             "#de77ae"
            ],
            [
             0.3,
             "#f1b6da"
            ],
            [
             0.4,
             "#fde0ef"
            ],
            [
             0.5,
             "#f7f7f7"
            ],
            [
             0.6,
             "#e6f5d0"
            ],
            [
             0.7,
             "#b8e186"
            ],
            [
             0.8,
             "#7fbc41"
            ],
            [
             0.9,
             "#4d9221"
            ],
            [
             1,
             "#276419"
            ]
           ],
           "sequential": [
            [
             0,
             "#0d0887"
            ],
            [
             0.1111111111111111,
             "#46039f"
            ],
            [
             0.2222222222222222,
             "#7201a8"
            ],
            [
             0.3333333333333333,
             "#9c179e"
            ],
            [
             0.4444444444444444,
             "#bd3786"
            ],
            [
             0.5555555555555556,
             "#d8576b"
            ],
            [
             0.6666666666666666,
             "#ed7953"
            ],
            [
             0.7777777777777778,
             "#fb9f3a"
            ],
            [
             0.8888888888888888,
             "#fdca26"
            ],
            [
             1,
             "#f0f921"
            ]
           ],
           "sequentialminus": [
            [
             0,
             "#0d0887"
            ],
            [
             0.1111111111111111,
             "#46039f"
            ],
            [
             0.2222222222222222,
             "#7201a8"
            ],
            [
             0.3333333333333333,
             "#9c179e"
            ],
            [
             0.4444444444444444,
             "#bd3786"
            ],
            [
             0.5555555555555556,
             "#d8576b"
            ],
            [
             0.6666666666666666,
             "#ed7953"
            ],
            [
             0.7777777777777778,
             "#fb9f3a"
            ],
            [
             0.8888888888888888,
             "#fdca26"
            ],
            [
             1,
             "#f0f921"
            ]
           ]
          },
          "colorway": [
           "#636efa",
           "#EF553B",
           "#00cc96",
           "#ab63fa",
           "#FFA15A",
           "#19d3f3",
           "#FF6692",
           "#B6E880",
           "#FF97FF",
           "#FECB52"
          ],
          "font": {
           "color": "#2a3f5f"
          },
          "geo": {
           "bgcolor": "white",
           "lakecolor": "white",
           "landcolor": "#E5ECF6",
           "showlakes": true,
           "showland": true,
           "subunitcolor": "white"
          },
          "hoverlabel": {
           "align": "left"
          },
          "hovermode": "closest",
          "mapbox": {
           "style": "light"
          },
          "paper_bgcolor": "white",
          "plot_bgcolor": "#E5ECF6",
          "polar": {
           "angularaxis": {
            "gridcolor": "white",
            "linecolor": "white",
            "ticks": ""
           },
           "bgcolor": "#E5ECF6",
           "radialaxis": {
            "gridcolor": "white",
            "linecolor": "white",
            "ticks": ""
           }
          },
          "scene": {
           "xaxis": {
            "backgroundcolor": "#E5ECF6",
            "gridcolor": "white",
            "gridwidth": 2,
            "linecolor": "white",
            "showbackground": true,
            "ticks": "",
            "zerolinecolor": "white"
           },
           "yaxis": {
            "backgroundcolor": "#E5ECF6",
            "gridcolor": "white",
            "gridwidth": 2,
            "linecolor": "white",
            "showbackground": true,
            "ticks": "",
            "zerolinecolor": "white"
           },
           "zaxis": {
            "backgroundcolor": "#E5ECF6",
            "gridcolor": "white",
            "gridwidth": 2,
            "linecolor": "white",
            "showbackground": true,
            "ticks": "",
            "zerolinecolor": "white"
           }
          },
          "shapedefaults": {
           "line": {
            "color": "#2a3f5f"
           }
          },
          "ternary": {
           "aaxis": {
            "gridcolor": "white",
            "linecolor": "white",
            "ticks": ""
           },
           "baxis": {
            "gridcolor": "white",
            "linecolor": "white",
            "ticks": ""
           },
           "bgcolor": "#E5ECF6",
           "caxis": {
            "gridcolor": "white",
            "linecolor": "white",
            "ticks": ""
           }
          },
          "title": {
           "x": 0.05
          },
          "xaxis": {
           "automargin": true,
           "gridcolor": "white",
           "linecolor": "white",
           "ticks": "",
           "title": {
            "standoff": 15
           },
           "zerolinecolor": "white",
           "zerolinewidth": 2
          },
          "yaxis": {
           "automargin": true,
           "gridcolor": "white",
           "linecolor": "white",
           "ticks": "",
           "title": {
            "standoff": 15
           },
           "zerolinecolor": "white",
           "zerolinewidth": 2
          }
         }
        },
        "title": {
         "text": "satisfaction_level"
        },
        "yaxis": {
         "title": {
          "text": "Count"
         }
        },
        "yaxis2": {
         "anchor": "x",
         "overlaying": "y",
         "range": [
          0,
          105
         ],
         "showgrid": false,
         "side": "right",
         "title": {
          "text": "% Left"
         },
         "zeroline": false
        }
       }
      },
      "text/html": [
       "<div>                            <div id=\"6c44f089-3b5b-4c68-94d1-4cdd47d89060\" class=\"plotly-graph-div\" style=\"height:525px; width:100%;\"></div>            <script type=\"text/javascript\">                require([\"plotly\"], function(Plotly) {                    window.PLOTLYENV=window.PLOTLYENV || {};                                    if (document.getElementById(\"6c44f089-3b5b-4c68-94d1-4cdd47d89060\")) {                    Plotly.newPlot(                        \"6c44f089-3b5b-4c68-94d1-4cdd47d89060\",                        [{\"marker\": {\"color\": \"gold\", \"line\": {\"color\": \"#000000\", \"width\": 1}}, \"name\": \"Left\", \"opacity\": 0.8, \"type\": \"bar\", \"x\": [0.09, 0.1, 0.11, 0.12, 0.13, 0.14, 0.15, 0.16, 0.17, 0.18, 0.19, 0.2, 0.21, 0.22, 0.23, 0.24, 0.25, 0.26, 0.27, 0.28, 0.29, 0.3, 0.31, 0.32, 0.33, 0.34, 0.35, 0.36, 0.37, 0.38, 0.39, 0.4, 0.41, 0.42, 0.43, 0.44, 0.45, 0.46, 0.47, 0.48, 0.49, 0.5, 0.51, 0.52, 0.53, 0.54, 0.55, 0.56, 0.57, 0.58, 0.59, 0.6, 0.61, 0.62, 0.63, 0.64, 0.65, 0.66, 0.67, 0.68, 0.69, 0.7, 0.71, 0.72, 0.73, 0.74, 0.75, 0.76, 0.77, 0.78, 0.79, 0.8, 0.81, 0.82, 0.83, 0.84, 0.85, 0.86, 0.87, 0.88, 0.89, 0.9, 0.91, 0.92, 0.93, 0.94, 0.95, 0.96, 0.97, 0.98, 0.99, 1.0], \"y\": [195, 358, 335, 4, 3, 10, 3, 1, 5, 0, 6, 4, 1, 1, 2, 3, 3, 1, 6, 3, 1, 2, 17, 8, 3, 4, 3, 96, 194, 154, 140, 169, 132, 108, 178, 153, 157, 68, 4, 10, 2, 3, 5, 0, 8, 6, 4, 5, 8, 3, 7, 4, 6, 2, 4, 2, 1, 11, 1, 1, 0, 10, 4, 30, 42, 51, 38, 45, 51, 50, 45, 28, 51, 58, 47, 62, 36, 41, 58, 25, 56, 52, 43, 20, 0, 0, 0, 0, 0, 0, 0, 0]}, {\"marker\": {\"color\": \"lightskyblue\", \"line\": {\"color\": \"#000000\", \"width\": 1}}, \"name\": \"Still_Employed\", \"opacity\": 0.8, \"type\": \"bar\", \"x\": [0.09, 0.1, 0.11, 0.12, 0.13, 0.14, 0.15, 0.16, 0.17, 0.18, 0.19, 0.2, 0.21, 0.22, 0.23, 0.24, 0.25, 0.26, 0.27, 0.28, 0.29, 0.3, 0.31, 0.32, 0.33, 0.34, 0.35, 0.36, 0.37, 0.38, 0.39, 0.4, 0.41, 0.42, 0.43, 0.44, 0.45, 0.46, 0.47, 0.48, 0.49, 0.5, 0.51, 0.52, 0.53, 0.54, 0.55, 0.56, 0.57, 0.58, 0.59, 0.6, 0.61, 0.62, 0.63, 0.64, 0.65, 0.66, 0.67, 0.68, 0.69, 0.7, 0.71, 0.72, 0.73, 0.74, 0.75, 0.76, 0.77, 0.78, 0.79, 0.8, 0.81, 0.82, 0.83, 0.84, 0.85, 0.86, 0.87, 0.88, 0.89, 0.9, 0.91, 0.92, 0.93, 0.94, 0.95, 0.96, 0.97, 0.98, 0.99, 1.0], \"y\": [0, 0, 0, 26, 51, 63, 73, 78, 67, 63, 68, 65, 66, 59, 52, 77, 31, 29, 24, 28, 37, 37, 42, 42, 33, 44, 34, 43, 47, 35, 35, 40, 39, 47, 46, 58, 46, 27, 38, 139, 207, 226, 182, 196, 171, 179, 175, 182, 202, 179, 212, 189, 202, 186, 205, 185, 198, 217, 176, 161, 209, 195, 167, 200, 204, 206, 188, 189, 201, 191, 172, 194, 169, 183, 187, 185, 171, 159, 167, 162, 181, 168, 181, 178, 169, 167, 181, 203, 176, 183, 172, 111]}, {\"marker\": {\"color\": \"black\", \"line\": {\"color\": \"#000000\", \"width\": 0.5}}, \"name\": \"% Left\", \"opacity\": 0.6, \"type\": \"scatter\", \"x\": [0.09, 0.1, 0.11, 0.12, 0.13, 0.14, 0.15, 0.16, 0.17, 0.18, 0.19, 0.2, 0.21, 0.22, 0.23, 0.24, 0.25, 0.26, 0.27, 0.28, 0.29, 0.3, 0.31, 0.32, 0.33, 0.34, 0.35, 0.36, 0.37, 0.38, 0.39, 0.4, 0.41, 0.42, 0.43, 0.44, 0.45, 0.46, 0.47, 0.48, 0.49, 0.5, 0.51, 0.52, 0.53, 0.54, 0.55, 0.56, 0.57, 0.58, 0.59, 0.6, 0.61, 0.62, 0.63, 0.64, 0.65, 0.66, 0.67, 0.68, 0.69, 0.7, 0.71, 0.72, 0.73, 0.74, 0.75, 0.76, 0.77, 0.78, 0.79, 0.8, 0.81, 0.82, 0.83, 0.84, 0.85, 0.86, 0.87, 0.88, 0.89, 0.9, 0.91, 0.92, 0.93, 0.94, 0.95, 0.96, 0.97, 0.98, 0.99, 1.0], \"y\": [100.0, 100.0, 100.0, 13.333333333333334, 5.555555555555555, 13.698630136986301, 3.9473684210526314, 1.2658227848101267, 6.944444444444445, 0.0, 8.108108108108109, 5.797101449275362, 1.4925373134328357, 1.6666666666666667, 3.7037037037037033, 3.75, 8.823529411764707, 3.3333333333333335, 20.0, 9.67741935483871, 2.631578947368421, 5.128205128205128, 28.8135593220339, 16.0, 8.333333333333332, 8.333333333333332, 8.108108108108109, 69.06474820143885, 80.49792531120332, 81.48148148148148, 80.0, 80.86124401913875, 77.19298245614034, 69.6774193548387, 79.46428571428571, 72.51184834123224, 77.33990147783251, 71.57894736842105, 9.523809523809524, 6.7114093959731544, 0.9569377990430622, 1.3100436681222707, 2.6737967914438503, 0.0, 4.4692737430167595, 3.2432432432432434, 2.2346368715083798, 2.6737967914438503, 3.8095238095238098, 1.6483516483516485, 3.1963470319634704, 2.072538860103627, 2.8846153846153846, 1.0638297872340425, 1.9138755980861244, 1.06951871657754, 0.5025125628140703, 4.824561403508771, 0.5649717514124294, 0.6172839506172839, 0.0, 4.878048780487805, 2.3391812865497075, 13.043478260869565, 17.073170731707318, 19.844357976653697, 16.8141592920354, 19.230769230769234, 20.238095238095237, 20.74688796680498, 20.737327188940093, 12.612612612612612, 23.18181818181818, 24.066390041493776, 20.085470085470085, 25.101214574898783, 17.391304347826086, 20.5, 25.77777777777778, 13.368983957219251, 23.628691983122362, 23.636363636363637, 19.196428571428573, 10.1010101010101, 0.0, 0.0, 0.0, 0.0, 0.0, 0.0, 0.0, 0.0], \"yaxis\": \"y2\"}],                        {\"template\": {\"data\": {\"bar\": [{\"error_x\": {\"color\": \"#2a3f5f\"}, \"error_y\": {\"color\": \"#2a3f5f\"}, \"marker\": {\"line\": {\"color\": \"#E5ECF6\", \"width\": 0.5}}, \"type\": \"bar\"}], \"barpolar\": [{\"marker\": {\"line\": {\"color\": \"#E5ECF6\", \"width\": 0.5}}, \"type\": \"barpolar\"}], \"carpet\": [{\"aaxis\": {\"endlinecolor\": \"#2a3f5f\", \"gridcolor\": \"white\", \"linecolor\": \"white\", \"minorgridcolor\": \"white\", \"startlinecolor\": \"#2a3f5f\"}, \"baxis\": {\"endlinecolor\": \"#2a3f5f\", \"gridcolor\": \"white\", \"linecolor\": \"white\", \"minorgridcolor\": \"white\", \"startlinecolor\": \"#2a3f5f\"}, \"type\": \"carpet\"}], \"choropleth\": [{\"colorbar\": {\"outlinewidth\": 0, \"ticks\": \"\"}, \"type\": \"choropleth\"}], \"contour\": [{\"colorbar\": {\"outlinewidth\": 0, \"ticks\": \"\"}, \"colorscale\": [[0.0, \"#0d0887\"], [0.1111111111111111, \"#46039f\"], [0.2222222222222222, \"#7201a8\"], [0.3333333333333333, \"#9c179e\"], [0.4444444444444444, \"#bd3786\"], [0.5555555555555556, \"#d8576b\"], [0.6666666666666666, \"#ed7953\"], [0.7777777777777778, \"#fb9f3a\"], [0.8888888888888888, \"#fdca26\"], [1.0, \"#f0f921\"]], \"type\": \"contour\"}], \"contourcarpet\": [{\"colorbar\": {\"outlinewidth\": 0, \"ticks\": \"\"}, \"type\": \"contourcarpet\"}], \"heatmap\": [{\"colorbar\": {\"outlinewidth\": 0, \"ticks\": \"\"}, \"colorscale\": [[0.0, \"#0d0887\"], [0.1111111111111111, \"#46039f\"], [0.2222222222222222, \"#7201a8\"], [0.3333333333333333, \"#9c179e\"], [0.4444444444444444, \"#bd3786\"], [0.5555555555555556, \"#d8576b\"], [0.6666666666666666, \"#ed7953\"], [0.7777777777777778, \"#fb9f3a\"], [0.8888888888888888, \"#fdca26\"], [1.0, \"#f0f921\"]], \"type\": \"heatmap\"}], \"heatmapgl\": [{\"colorbar\": {\"outlinewidth\": 0, \"ticks\": \"\"}, \"colorscale\": [[0.0, \"#0d0887\"], [0.1111111111111111, \"#46039f\"], [0.2222222222222222, \"#7201a8\"], [0.3333333333333333, \"#9c179e\"], [0.4444444444444444, \"#bd3786\"], [0.5555555555555556, \"#d8576b\"], [0.6666666666666666, \"#ed7953\"], [0.7777777777777778, \"#fb9f3a\"], [0.8888888888888888, \"#fdca26\"], [1.0, \"#f0f921\"]], \"type\": \"heatmapgl\"}], \"histogram\": [{\"marker\": {\"colorbar\": {\"outlinewidth\": 0, \"ticks\": \"\"}}, \"type\": \"histogram\"}], \"histogram2d\": [{\"colorbar\": {\"outlinewidth\": 0, \"ticks\": \"\"}, \"colorscale\": [[0.0, \"#0d0887\"], [0.1111111111111111, \"#46039f\"], [0.2222222222222222, \"#7201a8\"], [0.3333333333333333, \"#9c179e\"], [0.4444444444444444, \"#bd3786\"], [0.5555555555555556, \"#d8576b\"], [0.6666666666666666, \"#ed7953\"], [0.7777777777777778, \"#fb9f3a\"], [0.8888888888888888, \"#fdca26\"], [1.0, \"#f0f921\"]], \"type\": \"histogram2d\"}], \"histogram2dcontour\": [{\"colorbar\": {\"outlinewidth\": 0, \"ticks\": \"\"}, \"colorscale\": [[0.0, \"#0d0887\"], [0.1111111111111111, \"#46039f\"], [0.2222222222222222, \"#7201a8\"], [0.3333333333333333, \"#9c179e\"], [0.4444444444444444, \"#bd3786\"], [0.5555555555555556, \"#d8576b\"], [0.6666666666666666, \"#ed7953\"], [0.7777777777777778, \"#fb9f3a\"], [0.8888888888888888, \"#fdca26\"], [1.0, \"#f0f921\"]], \"type\": \"histogram2dcontour\"}], \"mesh3d\": [{\"colorbar\": {\"outlinewidth\": 0, \"ticks\": \"\"}, \"type\": \"mesh3d\"}], \"parcoords\": [{\"line\": {\"colorbar\": {\"outlinewidth\": 0, \"ticks\": \"\"}}, \"type\": \"parcoords\"}], \"pie\": [{\"automargin\": true, \"type\": \"pie\"}], \"scatter\": [{\"marker\": {\"colorbar\": {\"outlinewidth\": 0, \"ticks\": \"\"}}, \"type\": \"scatter\"}], \"scatter3d\": [{\"line\": {\"colorbar\": {\"outlinewidth\": 0, \"ticks\": \"\"}}, \"marker\": {\"colorbar\": {\"outlinewidth\": 0, \"ticks\": \"\"}}, \"type\": \"scatter3d\"}], \"scattercarpet\": [{\"marker\": {\"colorbar\": {\"outlinewidth\": 0, \"ticks\": \"\"}}, \"type\": \"scattercarpet\"}], \"scattergeo\": [{\"marker\": {\"colorbar\": {\"outlinewidth\": 0, \"ticks\": \"\"}}, \"type\": \"scattergeo\"}], \"scattergl\": [{\"marker\": {\"colorbar\": {\"outlinewidth\": 0, \"ticks\": \"\"}}, \"type\": \"scattergl\"}], \"scattermapbox\": [{\"marker\": {\"colorbar\": {\"outlinewidth\": 0, \"ticks\": \"\"}}, \"type\": \"scattermapbox\"}], \"scatterpolar\": [{\"marker\": {\"colorbar\": {\"outlinewidth\": 0, \"ticks\": \"\"}}, \"type\": \"scatterpolar\"}], \"scatterpolargl\": [{\"marker\": {\"colorbar\": {\"outlinewidth\": 0, \"ticks\": \"\"}}, \"type\": \"scatterpolargl\"}], \"scatterternary\": [{\"marker\": {\"colorbar\": {\"outlinewidth\": 0, \"ticks\": \"\"}}, \"type\": \"scatterternary\"}], \"surface\": [{\"colorbar\": {\"outlinewidth\": 0, \"ticks\": \"\"}, \"colorscale\": [[0.0, \"#0d0887\"], [0.1111111111111111, \"#46039f\"], [0.2222222222222222, \"#7201a8\"], [0.3333333333333333, \"#9c179e\"], [0.4444444444444444, \"#bd3786\"], [0.5555555555555556, \"#d8576b\"], [0.6666666666666666, \"#ed7953\"], [0.7777777777777778, \"#fb9f3a\"], [0.8888888888888888, \"#fdca26\"], [1.0, \"#f0f921\"]], \"type\": \"surface\"}], \"table\": [{\"cells\": {\"fill\": {\"color\": \"#EBF0F8\"}, \"line\": {\"color\": \"white\"}}, \"header\": {\"fill\": {\"color\": \"#C8D4E3\"}, \"line\": {\"color\": \"white\"}}, \"type\": \"table\"}]}, \"layout\": {\"annotationdefaults\": {\"arrowcolor\": \"#2a3f5f\", \"arrowhead\": 0, \"arrowwidth\": 1}, \"autotypenumbers\": \"strict\", \"coloraxis\": {\"colorbar\": {\"outlinewidth\": 0, \"ticks\": \"\"}}, \"colorscale\": {\"diverging\": [[0, \"#8e0152\"], [0.1, \"#c51b7d\"], [0.2, \"#de77ae\"], [0.3, \"#f1b6da\"], [0.4, \"#fde0ef\"], [0.5, \"#f7f7f7\"], [0.6, \"#e6f5d0\"], [0.7, \"#b8e186\"], [0.8, \"#7fbc41\"], [0.9, \"#4d9221\"], [1, \"#276419\"]], \"sequential\": [[0.0, \"#0d0887\"], [0.1111111111111111, \"#46039f\"], [0.2222222222222222, \"#7201a8\"], [0.3333333333333333, \"#9c179e\"], [0.4444444444444444, \"#bd3786\"], [0.5555555555555556, \"#d8576b\"], [0.6666666666666666, \"#ed7953\"], [0.7777777777777778, \"#fb9f3a\"], [0.8888888888888888, \"#fdca26\"], [1.0, \"#f0f921\"]], \"sequentialminus\": [[0.0, \"#0d0887\"], [0.1111111111111111, \"#46039f\"], [0.2222222222222222, \"#7201a8\"], [0.3333333333333333, \"#9c179e\"], [0.4444444444444444, \"#bd3786\"], [0.5555555555555556, \"#d8576b\"], [0.6666666666666666, \"#ed7953\"], [0.7777777777777778, \"#fb9f3a\"], [0.8888888888888888, \"#fdca26\"], [1.0, \"#f0f921\"]]}, \"colorway\": [\"#636efa\", \"#EF553B\", \"#00cc96\", \"#ab63fa\", \"#FFA15A\", \"#19d3f3\", \"#FF6692\", \"#B6E880\", \"#FF97FF\", \"#FECB52\"], \"font\": {\"color\": \"#2a3f5f\"}, \"geo\": {\"bgcolor\": \"white\", \"lakecolor\": \"white\", \"landcolor\": \"#E5ECF6\", \"showlakes\": true, \"showland\": true, \"subunitcolor\": \"white\"}, \"hoverlabel\": {\"align\": \"left\"}, \"hovermode\": \"closest\", \"mapbox\": {\"style\": \"light\"}, \"paper_bgcolor\": \"white\", \"plot_bgcolor\": \"#E5ECF6\", \"polar\": {\"angularaxis\": {\"gridcolor\": \"white\", \"linecolor\": \"white\", \"ticks\": \"\"}, \"bgcolor\": \"#E5ECF6\", \"radialaxis\": {\"gridcolor\": \"white\", \"linecolor\": \"white\", \"ticks\": \"\"}}, \"scene\": {\"xaxis\": {\"backgroundcolor\": \"#E5ECF6\", \"gridcolor\": \"white\", \"gridwidth\": 2, \"linecolor\": \"white\", \"showbackground\": true, \"ticks\": \"\", \"zerolinecolor\": \"white\"}, \"yaxis\": {\"backgroundcolor\": \"#E5ECF6\", \"gridcolor\": \"white\", \"gridwidth\": 2, \"linecolor\": \"white\", \"showbackground\": true, \"ticks\": \"\", \"zerolinecolor\": \"white\"}, \"zaxis\": {\"backgroundcolor\": \"#E5ECF6\", \"gridcolor\": \"white\", \"gridwidth\": 2, \"linecolor\": \"white\", \"showbackground\": true, \"ticks\": \"\", \"zerolinecolor\": \"white\"}}, \"shapedefaults\": {\"line\": {\"color\": \"#2a3f5f\"}}, \"ternary\": {\"aaxis\": {\"gridcolor\": \"white\", \"linecolor\": \"white\", \"ticks\": \"\"}, \"baxis\": {\"gridcolor\": \"white\", \"linecolor\": \"white\", \"ticks\": \"\"}, \"bgcolor\": \"#E5ECF6\", \"caxis\": {\"gridcolor\": \"white\", \"linecolor\": \"white\", \"ticks\": \"\"}}, \"title\": {\"x\": 0.05}, \"xaxis\": {\"automargin\": true, \"gridcolor\": \"white\", \"linecolor\": \"white\", \"ticks\": \"\", \"title\": {\"standoff\": 15}, \"zerolinecolor\": \"white\", \"zerolinewidth\": 2}, \"yaxis\": {\"automargin\": true, \"gridcolor\": \"white\", \"linecolor\": \"white\", \"ticks\": \"\", \"title\": {\"standoff\": 15}, \"zerolinecolor\": \"white\", \"zerolinewidth\": 2}}}, \"title\": {\"text\": \"satisfaction_level\"}, \"yaxis\": {\"title\": {\"text\": \"Count\"}}, \"yaxis2\": {\"anchor\": \"x\", \"overlaying\": \"y\", \"range\": [0, 105], \"showgrid\": false, \"side\": \"right\", \"title\": {\"text\": \"% Left\"}, \"zeroline\": false}},                        {\"responsive\": true}                    ).then(function(){\n",
       "                            \n",
       "var gd = document.getElementById('6c44f089-3b5b-4c68-94d1-4cdd47d89060');\n",
       "var x = new MutationObserver(function (mutations, observer) {{\n",
       "        var display = window.getComputedStyle(gd).display;\n",
       "        if (!display || display === 'none') {{\n",
       "            console.log([gd, 'removed!']);\n",
       "            Plotly.purge(gd);\n",
       "            observer.disconnect();\n",
       "        }}\n",
       "}});\n",
       "\n",
       "// Listen for the removal of the full notebook cells\n",
       "var notebookContainer = gd.closest('#notebook-container');\n",
       "if (notebookContainer) {{\n",
       "    x.observe(notebookContainer, {childList: true});\n",
       "}}\n",
       "\n",
       "// Listen for the clearing of the current output cell\n",
       "var outputEl = gd.closest('.output');\n",
       "if (outputEl) {{\n",
       "    x.observe(outputEl, {childList: true});\n",
       "}}\n",
       "\n",
       "                        })                };                });            </script>        </div>"
      ]
     },
     "metadata": {},
     "output_type": "display_data"
    },
    {
     "data": {
      "application/vnd.plotly.v1+json": {
       "config": {
        "linkText": "Export to plot.ly",
        "plotlyServerURL": "https://plot.ly",
        "showLink": false
       },
       "data": [
        {
         "marker": {
          "color": "gold",
          "line": {
           "color": "#000000",
           "width": 1
          }
         },
         "name": "Left",
         "opacity": 0.8,
         "type": "bar",
         "x": [
          2,
          3,
          4,
          5,
          6,
          7
         ],
         "y": [
          1567,
          72,
          409,
          612,
          655,
          256
         ]
        },
        {
         "marker": {
          "color": "lightskyblue",
          "line": {
           "color": "#000000",
           "width": 1
          }
         },
         "name": "Still_Employed",
         "opacity": 0.8,
         "type": "bar",
         "x": [
          2,
          3,
          4,
          5,
          6,
          7
         ],
         "y": [
          821,
          3983,
          3956,
          2149,
          519,
          0
         ]
        },
        {
         "marker": {
          "color": "black",
          "line": {
           "color": "#000000",
           "width": 0.5
          }
         },
         "name": "% Left",
         "opacity": 0.6,
         "type": "scatter",
         "x": [
          2,
          3,
          4,
          5,
          6,
          7
         ],
         "y": [
          65.61976549413735,
          1.775585696670777,
          9.369988545246278,
          22.1658819268381,
          55.792163543441234,
          100
         ],
         "yaxis": "y2"
        }
       ],
       "layout": {
        "template": {
         "data": {
          "bar": [
           {
            "error_x": {
             "color": "#2a3f5f"
            },
            "error_y": {
             "color": "#2a3f5f"
            },
            "marker": {
             "line": {
              "color": "#E5ECF6",
              "width": 0.5
             }
            },
            "type": "bar"
           }
          ],
          "barpolar": [
           {
            "marker": {
             "line": {
              "color": "#E5ECF6",
              "width": 0.5
             }
            },
            "type": "barpolar"
           }
          ],
          "carpet": [
           {
            "aaxis": {
             "endlinecolor": "#2a3f5f",
             "gridcolor": "white",
             "linecolor": "white",
             "minorgridcolor": "white",
             "startlinecolor": "#2a3f5f"
            },
            "baxis": {
             "endlinecolor": "#2a3f5f",
             "gridcolor": "white",
             "linecolor": "white",
             "minorgridcolor": "white",
             "startlinecolor": "#2a3f5f"
            },
            "type": "carpet"
           }
          ],
          "choropleth": [
           {
            "colorbar": {
             "outlinewidth": 0,
             "ticks": ""
            },
            "type": "choropleth"
           }
          ],
          "contour": [
           {
            "colorbar": {
             "outlinewidth": 0,
             "ticks": ""
            },
            "colorscale": [
             [
              0,
              "#0d0887"
             ],
             [
              0.1111111111111111,
              "#46039f"
             ],
             [
              0.2222222222222222,
              "#7201a8"
             ],
             [
              0.3333333333333333,
              "#9c179e"
             ],
             [
              0.4444444444444444,
              "#bd3786"
             ],
             [
              0.5555555555555556,
              "#d8576b"
             ],
             [
              0.6666666666666666,
              "#ed7953"
             ],
             [
              0.7777777777777778,
              "#fb9f3a"
             ],
             [
              0.8888888888888888,
              "#fdca26"
             ],
             [
              1,
              "#f0f921"
             ]
            ],
            "type": "contour"
           }
          ],
          "contourcarpet": [
           {
            "colorbar": {
             "outlinewidth": 0,
             "ticks": ""
            },
            "type": "contourcarpet"
           }
          ],
          "heatmap": [
           {
            "colorbar": {
             "outlinewidth": 0,
             "ticks": ""
            },
            "colorscale": [
             [
              0,
              "#0d0887"
             ],
             [
              0.1111111111111111,
              "#46039f"
             ],
             [
              0.2222222222222222,
              "#7201a8"
             ],
             [
              0.3333333333333333,
              "#9c179e"
             ],
             [
              0.4444444444444444,
              "#bd3786"
             ],
             [
              0.5555555555555556,
              "#d8576b"
             ],
             [
              0.6666666666666666,
              "#ed7953"
             ],
             [
              0.7777777777777778,
              "#fb9f3a"
             ],
             [
              0.8888888888888888,
              "#fdca26"
             ],
             [
              1,
              "#f0f921"
             ]
            ],
            "type": "heatmap"
           }
          ],
          "heatmapgl": [
           {
            "colorbar": {
             "outlinewidth": 0,
             "ticks": ""
            },
            "colorscale": [
             [
              0,
              "#0d0887"
             ],
             [
              0.1111111111111111,
              "#46039f"
             ],
             [
              0.2222222222222222,
              "#7201a8"
             ],
             [
              0.3333333333333333,
              "#9c179e"
             ],
             [
              0.4444444444444444,
              "#bd3786"
             ],
             [
              0.5555555555555556,
              "#d8576b"
             ],
             [
              0.6666666666666666,
              "#ed7953"
             ],
             [
              0.7777777777777778,
              "#fb9f3a"
             ],
             [
              0.8888888888888888,
              "#fdca26"
             ],
             [
              1,
              "#f0f921"
             ]
            ],
            "type": "heatmapgl"
           }
          ],
          "histogram": [
           {
            "marker": {
             "colorbar": {
              "outlinewidth": 0,
              "ticks": ""
             }
            },
            "type": "histogram"
           }
          ],
          "histogram2d": [
           {
            "colorbar": {
             "outlinewidth": 0,
             "ticks": ""
            },
            "colorscale": [
             [
              0,
              "#0d0887"
             ],
             [
              0.1111111111111111,
              "#46039f"
             ],
             [
              0.2222222222222222,
              "#7201a8"
             ],
             [
              0.3333333333333333,
              "#9c179e"
             ],
             [
              0.4444444444444444,
              "#bd3786"
             ],
             [
              0.5555555555555556,
              "#d8576b"
             ],
             [
              0.6666666666666666,
              "#ed7953"
             ],
             [
              0.7777777777777778,
              "#fb9f3a"
             ],
             [
              0.8888888888888888,
              "#fdca26"
             ],
             [
              1,
              "#f0f921"
             ]
            ],
            "type": "histogram2d"
           }
          ],
          "histogram2dcontour": [
           {
            "colorbar": {
             "outlinewidth": 0,
             "ticks": ""
            },
            "colorscale": [
             [
              0,
              "#0d0887"
             ],
             [
              0.1111111111111111,
              "#46039f"
             ],
             [
              0.2222222222222222,
              "#7201a8"
             ],
             [
              0.3333333333333333,
              "#9c179e"
             ],
             [
              0.4444444444444444,
              "#bd3786"
             ],
             [
              0.5555555555555556,
              "#d8576b"
             ],
             [
              0.6666666666666666,
              "#ed7953"
             ],
             [
              0.7777777777777778,
              "#fb9f3a"
             ],
             [
              0.8888888888888888,
              "#fdca26"
             ],
             [
              1,
              "#f0f921"
             ]
            ],
            "type": "histogram2dcontour"
           }
          ],
          "mesh3d": [
           {
            "colorbar": {
             "outlinewidth": 0,
             "ticks": ""
            },
            "type": "mesh3d"
           }
          ],
          "parcoords": [
           {
            "line": {
             "colorbar": {
              "outlinewidth": 0,
              "ticks": ""
             }
            },
            "type": "parcoords"
           }
          ],
          "pie": [
           {
            "automargin": true,
            "type": "pie"
           }
          ],
          "scatter": [
           {
            "marker": {
             "colorbar": {
              "outlinewidth": 0,
              "ticks": ""
             }
            },
            "type": "scatter"
           }
          ],
          "scatter3d": [
           {
            "line": {
             "colorbar": {
              "outlinewidth": 0,
              "ticks": ""
             }
            },
            "marker": {
             "colorbar": {
              "outlinewidth": 0,
              "ticks": ""
             }
            },
            "type": "scatter3d"
           }
          ],
          "scattercarpet": [
           {
            "marker": {
             "colorbar": {
              "outlinewidth": 0,
              "ticks": ""
             }
            },
            "type": "scattercarpet"
           }
          ],
          "scattergeo": [
           {
            "marker": {
             "colorbar": {
              "outlinewidth": 0,
              "ticks": ""
             }
            },
            "type": "scattergeo"
           }
          ],
          "scattergl": [
           {
            "marker": {
             "colorbar": {
              "outlinewidth": 0,
              "ticks": ""
             }
            },
            "type": "scattergl"
           }
          ],
          "scattermapbox": [
           {
            "marker": {
             "colorbar": {
              "outlinewidth": 0,
              "ticks": ""
             }
            },
            "type": "scattermapbox"
           }
          ],
          "scatterpolar": [
           {
            "marker": {
             "colorbar": {
              "outlinewidth": 0,
              "ticks": ""
             }
            },
            "type": "scatterpolar"
           }
          ],
          "scatterpolargl": [
           {
            "marker": {
             "colorbar": {
              "outlinewidth": 0,
              "ticks": ""
             }
            },
            "type": "scatterpolargl"
           }
          ],
          "scatterternary": [
           {
            "marker": {
             "colorbar": {
              "outlinewidth": 0,
              "ticks": ""
             }
            },
            "type": "scatterternary"
           }
          ],
          "surface": [
           {
            "colorbar": {
             "outlinewidth": 0,
             "ticks": ""
            },
            "colorscale": [
             [
              0,
              "#0d0887"
             ],
             [
              0.1111111111111111,
              "#46039f"
             ],
             [
              0.2222222222222222,
              "#7201a8"
             ],
             [
              0.3333333333333333,
              "#9c179e"
             ],
             [
              0.4444444444444444,
              "#bd3786"
             ],
             [
              0.5555555555555556,
              "#d8576b"
             ],
             [
              0.6666666666666666,
              "#ed7953"
             ],
             [
              0.7777777777777778,
              "#fb9f3a"
             ],
             [
              0.8888888888888888,
              "#fdca26"
             ],
             [
              1,
              "#f0f921"
             ]
            ],
            "type": "surface"
           }
          ],
          "table": [
           {
            "cells": {
             "fill": {
              "color": "#EBF0F8"
             },
             "line": {
              "color": "white"
             }
            },
            "header": {
             "fill": {
              "color": "#C8D4E3"
             },
             "line": {
              "color": "white"
             }
            },
            "type": "table"
           }
          ]
         },
         "layout": {
          "annotationdefaults": {
           "arrowcolor": "#2a3f5f",
           "arrowhead": 0,
           "arrowwidth": 1
          },
          "autotypenumbers": "strict",
          "coloraxis": {
           "colorbar": {
            "outlinewidth": 0,
            "ticks": ""
           }
          },
          "colorscale": {
           "diverging": [
            [
             0,
             "#8e0152"
            ],
            [
             0.1,
             "#c51b7d"
            ],
            [
             0.2,
             "#de77ae"
            ],
            [
             0.3,
             "#f1b6da"
            ],
            [
             0.4,
             "#fde0ef"
            ],
            [
             0.5,
             "#f7f7f7"
            ],
            [
             0.6,
             "#e6f5d0"
            ],
            [
             0.7,
             "#b8e186"
            ],
            [
             0.8,
             "#7fbc41"
            ],
            [
             0.9,
             "#4d9221"
            ],
            [
             1,
             "#276419"
            ]
           ],
           "sequential": [
            [
             0,
             "#0d0887"
            ],
            [
             0.1111111111111111,
             "#46039f"
            ],
            [
             0.2222222222222222,
             "#7201a8"
            ],
            [
             0.3333333333333333,
             "#9c179e"
            ],
            [
             0.4444444444444444,
             "#bd3786"
            ],
            [
             0.5555555555555556,
             "#d8576b"
            ],
            [
             0.6666666666666666,
             "#ed7953"
            ],
            [
             0.7777777777777778,
             "#fb9f3a"
            ],
            [
             0.8888888888888888,
             "#fdca26"
            ],
            [
             1,
             "#f0f921"
            ]
           ],
           "sequentialminus": [
            [
             0,
             "#0d0887"
            ],
            [
             0.1111111111111111,
             "#46039f"
            ],
            [
             0.2222222222222222,
             "#7201a8"
            ],
            [
             0.3333333333333333,
             "#9c179e"
            ],
            [
             0.4444444444444444,
             "#bd3786"
            ],
            [
             0.5555555555555556,
             "#d8576b"
            ],
            [
             0.6666666666666666,
             "#ed7953"
            ],
            [
             0.7777777777777778,
             "#fb9f3a"
            ],
            [
             0.8888888888888888,
             "#fdca26"
            ],
            [
             1,
             "#f0f921"
            ]
           ]
          },
          "colorway": [
           "#636efa",
           "#EF553B",
           "#00cc96",
           "#ab63fa",
           "#FFA15A",
           "#19d3f3",
           "#FF6692",
           "#B6E880",
           "#FF97FF",
           "#FECB52"
          ],
          "font": {
           "color": "#2a3f5f"
          },
          "geo": {
           "bgcolor": "white",
           "lakecolor": "white",
           "landcolor": "#E5ECF6",
           "showlakes": true,
           "showland": true,
           "subunitcolor": "white"
          },
          "hoverlabel": {
           "align": "left"
          },
          "hovermode": "closest",
          "mapbox": {
           "style": "light"
          },
          "paper_bgcolor": "white",
          "plot_bgcolor": "#E5ECF6",
          "polar": {
           "angularaxis": {
            "gridcolor": "white",
            "linecolor": "white",
            "ticks": ""
           },
           "bgcolor": "#E5ECF6",
           "radialaxis": {
            "gridcolor": "white",
            "linecolor": "white",
            "ticks": ""
           }
          },
          "scene": {
           "xaxis": {
            "backgroundcolor": "#E5ECF6",
            "gridcolor": "white",
            "gridwidth": 2,
            "linecolor": "white",
            "showbackground": true,
            "ticks": "",
            "zerolinecolor": "white"
           },
           "yaxis": {
            "backgroundcolor": "#E5ECF6",
            "gridcolor": "white",
            "gridwidth": 2,
            "linecolor": "white",
            "showbackground": true,
            "ticks": "",
            "zerolinecolor": "white"
           },
           "zaxis": {
            "backgroundcolor": "#E5ECF6",
            "gridcolor": "white",
            "gridwidth": 2,
            "linecolor": "white",
            "showbackground": true,
            "ticks": "",
            "zerolinecolor": "white"
           }
          },
          "shapedefaults": {
           "line": {
            "color": "#2a3f5f"
           }
          },
          "ternary": {
           "aaxis": {
            "gridcolor": "white",
            "linecolor": "white",
            "ticks": ""
           },
           "baxis": {
            "gridcolor": "white",
            "linecolor": "white",
            "ticks": ""
           },
           "bgcolor": "#E5ECF6",
           "caxis": {
            "gridcolor": "white",
            "linecolor": "white",
            "ticks": ""
           }
          },
          "title": {
           "x": 0.05
          },
          "xaxis": {
           "automargin": true,
           "gridcolor": "white",
           "linecolor": "white",
           "ticks": "",
           "title": {
            "standoff": 15
           },
           "zerolinecolor": "white",
           "zerolinewidth": 2
          },
          "yaxis": {
           "automargin": true,
           "gridcolor": "white",
           "linecolor": "white",
           "ticks": "",
           "title": {
            "standoff": 15
           },
           "zerolinecolor": "white",
           "zerolinewidth": 2
          }
         }
        },
        "title": {
         "text": "number_project"
        },
        "yaxis": {
         "title": {
          "text": "Count"
         }
        },
        "yaxis2": {
         "anchor": "x",
         "overlaying": "y",
         "range": [
          0,
          105
         ],
         "showgrid": false,
         "side": "right",
         "title": {
          "text": "% Left"
         },
         "zeroline": false
        }
       }
      },
      "text/html": [
       "<div>                            <div id=\"ff60f5ee-9d57-48e0-9d5d-ad24a2041339\" class=\"plotly-graph-div\" style=\"height:525px; width:100%;\"></div>            <script type=\"text/javascript\">                require([\"plotly\"], function(Plotly) {                    window.PLOTLYENV=window.PLOTLYENV || {};                                    if (document.getElementById(\"ff60f5ee-9d57-48e0-9d5d-ad24a2041339\")) {                    Plotly.newPlot(                        \"ff60f5ee-9d57-48e0-9d5d-ad24a2041339\",                        [{\"marker\": {\"color\": \"gold\", \"line\": {\"color\": \"#000000\", \"width\": 1}}, \"name\": \"Left\", \"opacity\": 0.8, \"type\": \"bar\", \"x\": [2, 3, 4, 5, 6, 7], \"y\": [1567, 72, 409, 612, 655, 256]}, {\"marker\": {\"color\": \"lightskyblue\", \"line\": {\"color\": \"#000000\", \"width\": 1}}, \"name\": \"Still_Employed\", \"opacity\": 0.8, \"type\": \"bar\", \"x\": [2, 3, 4, 5, 6, 7], \"y\": [821, 3983, 3956, 2149, 519, 0]}, {\"marker\": {\"color\": \"black\", \"line\": {\"color\": \"#000000\", \"width\": 0.5}}, \"name\": \"% Left\", \"opacity\": 0.6, \"type\": \"scatter\", \"x\": [2, 3, 4, 5, 6, 7], \"y\": [65.61976549413735, 1.775585696670777, 9.369988545246278, 22.1658819268381, 55.792163543441234, 100.0], \"yaxis\": \"y2\"}],                        {\"template\": {\"data\": {\"bar\": [{\"error_x\": {\"color\": \"#2a3f5f\"}, \"error_y\": {\"color\": \"#2a3f5f\"}, \"marker\": {\"line\": {\"color\": \"#E5ECF6\", \"width\": 0.5}}, \"type\": \"bar\"}], \"barpolar\": [{\"marker\": {\"line\": {\"color\": \"#E5ECF6\", \"width\": 0.5}}, \"type\": \"barpolar\"}], \"carpet\": [{\"aaxis\": {\"endlinecolor\": \"#2a3f5f\", \"gridcolor\": \"white\", \"linecolor\": \"white\", \"minorgridcolor\": \"white\", \"startlinecolor\": \"#2a3f5f\"}, \"baxis\": {\"endlinecolor\": \"#2a3f5f\", \"gridcolor\": \"white\", \"linecolor\": \"white\", \"minorgridcolor\": \"white\", \"startlinecolor\": \"#2a3f5f\"}, \"type\": \"carpet\"}], \"choropleth\": [{\"colorbar\": {\"outlinewidth\": 0, \"ticks\": \"\"}, \"type\": \"choropleth\"}], \"contour\": [{\"colorbar\": {\"outlinewidth\": 0, \"ticks\": \"\"}, \"colorscale\": [[0.0, \"#0d0887\"], [0.1111111111111111, \"#46039f\"], [0.2222222222222222, \"#7201a8\"], [0.3333333333333333, \"#9c179e\"], [0.4444444444444444, \"#bd3786\"], [0.5555555555555556, \"#d8576b\"], [0.6666666666666666, \"#ed7953\"], [0.7777777777777778, \"#fb9f3a\"], [0.8888888888888888, \"#fdca26\"], [1.0, \"#f0f921\"]], \"type\": \"contour\"}], \"contourcarpet\": [{\"colorbar\": {\"outlinewidth\": 0, \"ticks\": \"\"}, \"type\": \"contourcarpet\"}], \"heatmap\": [{\"colorbar\": {\"outlinewidth\": 0, \"ticks\": \"\"}, \"colorscale\": [[0.0, \"#0d0887\"], [0.1111111111111111, \"#46039f\"], [0.2222222222222222, \"#7201a8\"], [0.3333333333333333, \"#9c179e\"], [0.4444444444444444, \"#bd3786\"], [0.5555555555555556, \"#d8576b\"], [0.6666666666666666, \"#ed7953\"], [0.7777777777777778, \"#fb9f3a\"], [0.8888888888888888, \"#fdca26\"], [1.0, \"#f0f921\"]], \"type\": \"heatmap\"}], \"heatmapgl\": [{\"colorbar\": {\"outlinewidth\": 0, \"ticks\": \"\"}, \"colorscale\": [[0.0, \"#0d0887\"], [0.1111111111111111, \"#46039f\"], [0.2222222222222222, \"#7201a8\"], [0.3333333333333333, \"#9c179e\"], [0.4444444444444444, \"#bd3786\"], [0.5555555555555556, \"#d8576b\"], [0.6666666666666666, \"#ed7953\"], [0.7777777777777778, \"#fb9f3a\"], [0.8888888888888888, \"#fdca26\"], [1.0, \"#f0f921\"]], \"type\": \"heatmapgl\"}], \"histogram\": [{\"marker\": {\"colorbar\": {\"outlinewidth\": 0, \"ticks\": \"\"}}, \"type\": \"histogram\"}], \"histogram2d\": [{\"colorbar\": {\"outlinewidth\": 0, \"ticks\": \"\"}, \"colorscale\": [[0.0, \"#0d0887\"], [0.1111111111111111, \"#46039f\"], [0.2222222222222222, \"#7201a8\"], [0.3333333333333333, \"#9c179e\"], [0.4444444444444444, \"#bd3786\"], [0.5555555555555556, \"#d8576b\"], [0.6666666666666666, \"#ed7953\"], [0.7777777777777778, \"#fb9f3a\"], [0.8888888888888888, \"#fdca26\"], [1.0, \"#f0f921\"]], \"type\": \"histogram2d\"}], \"histogram2dcontour\": [{\"colorbar\": {\"outlinewidth\": 0, \"ticks\": \"\"}, \"colorscale\": [[0.0, \"#0d0887\"], [0.1111111111111111, \"#46039f\"], [0.2222222222222222, \"#7201a8\"], [0.3333333333333333, \"#9c179e\"], [0.4444444444444444, \"#bd3786\"], [0.5555555555555556, \"#d8576b\"], [0.6666666666666666, \"#ed7953\"], [0.7777777777777778, \"#fb9f3a\"], [0.8888888888888888, \"#fdca26\"], [1.0, \"#f0f921\"]], \"type\": \"histogram2dcontour\"}], \"mesh3d\": [{\"colorbar\": {\"outlinewidth\": 0, \"ticks\": \"\"}, \"type\": \"mesh3d\"}], \"parcoords\": [{\"line\": {\"colorbar\": {\"outlinewidth\": 0, \"ticks\": \"\"}}, \"type\": \"parcoords\"}], \"pie\": [{\"automargin\": true, \"type\": \"pie\"}], \"scatter\": [{\"marker\": {\"colorbar\": {\"outlinewidth\": 0, \"ticks\": \"\"}}, \"type\": \"scatter\"}], \"scatter3d\": [{\"line\": {\"colorbar\": {\"outlinewidth\": 0, \"ticks\": \"\"}}, \"marker\": {\"colorbar\": {\"outlinewidth\": 0, \"ticks\": \"\"}}, \"type\": \"scatter3d\"}], \"scattercarpet\": [{\"marker\": {\"colorbar\": {\"outlinewidth\": 0, \"ticks\": \"\"}}, \"type\": \"scattercarpet\"}], \"scattergeo\": [{\"marker\": {\"colorbar\": {\"outlinewidth\": 0, \"ticks\": \"\"}}, \"type\": \"scattergeo\"}], \"scattergl\": [{\"marker\": {\"colorbar\": {\"outlinewidth\": 0, \"ticks\": \"\"}}, \"type\": \"scattergl\"}], \"scattermapbox\": [{\"marker\": {\"colorbar\": {\"outlinewidth\": 0, \"ticks\": \"\"}}, \"type\": \"scattermapbox\"}], \"scatterpolar\": [{\"marker\": {\"colorbar\": {\"outlinewidth\": 0, \"ticks\": \"\"}}, \"type\": \"scatterpolar\"}], \"scatterpolargl\": [{\"marker\": {\"colorbar\": {\"outlinewidth\": 0, \"ticks\": \"\"}}, \"type\": \"scatterpolargl\"}], \"scatterternary\": [{\"marker\": {\"colorbar\": {\"outlinewidth\": 0, \"ticks\": \"\"}}, \"type\": \"scatterternary\"}], \"surface\": [{\"colorbar\": {\"outlinewidth\": 0, \"ticks\": \"\"}, \"colorscale\": [[0.0, \"#0d0887\"], [0.1111111111111111, \"#46039f\"], [0.2222222222222222, \"#7201a8\"], [0.3333333333333333, \"#9c179e\"], [0.4444444444444444, \"#bd3786\"], [0.5555555555555556, \"#d8576b\"], [0.6666666666666666, \"#ed7953\"], [0.7777777777777778, \"#fb9f3a\"], [0.8888888888888888, \"#fdca26\"], [1.0, \"#f0f921\"]], \"type\": \"surface\"}], \"table\": [{\"cells\": {\"fill\": {\"color\": \"#EBF0F8\"}, \"line\": {\"color\": \"white\"}}, \"header\": {\"fill\": {\"color\": \"#C8D4E3\"}, \"line\": {\"color\": \"white\"}}, \"type\": \"table\"}]}, \"layout\": {\"annotationdefaults\": {\"arrowcolor\": \"#2a3f5f\", \"arrowhead\": 0, \"arrowwidth\": 1}, \"autotypenumbers\": \"strict\", \"coloraxis\": {\"colorbar\": {\"outlinewidth\": 0, \"ticks\": \"\"}}, \"colorscale\": {\"diverging\": [[0, \"#8e0152\"], [0.1, \"#c51b7d\"], [0.2, \"#de77ae\"], [0.3, \"#f1b6da\"], [0.4, \"#fde0ef\"], [0.5, \"#f7f7f7\"], [0.6, \"#e6f5d0\"], [0.7, \"#b8e186\"], [0.8, \"#7fbc41\"], [0.9, \"#4d9221\"], [1, \"#276419\"]], \"sequential\": [[0.0, \"#0d0887\"], [0.1111111111111111, \"#46039f\"], [0.2222222222222222, \"#7201a8\"], [0.3333333333333333, \"#9c179e\"], [0.4444444444444444, \"#bd3786\"], [0.5555555555555556, \"#d8576b\"], [0.6666666666666666, \"#ed7953\"], [0.7777777777777778, \"#fb9f3a\"], [0.8888888888888888, \"#fdca26\"], [1.0, \"#f0f921\"]], \"sequentialminus\": [[0.0, \"#0d0887\"], [0.1111111111111111, \"#46039f\"], [0.2222222222222222, \"#7201a8\"], [0.3333333333333333, \"#9c179e\"], [0.4444444444444444, \"#bd3786\"], [0.5555555555555556, \"#d8576b\"], [0.6666666666666666, \"#ed7953\"], [0.7777777777777778, \"#fb9f3a\"], [0.8888888888888888, \"#fdca26\"], [1.0, \"#f0f921\"]]}, \"colorway\": [\"#636efa\", \"#EF553B\", \"#00cc96\", \"#ab63fa\", \"#FFA15A\", \"#19d3f3\", \"#FF6692\", \"#B6E880\", \"#FF97FF\", \"#FECB52\"], \"font\": {\"color\": \"#2a3f5f\"}, \"geo\": {\"bgcolor\": \"white\", \"lakecolor\": \"white\", \"landcolor\": \"#E5ECF6\", \"showlakes\": true, \"showland\": true, \"subunitcolor\": \"white\"}, \"hoverlabel\": {\"align\": \"left\"}, \"hovermode\": \"closest\", \"mapbox\": {\"style\": \"light\"}, \"paper_bgcolor\": \"white\", \"plot_bgcolor\": \"#E5ECF6\", \"polar\": {\"angularaxis\": {\"gridcolor\": \"white\", \"linecolor\": \"white\", \"ticks\": \"\"}, \"bgcolor\": \"#E5ECF6\", \"radialaxis\": {\"gridcolor\": \"white\", \"linecolor\": \"white\", \"ticks\": \"\"}}, \"scene\": {\"xaxis\": {\"backgroundcolor\": \"#E5ECF6\", \"gridcolor\": \"white\", \"gridwidth\": 2, \"linecolor\": \"white\", \"showbackground\": true, \"ticks\": \"\", \"zerolinecolor\": \"white\"}, \"yaxis\": {\"backgroundcolor\": \"#E5ECF6\", \"gridcolor\": \"white\", \"gridwidth\": 2, \"linecolor\": \"white\", \"showbackground\": true, \"ticks\": \"\", \"zerolinecolor\": \"white\"}, \"zaxis\": {\"backgroundcolor\": \"#E5ECF6\", \"gridcolor\": \"white\", \"gridwidth\": 2, \"linecolor\": \"white\", \"showbackground\": true, \"ticks\": \"\", \"zerolinecolor\": \"white\"}}, \"shapedefaults\": {\"line\": {\"color\": \"#2a3f5f\"}}, \"ternary\": {\"aaxis\": {\"gridcolor\": \"white\", \"linecolor\": \"white\", \"ticks\": \"\"}, \"baxis\": {\"gridcolor\": \"white\", \"linecolor\": \"white\", \"ticks\": \"\"}, \"bgcolor\": \"#E5ECF6\", \"caxis\": {\"gridcolor\": \"white\", \"linecolor\": \"white\", \"ticks\": \"\"}}, \"title\": {\"x\": 0.05}, \"xaxis\": {\"automargin\": true, \"gridcolor\": \"white\", \"linecolor\": \"white\", \"ticks\": \"\", \"title\": {\"standoff\": 15}, \"zerolinecolor\": \"white\", \"zerolinewidth\": 2}, \"yaxis\": {\"automargin\": true, \"gridcolor\": \"white\", \"linecolor\": \"white\", \"ticks\": \"\", \"title\": {\"standoff\": 15}, \"zerolinecolor\": \"white\", \"zerolinewidth\": 2}}}, \"title\": {\"text\": \"number_project\"}, \"yaxis\": {\"title\": {\"text\": \"Count\"}}, \"yaxis2\": {\"anchor\": \"x\", \"overlaying\": \"y\", \"range\": [0, 105], \"showgrid\": false, \"side\": \"right\", \"title\": {\"text\": \"% Left\"}, \"zeroline\": false}},                        {\"responsive\": true}                    ).then(function(){\n",
       "                            \n",
       "var gd = document.getElementById('ff60f5ee-9d57-48e0-9d5d-ad24a2041339');\n",
       "var x = new MutationObserver(function (mutations, observer) {{\n",
       "        var display = window.getComputedStyle(gd).display;\n",
       "        if (!display || display === 'none') {{\n",
       "            console.log([gd, 'removed!']);\n",
       "            Plotly.purge(gd);\n",
       "            observer.disconnect();\n",
       "        }}\n",
       "}});\n",
       "\n",
       "// Listen for the removal of the full notebook cells\n",
       "var notebookContainer = gd.closest('#notebook-container');\n",
       "if (notebookContainer) {{\n",
       "    x.observe(notebookContainer, {childList: true});\n",
       "}}\n",
       "\n",
       "// Listen for the clearing of the current output cell\n",
       "var outputEl = gd.closest('.output');\n",
       "if (outputEl) {{\n",
       "    x.observe(outputEl, {childList: true});\n",
       "}}\n",
       "\n",
       "                        })                };                });            </script>        </div>"
      ]
     },
     "metadata": {},
     "output_type": "display_data"
    }
   ],
   "source": [
    "# barplot('column')\n",
    "barplot('satisfaction_level')\n",
    "barplot('number_project')"
   ]
  },
  {
   "cell_type": "markdown",
   "metadata": {},
   "source": [
    "## 3. Building Model"
   ]
  },
  {
   "cell_type": "code",
   "execution_count": 14,
   "metadata": {},
   "outputs": [],
   "source": [
    "cat_data = hr.select_dtypes(include = 'object')\n",
    "tmp = list(cat_data)\n",
    "for i in range(len(tmp)):\n",
    "    hr = pd.get_dummies(hr, columns = [tmp[i]])"
   ]
  },
  {
   "cell_type": "code",
   "execution_count": 15,
   "metadata": {},
   "outputs": [
    {
     "data": {
      "text/html": [
       "<div>\n",
       "<style scoped>\n",
       "    .dataframe tbody tr th:only-of-type {\n",
       "        vertical-align: middle;\n",
       "    }\n",
       "\n",
       "    .dataframe tbody tr th {\n",
       "        vertical-align: top;\n",
       "    }\n",
       "\n",
       "    .dataframe thead th {\n",
       "        text-align: right;\n",
       "    }\n",
       "</style>\n",
       "<table border=\"1\" class=\"dataframe\">\n",
       "  <thead>\n",
       "    <tr style=\"text-align: right;\">\n",
       "      <th></th>\n",
       "      <th>satisfaction_level</th>\n",
       "      <th>last_evaluation</th>\n",
       "      <th>number_project</th>\n",
       "      <th>average_monthly_hours</th>\n",
       "      <th>time_spend_company</th>\n",
       "      <th>Work_accident</th>\n",
       "      <th>left</th>\n",
       "      <th>promotion_last_5years</th>\n",
       "      <th>department_IT</th>\n",
       "      <th>department_RandD</th>\n",
       "      <th>...</th>\n",
       "      <th>hoursbin_(120, 140]</th>\n",
       "      <th>hoursbin_(140, 160]</th>\n",
       "      <th>hoursbin_(160, 180]</th>\n",
       "      <th>hoursbin_(180, 200]</th>\n",
       "      <th>hoursbin_(200, 220]</th>\n",
       "      <th>hoursbin_(220, 240]</th>\n",
       "      <th>hoursbin_(240, 260]</th>\n",
       "      <th>hoursbin_(260, 280]</th>\n",
       "      <th>hoursbin_(280, 300]</th>\n",
       "      <th>hoursbin_(300, 320]</th>\n",
       "    </tr>\n",
       "  </thead>\n",
       "  <tbody>\n",
       "    <tr>\n",
       "      <th>0</th>\n",
       "      <td>0.38</td>\n",
       "      <td>0.53</td>\n",
       "      <td>2</td>\n",
       "      <td>157</td>\n",
       "      <td>3</td>\n",
       "      <td>0</td>\n",
       "      <td>1</td>\n",
       "      <td>0</td>\n",
       "      <td>0</td>\n",
       "      <td>0</td>\n",
       "      <td>...</td>\n",
       "      <td>0</td>\n",
       "      <td>1</td>\n",
       "      <td>0</td>\n",
       "      <td>0</td>\n",
       "      <td>0</td>\n",
       "      <td>0</td>\n",
       "      <td>0</td>\n",
       "      <td>0</td>\n",
       "      <td>0</td>\n",
       "      <td>0</td>\n",
       "    </tr>\n",
       "    <tr>\n",
       "      <th>1</th>\n",
       "      <td>0.80</td>\n",
       "      <td>0.86</td>\n",
       "      <td>5</td>\n",
       "      <td>262</td>\n",
       "      <td>6</td>\n",
       "      <td>0</td>\n",
       "      <td>1</td>\n",
       "      <td>0</td>\n",
       "      <td>0</td>\n",
       "      <td>0</td>\n",
       "      <td>...</td>\n",
       "      <td>0</td>\n",
       "      <td>0</td>\n",
       "      <td>0</td>\n",
       "      <td>0</td>\n",
       "      <td>0</td>\n",
       "      <td>0</td>\n",
       "      <td>0</td>\n",
       "      <td>1</td>\n",
       "      <td>0</td>\n",
       "      <td>0</td>\n",
       "    </tr>\n",
       "    <tr>\n",
       "      <th>2</th>\n",
       "      <td>0.11</td>\n",
       "      <td>0.88</td>\n",
       "      <td>7</td>\n",
       "      <td>272</td>\n",
       "      <td>4</td>\n",
       "      <td>0</td>\n",
       "      <td>1</td>\n",
       "      <td>0</td>\n",
       "      <td>0</td>\n",
       "      <td>0</td>\n",
       "      <td>...</td>\n",
       "      <td>0</td>\n",
       "      <td>0</td>\n",
       "      <td>0</td>\n",
       "      <td>0</td>\n",
       "      <td>0</td>\n",
       "      <td>0</td>\n",
       "      <td>0</td>\n",
       "      <td>1</td>\n",
       "      <td>0</td>\n",
       "      <td>0</td>\n",
       "    </tr>\n",
       "    <tr>\n",
       "      <th>3</th>\n",
       "      <td>0.72</td>\n",
       "      <td>0.87</td>\n",
       "      <td>5</td>\n",
       "      <td>223</td>\n",
       "      <td>5</td>\n",
       "      <td>0</td>\n",
       "      <td>1</td>\n",
       "      <td>0</td>\n",
       "      <td>0</td>\n",
       "      <td>0</td>\n",
       "      <td>...</td>\n",
       "      <td>0</td>\n",
       "      <td>0</td>\n",
       "      <td>0</td>\n",
       "      <td>0</td>\n",
       "      <td>0</td>\n",
       "      <td>1</td>\n",
       "      <td>0</td>\n",
       "      <td>0</td>\n",
       "      <td>0</td>\n",
       "      <td>0</td>\n",
       "    </tr>\n",
       "    <tr>\n",
       "      <th>4</th>\n",
       "      <td>0.37</td>\n",
       "      <td>0.52</td>\n",
       "      <td>2</td>\n",
       "      <td>159</td>\n",
       "      <td>3</td>\n",
       "      <td>0</td>\n",
       "      <td>1</td>\n",
       "      <td>0</td>\n",
       "      <td>0</td>\n",
       "      <td>0</td>\n",
       "      <td>...</td>\n",
       "      <td>0</td>\n",
       "      <td>1</td>\n",
       "      <td>0</td>\n",
       "      <td>0</td>\n",
       "      <td>0</td>\n",
       "      <td>0</td>\n",
       "      <td>0</td>\n",
       "      <td>0</td>\n",
       "      <td>0</td>\n",
       "      <td>0</td>\n",
       "    </tr>\n",
       "  </tbody>\n",
       "</table>\n",
       "<p>5 rows × 33 columns</p>\n",
       "</div>"
      ],
      "text/plain": [
       "   satisfaction_level  last_evaluation  number_project  average_monthly_hours  \\\n",
       "0                0.38             0.53               2                    157   \n",
       "1                0.80             0.86               5                    262   \n",
       "2                0.11             0.88               7                    272   \n",
       "3                0.72             0.87               5                    223   \n",
       "4                0.37             0.52               2                    159   \n",
       "\n",
       "   time_spend_company  Work_accident  left  promotion_last_5years  \\\n",
       "0                   3              0     1                      0   \n",
       "1                   6              0     1                      0   \n",
       "2                   4              0     1                      0   \n",
       "3                   5              0     1                      0   \n",
       "4                   3              0     1                      0   \n",
       "\n",
       "   department_IT  department_RandD  ...  hoursbin_(120, 140]  \\\n",
       "0              0                 0  ...                    0   \n",
       "1              0                 0  ...                    0   \n",
       "2              0                 0  ...                    0   \n",
       "3              0                 0  ...                    0   \n",
       "4              0                 0  ...                    0   \n",
       "\n",
       "   hoursbin_(140, 160]  hoursbin_(160, 180]  hoursbin_(180, 200]  \\\n",
       "0                    1                    0                    0   \n",
       "1                    0                    0                    0   \n",
       "2                    0                    0                    0   \n",
       "3                    0                    0                    0   \n",
       "4                    1                    0                    0   \n",
       "\n",
       "   hoursbin_(200, 220]  hoursbin_(220, 240]  hoursbin_(240, 260]  \\\n",
       "0                    0                    0                    0   \n",
       "1                    0                    0                    0   \n",
       "2                    0                    0                    0   \n",
       "3                    0                    1                    0   \n",
       "4                    0                    0                    0   \n",
       "\n",
       "   hoursbin_(260, 280]  hoursbin_(280, 300]  hoursbin_(300, 320]  \n",
       "0                    0                    0                    0  \n",
       "1                    1                    0                    0  \n",
       "2                    1                    0                    0  \n",
       "3                    0                    0                    0  \n",
       "4                    0                    0                    0  \n",
       "\n",
       "[5 rows x 33 columns]"
      ]
     },
     "execution_count": 15,
     "metadata": {},
     "output_type": "execute_result"
    }
   ],
   "source": [
    "hr.head()"
   ]
  },
  {
   "cell_type": "code",
   "execution_count": 16,
   "metadata": {},
   "outputs": [],
   "source": [
    "from sklearn.model_selection import train_test_split\n",
    "train, test = train_test_split(hr, test_size = 0.2)"
   ]
  },
  {
   "cell_type": "code",
   "execution_count": 17,
   "metadata": {},
   "outputs": [
    {
     "name": "stdout",
     "output_type": "stream",
     "text": [
      "KNN\n",
      "acc: 0.955\n",
      "recall: 0.9471544715447154\n",
      "f1: 0.9119373776908023\n"
     ]
    }
   ],
   "source": [
    "#KNN\n",
    "from sklearn.neighbors import KNeighborsClassifier as KNN\n",
    "from sklearn.metrics import accuracy_score, recall_score, f1_score\n",
    "\n",
    "X_train = train.drop(\"left\", axis = 1, inplace = False)\n",
    "Y_train = train['left']\n",
    "X_test = test.drop(\"left\", axis = 1, inplace = False)\n",
    "Y_test = test['left']\n",
    "\n",
    "model = KNN(n_neighbors = 3, algorithm = 'auto', weights = 'distance')\n",
    "model.fit(X_train,Y_train)\n",
    "\n",
    "y_pred = model.predict(X_test)\n",
    "\n",
    "print('KNN')\n",
    "print('acc:',accuracy_score(Y_test,y_pred))\n",
    "print('recall:',recall_score(Y_test,y_pred))\n",
    "print('f1:',f1_score(Y_test,y_pred))"
   ]
  },
  {
   "cell_type": "code",
   "execution_count": 18,
   "metadata": {},
   "outputs": [
    {
     "name": "stdout",
     "output_type": "stream",
     "text": [
      "Logistic Regression\n",
      "acc: 0.8026666666666666\n",
      "recall: 0.8631436314363143\n",
      "f1: 0.682743837084673\n"
     ]
    },
    {
     "name": "stderr",
     "output_type": "stream",
     "text": [
      "D:\\anaconda\\lib\\site-packages\\sklearn\\linear_model\\logistic.py:433: FutureWarning:\n",
      "\n",
      "Default solver will be changed to 'lbfgs' in 0.22. Specify a solver to silence this warning.\n",
      "\n"
     ]
    }
   ],
   "source": [
    "#Logistic\n",
    "from sklearn.linear_model import LogisticRegression\n",
    "\n",
    "model = LogisticRegression(C = 100, class_weight = 'balanced', max_iter = 1000)\n",
    "model.fit(X_train,Y_train)\n",
    "\n",
    "y_score = model.predict_proba(X_test)[:,1]\n",
    "y_pred = model.predict(X_test)\n",
    "\n",
    "print('Logistic Regression')\n",
    "print('acc:',accuracy_score(Y_test,y_pred))\n",
    "print('recall:',recall_score(Y_test,y_pred))\n",
    "print('f1:',f1_score(Y_test,y_pred))"
   ]
  },
  {
   "cell_type": "code",
   "execution_count": 19,
   "metadata": {},
   "outputs": [],
   "source": [
    "from sklearn.metrics import roc_auc_score, roc_curve\n",
    "\n",
    "def roccurve():\n",
    "    model_roc_auc = round(roc_auc_score(Y_test, y_score),3)\n",
    "    fpr, tpr, t = roc_curve(Y_test, y_score)\n",
    "    trace4 = go.Scatter(x = fpr, y = tpr,\n",
    "                       name = 'Roc:',\n",
    "                       line = dict(color = ('rgb(22,96,167)'),width=2), fill='tozeroy')\n",
    "    trace5 = go.Scatter(x = [0,1],y = [0,1],\n",
    "                       line = dict(color = ('black'),width = 1.5,\n",
    "                                  dash = 'dot'))\n",
    "    layout = go.Layout(title=str(\"ROC Curve\" + \" \" + '(' + str(model_roc_auc) + ')'),\n",
    "                      xaxis = dict(title = 'false positive rate'),\n",
    "                      yaxis = dict(title = 'true positive rate'))\n",
    "    fig = go.Figure(data = [trace4, trace5], layout = layout)\n",
    "    py.iplot(fig)"
   ]
  },
  {
   "cell_type": "code",
   "execution_count": 20,
   "metadata": {
    "scrolled": true
   },
   "outputs": [
    {
     "data": {
      "application/vnd.plotly.v1+json": {
       "config": {
        "linkText": "Export to plot.ly",
        "plotlyServerURL": "https://plot.ly",
        "showLink": false
       },
       "data": [
        {
         "fill": "tozeroy",
         "line": {
          "color": "rgb(22,96,167)",
          "width": 2
         },
         "name": "Roc:",
         "type": "scatter",
         "x": [
          0,
          0,
          0,
          0,
          0,
          0,
          0,
          0,
          0,
          0,
          0,
          0.0004420866489832007,
          0.001326259946949602,
          0.003978779840848806,
          0.004862953138815208,
          0.005747126436781609,
          0.005747126436781609,
          0.00618921308576481,
          0.00618921308576481,
          0.007073386383731211,
          0.007073386383731211,
          0.007515473032714412,
          0.007515473032714412,
          0.007515473032714412,
          0.007957559681697613,
          0.007957559681697613,
          0.008841732979664015,
          0.008841732979664015,
          0.009725906277630416,
          0.009725906277630416,
          0.010167992926613616,
          0.010167992926613616,
          0.010167992926613616,
          0.010610079575596816,
          0.010610079575596816,
          0.011052166224580018,
          0.011052166224580018,
          0.011494252873563218,
          0.011494252873563218,
          0.011936339522546418,
          0.011936339522546418,
          0.01237842617152962,
          0.01237842617152962,
          0.01282051282051282,
          0.01282051282051282,
          0.014588859416445624,
          0.014588859416445624,
          0.014588859416445624,
          0.015030946065428824,
          0.015030946065428824,
          0.015915119363395226,
          0.015915119363395226,
          0.016357206012378427,
          0.016357206012378427,
          0.016799292661361626,
          0.016799292661361626,
          0.018125552608311227,
          0.018125552608311227,
          0.01856763925729443,
          0.01856763925729443,
          0.01856763925729443,
          0.01856763925729443,
          0.01856763925729443,
          0.01900972590627763,
          0.01900972590627763,
          0.019451812555260833,
          0.019451812555260833,
          0.020335985853227233,
          0.020335985853227233,
          0.020778072502210435,
          0.020778072502210435,
          0.021662245800176835,
          0.021662245800176835,
          0.022104332449160036,
          0.022104332449160036,
          0.022546419098143235,
          0.022546419098143235,
          0.022546419098143235,
          0.022546419098143235,
          0.023430592396109638,
          0.023430592396109638,
          0.023872679045092837,
          0.023872679045092837,
          0.02475685234305924,
          0.02475685234305924,
          0.025198938992042442,
          0.025198938992042442,
          0.025198938992042442,
          0.02564102564102564,
          0.02564102564102564,
          0.026083112290008842,
          0.026083112290008842,
          0.026083112290008842,
          0.026083112290008842,
          0.026083112290008842,
          0.026083112290008842,
          0.026525198938992044,
          0.026525198938992044,
          0.026967285587975242,
          0.026967285587975242,
          0.026967285587975242,
          0.028735632183908046,
          0.028735632183908046,
          0.02961980548187445,
          0.02961980548187445,
          0.030061892130857647,
          0.030061892130857647,
          0.030061892130857647,
          0.030061892130857647,
          0.03050397877984085,
          0.03050397877984085,
          0.03094606542882405,
          0.03094606542882405,
          0.03138815207780725,
          0.03138815207780725,
          0.03138815207780725,
          0.03227232537577365,
          0.03227232537577365,
          0.032714412024756855,
          0.032714412024756855,
          0.03359858532272325,
          0.034482758620689655,
          0.034482758620689655,
          0.034924845269672856,
          0.034924845269672856,
          0.034924845269672856,
          0.034924845269672856,
          0.03536693191865606,
          0.03536693191865606,
          0.03580901856763926,
          0.03580901856763926,
          0.03669319186560566,
          0.03669319186560566,
          0.03713527851458886,
          0.03713527851458886,
          0.03713527851458886,
          0.03757736516357206,
          0.03757736516357206,
          0.03801945181255526,
          0.03801945181255526,
          0.040229885057471264,
          0.040229885057471264,
          0.040671971706454466,
          0.040671971706454466,
          0.04111405835543767,
          0.04111405835543767,
          0.04155614500442087,
          0.04155614500442087,
          0.042440318302387266,
          0.042440318302387266,
          0.04332449160035367,
          0.04332449160035367,
          0.04376657824933687,
          0.04376657824933687,
          0.044650751547303275,
          0.04509283819628647,
          0.04509283819628647,
          0.04553492484526967,
          0.04553492484526967,
          0.04597701149425287,
          0.04597701149425287,
          0.046419098143236075,
          0.046419098143236075,
          0.046861184792219276,
          0.046861184792219276,
          0.04730327144120248,
          0.04730327144120248,
          0.04774535809018567,
          0.04774535809018567,
          0.04774535809018567,
          0.04774535809018567,
          0.04774535809018567,
          0.048187444739168875,
          0.048187444739168875,
          0.04862953138815208,
          0.04862953138815208,
          0.04951370468611848,
          0.04951370468611848,
          0.04995579133510168,
          0.04995579133510168,
          0.04995579133510168,
          0.050397877984084884,
          0.050397877984084884,
          0.05083996463306808,
          0.05083996463306808,
          0.05083996463306808,
          0.05128205128205128,
          0.05128205128205128,
          0.05128205128205128,
          0.05172413793103448,
          0.05172413793103448,
          0.052608311229000886,
          0.052608311229000886,
          0.05349248452696728,
          0.05349248452696728,
          0.05349248452696728,
          0.05349248452696728,
          0.053934571175950484,
          0.053934571175950484,
          0.05481874447391689,
          0.05481874447391689,
          0.05526083112290009,
          0.05526083112290009,
          0.05614500442086649,
          0.05614500442086649,
          0.05614500442086649,
          0.05658709106984969,
          0.05658709106984969,
          0.05658709106984969,
          0.05702917771883289,
          0.05702917771883289,
          0.05747126436781609,
          0.05747126436781609,
          0.05747126436781609,
          0.05747126436781609,
          0.05747126436781609,
          0.05747126436781609,
          0.05791335101679929,
          0.05791335101679929,
          0.058355437665782495,
          0.058355437665782495,
          0.058797524314765696,
          0.058797524314765696,
          0.058797524314765696,
          0.0592396109637489,
          0.0592396109637489,
          0.0592396109637489,
          0.05968169761273209,
          0.05968169761273209,
          0.05968169761273209,
          0.0605658709106985,
          0.0605658709106985,
          0.0610079575596817,
          0.0610079575596817,
          0.0610079575596817,
          0.0614500442086649,
          0.0614500442086649,
          0.0614500442086649,
          0.0618921308576481,
          0.0618921308576481,
          0.0623342175066313,
          0.0623342175066313,
          0.0627763041556145,
          0.0627763041556145,
          0.0627763041556145,
          0.06321839080459771,
          0.06321839080459771,
          0.06321839080459771,
          0.06321839080459771,
          0.0645446507515473,
          0.0645446507515473,
          0.0649867374005305,
          0.0649867374005305,
          0.06542882404951371,
          0.06542882404951371,
          0.06542882404951371,
          0.06542882404951371,
          0.06631299734748011,
          0.06631299734748011,
          0.06763925729442971,
          0.06763925729442971,
          0.06763925729442971,
          0.0680813439434129,
          0.0680813439434129,
          0.06896551724137931,
          0.06896551724137931,
          0.06984969053934571,
          0.06984969053934571,
          0.07073386383731212,
          0.07073386383731212,
          0.07117595048629531,
          0.07117595048629531,
          0.07206012378426171,
          0.07206012378426171,
          0.07338638373121131,
          0.07338638373121131,
          0.07338638373121131,
          0.07338638373121131,
          0.07427055702917772,
          0.07427055702917772,
          0.07471264367816093,
          0.07471264367816093,
          0.07603890362511052,
          0.07603890362511052,
          0.07648099027409372,
          0.07648099027409372,
          0.07692307692307693,
          0.07692307692307693,
          0.07692307692307693,
          0.07692307692307693,
          0.07736516357206012,
          0.07736516357206012,
          0.07824933687002653,
          0.07824933687002653,
          0.07824933687002653,
          0.07913351016799293,
          0.07913351016799293,
          0.08090185676392574,
          0.08090185676392574,
          0.08134394341290893,
          0.08134394341290893,
          0.08178603006189213,
          0.08178603006189213,
          0.08178603006189213,
          0.08178603006189213,
          0.08222811671087533,
          0.08222811671087533,
          0.08267020335985853,
          0.08267020335985853,
          0.08443854995579134,
          0.08443854995579134,
          0.08443854995579134,
          0.08443854995579134,
          0.08532272325375774,
          0.08532272325375774,
          0.08532272325375774,
          0.08532272325375774,
          0.08620689655172414,
          0.08620689655172414,
          0.08885941644562334,
          0.08974358974358974,
          0.08974358974358974,
          0.08974358974358974,
          0.08974358974358974,
          0.09018567639257294,
          0.09018567639257294,
          0.09062776304155615,
          0.09062776304155615,
          0.09062776304155615,
          0.09106984969053934,
          0.09106984969053934,
          0.09151193633952255,
          0.09151193633952255,
          0.09195402298850575,
          0.09195402298850575,
          0.09239610963748895,
          0.09239610963748895,
          0.09283819628647215,
          0.09283819628647215,
          0.09372236958443855,
          0.09372236958443855,
          0.09416445623342175,
          0.09416445623342175,
          0.09416445623342175,
          0.09504862953138815,
          0.09504862953138815,
          0.09504862953138815,
          0.09549071618037135,
          0.09549071618037135,
          0.09593280282935455,
          0.09593280282935455,
          0.09637488947833775,
          0.09637488947833775,
          0.09637488947833775,
          0.09637488947833775,
          0.09858532272325375,
          0.09858532272325375,
          0.10035366931918656,
          0.10035366931918656,
          0.10123784261715296,
          0.10167992926613616,
          0.10167992926613616,
          0.10167992926613616,
          0.10167992926613616,
          0.10344827586206896,
          0.10344827586206896,
          0.10389036251105217,
          0.10389036251105217,
          0.10433244916003537,
          0.10433244916003537,
          0.10433244916003537,
          0.10610079575596817,
          0.10610079575596817,
          0.10610079575596817,
          0.10698496905393456,
          0.10698496905393456,
          0.10786914235190097,
          0.10786914235190097,
          0.10786914235190097,
          0.10831122900088418,
          0.10831122900088418,
          0.10831122900088418,
          0.10831122900088418,
          0.11140583554376658,
          0.11140583554376658,
          0.11229000884173299,
          0.11229000884173299,
          0.11229000884173299,
          0.11361626878868258,
          0.11361626878868258,
          0.11405835543766578,
          0.11405835543766578,
          0.11405835543766578,
          0.11538461538461539,
          0.11538461538461539,
          0.11538461538461539,
          0.11582670203359859,
          0.11582670203359859,
          0.11582670203359859,
          0.11759504862953139,
          0.11759504862953139,
          0.11803713527851459,
          0.11803713527851459,
          0.1184792219274978,
          0.1184792219274978,
          0.11892130857648099,
          0.11892130857648099,
          0.11936339522546419,
          0.12024756852343059,
          0.12157382847038019,
          0.12157382847038019,
          0.12245800176834659,
          0.12245800176834659,
          0.123342175066313,
          0.123342175066313,
          0.1246684350132626,
          0.1246684350132626,
          0.125552608311229,
          0.125552608311229,
          0.1259946949602122,
          0.1259946949602122,
          0.1268788682581786,
          0.1268788682581786,
          0.1273209549071618,
          0.1273209549071618,
          0.127763041556145,
          0.127763041556145,
          0.1290893015030946,
          0.1290893015030946,
          0.1304155614500442,
          0.1304155614500442,
          0.13085764809902742,
          0.13085764809902742,
          0.13218390804597702,
          0.13218390804597702,
          0.13262599469496023,
          0.13262599469496023,
          0.13704686118479223,
          0.13704686118479223,
          0.1374889478337754,
          0.1374889478337754,
          0.138815207780725,
          0.138815207780725,
          0.13925729442970822,
          0.13925729442970822,
          0.14146772767462423,
          0.14146772767462423,
          0.14279398762157383,
          0.14279398762157383,
          0.14412024756852343,
          0.14412024756852343,
          0.14500442086648982,
          0.14500442086648982,
          0.14544650751547303,
          0.14544650751547303,
          0.14633068081343945,
          0.14721485411140584,
          0.14809902740937222,
          0.14809902740937222,
          0.14854111405835543,
          0.14854111405835543,
          0.14898320070733864,
          0.14898320070733864,
          0.14986737400530503,
          0.15075154730327145,
          0.15119363395225463,
          0.15119363395225463,
          0.15207780725022105,
          0.15207780725022105,
          0.15251989389920426,
          0.15251989389920426,
          0.15251989389920426,
          0.15384615384615385,
          0.15384615384615385,
          0.15473032714412024,
          0.15473032714412024,
          0.15473032714412024,
          0.15561450044208666,
          0.15561450044208666,
          0.15870910698496907,
          0.15870910698496907,
          0.15915119363395225,
          0.15915119363395225,
          0.16003536693191867,
          0.16003536693191867,
          0.16003536693191867,
          0.16136162687886826,
          0.16136162687886826,
          0.16136162687886826,
          0.16312997347480107,
          0.16312997347480107,
          0.16357206012378425,
          0.16357206012378425,
          0.16489832007073385,
          0.16489832007073385,
          0.16578249336870027,
          0.16578249336870027,
          0.16666666666666666,
          0.16666666666666666,
          0.16710875331564987,
          0.16710875331564987,
          0.16931918656056588,
          0.16931918656056588,
          0.17285587975243147,
          0.17285587975243147,
          0.17418213969938107,
          0.17418213969938107,
          0.1755083996463307,
          0.1755083996463307,
          0.1799292661361627,
          0.1799292661361627,
          0.1808134394341291,
          0.1808134394341291,
          0.1825817860300619,
          0.1825817860300619,
          0.1830238726790451,
          0.1830238726790451,
          0.1839080459770115,
          0.1839080459770115,
          0.1852343059239611,
          0.1852343059239611,
          0.1852343059239611,
          0.1861184792219275,
          0.1861184792219275,
          0.1874447391688771,
          0.1874447391688771,
          0.1887709991158267,
          0.1887709991158267,
          0.1905393457117595,
          0.1905393457117595,
          0.1914235190097259,
          0.1914235190097259,
          0.1918656056587091,
          0.1918656056587091,
          0.1940760389036251,
          0.1940760389036251,
          0.1962864721485411,
          0.1962864721485411,
          0.19849690539345713,
          0.19849690539345713,
          0.19982316534040673,
          0.19982316534040673,
          0.20380194518125552,
          0.20380194518125552,
          0.20557029177718833,
          0.20557029177718833,
          0.20645446507515472,
          0.20645446507515472,
          0.20689655172413793,
          0.20689655172413793,
          0.20778072502210435,
          0.20778072502210435,
          0.20866489832007074,
          0.20866489832007074,
          0.20954907161803712,
          0.20954907161803712,
          0.20999115826702033,
          0.20999115826702033,
          0.21175950486295314,
          0.21175950486295314,
          0.21264367816091953,
          0.21264367816091953,
          0.21396993810786913,
          0.21396993810786913,
          0.21529619805481875,
          0.21529619805481875,
          0.21750663129973474,
          0.21750663129973474,
          0.21927497789566755,
          0.21927497789566755,
          0.21971706454465076,
          0.22060123784261715,
          0.22148541114058357,
          0.22148541114058357,
          0.22413793103448276,
          0.22413793103448276,
          0.22546419098143236,
          0.22546419098143236,
          0.22767462422634838,
          0.22767462422634838,
          0.22811671087533156,
          0.22811671087533156,
          0.22855879752431477,
          0.22855879752431477,
          0.23076923076923078,
          0.23076923076923078,
          0.23076923076923078,
          0.2369584438549956,
          0.2369584438549956,
          0.23784261715296198,
          0.23784261715296198,
          0.23872679045092837,
          0.23872679045092837,
          0.2396109637488948,
          0.2396109637488948,
          0.2413793103448276,
          0.242263483642794,
          0.242263483642794,
          0.24314765694076038,
          0.24314765694076038,
          0.2475685234305924,
          0.2475685234305924,
          0.2480106100795756,
          0.2480106100795756,
          0.2502210433244916,
          0.251105216622458,
          0.251105216622458,
          0.2524314765694076,
          0.2524314765694076,
          0.2550839964633068,
          0.2550839964633068,
          0.25596816976127323,
          0.2568523430592396,
          0.2581786030061892,
          0.2581786030061892,
          0.25906277630415564,
          0.25906277630415564,
          0.2595048629531388,
          0.2595048629531388,
          0.2661361626878868,
          0.2661361626878868,
          0.2696728558797524,
          0.2696728558797524,
          0.2723253757736516,
          0.2723253757736516,
          0.28116710875331563,
          0.28116710875331563,
          0.2838196286472148,
          0.2838196286472148,
          0.2891246684350133,
          0.29000884173297964,
          0.2926613616268789,
          0.2926613616268789,
          0.29929266136162685,
          0.29929266136162685,
          0.3001768346595933,
          0.3010610079575597,
          0.3019451812555261,
          0.3032714412024757,
          0.3032714412024757,
          0.3112290008841733,
          0.3112290008841733,
          0.3116710875331565,
          0.3116710875331565,
          0.3129973474801061,
          0.3129973474801061,
          0.3187444739168877,
          0.3187444739168877,
          0.3196286472148541,
          0.3196286472148541,
          0.3196286472148541,
          0.3249336870026525,
          0.32581786030061893,
          0.33510167992926615,
          0.3359858532272325,
          0.33687002652519893,
          0.33775419982316535,
          0.33819628647214856,
          0.33819628647214856,
          0.3505747126436782,
          0.3505747126436782,
          0.35587975243147657,
          0.35587975243147657,
          0.36427939876215737,
          0.3651635720601238,
          0.3673740053050398,
          0.3673740053050398,
          0.3687002652519894,
          0.3687002652519894,
          0.3740053050397878,
          0.3740053050397878,
          0.3762157382847038,
          0.3762157382847038,
          0.3775419982316534,
          0.3775419982316534,
          0.38992042440318303,
          0.38992042440318303,
          0.3925729442970822,
          0.3925729442970822,
          0.3947833775419982,
          0.3947833775419982,
          0.40583554376657827,
          0.40583554376657827,
          0.41954022988505746,
          0.41954022988505746,
          0.4270557029177719,
          0.42793987621573826,
          0.42838196286472147,
          0.42838196286472147,
          0.4292661361626879,
          0.4292661361626879,
          0.4451812555260831,
          0.44606542882404954,
          0.45490716180371354,
          0.45490716180371354,
          0.46109637488947836,
          0.4619805481874447,
          0.47214854111405835,
          0.47214854111405835,
          0.47789566755083995,
          0.47789566755083995,
          0.4792219274977896,
          0.48010610079575594,
          0.4849690539345712,
          0.4858532272325376,
          0.4946949602122016,
          0.4946949602122016,
          0.4982316534040672,
          0.4982316534040672,
          0.4995579133510168,
          0.5004420866489832,
          0.5013262599469496,
          0.5013262599469496,
          0.5075154730327144,
          0.5083996463306808,
          0.5137046861184792,
          0.5137046861184792,
          0.5278514588859416,
          0.5278514588859416,
          0.5459770114942529,
          0.5459770114942529,
          0.5592396109637489,
          0.5592396109637489,
          0.5623342175066313,
          0.5623342175066313,
          0.5729442970822282,
          0.5729442970822282,
          0.5751547303271441,
          0.5760389036251106,
          0.5786914235190097,
          0.5795755968169761,
          0.5928381962864722,
          0.5928381962864722,
          0.5963748894783377,
          0.5963748894783377,
          0.6038903625110522,
          0.6047745358090185,
          0.6096374889478338,
          0.6096374889478338,
          0.6335101679929266,
          0.634394341290893,
          0.6374889478337754,
          0.6374889478337754,
          0.6414677276746242,
          0.6423519009725907,
          0.6666666666666666,
          0.6666666666666666,
          0.6724137931034483,
          0.6724137931034483,
          0.6755083996463307,
          0.6755083996463307,
          0.6825817860300619,
          0.6825817860300619,
          0.6878868258178603,
          0.6878868258178603,
          0.6954022988505747,
          0.6954022988505747,
          0.7011494252873564,
          0.7011494252873564,
          0.7020335985853228,
          0.7029177718832891,
          0.7086648983200707,
          0.7095490716180372,
          0.7099911582670203,
          0.7099911582670203,
          0.7161803713527851,
          0.7161803713527851,
          0.7170645446507515,
          0.717948717948718,
          0.7219274977895668,
          0.7219274977895668,
          0.7387267904509284,
          0.7396109637488948,
          0.764367816091954,
          0.7652519893899205,
          0.7670203359858532,
          0.7679045092838196,
          0.7855879752431476,
          0.786472148541114,
          0.8059239610963749,
          0.8068081343943413,
          0.8152077807250221,
          0.8160919540229885,
          0.8333333333333334,
          0.8342175066312998,
          0.8386383731211318,
          0.8395225464190982,
          0.850132625994695,
          0.8510167992926614,
          0.8572060123784262,
          0.8580901856763926,
          0.8748894783377542,
          0.8757736516357206,
          0.8775419982316534,
          0.8784261715296198,
          0.8797524314765695,
          0.8797524314765695,
          0.9098143236074271,
          0.9098143236074271,
          0.9398762157382847,
          0.9407603890362511,
          1
         ],
         "y": [
          0,
          0.0013550135501355014,
          0.005420054200542005,
          0.008130081300813009,
          0.009485094850948509,
          0.02032520325203252,
          0.02168021680216802,
          0.02710027100271003,
          0.028455284552845527,
          0.03116531165311653,
          0.04065040650406504,
          0.04065040650406504,
          0.04065040650406504,
          0.04065040650406504,
          0.04065040650406504,
          0.04065040650406504,
          0.044715447154471545,
          0.044715447154471545,
          0.04742547425474255,
          0.04742547425474255,
          0.04878048780487805,
          0.04878048780487805,
          0.052845528455284556,
          0.05420054200542006,
          0.05420054200542006,
          0.056910569105691054,
          0.056910569105691054,
          0.058265582655826556,
          0.058265582655826556,
          0.06233062330623306,
          0.06233062330623306,
          0.06639566395663957,
          0.06910569105691057,
          0.06910569105691057,
          0.07046070460704607,
          0.07046070460704607,
          0.07452574525745258,
          0.07452574525745258,
          0.07588075880758807,
          0.07588075880758807,
          0.07859078590785908,
          0.07859078590785908,
          0.07994579945799458,
          0.07994579945799458,
          0.08265582655826559,
          0.08265582655826559,
          0.08807588075880758,
          0.08943089430894309,
          0.08943089430894309,
          0.09078590785907859,
          0.09078590785907859,
          0.09349593495934959,
          0.09349593495934959,
          0.0975609756097561,
          0.0975609756097561,
          0.1002710027100271,
          0.1002710027100271,
          0.1016260162601626,
          0.1016260162601626,
          0.1043360433604336,
          0.10840108401084012,
          0.10975609756097561,
          0.11246612466124661,
          0.11246612466124661,
          0.11517615176151762,
          0.11517615176151762,
          0.11653116531165311,
          0.11653116531165311,
          0.11788617886178862,
          0.11788617886178862,
          0.12059620596205962,
          0.12059620596205962,
          0.12195121951219512,
          0.12195121951219512,
          0.12466124661246612,
          0.12466124661246612,
          0.12601626016260162,
          0.12872628726287264,
          0.13008130081300814,
          0.13008130081300814,
          0.13143631436314362,
          0.13143631436314362,
          0.13279132791327913,
          0.13279132791327913,
          0.13550135501355012,
          0.13550135501355012,
          0.14363143631436315,
          0.14634146341463414,
          0.14634146341463414,
          0.14769647696476965,
          0.14769647696476965,
          0.15040650406504066,
          0.15311653116531165,
          0.15447154471544716,
          0.15718157181571815,
          0.15853658536585366,
          0.15853658536585366,
          0.15989159891598917,
          0.15989159891598917,
          0.16260162601626016,
          0.16395663956639567,
          0.16395663956639567,
          0.16802168021680217,
          0.16802168021680217,
          0.17073170731707318,
          0.17073170731707318,
          0.17208672086720866,
          0.17479674796747968,
          0.17615176151761516,
          0.17615176151761516,
          0.18157181571815717,
          0.18157181571815717,
          0.18834688346883469,
          0.18834688346883469,
          0.19241192411924118,
          0.1937669376693767,
          0.1937669376693767,
          0.1978319783197832,
          0.1978319783197832,
          0.1991869918699187,
          0.1991869918699187,
          0.1991869918699187,
          0.2005420054200542,
          0.2005420054200542,
          0.2032520325203252,
          0.20596205962059622,
          0.2086720867208672,
          0.2086720867208672,
          0.21002710027100271,
          0.21002710027100271,
          0.21138211382113822,
          0.21138211382113822,
          0.21680216802168023,
          0.21680216802168023,
          0.21951219512195122,
          0.22086720867208673,
          0.22086720867208673,
          0.2222222222222222,
          0.2222222222222222,
          0.22357723577235772,
          0.22357723577235772,
          0.22764227642276422,
          0.22764227642276422,
          0.23035230352303523,
          0.23035230352303523,
          0.23170731707317074,
          0.23170731707317074,
          0.23306233062330622,
          0.23306233062330622,
          0.23441734417344173,
          0.23441734417344173,
          0.24119241192411925,
          0.24119241192411925,
          0.24390243902439024,
          0.24390243902439024,
          0.24390243902439024,
          0.24525745257452575,
          0.24525745257452575,
          0.24932249322493225,
          0.24932249322493225,
          0.25203252032520324,
          0.25203252032520324,
          0.2588075880758808,
          0.2588075880758808,
          0.26151761517615174,
          0.26151761517615174,
          0.2669376693766938,
          0.2669376693766938,
          0.2682926829268293,
          0.27100271002710025,
          0.27235772357723576,
          0.2750677506775068,
          0.2750677506775068,
          0.2804878048780488,
          0.2804878048780488,
          0.2859078590785908,
          0.2859078590785908,
          0.2872628726287263,
          0.2872628726287263,
          0.2886178861788618,
          0.29132791327913277,
          0.29132791327913277,
          0.2940379403794038,
          0.2940379403794038,
          0.3035230352303523,
          0.3062330623306233,
          0.3062330623306233,
          0.3157181571815718,
          0.31842818428184283,
          0.31842818428184283,
          0.31978319783197834,
          0.31978319783197834,
          0.3224932249322493,
          0.3224932249322493,
          0.3252032520325203,
          0.33062330623306235,
          0.3333333333333333,
          0.3333333333333333,
          0.33875338753387535,
          0.33875338753387535,
          0.34146341463414637,
          0.34146341463414637,
          0.34552845528455284,
          0.34552845528455284,
          0.34688346883468835,
          0.34959349593495936,
          0.34959349593495936,
          0.35501355013550134,
          0.35636856368563685,
          0.35636856368563685,
          0.35772357723577236,
          0.35772357723577236,
          0.3617886178861789,
          0.36449864498644985,
          0.36585365853658536,
          0.3699186991869919,
          0.37262872628726285,
          0.37262872628726285,
          0.3875338753387534,
          0.3875338753387534,
          0.3915989159891599,
          0.3915989159891599,
          0.39295392953929537,
          0.3956639566395664,
          0.3956639566395664,
          0.3970189701897019,
          0.4010840108401084,
          0.4010840108401084,
          0.4024390243902439,
          0.4051490514905149,
          0.4051490514905149,
          0.4078590785907859,
          0.4078590785907859,
          0.4105691056910569,
          0.4132791327913279,
          0.4132791327913279,
          0.4146341463414634,
          0.4173441734417344,
          0.4173441734417344,
          0.42140921409214094,
          0.42140921409214094,
          0.42276422764227645,
          0.42276422764227645,
          0.42953929539295393,
          0.43224932249322495,
          0.43224932249322495,
          0.43902439024390244,
          0.44173441734417346,
          0.44308943089430897,
          0.44308943089430897,
          0.4444444444444444,
          0.4444444444444444,
          0.44579945799457993,
          0.44579945799457993,
          0.44850948509485095,
          0.45121951219512196,
          0.45257452574525747,
          0.45257452574525747,
          0.453929539295393,
          0.453929539295393,
          0.45528455284552843,
          0.45799457994579945,
          0.45799457994579945,
          0.4634146341463415,
          0.4634146341463415,
          0.46747967479674796,
          0.46747967479674796,
          0.46883468834688347,
          0.46883468834688347,
          0.470189701897019,
          0.470189701897019,
          0.4715447154471545,
          0.4715447154471545,
          0.4742547425474255,
          0.4742547425474255,
          0.47831978319783197,
          0.481029810298103,
          0.4823848238482385,
          0.4823848238482385,
          0.489159891598916,
          0.489159891598916,
          0.4905149051490515,
          0.4905149051490515,
          0.4959349593495935,
          0.4959349593495935,
          0.5013550135501355,
          0.5013550135501355,
          0.5040650406504065,
          0.5067750677506775,
          0.510840108401084,
          0.510840108401084,
          0.513550135501355,
          0.513550135501355,
          0.516260162601626,
          0.5203252032520326,
          0.5203252032520326,
          0.521680216802168,
          0.521680216802168,
          0.5230352303523035,
          0.5230352303523035,
          0.5257452574525745,
          0.5257452574525745,
          0.5284552845528455,
          0.532520325203252,
          0.535230352303523,
          0.535230352303523,
          0.5365853658536586,
          0.5365853658536586,
          0.540650406504065,
          0.540650406504065,
          0.5447154471544715,
          0.5474254742547425,
          0.5487804878048781,
          0.5487804878048781,
          0.5501355013550135,
          0.5528455284552846,
          0.559620596205962,
          0.559620596205962,
          0.5609756097560976,
          0.5609756097560976,
          0.5609756097560976,
          0.5663956639566395,
          0.5691056910569106,
          0.573170731707317,
          0.573170731707317,
          0.5785907859078591,
          0.5785907859078591,
          0.5813008130081301,
          0.5826558265582655,
          0.5826558265582655,
          0.5853658536585366,
          0.5853658536585366,
          0.5867208672086721,
          0.5867208672086721,
          0.5907859078590786,
          0.5907859078590786,
          0.5934959349593496,
          0.5934959349593496,
          0.5948509485094851,
          0.5948509485094851,
          0.5962059620596206,
          0.5962059620596206,
          0.6056910569105691,
          0.6084010840108401,
          0.6084010840108401,
          0.6124661246612466,
          0.6192411924119241,
          0.6192411924119241,
          0.6205962059620597,
          0.6205962059620597,
          0.6219512195121951,
          0.6219512195121951,
          0.6233062330623306,
          0.6260162601626016,
          0.6273712737127372,
          0.6273712737127372,
          0.6300813008130082,
          0.6300813008130082,
          0.6355013550135501,
          0.6355013550135501,
          0.6355013550135501,
          0.6368563685636857,
          0.6395663956639567,
          0.6422764227642277,
          0.6422764227642277,
          0.6436314363143631,
          0.6436314363143631,
          0.6449864498644986,
          0.6449864498644986,
          0.6476964769647696,
          0.6490514905149052,
          0.6490514905149052,
          0.6531165311653117,
          0.6544715447154471,
          0.6544715447154471,
          0.6571815718157181,
          0.6571815718157181,
          0.6585365853658537,
          0.6612466124661247,
          0.6612466124661247,
          0.6626016260162602,
          0.6653116531165312,
          0.6693766937669376,
          0.6693766937669376,
          0.6720867208672087,
          0.6720867208672087,
          0.6747967479674797,
          0.6761517615176151,
          0.6761517615176151,
          0.6775067750677507,
          0.6775067750677507,
          0.6802168021680217,
          0.6815718157181572,
          0.6815718157181572,
          0.6842818428184282,
          0.6869918699186992,
          0.6869918699186992,
          0.6897018970189702,
          0.6910569105691057,
          0.6910569105691057,
          0.6937669376693767,
          0.6937669376693767,
          0.6964769647696477,
          0.6964769647696477,
          0.7032520325203252,
          0.7032520325203252,
          0.7059620596205962,
          0.7059620596205962,
          0.7059620596205962,
          0.7059620596205962,
          0.7086720867208672,
          0.7086720867208672,
          0.7100271002710027,
          0.7100271002710027,
          0.7113821138211383,
          0.7113821138211383,
          0.7140921409214093,
          0.7140921409214093,
          0.7154471544715447,
          0.7154471544715447,
          0.7168021680216802,
          0.7168021680216802,
          0.7181571815718157,
          0.7181571815718157,
          0.7195121951219512,
          0.7195121951219512,
          0.7208672086720868,
          0.7208672086720868,
          0.7222222222222222,
          0.7222222222222222,
          0.7235772357723578,
          0.7235772357723578,
          0.7276422764227642,
          0.7276422764227642,
          0.7289972899728997,
          0.7289972899728997,
          0.7303523035230353,
          0.7303523035230353,
          0.7317073170731707,
          0.7317073170731707,
          0.7371273712737128,
          0.7371273712737128,
          0.7384823848238482,
          0.7384823848238482,
          0.7398373983739838,
          0.7398373983739838,
          0.7425474254742548,
          0.7425474254742548,
          0.7466124661246613,
          0.7466124661246613,
          0.7479674796747967,
          0.7479674796747967,
          0.7493224932249323,
          0.7493224932249323,
          0.7506775067750677,
          0.7506775067750677,
          0.7506775067750677,
          0.7506775067750677,
          0.7520325203252033,
          0.7520325203252033,
          0.7547425474254743,
          0.7547425474254743,
          0.7560975609756098,
          0.7560975609756098,
          0.7560975609756098,
          0.7560975609756098,
          0.7588075880758808,
          0.7588075880758808,
          0.7601626016260162,
          0.7601626016260162,
          0.7628726287262872,
          0.7655826558265583,
          0.7655826558265583,
          0.7682926829268293,
          0.7682926829268293,
          0.7710027100271003,
          0.7750677506775068,
          0.7750677506775068,
          0.7764227642276422,
          0.7764227642276422,
          0.7777777777777778,
          0.7777777777777778,
          0.7791327913279132,
          0.7791327913279132,
          0.7804878048780488,
          0.7831978319783198,
          0.7831978319783198,
          0.7859078590785907,
          0.7886178861788617,
          0.7886178861788617,
          0.7899728997289973,
          0.7899728997289973,
          0.7913279132791328,
          0.7913279132791328,
          0.7926829268292683,
          0.7926829268292683,
          0.7940379403794038,
          0.7940379403794038,
          0.7953929539295393,
          0.7953929539295393,
          0.7967479674796748,
          0.7967479674796748,
          0.7994579945799458,
          0.7994579945799458,
          0.8008130081300813,
          0.8008130081300813,
          0.8035230352303523,
          0.8035230352303523,
          0.8048780487804879,
          0.8048780487804879,
          0.8062330623306233,
          0.8062330623306233,
          0.8075880758807588,
          0.8075880758807588,
          0.8089430894308943,
          0.8089430894308943,
          0.8143631436314364,
          0.8143631436314364,
          0.8157181571815718,
          0.8157181571815718,
          0.8170731707317073,
          0.8197831978319783,
          0.8197831978319783,
          0.8224932249322493,
          0.8224932249322493,
          0.8238482384823849,
          0.8238482384823849,
          0.8252032520325203,
          0.8252032520325203,
          0.8292682926829268,
          0.8292682926829268,
          0.8306233062330624,
          0.8306233062330624,
          0.8319783197831978,
          0.8319783197831978,
          0.8387533875338753,
          0.8387533875338753,
          0.8414634146341463,
          0.8414634146341463,
          0.8441734417344173,
          0.8441734417344173,
          0.8455284552845529,
          0.8455284552845529,
          0.8468834688346883,
          0.8468834688346883,
          0.8482384823848238,
          0.8482384823848238,
          0.8495934959349594,
          0.8495934959349594,
          0.8509485094850948,
          0.8509485094850948,
          0.8523035230352304,
          0.8523035230352304,
          0.8536585365853658,
          0.8536585365853658,
          0.8563685636856369,
          0.8563685636856369,
          0.8577235772357723,
          0.8577235772357723,
          0.8590785907859079,
          0.8590785907859079,
          0.8604336043360433,
          0.8604336043360433,
          0.8617886178861789,
          0.8617886178861789,
          0.8631436314363143,
          0.8631436314363143,
          0.8644986449864499,
          0.8644986449864499,
          0.8658536585365854,
          0.8658536585365854,
          0.8658536585365854,
          0.8658536585365854,
          0.8672086720867209,
          0.8672086720867209,
          0.8685636856368564,
          0.8685636856368564,
          0.8699186991869918,
          0.8699186991869918,
          0.8712737127371274,
          0.8712737127371274,
          0.8726287262872628,
          0.8726287262872628,
          0.8739837398373984,
          0.8739837398373984,
          0.8766937669376694,
          0.8794037940379403,
          0.8794037940379403,
          0.8807588075880759,
          0.8807588075880759,
          0.8821138211382114,
          0.8821138211382114,
          0.8834688346883469,
          0.8834688346883469,
          0.8848238482384824,
          0.8848238482384824,
          0.8848238482384824,
          0.8861788617886179,
          0.8861788617886179,
          0.8875338753387534,
          0.8875338753387534,
          0.8888888888888888,
          0.8888888888888888,
          0.8902439024390244,
          0.8902439024390244,
          0.8902439024390244,
          0.8915989159891599,
          0.8915989159891599,
          0.8929539295392954,
          0.8929539295392954,
          0.8943089430894309,
          0.8943089430894309,
          0.8943089430894309,
          0.8943089430894309,
          0.8956639566395664,
          0.8956639566395664,
          0.8983739837398373,
          0.8983739837398373,
          0.8997289972899729,
          0.8997289972899729,
          0.9051490514905149,
          0.9051490514905149,
          0.907859078590786,
          0.907859078590786,
          0.9092140921409214,
          0.9092140921409214,
          0.9105691056910569,
          0.9105691056910569,
          0.9132791327913279,
          0.9132791327913279,
          0.9132791327913279,
          0.9132791327913279,
          0.9146341463414634,
          0.9146341463414634,
          0.9159891598915989,
          0.9159891598915989,
          0.9159891598915989,
          0.9159891598915989,
          0.9159891598915989,
          0.9173441734417345,
          0.9173441734417345,
          0.9186991869918699,
          0.9186991869918699,
          0.9200542005420054,
          0.9200542005420054,
          0.9214092140921409,
          0.9214092140921409,
          0.9227642276422764,
          0.9227642276422764,
          0.924119241192412,
          0.926829268292683,
          0.926829268292683,
          0.926829268292683,
          0.926829268292683,
          0.926829268292683,
          0.926829268292683,
          0.926829268292683,
          0.926829268292683,
          0.9281842818428184,
          0.9281842818428184,
          0.9308943089430894,
          0.9308943089430894,
          0.9322493224932249,
          0.9322493224932249,
          0.9322493224932249,
          0.9322493224932249,
          0.9349593495934959,
          0.9349593495934959,
          0.9376693766937669,
          0.9376693766937669,
          0.9390243902439024,
          0.9390243902439024,
          0.940379403794038,
          0.940379403794038,
          0.943089430894309,
          0.943089430894309,
          0.9444444444444444,
          0.9444444444444444,
          0.94579945799458,
          0.94579945799458,
          0.9471544715447154,
          0.9471544715447154,
          0.9498644986449865,
          0.9498644986449865,
          0.9512195121951219,
          0.9512195121951219,
          0.9512195121951219,
          0.9512195121951219,
          0.9525745257452575,
          0.9525745257452575,
          0.9539295392953929,
          0.9539295392953929,
          0.9539295392953929,
          0.9539295392953929,
          0.9552845528455285,
          0.9552845528455285,
          0.9552845528455285,
          0.9552845528455285,
          0.959349593495935,
          0.959349593495935,
          0.9607046070460704,
          0.9607046070460704,
          0.9607046070460704,
          0.9607046070460704,
          0.9607046070460704,
          0.9607046070460704,
          0.962059620596206,
          0.962059620596206,
          0.9634146341463414,
          0.9634146341463414,
          0.9634146341463414,
          0.9634146341463414,
          0.964769647696477,
          0.964769647696477,
          0.964769647696477,
          0.964769647696477,
          0.9661246612466124,
          0.9661246612466124,
          0.967479674796748,
          0.967479674796748,
          0.9688346883468835,
          0.9688346883468835,
          0.9701897018970189,
          0.9701897018970189,
          0.9715447154471545,
          0.9715447154471545,
          0.9728997289972899,
          0.9728997289972899,
          0.9728997289972899,
          0.9728997289972899,
          0.9728997289972899,
          0.9728997289972899,
          0.9742547425474255,
          0.9742547425474255,
          0.975609756097561,
          0.975609756097561,
          0.975609756097561,
          0.975609756097561,
          0.978319783197832,
          0.978319783197832,
          0.978319783197832,
          0.978319783197832,
          0.9796747967479674,
          0.9796747967479674,
          0.9796747967479674,
          0.9796747967479674,
          0.981029810298103,
          0.981029810298103,
          0.983739837398374,
          0.983739837398374,
          0.9850948509485095,
          0.9850948509485095,
          0.986449864498645,
          0.986449864498645,
          0.9878048780487805,
          0.9878048780487805,
          0.989159891598916,
          0.989159891598916,
          0.9905149051490515,
          0.9905149051490515,
          0.9905149051490515,
          0.9905149051490515,
          0.9905149051490515,
          0.9905149051490515,
          0.9932249322493225,
          0.9932249322493225,
          0.9959349593495935,
          0.9959349593495935,
          0.9959349593495935,
          0.9959349593495935,
          0.997289972899729,
          0.997289972899729,
          0.997289972899729,
          0.997289972899729,
          0.997289972899729,
          0.997289972899729,
          0.997289972899729,
          0.997289972899729,
          0.997289972899729,
          0.997289972899729,
          0.997289972899729,
          0.997289972899729,
          0.997289972899729,
          0.997289972899729,
          0.997289972899729,
          0.997289972899729,
          0.997289972899729,
          0.997289972899729,
          0.997289972899729,
          0.997289972899729,
          0.997289972899729,
          0.997289972899729,
          0.997289972899729,
          0.997289972899729,
          0.997289972899729,
          0.997289972899729,
          0.9986449864498645,
          0.9986449864498645,
          1,
          1,
          1,
          1
         ]
        },
        {
         "line": {
          "color": "black",
          "dash": "dot",
          "width": 1.5
         },
         "type": "scatter",
         "x": [
          0,
          1
         ],
         "y": [
          0,
          1
         ]
        }
       ],
       "layout": {
        "template": {
         "data": {
          "bar": [
           {
            "error_x": {
             "color": "#2a3f5f"
            },
            "error_y": {
             "color": "#2a3f5f"
            },
            "marker": {
             "line": {
              "color": "#E5ECF6",
              "width": 0.5
             }
            },
            "type": "bar"
           }
          ],
          "barpolar": [
           {
            "marker": {
             "line": {
              "color": "#E5ECF6",
              "width": 0.5
             }
            },
            "type": "barpolar"
           }
          ],
          "carpet": [
           {
            "aaxis": {
             "endlinecolor": "#2a3f5f",
             "gridcolor": "white",
             "linecolor": "white",
             "minorgridcolor": "white",
             "startlinecolor": "#2a3f5f"
            },
            "baxis": {
             "endlinecolor": "#2a3f5f",
             "gridcolor": "white",
             "linecolor": "white",
             "minorgridcolor": "white",
             "startlinecolor": "#2a3f5f"
            },
            "type": "carpet"
           }
          ],
          "choropleth": [
           {
            "colorbar": {
             "outlinewidth": 0,
             "ticks": ""
            },
            "type": "choropleth"
           }
          ],
          "contour": [
           {
            "colorbar": {
             "outlinewidth": 0,
             "ticks": ""
            },
            "colorscale": [
             [
              0,
              "#0d0887"
             ],
             [
              0.1111111111111111,
              "#46039f"
             ],
             [
              0.2222222222222222,
              "#7201a8"
             ],
             [
              0.3333333333333333,
              "#9c179e"
             ],
             [
              0.4444444444444444,
              "#bd3786"
             ],
             [
              0.5555555555555556,
              "#d8576b"
             ],
             [
              0.6666666666666666,
              "#ed7953"
             ],
             [
              0.7777777777777778,
              "#fb9f3a"
             ],
             [
              0.8888888888888888,
              "#fdca26"
             ],
             [
              1,
              "#f0f921"
             ]
            ],
            "type": "contour"
           }
          ],
          "contourcarpet": [
           {
            "colorbar": {
             "outlinewidth": 0,
             "ticks": ""
            },
            "type": "contourcarpet"
           }
          ],
          "heatmap": [
           {
            "colorbar": {
             "outlinewidth": 0,
             "ticks": ""
            },
            "colorscale": [
             [
              0,
              "#0d0887"
             ],
             [
              0.1111111111111111,
              "#46039f"
             ],
             [
              0.2222222222222222,
              "#7201a8"
             ],
             [
              0.3333333333333333,
              "#9c179e"
             ],
             [
              0.4444444444444444,
              "#bd3786"
             ],
             [
              0.5555555555555556,
              "#d8576b"
             ],
             [
              0.6666666666666666,
              "#ed7953"
             ],
             [
              0.7777777777777778,
              "#fb9f3a"
             ],
             [
              0.8888888888888888,
              "#fdca26"
             ],
             [
              1,
              "#f0f921"
             ]
            ],
            "type": "heatmap"
           }
          ],
          "heatmapgl": [
           {
            "colorbar": {
             "outlinewidth": 0,
             "ticks": ""
            },
            "colorscale": [
             [
              0,
              "#0d0887"
             ],
             [
              0.1111111111111111,
              "#46039f"
             ],
             [
              0.2222222222222222,
              "#7201a8"
             ],
             [
              0.3333333333333333,
              "#9c179e"
             ],
             [
              0.4444444444444444,
              "#bd3786"
             ],
             [
              0.5555555555555556,
              "#d8576b"
             ],
             [
              0.6666666666666666,
              "#ed7953"
             ],
             [
              0.7777777777777778,
              "#fb9f3a"
             ],
             [
              0.8888888888888888,
              "#fdca26"
             ],
             [
              1,
              "#f0f921"
             ]
            ],
            "type": "heatmapgl"
           }
          ],
          "histogram": [
           {
            "marker": {
             "colorbar": {
              "outlinewidth": 0,
              "ticks": ""
             }
            },
            "type": "histogram"
           }
          ],
          "histogram2d": [
           {
            "colorbar": {
             "outlinewidth": 0,
             "ticks": ""
            },
            "colorscale": [
             [
              0,
              "#0d0887"
             ],
             [
              0.1111111111111111,
              "#46039f"
             ],
             [
              0.2222222222222222,
              "#7201a8"
             ],
             [
              0.3333333333333333,
              "#9c179e"
             ],
             [
              0.4444444444444444,
              "#bd3786"
             ],
             [
              0.5555555555555556,
              "#d8576b"
             ],
             [
              0.6666666666666666,
              "#ed7953"
             ],
             [
              0.7777777777777778,
              "#fb9f3a"
             ],
             [
              0.8888888888888888,
              "#fdca26"
             ],
             [
              1,
              "#f0f921"
             ]
            ],
            "type": "histogram2d"
           }
          ],
          "histogram2dcontour": [
           {
            "colorbar": {
             "outlinewidth": 0,
             "ticks": ""
            },
            "colorscale": [
             [
              0,
              "#0d0887"
             ],
             [
              0.1111111111111111,
              "#46039f"
             ],
             [
              0.2222222222222222,
              "#7201a8"
             ],
             [
              0.3333333333333333,
              "#9c179e"
             ],
             [
              0.4444444444444444,
              "#bd3786"
             ],
             [
              0.5555555555555556,
              "#d8576b"
             ],
             [
              0.6666666666666666,
              "#ed7953"
             ],
             [
              0.7777777777777778,
              "#fb9f3a"
             ],
             [
              0.8888888888888888,
              "#fdca26"
             ],
             [
              1,
              "#f0f921"
             ]
            ],
            "type": "histogram2dcontour"
           }
          ],
          "mesh3d": [
           {
            "colorbar": {
             "outlinewidth": 0,
             "ticks": ""
            },
            "type": "mesh3d"
           }
          ],
          "parcoords": [
           {
            "line": {
             "colorbar": {
              "outlinewidth": 0,
              "ticks": ""
             }
            },
            "type": "parcoords"
           }
          ],
          "pie": [
           {
            "automargin": true,
            "type": "pie"
           }
          ],
          "scatter": [
           {
            "marker": {
             "colorbar": {
              "outlinewidth": 0,
              "ticks": ""
             }
            },
            "type": "scatter"
           }
          ],
          "scatter3d": [
           {
            "line": {
             "colorbar": {
              "outlinewidth": 0,
              "ticks": ""
             }
            },
            "marker": {
             "colorbar": {
              "outlinewidth": 0,
              "ticks": ""
             }
            },
            "type": "scatter3d"
           }
          ],
          "scattercarpet": [
           {
            "marker": {
             "colorbar": {
              "outlinewidth": 0,
              "ticks": ""
             }
            },
            "type": "scattercarpet"
           }
          ],
          "scattergeo": [
           {
            "marker": {
             "colorbar": {
              "outlinewidth": 0,
              "ticks": ""
             }
            },
            "type": "scattergeo"
           }
          ],
          "scattergl": [
           {
            "marker": {
             "colorbar": {
              "outlinewidth": 0,
              "ticks": ""
             }
            },
            "type": "scattergl"
           }
          ],
          "scattermapbox": [
           {
            "marker": {
             "colorbar": {
              "outlinewidth": 0,
              "ticks": ""
             }
            },
            "type": "scattermapbox"
           }
          ],
          "scatterpolar": [
           {
            "marker": {
             "colorbar": {
              "outlinewidth": 0,
              "ticks": ""
             }
            },
            "type": "scatterpolar"
           }
          ],
          "scatterpolargl": [
           {
            "marker": {
             "colorbar": {
              "outlinewidth": 0,
              "ticks": ""
             }
            },
            "type": "scatterpolargl"
           }
          ],
          "scatterternary": [
           {
            "marker": {
             "colorbar": {
              "outlinewidth": 0,
              "ticks": ""
             }
            },
            "type": "scatterternary"
           }
          ],
          "surface": [
           {
            "colorbar": {
             "outlinewidth": 0,
             "ticks": ""
            },
            "colorscale": [
             [
              0,
              "#0d0887"
             ],
             [
              0.1111111111111111,
              "#46039f"
             ],
             [
              0.2222222222222222,
              "#7201a8"
             ],
             [
              0.3333333333333333,
              "#9c179e"
             ],
             [
              0.4444444444444444,
              "#bd3786"
             ],
             [
              0.5555555555555556,
              "#d8576b"
             ],
             [
              0.6666666666666666,
              "#ed7953"
             ],
             [
              0.7777777777777778,
              "#fb9f3a"
             ],
             [
              0.8888888888888888,
              "#fdca26"
             ],
             [
              1,
              "#f0f921"
             ]
            ],
            "type": "surface"
           }
          ],
          "table": [
           {
            "cells": {
             "fill": {
              "color": "#EBF0F8"
             },
             "line": {
              "color": "white"
             }
            },
            "header": {
             "fill": {
              "color": "#C8D4E3"
             },
             "line": {
              "color": "white"
             }
            },
            "type": "table"
           }
          ]
         },
         "layout": {
          "annotationdefaults": {
           "arrowcolor": "#2a3f5f",
           "arrowhead": 0,
           "arrowwidth": 1
          },
          "autotypenumbers": "strict",
          "coloraxis": {
           "colorbar": {
            "outlinewidth": 0,
            "ticks": ""
           }
          },
          "colorscale": {
           "diverging": [
            [
             0,
             "#8e0152"
            ],
            [
             0.1,
             "#c51b7d"
            ],
            [
             0.2,
             "#de77ae"
            ],
            [
             0.3,
             "#f1b6da"
            ],
            [
             0.4,
             "#fde0ef"
            ],
            [
             0.5,
             "#f7f7f7"
            ],
            [
             0.6,
             "#e6f5d0"
            ],
            [
             0.7,
             "#b8e186"
            ],
            [
             0.8,
             "#7fbc41"
            ],
            [
             0.9,
             "#4d9221"
            ],
            [
             1,
             "#276419"
            ]
           ],
           "sequential": [
            [
             0,
             "#0d0887"
            ],
            [
             0.1111111111111111,
             "#46039f"
            ],
            [
             0.2222222222222222,
             "#7201a8"
            ],
            [
             0.3333333333333333,
             "#9c179e"
            ],
            [
             0.4444444444444444,
             "#bd3786"
            ],
            [
             0.5555555555555556,
             "#d8576b"
            ],
            [
             0.6666666666666666,
             "#ed7953"
            ],
            [
             0.7777777777777778,
             "#fb9f3a"
            ],
            [
             0.8888888888888888,
             "#fdca26"
            ],
            [
             1,
             "#f0f921"
            ]
           ],
           "sequentialminus": [
            [
             0,
             "#0d0887"
            ],
            [
             0.1111111111111111,
             "#46039f"
            ],
            [
             0.2222222222222222,
             "#7201a8"
            ],
            [
             0.3333333333333333,
             "#9c179e"
            ],
            [
             0.4444444444444444,
             "#bd3786"
            ],
            [
             0.5555555555555556,
             "#d8576b"
            ],
            [
             0.6666666666666666,
             "#ed7953"
            ],
            [
             0.7777777777777778,
             "#fb9f3a"
            ],
            [
             0.8888888888888888,
             "#fdca26"
            ],
            [
             1,
             "#f0f921"
            ]
           ]
          },
          "colorway": [
           "#636efa",
           "#EF553B",
           "#00cc96",
           "#ab63fa",
           "#FFA15A",
           "#19d3f3",
           "#FF6692",
           "#B6E880",
           "#FF97FF",
           "#FECB52"
          ],
          "font": {
           "color": "#2a3f5f"
          },
          "geo": {
           "bgcolor": "white",
           "lakecolor": "white",
           "landcolor": "#E5ECF6",
           "showlakes": true,
           "showland": true,
           "subunitcolor": "white"
          },
          "hoverlabel": {
           "align": "left"
          },
          "hovermode": "closest",
          "mapbox": {
           "style": "light"
          },
          "paper_bgcolor": "white",
          "plot_bgcolor": "#E5ECF6",
          "polar": {
           "angularaxis": {
            "gridcolor": "white",
            "linecolor": "white",
            "ticks": ""
           },
           "bgcolor": "#E5ECF6",
           "radialaxis": {
            "gridcolor": "white",
            "linecolor": "white",
            "ticks": ""
           }
          },
          "scene": {
           "xaxis": {
            "backgroundcolor": "#E5ECF6",
            "gridcolor": "white",
            "gridwidth": 2,
            "linecolor": "white",
            "showbackground": true,
            "ticks": "",
            "zerolinecolor": "white"
           },
           "yaxis": {
            "backgroundcolor": "#E5ECF6",
            "gridcolor": "white",
            "gridwidth": 2,
            "linecolor": "white",
            "showbackground": true,
            "ticks": "",
            "zerolinecolor": "white"
           },
           "zaxis": {
            "backgroundcolor": "#E5ECF6",
            "gridcolor": "white",
            "gridwidth": 2,
            "linecolor": "white",
            "showbackground": true,
            "ticks": "",
            "zerolinecolor": "white"
           }
          },
          "shapedefaults": {
           "line": {
            "color": "#2a3f5f"
           }
          },
          "ternary": {
           "aaxis": {
            "gridcolor": "white",
            "linecolor": "white",
            "ticks": ""
           },
           "baxis": {
            "gridcolor": "white",
            "linecolor": "white",
            "ticks": ""
           },
           "bgcolor": "#E5ECF6",
           "caxis": {
            "gridcolor": "white",
            "linecolor": "white",
            "ticks": ""
           }
          },
          "title": {
           "x": 0.05
          },
          "xaxis": {
           "automargin": true,
           "gridcolor": "white",
           "linecolor": "white",
           "ticks": "",
           "title": {
            "standoff": 15
           },
           "zerolinecolor": "white",
           "zerolinewidth": 2
          },
          "yaxis": {
           "automargin": true,
           "gridcolor": "white",
           "linecolor": "white",
           "ticks": "",
           "title": {
            "standoff": 15
           },
           "zerolinecolor": "white",
           "zerolinewidth": 2
          }
         }
        },
        "title": {
         "text": "ROC Curve (0.879)"
        },
        "xaxis": {
         "title": {
          "text": "false positive rate"
         }
        },
        "yaxis": {
         "title": {
          "text": "true positive rate"
         }
        }
       }
      },
      "text/html": [
       "<div>                            <div id=\"39282f7d-7653-4cc9-8dd4-c651a230aef5\" class=\"plotly-graph-div\" style=\"height:525px; width:100%;\"></div>            <script type=\"text/javascript\">                require([\"plotly\"], function(Plotly) {                    window.PLOTLYENV=window.PLOTLYENV || {};                                    if (document.getElementById(\"39282f7d-7653-4cc9-8dd4-c651a230aef5\")) {                    Plotly.newPlot(                        \"39282f7d-7653-4cc9-8dd4-c651a230aef5\",                        [{\"fill\": \"tozeroy\", \"line\": {\"color\": \"rgb(22,96,167)\", \"width\": 2}, \"name\": \"Roc:\", \"type\": \"scatter\", \"x\": [0.0, 0.0, 0.0, 0.0, 0.0, 0.0, 0.0, 0.0, 0.0, 0.0, 0.0, 0.0004420866489832007, 0.001326259946949602, 0.003978779840848806, 0.004862953138815208, 0.005747126436781609, 0.005747126436781609, 0.00618921308576481, 0.00618921308576481, 0.007073386383731211, 0.007073386383731211, 0.007515473032714412, 0.007515473032714412, 0.007515473032714412, 0.007957559681697613, 0.007957559681697613, 0.008841732979664015, 0.008841732979664015, 0.009725906277630416, 0.009725906277630416, 0.010167992926613616, 0.010167992926613616, 0.010167992926613616, 0.010610079575596816, 0.010610079575596816, 0.011052166224580018, 0.011052166224580018, 0.011494252873563218, 0.011494252873563218, 0.011936339522546418, 0.011936339522546418, 0.01237842617152962, 0.01237842617152962, 0.01282051282051282, 0.01282051282051282, 0.014588859416445624, 0.014588859416445624, 0.014588859416445624, 0.015030946065428824, 0.015030946065428824, 0.015915119363395226, 0.015915119363395226, 0.016357206012378427, 0.016357206012378427, 0.016799292661361626, 0.016799292661361626, 0.018125552608311227, 0.018125552608311227, 0.01856763925729443, 0.01856763925729443, 0.01856763925729443, 0.01856763925729443, 0.01856763925729443, 0.01900972590627763, 0.01900972590627763, 0.019451812555260833, 0.019451812555260833, 0.020335985853227233, 0.020335985853227233, 0.020778072502210435, 0.020778072502210435, 0.021662245800176835, 0.021662245800176835, 0.022104332449160036, 0.022104332449160036, 0.022546419098143235, 0.022546419098143235, 0.022546419098143235, 0.022546419098143235, 0.023430592396109638, 0.023430592396109638, 0.023872679045092837, 0.023872679045092837, 0.02475685234305924, 0.02475685234305924, 0.025198938992042442, 0.025198938992042442, 0.025198938992042442, 0.02564102564102564, 0.02564102564102564, 0.026083112290008842, 0.026083112290008842, 0.026083112290008842, 0.026083112290008842, 0.026083112290008842, 0.026083112290008842, 0.026525198938992044, 0.026525198938992044, 0.026967285587975242, 0.026967285587975242, 0.026967285587975242, 0.028735632183908046, 0.028735632183908046, 0.02961980548187445, 0.02961980548187445, 0.030061892130857647, 0.030061892130857647, 0.030061892130857647, 0.030061892130857647, 0.03050397877984085, 0.03050397877984085, 0.03094606542882405, 0.03094606542882405, 0.03138815207780725, 0.03138815207780725, 0.03138815207780725, 0.03227232537577365, 0.03227232537577365, 0.032714412024756855, 0.032714412024756855, 0.03359858532272325, 0.034482758620689655, 0.034482758620689655, 0.034924845269672856, 0.034924845269672856, 0.034924845269672856, 0.034924845269672856, 0.03536693191865606, 0.03536693191865606, 0.03580901856763926, 0.03580901856763926, 0.03669319186560566, 0.03669319186560566, 0.03713527851458886, 0.03713527851458886, 0.03713527851458886, 0.03757736516357206, 0.03757736516357206, 0.03801945181255526, 0.03801945181255526, 0.040229885057471264, 0.040229885057471264, 0.040671971706454466, 0.040671971706454466, 0.04111405835543767, 0.04111405835543767, 0.04155614500442087, 0.04155614500442087, 0.042440318302387266, 0.042440318302387266, 0.04332449160035367, 0.04332449160035367, 0.04376657824933687, 0.04376657824933687, 0.044650751547303275, 0.04509283819628647, 0.04509283819628647, 0.04553492484526967, 0.04553492484526967, 0.04597701149425287, 0.04597701149425287, 0.046419098143236075, 0.046419098143236075, 0.046861184792219276, 0.046861184792219276, 0.04730327144120248, 0.04730327144120248, 0.04774535809018567, 0.04774535809018567, 0.04774535809018567, 0.04774535809018567, 0.04774535809018567, 0.048187444739168875, 0.048187444739168875, 0.04862953138815208, 0.04862953138815208, 0.04951370468611848, 0.04951370468611848, 0.04995579133510168, 0.04995579133510168, 0.04995579133510168, 0.050397877984084884, 0.050397877984084884, 0.05083996463306808, 0.05083996463306808, 0.05083996463306808, 0.05128205128205128, 0.05128205128205128, 0.05128205128205128, 0.05172413793103448, 0.05172413793103448, 0.052608311229000886, 0.052608311229000886, 0.05349248452696728, 0.05349248452696728, 0.05349248452696728, 0.05349248452696728, 0.053934571175950484, 0.053934571175950484, 0.05481874447391689, 0.05481874447391689, 0.05526083112290009, 0.05526083112290009, 0.05614500442086649, 0.05614500442086649, 0.05614500442086649, 0.05658709106984969, 0.05658709106984969, 0.05658709106984969, 0.05702917771883289, 0.05702917771883289, 0.05747126436781609, 0.05747126436781609, 0.05747126436781609, 0.05747126436781609, 0.05747126436781609, 0.05747126436781609, 0.05791335101679929, 0.05791335101679929, 0.058355437665782495, 0.058355437665782495, 0.058797524314765696, 0.058797524314765696, 0.058797524314765696, 0.0592396109637489, 0.0592396109637489, 0.0592396109637489, 0.05968169761273209, 0.05968169761273209, 0.05968169761273209, 0.0605658709106985, 0.0605658709106985, 0.0610079575596817, 0.0610079575596817, 0.0610079575596817, 0.0614500442086649, 0.0614500442086649, 0.0614500442086649, 0.0618921308576481, 0.0618921308576481, 0.0623342175066313, 0.0623342175066313, 0.0627763041556145, 0.0627763041556145, 0.0627763041556145, 0.06321839080459771, 0.06321839080459771, 0.06321839080459771, 0.06321839080459771, 0.0645446507515473, 0.0645446507515473, 0.0649867374005305, 0.0649867374005305, 0.06542882404951371, 0.06542882404951371, 0.06542882404951371, 0.06542882404951371, 0.06631299734748011, 0.06631299734748011, 0.06763925729442971, 0.06763925729442971, 0.06763925729442971, 0.0680813439434129, 0.0680813439434129, 0.06896551724137931, 0.06896551724137931, 0.06984969053934571, 0.06984969053934571, 0.07073386383731212, 0.07073386383731212, 0.07117595048629531, 0.07117595048629531, 0.07206012378426171, 0.07206012378426171, 0.07338638373121131, 0.07338638373121131, 0.07338638373121131, 0.07338638373121131, 0.07427055702917772, 0.07427055702917772, 0.07471264367816093, 0.07471264367816093, 0.07603890362511052, 0.07603890362511052, 0.07648099027409372, 0.07648099027409372, 0.07692307692307693, 0.07692307692307693, 0.07692307692307693, 0.07692307692307693, 0.07736516357206012, 0.07736516357206012, 0.07824933687002653, 0.07824933687002653, 0.07824933687002653, 0.07913351016799293, 0.07913351016799293, 0.08090185676392574, 0.08090185676392574, 0.08134394341290893, 0.08134394341290893, 0.08178603006189213, 0.08178603006189213, 0.08178603006189213, 0.08178603006189213, 0.08222811671087533, 0.08222811671087533, 0.08267020335985853, 0.08267020335985853, 0.08443854995579134, 0.08443854995579134, 0.08443854995579134, 0.08443854995579134, 0.08532272325375774, 0.08532272325375774, 0.08532272325375774, 0.08532272325375774, 0.08620689655172414, 0.08620689655172414, 0.08885941644562334, 0.08974358974358974, 0.08974358974358974, 0.08974358974358974, 0.08974358974358974, 0.09018567639257294, 0.09018567639257294, 0.09062776304155615, 0.09062776304155615, 0.09062776304155615, 0.09106984969053934, 0.09106984969053934, 0.09151193633952255, 0.09151193633952255, 0.09195402298850575, 0.09195402298850575, 0.09239610963748895, 0.09239610963748895, 0.09283819628647215, 0.09283819628647215, 0.09372236958443855, 0.09372236958443855, 0.09416445623342175, 0.09416445623342175, 0.09416445623342175, 0.09504862953138815, 0.09504862953138815, 0.09504862953138815, 0.09549071618037135, 0.09549071618037135, 0.09593280282935455, 0.09593280282935455, 0.09637488947833775, 0.09637488947833775, 0.09637488947833775, 0.09637488947833775, 0.09858532272325375, 0.09858532272325375, 0.10035366931918656, 0.10035366931918656, 0.10123784261715296, 0.10167992926613616, 0.10167992926613616, 0.10167992926613616, 0.10167992926613616, 0.10344827586206896, 0.10344827586206896, 0.10389036251105217, 0.10389036251105217, 0.10433244916003537, 0.10433244916003537, 0.10433244916003537, 0.10610079575596817, 0.10610079575596817, 0.10610079575596817, 0.10698496905393456, 0.10698496905393456, 0.10786914235190097, 0.10786914235190097, 0.10786914235190097, 0.10831122900088418, 0.10831122900088418, 0.10831122900088418, 0.10831122900088418, 0.11140583554376658, 0.11140583554376658, 0.11229000884173299, 0.11229000884173299, 0.11229000884173299, 0.11361626878868258, 0.11361626878868258, 0.11405835543766578, 0.11405835543766578, 0.11405835543766578, 0.11538461538461539, 0.11538461538461539, 0.11538461538461539, 0.11582670203359859, 0.11582670203359859, 0.11582670203359859, 0.11759504862953139, 0.11759504862953139, 0.11803713527851459, 0.11803713527851459, 0.1184792219274978, 0.1184792219274978, 0.11892130857648099, 0.11892130857648099, 0.11936339522546419, 0.12024756852343059, 0.12157382847038019, 0.12157382847038019, 0.12245800176834659, 0.12245800176834659, 0.123342175066313, 0.123342175066313, 0.1246684350132626, 0.1246684350132626, 0.125552608311229, 0.125552608311229, 0.1259946949602122, 0.1259946949602122, 0.1268788682581786, 0.1268788682581786, 0.1273209549071618, 0.1273209549071618, 0.127763041556145, 0.127763041556145, 0.1290893015030946, 0.1290893015030946, 0.1304155614500442, 0.1304155614500442, 0.13085764809902742, 0.13085764809902742, 0.13218390804597702, 0.13218390804597702, 0.13262599469496023, 0.13262599469496023, 0.13704686118479223, 0.13704686118479223, 0.1374889478337754, 0.1374889478337754, 0.138815207780725, 0.138815207780725, 0.13925729442970822, 0.13925729442970822, 0.14146772767462423, 0.14146772767462423, 0.14279398762157383, 0.14279398762157383, 0.14412024756852343, 0.14412024756852343, 0.14500442086648982, 0.14500442086648982, 0.14544650751547303, 0.14544650751547303, 0.14633068081343945, 0.14721485411140584, 0.14809902740937222, 0.14809902740937222, 0.14854111405835543, 0.14854111405835543, 0.14898320070733864, 0.14898320070733864, 0.14986737400530503, 0.15075154730327145, 0.15119363395225463, 0.15119363395225463, 0.15207780725022105, 0.15207780725022105, 0.15251989389920426, 0.15251989389920426, 0.15251989389920426, 0.15384615384615385, 0.15384615384615385, 0.15473032714412024, 0.15473032714412024, 0.15473032714412024, 0.15561450044208666, 0.15561450044208666, 0.15870910698496907, 0.15870910698496907, 0.15915119363395225, 0.15915119363395225, 0.16003536693191867, 0.16003536693191867, 0.16003536693191867, 0.16136162687886826, 0.16136162687886826, 0.16136162687886826, 0.16312997347480107, 0.16312997347480107, 0.16357206012378425, 0.16357206012378425, 0.16489832007073385, 0.16489832007073385, 0.16578249336870027, 0.16578249336870027, 0.16666666666666666, 0.16666666666666666, 0.16710875331564987, 0.16710875331564987, 0.16931918656056588, 0.16931918656056588, 0.17285587975243147, 0.17285587975243147, 0.17418213969938107, 0.17418213969938107, 0.1755083996463307, 0.1755083996463307, 0.1799292661361627, 0.1799292661361627, 0.1808134394341291, 0.1808134394341291, 0.1825817860300619, 0.1825817860300619, 0.1830238726790451, 0.1830238726790451, 0.1839080459770115, 0.1839080459770115, 0.1852343059239611, 0.1852343059239611, 0.1852343059239611, 0.1861184792219275, 0.1861184792219275, 0.1874447391688771, 0.1874447391688771, 0.1887709991158267, 0.1887709991158267, 0.1905393457117595, 0.1905393457117595, 0.1914235190097259, 0.1914235190097259, 0.1918656056587091, 0.1918656056587091, 0.1940760389036251, 0.1940760389036251, 0.1962864721485411, 0.1962864721485411, 0.19849690539345713, 0.19849690539345713, 0.19982316534040673, 0.19982316534040673, 0.20380194518125552, 0.20380194518125552, 0.20557029177718833, 0.20557029177718833, 0.20645446507515472, 0.20645446507515472, 0.20689655172413793, 0.20689655172413793, 0.20778072502210435, 0.20778072502210435, 0.20866489832007074, 0.20866489832007074, 0.20954907161803712, 0.20954907161803712, 0.20999115826702033, 0.20999115826702033, 0.21175950486295314, 0.21175950486295314, 0.21264367816091953, 0.21264367816091953, 0.21396993810786913, 0.21396993810786913, 0.21529619805481875, 0.21529619805481875, 0.21750663129973474, 0.21750663129973474, 0.21927497789566755, 0.21927497789566755, 0.21971706454465076, 0.22060123784261715, 0.22148541114058357, 0.22148541114058357, 0.22413793103448276, 0.22413793103448276, 0.22546419098143236, 0.22546419098143236, 0.22767462422634838, 0.22767462422634838, 0.22811671087533156, 0.22811671087533156, 0.22855879752431477, 0.22855879752431477, 0.23076923076923078, 0.23076923076923078, 0.23076923076923078, 0.2369584438549956, 0.2369584438549956, 0.23784261715296198, 0.23784261715296198, 0.23872679045092837, 0.23872679045092837, 0.2396109637488948, 0.2396109637488948, 0.2413793103448276, 0.242263483642794, 0.242263483642794, 0.24314765694076038, 0.24314765694076038, 0.2475685234305924, 0.2475685234305924, 0.2480106100795756, 0.2480106100795756, 0.2502210433244916, 0.251105216622458, 0.251105216622458, 0.2524314765694076, 0.2524314765694076, 0.2550839964633068, 0.2550839964633068, 0.25596816976127323, 0.2568523430592396, 0.2581786030061892, 0.2581786030061892, 0.25906277630415564, 0.25906277630415564, 0.2595048629531388, 0.2595048629531388, 0.2661361626878868, 0.2661361626878868, 0.2696728558797524, 0.2696728558797524, 0.2723253757736516, 0.2723253757736516, 0.28116710875331563, 0.28116710875331563, 0.2838196286472148, 0.2838196286472148, 0.2891246684350133, 0.29000884173297964, 0.2926613616268789, 0.2926613616268789, 0.29929266136162685, 0.29929266136162685, 0.3001768346595933, 0.3010610079575597, 0.3019451812555261, 0.3032714412024757, 0.3032714412024757, 0.3112290008841733, 0.3112290008841733, 0.3116710875331565, 0.3116710875331565, 0.3129973474801061, 0.3129973474801061, 0.3187444739168877, 0.3187444739168877, 0.3196286472148541, 0.3196286472148541, 0.3196286472148541, 0.3249336870026525, 0.32581786030061893, 0.33510167992926615, 0.3359858532272325, 0.33687002652519893, 0.33775419982316535, 0.33819628647214856, 0.33819628647214856, 0.3505747126436782, 0.3505747126436782, 0.35587975243147657, 0.35587975243147657, 0.36427939876215737, 0.3651635720601238, 0.3673740053050398, 0.3673740053050398, 0.3687002652519894, 0.3687002652519894, 0.3740053050397878, 0.3740053050397878, 0.3762157382847038, 0.3762157382847038, 0.3775419982316534, 0.3775419982316534, 0.38992042440318303, 0.38992042440318303, 0.3925729442970822, 0.3925729442970822, 0.3947833775419982, 0.3947833775419982, 0.40583554376657827, 0.40583554376657827, 0.41954022988505746, 0.41954022988505746, 0.4270557029177719, 0.42793987621573826, 0.42838196286472147, 0.42838196286472147, 0.4292661361626879, 0.4292661361626879, 0.4451812555260831, 0.44606542882404954, 0.45490716180371354, 0.45490716180371354, 0.46109637488947836, 0.4619805481874447, 0.47214854111405835, 0.47214854111405835, 0.47789566755083995, 0.47789566755083995, 0.4792219274977896, 0.48010610079575594, 0.4849690539345712, 0.4858532272325376, 0.4946949602122016, 0.4946949602122016, 0.4982316534040672, 0.4982316534040672, 0.4995579133510168, 0.5004420866489832, 0.5013262599469496, 0.5013262599469496, 0.5075154730327144, 0.5083996463306808, 0.5137046861184792, 0.5137046861184792, 0.5278514588859416, 0.5278514588859416, 0.5459770114942529, 0.5459770114942529, 0.5592396109637489, 0.5592396109637489, 0.5623342175066313, 0.5623342175066313, 0.5729442970822282, 0.5729442970822282, 0.5751547303271441, 0.5760389036251106, 0.5786914235190097, 0.5795755968169761, 0.5928381962864722, 0.5928381962864722, 0.5963748894783377, 0.5963748894783377, 0.6038903625110522, 0.6047745358090185, 0.6096374889478338, 0.6096374889478338, 0.6335101679929266, 0.634394341290893, 0.6374889478337754, 0.6374889478337754, 0.6414677276746242, 0.6423519009725907, 0.6666666666666666, 0.6666666666666666, 0.6724137931034483, 0.6724137931034483, 0.6755083996463307, 0.6755083996463307, 0.6825817860300619, 0.6825817860300619, 0.6878868258178603, 0.6878868258178603, 0.6954022988505747, 0.6954022988505747, 0.7011494252873564, 0.7011494252873564, 0.7020335985853228, 0.7029177718832891, 0.7086648983200707, 0.7095490716180372, 0.7099911582670203, 0.7099911582670203, 0.7161803713527851, 0.7161803713527851, 0.7170645446507515, 0.717948717948718, 0.7219274977895668, 0.7219274977895668, 0.7387267904509284, 0.7396109637488948, 0.764367816091954, 0.7652519893899205, 0.7670203359858532, 0.7679045092838196, 0.7855879752431476, 0.786472148541114, 0.8059239610963749, 0.8068081343943413, 0.8152077807250221, 0.8160919540229885, 0.8333333333333334, 0.8342175066312998, 0.8386383731211318, 0.8395225464190982, 0.850132625994695, 0.8510167992926614, 0.8572060123784262, 0.8580901856763926, 0.8748894783377542, 0.8757736516357206, 0.8775419982316534, 0.8784261715296198, 0.8797524314765695, 0.8797524314765695, 0.9098143236074271, 0.9098143236074271, 0.9398762157382847, 0.9407603890362511, 1.0], \"y\": [0.0, 0.0013550135501355014, 0.005420054200542005, 0.008130081300813009, 0.009485094850948509, 0.02032520325203252, 0.02168021680216802, 0.02710027100271003, 0.028455284552845527, 0.03116531165311653, 0.04065040650406504, 0.04065040650406504, 0.04065040650406504, 0.04065040650406504, 0.04065040650406504, 0.04065040650406504, 0.044715447154471545, 0.044715447154471545, 0.04742547425474255, 0.04742547425474255, 0.04878048780487805, 0.04878048780487805, 0.052845528455284556, 0.05420054200542006, 0.05420054200542006, 0.056910569105691054, 0.056910569105691054, 0.058265582655826556, 0.058265582655826556, 0.06233062330623306, 0.06233062330623306, 0.06639566395663957, 0.06910569105691057, 0.06910569105691057, 0.07046070460704607, 0.07046070460704607, 0.07452574525745258, 0.07452574525745258, 0.07588075880758807, 0.07588075880758807, 0.07859078590785908, 0.07859078590785908, 0.07994579945799458, 0.07994579945799458, 0.08265582655826559, 0.08265582655826559, 0.08807588075880758, 0.08943089430894309, 0.08943089430894309, 0.09078590785907859, 0.09078590785907859, 0.09349593495934959, 0.09349593495934959, 0.0975609756097561, 0.0975609756097561, 0.1002710027100271, 0.1002710027100271, 0.1016260162601626, 0.1016260162601626, 0.1043360433604336, 0.10840108401084012, 0.10975609756097561, 0.11246612466124661, 0.11246612466124661, 0.11517615176151762, 0.11517615176151762, 0.11653116531165311, 0.11653116531165311, 0.11788617886178862, 0.11788617886178862, 0.12059620596205962, 0.12059620596205962, 0.12195121951219512, 0.12195121951219512, 0.12466124661246612, 0.12466124661246612, 0.12601626016260162, 0.12872628726287264, 0.13008130081300814, 0.13008130081300814, 0.13143631436314362, 0.13143631436314362, 0.13279132791327913, 0.13279132791327913, 0.13550135501355012, 0.13550135501355012, 0.14363143631436315, 0.14634146341463414, 0.14634146341463414, 0.14769647696476965, 0.14769647696476965, 0.15040650406504066, 0.15311653116531165, 0.15447154471544716, 0.15718157181571815, 0.15853658536585366, 0.15853658536585366, 0.15989159891598917, 0.15989159891598917, 0.16260162601626016, 0.16395663956639567, 0.16395663956639567, 0.16802168021680217, 0.16802168021680217, 0.17073170731707318, 0.17073170731707318, 0.17208672086720866, 0.17479674796747968, 0.17615176151761516, 0.17615176151761516, 0.18157181571815717, 0.18157181571815717, 0.18834688346883469, 0.18834688346883469, 0.19241192411924118, 0.1937669376693767, 0.1937669376693767, 0.1978319783197832, 0.1978319783197832, 0.1991869918699187, 0.1991869918699187, 0.1991869918699187, 0.2005420054200542, 0.2005420054200542, 0.2032520325203252, 0.20596205962059622, 0.2086720867208672, 0.2086720867208672, 0.21002710027100271, 0.21002710027100271, 0.21138211382113822, 0.21138211382113822, 0.21680216802168023, 0.21680216802168023, 0.21951219512195122, 0.22086720867208673, 0.22086720867208673, 0.2222222222222222, 0.2222222222222222, 0.22357723577235772, 0.22357723577235772, 0.22764227642276422, 0.22764227642276422, 0.23035230352303523, 0.23035230352303523, 0.23170731707317074, 0.23170731707317074, 0.23306233062330622, 0.23306233062330622, 0.23441734417344173, 0.23441734417344173, 0.24119241192411925, 0.24119241192411925, 0.24390243902439024, 0.24390243902439024, 0.24390243902439024, 0.24525745257452575, 0.24525745257452575, 0.24932249322493225, 0.24932249322493225, 0.25203252032520324, 0.25203252032520324, 0.2588075880758808, 0.2588075880758808, 0.26151761517615174, 0.26151761517615174, 0.2669376693766938, 0.2669376693766938, 0.2682926829268293, 0.27100271002710025, 0.27235772357723576, 0.2750677506775068, 0.2750677506775068, 0.2804878048780488, 0.2804878048780488, 0.2859078590785908, 0.2859078590785908, 0.2872628726287263, 0.2872628726287263, 0.2886178861788618, 0.29132791327913277, 0.29132791327913277, 0.2940379403794038, 0.2940379403794038, 0.3035230352303523, 0.3062330623306233, 0.3062330623306233, 0.3157181571815718, 0.31842818428184283, 0.31842818428184283, 0.31978319783197834, 0.31978319783197834, 0.3224932249322493, 0.3224932249322493, 0.3252032520325203, 0.33062330623306235, 0.3333333333333333, 0.3333333333333333, 0.33875338753387535, 0.33875338753387535, 0.34146341463414637, 0.34146341463414637, 0.34552845528455284, 0.34552845528455284, 0.34688346883468835, 0.34959349593495936, 0.34959349593495936, 0.35501355013550134, 0.35636856368563685, 0.35636856368563685, 0.35772357723577236, 0.35772357723577236, 0.3617886178861789, 0.36449864498644985, 0.36585365853658536, 0.3699186991869919, 0.37262872628726285, 0.37262872628726285, 0.3875338753387534, 0.3875338753387534, 0.3915989159891599, 0.3915989159891599, 0.39295392953929537, 0.3956639566395664, 0.3956639566395664, 0.3970189701897019, 0.4010840108401084, 0.4010840108401084, 0.4024390243902439, 0.4051490514905149, 0.4051490514905149, 0.4078590785907859, 0.4078590785907859, 0.4105691056910569, 0.4132791327913279, 0.4132791327913279, 0.4146341463414634, 0.4173441734417344, 0.4173441734417344, 0.42140921409214094, 0.42140921409214094, 0.42276422764227645, 0.42276422764227645, 0.42953929539295393, 0.43224932249322495, 0.43224932249322495, 0.43902439024390244, 0.44173441734417346, 0.44308943089430897, 0.44308943089430897, 0.4444444444444444, 0.4444444444444444, 0.44579945799457993, 0.44579945799457993, 0.44850948509485095, 0.45121951219512196, 0.45257452574525747, 0.45257452574525747, 0.453929539295393, 0.453929539295393, 0.45528455284552843, 0.45799457994579945, 0.45799457994579945, 0.4634146341463415, 0.4634146341463415, 0.46747967479674796, 0.46747967479674796, 0.46883468834688347, 0.46883468834688347, 0.470189701897019, 0.470189701897019, 0.4715447154471545, 0.4715447154471545, 0.4742547425474255, 0.4742547425474255, 0.47831978319783197, 0.481029810298103, 0.4823848238482385, 0.4823848238482385, 0.489159891598916, 0.489159891598916, 0.4905149051490515, 0.4905149051490515, 0.4959349593495935, 0.4959349593495935, 0.5013550135501355, 0.5013550135501355, 0.5040650406504065, 0.5067750677506775, 0.510840108401084, 0.510840108401084, 0.513550135501355, 0.513550135501355, 0.516260162601626, 0.5203252032520326, 0.5203252032520326, 0.521680216802168, 0.521680216802168, 0.5230352303523035, 0.5230352303523035, 0.5257452574525745, 0.5257452574525745, 0.5284552845528455, 0.532520325203252, 0.535230352303523, 0.535230352303523, 0.5365853658536586, 0.5365853658536586, 0.540650406504065, 0.540650406504065, 0.5447154471544715, 0.5474254742547425, 0.5487804878048781, 0.5487804878048781, 0.5501355013550135, 0.5528455284552846, 0.559620596205962, 0.559620596205962, 0.5609756097560976, 0.5609756097560976, 0.5609756097560976, 0.5663956639566395, 0.5691056910569106, 0.573170731707317, 0.573170731707317, 0.5785907859078591, 0.5785907859078591, 0.5813008130081301, 0.5826558265582655, 0.5826558265582655, 0.5853658536585366, 0.5853658536585366, 0.5867208672086721, 0.5867208672086721, 0.5907859078590786, 0.5907859078590786, 0.5934959349593496, 0.5934959349593496, 0.5948509485094851, 0.5948509485094851, 0.5962059620596206, 0.5962059620596206, 0.6056910569105691, 0.6084010840108401, 0.6084010840108401, 0.6124661246612466, 0.6192411924119241, 0.6192411924119241, 0.6205962059620597, 0.6205962059620597, 0.6219512195121951, 0.6219512195121951, 0.6233062330623306, 0.6260162601626016, 0.6273712737127372, 0.6273712737127372, 0.6300813008130082, 0.6300813008130082, 0.6355013550135501, 0.6355013550135501, 0.6355013550135501, 0.6368563685636857, 0.6395663956639567, 0.6422764227642277, 0.6422764227642277, 0.6436314363143631, 0.6436314363143631, 0.6449864498644986, 0.6449864498644986, 0.6476964769647696, 0.6490514905149052, 0.6490514905149052, 0.6531165311653117, 0.6544715447154471, 0.6544715447154471, 0.6571815718157181, 0.6571815718157181, 0.6585365853658537, 0.6612466124661247, 0.6612466124661247, 0.6626016260162602, 0.6653116531165312, 0.6693766937669376, 0.6693766937669376, 0.6720867208672087, 0.6720867208672087, 0.6747967479674797, 0.6761517615176151, 0.6761517615176151, 0.6775067750677507, 0.6775067750677507, 0.6802168021680217, 0.6815718157181572, 0.6815718157181572, 0.6842818428184282, 0.6869918699186992, 0.6869918699186992, 0.6897018970189702, 0.6910569105691057, 0.6910569105691057, 0.6937669376693767, 0.6937669376693767, 0.6964769647696477, 0.6964769647696477, 0.7032520325203252, 0.7032520325203252, 0.7059620596205962, 0.7059620596205962, 0.7059620596205962, 0.7059620596205962, 0.7086720867208672, 0.7086720867208672, 0.7100271002710027, 0.7100271002710027, 0.7113821138211383, 0.7113821138211383, 0.7140921409214093, 0.7140921409214093, 0.7154471544715447, 0.7154471544715447, 0.7168021680216802, 0.7168021680216802, 0.7181571815718157, 0.7181571815718157, 0.7195121951219512, 0.7195121951219512, 0.7208672086720868, 0.7208672086720868, 0.7222222222222222, 0.7222222222222222, 0.7235772357723578, 0.7235772357723578, 0.7276422764227642, 0.7276422764227642, 0.7289972899728997, 0.7289972899728997, 0.7303523035230353, 0.7303523035230353, 0.7317073170731707, 0.7317073170731707, 0.7371273712737128, 0.7371273712737128, 0.7384823848238482, 0.7384823848238482, 0.7398373983739838, 0.7398373983739838, 0.7425474254742548, 0.7425474254742548, 0.7466124661246613, 0.7466124661246613, 0.7479674796747967, 0.7479674796747967, 0.7493224932249323, 0.7493224932249323, 0.7506775067750677, 0.7506775067750677, 0.7506775067750677, 0.7506775067750677, 0.7520325203252033, 0.7520325203252033, 0.7547425474254743, 0.7547425474254743, 0.7560975609756098, 0.7560975609756098, 0.7560975609756098, 0.7560975609756098, 0.7588075880758808, 0.7588075880758808, 0.7601626016260162, 0.7601626016260162, 0.7628726287262872, 0.7655826558265583, 0.7655826558265583, 0.7682926829268293, 0.7682926829268293, 0.7710027100271003, 0.7750677506775068, 0.7750677506775068, 0.7764227642276422, 0.7764227642276422, 0.7777777777777778, 0.7777777777777778, 0.7791327913279132, 0.7791327913279132, 0.7804878048780488, 0.7831978319783198, 0.7831978319783198, 0.7859078590785907, 0.7886178861788617, 0.7886178861788617, 0.7899728997289973, 0.7899728997289973, 0.7913279132791328, 0.7913279132791328, 0.7926829268292683, 0.7926829268292683, 0.7940379403794038, 0.7940379403794038, 0.7953929539295393, 0.7953929539295393, 0.7967479674796748, 0.7967479674796748, 0.7994579945799458, 0.7994579945799458, 0.8008130081300813, 0.8008130081300813, 0.8035230352303523, 0.8035230352303523, 0.8048780487804879, 0.8048780487804879, 0.8062330623306233, 0.8062330623306233, 0.8075880758807588, 0.8075880758807588, 0.8089430894308943, 0.8089430894308943, 0.8143631436314364, 0.8143631436314364, 0.8157181571815718, 0.8157181571815718, 0.8170731707317073, 0.8197831978319783, 0.8197831978319783, 0.8224932249322493, 0.8224932249322493, 0.8238482384823849, 0.8238482384823849, 0.8252032520325203, 0.8252032520325203, 0.8292682926829268, 0.8292682926829268, 0.8306233062330624, 0.8306233062330624, 0.8319783197831978, 0.8319783197831978, 0.8387533875338753, 0.8387533875338753, 0.8414634146341463, 0.8414634146341463, 0.8441734417344173, 0.8441734417344173, 0.8455284552845529, 0.8455284552845529, 0.8468834688346883, 0.8468834688346883, 0.8482384823848238, 0.8482384823848238, 0.8495934959349594, 0.8495934959349594, 0.8509485094850948, 0.8509485094850948, 0.8523035230352304, 0.8523035230352304, 0.8536585365853658, 0.8536585365853658, 0.8563685636856369, 0.8563685636856369, 0.8577235772357723, 0.8577235772357723, 0.8590785907859079, 0.8590785907859079, 0.8604336043360433, 0.8604336043360433, 0.8617886178861789, 0.8617886178861789, 0.8631436314363143, 0.8631436314363143, 0.8644986449864499, 0.8644986449864499, 0.8658536585365854, 0.8658536585365854, 0.8658536585365854, 0.8658536585365854, 0.8672086720867209, 0.8672086720867209, 0.8685636856368564, 0.8685636856368564, 0.8699186991869918, 0.8699186991869918, 0.8712737127371274, 0.8712737127371274, 0.8726287262872628, 0.8726287262872628, 0.8739837398373984, 0.8739837398373984, 0.8766937669376694, 0.8794037940379403, 0.8794037940379403, 0.8807588075880759, 0.8807588075880759, 0.8821138211382114, 0.8821138211382114, 0.8834688346883469, 0.8834688346883469, 0.8848238482384824, 0.8848238482384824, 0.8848238482384824, 0.8861788617886179, 0.8861788617886179, 0.8875338753387534, 0.8875338753387534, 0.8888888888888888, 0.8888888888888888, 0.8902439024390244, 0.8902439024390244, 0.8902439024390244, 0.8915989159891599, 0.8915989159891599, 0.8929539295392954, 0.8929539295392954, 0.8943089430894309, 0.8943089430894309, 0.8943089430894309, 0.8943089430894309, 0.8956639566395664, 0.8956639566395664, 0.8983739837398373, 0.8983739837398373, 0.8997289972899729, 0.8997289972899729, 0.9051490514905149, 0.9051490514905149, 0.907859078590786, 0.907859078590786, 0.9092140921409214, 0.9092140921409214, 0.9105691056910569, 0.9105691056910569, 0.9132791327913279, 0.9132791327913279, 0.9132791327913279, 0.9132791327913279, 0.9146341463414634, 0.9146341463414634, 0.9159891598915989, 0.9159891598915989, 0.9159891598915989, 0.9159891598915989, 0.9159891598915989, 0.9173441734417345, 0.9173441734417345, 0.9186991869918699, 0.9186991869918699, 0.9200542005420054, 0.9200542005420054, 0.9214092140921409, 0.9214092140921409, 0.9227642276422764, 0.9227642276422764, 0.924119241192412, 0.926829268292683, 0.926829268292683, 0.926829268292683, 0.926829268292683, 0.926829268292683, 0.926829268292683, 0.926829268292683, 0.926829268292683, 0.9281842818428184, 0.9281842818428184, 0.9308943089430894, 0.9308943089430894, 0.9322493224932249, 0.9322493224932249, 0.9322493224932249, 0.9322493224932249, 0.9349593495934959, 0.9349593495934959, 0.9376693766937669, 0.9376693766937669, 0.9390243902439024, 0.9390243902439024, 0.940379403794038, 0.940379403794038, 0.943089430894309, 0.943089430894309, 0.9444444444444444, 0.9444444444444444, 0.94579945799458, 0.94579945799458, 0.9471544715447154, 0.9471544715447154, 0.9498644986449865, 0.9498644986449865, 0.9512195121951219, 0.9512195121951219, 0.9512195121951219, 0.9512195121951219, 0.9525745257452575, 0.9525745257452575, 0.9539295392953929, 0.9539295392953929, 0.9539295392953929, 0.9539295392953929, 0.9552845528455285, 0.9552845528455285, 0.9552845528455285, 0.9552845528455285, 0.959349593495935, 0.959349593495935, 0.9607046070460704, 0.9607046070460704, 0.9607046070460704, 0.9607046070460704, 0.9607046070460704, 0.9607046070460704, 0.962059620596206, 0.962059620596206, 0.9634146341463414, 0.9634146341463414, 0.9634146341463414, 0.9634146341463414, 0.964769647696477, 0.964769647696477, 0.964769647696477, 0.964769647696477, 0.9661246612466124, 0.9661246612466124, 0.967479674796748, 0.967479674796748, 0.9688346883468835, 0.9688346883468835, 0.9701897018970189, 0.9701897018970189, 0.9715447154471545, 0.9715447154471545, 0.9728997289972899, 0.9728997289972899, 0.9728997289972899, 0.9728997289972899, 0.9728997289972899, 0.9728997289972899, 0.9742547425474255, 0.9742547425474255, 0.975609756097561, 0.975609756097561, 0.975609756097561, 0.975609756097561, 0.978319783197832, 0.978319783197832, 0.978319783197832, 0.978319783197832, 0.9796747967479674, 0.9796747967479674, 0.9796747967479674, 0.9796747967479674, 0.981029810298103, 0.981029810298103, 0.983739837398374, 0.983739837398374, 0.9850948509485095, 0.9850948509485095, 0.986449864498645, 0.986449864498645, 0.9878048780487805, 0.9878048780487805, 0.989159891598916, 0.989159891598916, 0.9905149051490515, 0.9905149051490515, 0.9905149051490515, 0.9905149051490515, 0.9905149051490515, 0.9905149051490515, 0.9932249322493225, 0.9932249322493225, 0.9959349593495935, 0.9959349593495935, 0.9959349593495935, 0.9959349593495935, 0.997289972899729, 0.997289972899729, 0.997289972899729, 0.997289972899729, 0.997289972899729, 0.997289972899729, 0.997289972899729, 0.997289972899729, 0.997289972899729, 0.997289972899729, 0.997289972899729, 0.997289972899729, 0.997289972899729, 0.997289972899729, 0.997289972899729, 0.997289972899729, 0.997289972899729, 0.997289972899729, 0.997289972899729, 0.997289972899729, 0.997289972899729, 0.997289972899729, 0.997289972899729, 0.997289972899729, 0.997289972899729, 0.997289972899729, 0.9986449864498645, 0.9986449864498645, 1.0, 1.0, 1.0, 1.0]}, {\"line\": {\"color\": \"black\", \"dash\": \"dot\", \"width\": 1.5}, \"type\": \"scatter\", \"x\": [0, 1], \"y\": [0, 1]}],                        {\"template\": {\"data\": {\"bar\": [{\"error_x\": {\"color\": \"#2a3f5f\"}, \"error_y\": {\"color\": \"#2a3f5f\"}, \"marker\": {\"line\": {\"color\": \"#E5ECF6\", \"width\": 0.5}}, \"type\": \"bar\"}], \"barpolar\": [{\"marker\": {\"line\": {\"color\": \"#E5ECF6\", \"width\": 0.5}}, \"type\": \"barpolar\"}], \"carpet\": [{\"aaxis\": {\"endlinecolor\": \"#2a3f5f\", \"gridcolor\": \"white\", \"linecolor\": \"white\", \"minorgridcolor\": \"white\", \"startlinecolor\": \"#2a3f5f\"}, \"baxis\": {\"endlinecolor\": \"#2a3f5f\", \"gridcolor\": \"white\", \"linecolor\": \"white\", \"minorgridcolor\": \"white\", \"startlinecolor\": \"#2a3f5f\"}, \"type\": \"carpet\"}], \"choropleth\": [{\"colorbar\": {\"outlinewidth\": 0, \"ticks\": \"\"}, \"type\": \"choropleth\"}], \"contour\": [{\"colorbar\": {\"outlinewidth\": 0, \"ticks\": \"\"}, \"colorscale\": [[0.0, \"#0d0887\"], [0.1111111111111111, \"#46039f\"], [0.2222222222222222, \"#7201a8\"], [0.3333333333333333, \"#9c179e\"], [0.4444444444444444, \"#bd3786\"], [0.5555555555555556, \"#d8576b\"], [0.6666666666666666, \"#ed7953\"], [0.7777777777777778, \"#fb9f3a\"], [0.8888888888888888, \"#fdca26\"], [1.0, \"#f0f921\"]], \"type\": \"contour\"}], \"contourcarpet\": [{\"colorbar\": {\"outlinewidth\": 0, \"ticks\": \"\"}, \"type\": \"contourcarpet\"}], \"heatmap\": [{\"colorbar\": {\"outlinewidth\": 0, \"ticks\": \"\"}, \"colorscale\": [[0.0, \"#0d0887\"], [0.1111111111111111, \"#46039f\"], [0.2222222222222222, \"#7201a8\"], [0.3333333333333333, \"#9c179e\"], [0.4444444444444444, \"#bd3786\"], [0.5555555555555556, \"#d8576b\"], [0.6666666666666666, \"#ed7953\"], [0.7777777777777778, \"#fb9f3a\"], [0.8888888888888888, \"#fdca26\"], [1.0, \"#f0f921\"]], \"type\": \"heatmap\"}], \"heatmapgl\": [{\"colorbar\": {\"outlinewidth\": 0, \"ticks\": \"\"}, \"colorscale\": [[0.0, \"#0d0887\"], [0.1111111111111111, \"#46039f\"], [0.2222222222222222, \"#7201a8\"], [0.3333333333333333, \"#9c179e\"], [0.4444444444444444, \"#bd3786\"], [0.5555555555555556, \"#d8576b\"], [0.6666666666666666, \"#ed7953\"], [0.7777777777777778, \"#fb9f3a\"], [0.8888888888888888, \"#fdca26\"], [1.0, \"#f0f921\"]], \"type\": \"heatmapgl\"}], \"histogram\": [{\"marker\": {\"colorbar\": {\"outlinewidth\": 0, \"ticks\": \"\"}}, \"type\": \"histogram\"}], \"histogram2d\": [{\"colorbar\": {\"outlinewidth\": 0, \"ticks\": \"\"}, \"colorscale\": [[0.0, \"#0d0887\"], [0.1111111111111111, \"#46039f\"], [0.2222222222222222, \"#7201a8\"], [0.3333333333333333, \"#9c179e\"], [0.4444444444444444, \"#bd3786\"], [0.5555555555555556, \"#d8576b\"], [0.6666666666666666, \"#ed7953\"], [0.7777777777777778, \"#fb9f3a\"], [0.8888888888888888, \"#fdca26\"], [1.0, \"#f0f921\"]], \"type\": \"histogram2d\"}], \"histogram2dcontour\": [{\"colorbar\": {\"outlinewidth\": 0, \"ticks\": \"\"}, \"colorscale\": [[0.0, \"#0d0887\"], [0.1111111111111111, \"#46039f\"], [0.2222222222222222, \"#7201a8\"], [0.3333333333333333, \"#9c179e\"], [0.4444444444444444, \"#bd3786\"], [0.5555555555555556, \"#d8576b\"], [0.6666666666666666, \"#ed7953\"], [0.7777777777777778, \"#fb9f3a\"], [0.8888888888888888, \"#fdca26\"], [1.0, \"#f0f921\"]], \"type\": \"histogram2dcontour\"}], \"mesh3d\": [{\"colorbar\": {\"outlinewidth\": 0, \"ticks\": \"\"}, \"type\": \"mesh3d\"}], \"parcoords\": [{\"line\": {\"colorbar\": {\"outlinewidth\": 0, \"ticks\": \"\"}}, \"type\": \"parcoords\"}], \"pie\": [{\"automargin\": true, \"type\": \"pie\"}], \"scatter\": [{\"marker\": {\"colorbar\": {\"outlinewidth\": 0, \"ticks\": \"\"}}, \"type\": \"scatter\"}], \"scatter3d\": [{\"line\": {\"colorbar\": {\"outlinewidth\": 0, \"ticks\": \"\"}}, \"marker\": {\"colorbar\": {\"outlinewidth\": 0, \"ticks\": \"\"}}, \"type\": \"scatter3d\"}], \"scattercarpet\": [{\"marker\": {\"colorbar\": {\"outlinewidth\": 0, \"ticks\": \"\"}}, \"type\": \"scattercarpet\"}], \"scattergeo\": [{\"marker\": {\"colorbar\": {\"outlinewidth\": 0, \"ticks\": \"\"}}, \"type\": \"scattergeo\"}], \"scattergl\": [{\"marker\": {\"colorbar\": {\"outlinewidth\": 0, \"ticks\": \"\"}}, \"type\": \"scattergl\"}], \"scattermapbox\": [{\"marker\": {\"colorbar\": {\"outlinewidth\": 0, \"ticks\": \"\"}}, \"type\": \"scattermapbox\"}], \"scatterpolar\": [{\"marker\": {\"colorbar\": {\"outlinewidth\": 0, \"ticks\": \"\"}}, \"type\": \"scatterpolar\"}], \"scatterpolargl\": [{\"marker\": {\"colorbar\": {\"outlinewidth\": 0, \"ticks\": \"\"}}, \"type\": \"scatterpolargl\"}], \"scatterternary\": [{\"marker\": {\"colorbar\": {\"outlinewidth\": 0, \"ticks\": \"\"}}, \"type\": \"scatterternary\"}], \"surface\": [{\"colorbar\": {\"outlinewidth\": 0, \"ticks\": \"\"}, \"colorscale\": [[0.0, \"#0d0887\"], [0.1111111111111111, \"#46039f\"], [0.2222222222222222, \"#7201a8\"], [0.3333333333333333, \"#9c179e\"], [0.4444444444444444, \"#bd3786\"], [0.5555555555555556, \"#d8576b\"], [0.6666666666666666, \"#ed7953\"], [0.7777777777777778, \"#fb9f3a\"], [0.8888888888888888, \"#fdca26\"], [1.0, \"#f0f921\"]], \"type\": \"surface\"}], \"table\": [{\"cells\": {\"fill\": {\"color\": \"#EBF0F8\"}, \"line\": {\"color\": \"white\"}}, \"header\": {\"fill\": {\"color\": \"#C8D4E3\"}, \"line\": {\"color\": \"white\"}}, \"type\": \"table\"}]}, \"layout\": {\"annotationdefaults\": {\"arrowcolor\": \"#2a3f5f\", \"arrowhead\": 0, \"arrowwidth\": 1}, \"autotypenumbers\": \"strict\", \"coloraxis\": {\"colorbar\": {\"outlinewidth\": 0, \"ticks\": \"\"}}, \"colorscale\": {\"diverging\": [[0, \"#8e0152\"], [0.1, \"#c51b7d\"], [0.2, \"#de77ae\"], [0.3, \"#f1b6da\"], [0.4, \"#fde0ef\"], [0.5, \"#f7f7f7\"], [0.6, \"#e6f5d0\"], [0.7, \"#b8e186\"], [0.8, \"#7fbc41\"], [0.9, \"#4d9221\"], [1, \"#276419\"]], \"sequential\": [[0.0, \"#0d0887\"], [0.1111111111111111, \"#46039f\"], [0.2222222222222222, \"#7201a8\"], [0.3333333333333333, \"#9c179e\"], [0.4444444444444444, \"#bd3786\"], [0.5555555555555556, \"#d8576b\"], [0.6666666666666666, \"#ed7953\"], [0.7777777777777778, \"#fb9f3a\"], [0.8888888888888888, \"#fdca26\"], [1.0, \"#f0f921\"]], \"sequentialminus\": [[0.0, \"#0d0887\"], [0.1111111111111111, \"#46039f\"], [0.2222222222222222, \"#7201a8\"], [0.3333333333333333, \"#9c179e\"], [0.4444444444444444, \"#bd3786\"], [0.5555555555555556, \"#d8576b\"], [0.6666666666666666, \"#ed7953\"], [0.7777777777777778, \"#fb9f3a\"], [0.8888888888888888, \"#fdca26\"], [1.0, \"#f0f921\"]]}, \"colorway\": [\"#636efa\", \"#EF553B\", \"#00cc96\", \"#ab63fa\", \"#FFA15A\", \"#19d3f3\", \"#FF6692\", \"#B6E880\", \"#FF97FF\", \"#FECB52\"], \"font\": {\"color\": \"#2a3f5f\"}, \"geo\": {\"bgcolor\": \"white\", \"lakecolor\": \"white\", \"landcolor\": \"#E5ECF6\", \"showlakes\": true, \"showland\": true, \"subunitcolor\": \"white\"}, \"hoverlabel\": {\"align\": \"left\"}, \"hovermode\": \"closest\", \"mapbox\": {\"style\": \"light\"}, \"paper_bgcolor\": \"white\", \"plot_bgcolor\": \"#E5ECF6\", \"polar\": {\"angularaxis\": {\"gridcolor\": \"white\", \"linecolor\": \"white\", \"ticks\": \"\"}, \"bgcolor\": \"#E5ECF6\", \"radialaxis\": {\"gridcolor\": \"white\", \"linecolor\": \"white\", \"ticks\": \"\"}}, \"scene\": {\"xaxis\": {\"backgroundcolor\": \"#E5ECF6\", \"gridcolor\": \"white\", \"gridwidth\": 2, \"linecolor\": \"white\", \"showbackground\": true, \"ticks\": \"\", \"zerolinecolor\": \"white\"}, \"yaxis\": {\"backgroundcolor\": \"#E5ECF6\", \"gridcolor\": \"white\", \"gridwidth\": 2, \"linecolor\": \"white\", \"showbackground\": true, \"ticks\": \"\", \"zerolinecolor\": \"white\"}, \"zaxis\": {\"backgroundcolor\": \"#E5ECF6\", \"gridcolor\": \"white\", \"gridwidth\": 2, \"linecolor\": \"white\", \"showbackground\": true, \"ticks\": \"\", \"zerolinecolor\": \"white\"}}, \"shapedefaults\": {\"line\": {\"color\": \"#2a3f5f\"}}, \"ternary\": {\"aaxis\": {\"gridcolor\": \"white\", \"linecolor\": \"white\", \"ticks\": \"\"}, \"baxis\": {\"gridcolor\": \"white\", \"linecolor\": \"white\", \"ticks\": \"\"}, \"bgcolor\": \"#E5ECF6\", \"caxis\": {\"gridcolor\": \"white\", \"linecolor\": \"white\", \"ticks\": \"\"}}, \"title\": {\"x\": 0.05}, \"xaxis\": {\"automargin\": true, \"gridcolor\": \"white\", \"linecolor\": \"white\", \"ticks\": \"\", \"title\": {\"standoff\": 15}, \"zerolinecolor\": \"white\", \"zerolinewidth\": 2}, \"yaxis\": {\"automargin\": true, \"gridcolor\": \"white\", \"linecolor\": \"white\", \"ticks\": \"\", \"title\": {\"standoff\": 15}, \"zerolinecolor\": \"white\", \"zerolinewidth\": 2}}}, \"title\": {\"text\": \"ROC Curve (0.879)\"}, \"xaxis\": {\"title\": {\"text\": \"false positive rate\"}}, \"yaxis\": {\"title\": {\"text\": \"true positive rate\"}}},                        {\"responsive\": true}                    ).then(function(){\n",
       "                            \n",
       "var gd = document.getElementById('39282f7d-7653-4cc9-8dd4-c651a230aef5');\n",
       "var x = new MutationObserver(function (mutations, observer) {{\n",
       "        var display = window.getComputedStyle(gd).display;\n",
       "        if (!display || display === 'none') {{\n",
       "            console.log([gd, 'removed!']);\n",
       "            Plotly.purge(gd);\n",
       "            observer.disconnect();\n",
       "        }}\n",
       "}});\n",
       "\n",
       "// Listen for the removal of the full notebook cells\n",
       "var notebookContainer = gd.closest('#notebook-container');\n",
       "if (notebookContainer) {{\n",
       "    x.observe(notebookContainer, {childList: true});\n",
       "}}\n",
       "\n",
       "// Listen for the clearing of the current output cell\n",
       "var outputEl = gd.closest('.output');\n",
       "if (outputEl) {{\n",
       "    x.observe(outputEl, {childList: true});\n",
       "}}\n",
       "\n",
       "                        })                };                });            </script>        </div>"
      ]
     },
     "metadata": {},
     "output_type": "display_data"
    }
   ],
   "source": [
    "roccurve()"
   ]
  },
  {
   "cell_type": "code",
   "execution_count": 21,
   "metadata": {},
   "outputs": [
    {
     "name": "stdout",
     "output_type": "stream",
     "text": [
      "Logistic Regression\n",
      "acc: 0.973\n",
      "recall: 0.948509485094851\n",
      "f1: 0.9453072248480756\n"
     ]
    },
    {
     "data": {
      "application/vnd.plotly.v1+json": {
       "config": {
        "linkText": "Export to plot.ly",
        "plotlyServerURL": "https://plot.ly",
        "showLink": false
       },
       "data": [
        {
         "fill": "tozeroy",
         "line": {
          "color": "rgb(22,96,167)",
          "width": 2
         },
         "name": "Roc:",
         "type": "scatter",
         "x": [
          0,
          0,
          0,
          0,
          0,
          0,
          0,
          0,
          0,
          0,
          0,
          0.0004420866489832007,
          0.001326259946949602,
          0.003978779840848806,
          0.004862953138815208,
          0.005747126436781609,
          0.005747126436781609,
          0.00618921308576481,
          0.00618921308576481,
          0.007073386383731211,
          0.007073386383731211,
          0.007515473032714412,
          0.007515473032714412,
          0.007515473032714412,
          0.007957559681697613,
          0.007957559681697613,
          0.008841732979664015,
          0.008841732979664015,
          0.009725906277630416,
          0.009725906277630416,
          0.010167992926613616,
          0.010167992926613616,
          0.010167992926613616,
          0.010610079575596816,
          0.010610079575596816,
          0.011052166224580018,
          0.011052166224580018,
          0.011494252873563218,
          0.011494252873563218,
          0.011936339522546418,
          0.011936339522546418,
          0.01237842617152962,
          0.01237842617152962,
          0.01282051282051282,
          0.01282051282051282,
          0.014588859416445624,
          0.014588859416445624,
          0.014588859416445624,
          0.015030946065428824,
          0.015030946065428824,
          0.015915119363395226,
          0.015915119363395226,
          0.016357206012378427,
          0.016357206012378427,
          0.016799292661361626,
          0.016799292661361626,
          0.018125552608311227,
          0.018125552608311227,
          0.01856763925729443,
          0.01856763925729443,
          0.01856763925729443,
          0.01856763925729443,
          0.01856763925729443,
          0.01900972590627763,
          0.01900972590627763,
          0.019451812555260833,
          0.019451812555260833,
          0.020335985853227233,
          0.020335985853227233,
          0.020778072502210435,
          0.020778072502210435,
          0.021662245800176835,
          0.021662245800176835,
          0.022104332449160036,
          0.022104332449160036,
          0.022546419098143235,
          0.022546419098143235,
          0.022546419098143235,
          0.022546419098143235,
          0.023430592396109638,
          0.023430592396109638,
          0.023872679045092837,
          0.023872679045092837,
          0.02475685234305924,
          0.02475685234305924,
          0.025198938992042442,
          0.025198938992042442,
          0.025198938992042442,
          0.02564102564102564,
          0.02564102564102564,
          0.026083112290008842,
          0.026083112290008842,
          0.026083112290008842,
          0.026083112290008842,
          0.026083112290008842,
          0.026083112290008842,
          0.026525198938992044,
          0.026525198938992044,
          0.026967285587975242,
          0.026967285587975242,
          0.026967285587975242,
          0.028735632183908046,
          0.028735632183908046,
          0.02961980548187445,
          0.02961980548187445,
          0.030061892130857647,
          0.030061892130857647,
          0.030061892130857647,
          0.030061892130857647,
          0.03050397877984085,
          0.03050397877984085,
          0.03094606542882405,
          0.03094606542882405,
          0.03138815207780725,
          0.03138815207780725,
          0.03138815207780725,
          0.03227232537577365,
          0.03227232537577365,
          0.032714412024756855,
          0.032714412024756855,
          0.03359858532272325,
          0.034482758620689655,
          0.034482758620689655,
          0.034924845269672856,
          0.034924845269672856,
          0.034924845269672856,
          0.034924845269672856,
          0.03536693191865606,
          0.03536693191865606,
          0.03580901856763926,
          0.03580901856763926,
          0.03669319186560566,
          0.03669319186560566,
          0.03713527851458886,
          0.03713527851458886,
          0.03713527851458886,
          0.03757736516357206,
          0.03757736516357206,
          0.03801945181255526,
          0.03801945181255526,
          0.040229885057471264,
          0.040229885057471264,
          0.040671971706454466,
          0.040671971706454466,
          0.04111405835543767,
          0.04111405835543767,
          0.04155614500442087,
          0.04155614500442087,
          0.042440318302387266,
          0.042440318302387266,
          0.04332449160035367,
          0.04332449160035367,
          0.04376657824933687,
          0.04376657824933687,
          0.044650751547303275,
          0.04509283819628647,
          0.04509283819628647,
          0.04553492484526967,
          0.04553492484526967,
          0.04597701149425287,
          0.04597701149425287,
          0.046419098143236075,
          0.046419098143236075,
          0.046861184792219276,
          0.046861184792219276,
          0.04730327144120248,
          0.04730327144120248,
          0.04774535809018567,
          0.04774535809018567,
          0.04774535809018567,
          0.04774535809018567,
          0.04774535809018567,
          0.048187444739168875,
          0.048187444739168875,
          0.04862953138815208,
          0.04862953138815208,
          0.04951370468611848,
          0.04951370468611848,
          0.04995579133510168,
          0.04995579133510168,
          0.04995579133510168,
          0.050397877984084884,
          0.050397877984084884,
          0.05083996463306808,
          0.05083996463306808,
          0.05083996463306808,
          0.05128205128205128,
          0.05128205128205128,
          0.05128205128205128,
          0.05172413793103448,
          0.05172413793103448,
          0.052608311229000886,
          0.052608311229000886,
          0.05349248452696728,
          0.05349248452696728,
          0.05349248452696728,
          0.05349248452696728,
          0.053934571175950484,
          0.053934571175950484,
          0.05481874447391689,
          0.05481874447391689,
          0.05526083112290009,
          0.05526083112290009,
          0.05614500442086649,
          0.05614500442086649,
          0.05614500442086649,
          0.05658709106984969,
          0.05658709106984969,
          0.05658709106984969,
          0.05702917771883289,
          0.05702917771883289,
          0.05747126436781609,
          0.05747126436781609,
          0.05747126436781609,
          0.05747126436781609,
          0.05747126436781609,
          0.05747126436781609,
          0.05791335101679929,
          0.05791335101679929,
          0.058355437665782495,
          0.058355437665782495,
          0.058797524314765696,
          0.058797524314765696,
          0.058797524314765696,
          0.0592396109637489,
          0.0592396109637489,
          0.0592396109637489,
          0.05968169761273209,
          0.05968169761273209,
          0.05968169761273209,
          0.0605658709106985,
          0.0605658709106985,
          0.0610079575596817,
          0.0610079575596817,
          0.0610079575596817,
          0.0614500442086649,
          0.0614500442086649,
          0.0614500442086649,
          0.0618921308576481,
          0.0618921308576481,
          0.0623342175066313,
          0.0623342175066313,
          0.0627763041556145,
          0.0627763041556145,
          0.0627763041556145,
          0.06321839080459771,
          0.06321839080459771,
          0.06321839080459771,
          0.06321839080459771,
          0.0645446507515473,
          0.0645446507515473,
          0.0649867374005305,
          0.0649867374005305,
          0.06542882404951371,
          0.06542882404951371,
          0.06542882404951371,
          0.06542882404951371,
          0.06631299734748011,
          0.06631299734748011,
          0.06763925729442971,
          0.06763925729442971,
          0.06763925729442971,
          0.0680813439434129,
          0.0680813439434129,
          0.06896551724137931,
          0.06896551724137931,
          0.06984969053934571,
          0.06984969053934571,
          0.07073386383731212,
          0.07073386383731212,
          0.07117595048629531,
          0.07117595048629531,
          0.07206012378426171,
          0.07206012378426171,
          0.07338638373121131,
          0.07338638373121131,
          0.07338638373121131,
          0.07338638373121131,
          0.07427055702917772,
          0.07427055702917772,
          0.07471264367816093,
          0.07471264367816093,
          0.07603890362511052,
          0.07603890362511052,
          0.07648099027409372,
          0.07648099027409372,
          0.07692307692307693,
          0.07692307692307693,
          0.07692307692307693,
          0.07692307692307693,
          0.07736516357206012,
          0.07736516357206012,
          0.07824933687002653,
          0.07824933687002653,
          0.07824933687002653,
          0.07913351016799293,
          0.07913351016799293,
          0.08090185676392574,
          0.08090185676392574,
          0.08134394341290893,
          0.08134394341290893,
          0.08178603006189213,
          0.08178603006189213,
          0.08178603006189213,
          0.08178603006189213,
          0.08222811671087533,
          0.08222811671087533,
          0.08267020335985853,
          0.08267020335985853,
          0.08443854995579134,
          0.08443854995579134,
          0.08443854995579134,
          0.08443854995579134,
          0.08532272325375774,
          0.08532272325375774,
          0.08532272325375774,
          0.08532272325375774,
          0.08620689655172414,
          0.08620689655172414,
          0.08885941644562334,
          0.08974358974358974,
          0.08974358974358974,
          0.08974358974358974,
          0.08974358974358974,
          0.09018567639257294,
          0.09018567639257294,
          0.09062776304155615,
          0.09062776304155615,
          0.09062776304155615,
          0.09106984969053934,
          0.09106984969053934,
          0.09151193633952255,
          0.09151193633952255,
          0.09195402298850575,
          0.09195402298850575,
          0.09239610963748895,
          0.09239610963748895,
          0.09283819628647215,
          0.09283819628647215,
          0.09372236958443855,
          0.09372236958443855,
          0.09416445623342175,
          0.09416445623342175,
          0.09416445623342175,
          0.09504862953138815,
          0.09504862953138815,
          0.09504862953138815,
          0.09549071618037135,
          0.09549071618037135,
          0.09593280282935455,
          0.09593280282935455,
          0.09637488947833775,
          0.09637488947833775,
          0.09637488947833775,
          0.09637488947833775,
          0.09858532272325375,
          0.09858532272325375,
          0.10035366931918656,
          0.10035366931918656,
          0.10123784261715296,
          0.10167992926613616,
          0.10167992926613616,
          0.10167992926613616,
          0.10167992926613616,
          0.10344827586206896,
          0.10344827586206896,
          0.10389036251105217,
          0.10389036251105217,
          0.10433244916003537,
          0.10433244916003537,
          0.10433244916003537,
          0.10610079575596817,
          0.10610079575596817,
          0.10610079575596817,
          0.10698496905393456,
          0.10698496905393456,
          0.10786914235190097,
          0.10786914235190097,
          0.10786914235190097,
          0.10831122900088418,
          0.10831122900088418,
          0.10831122900088418,
          0.10831122900088418,
          0.11140583554376658,
          0.11140583554376658,
          0.11229000884173299,
          0.11229000884173299,
          0.11229000884173299,
          0.11361626878868258,
          0.11361626878868258,
          0.11405835543766578,
          0.11405835543766578,
          0.11405835543766578,
          0.11538461538461539,
          0.11538461538461539,
          0.11538461538461539,
          0.11582670203359859,
          0.11582670203359859,
          0.11582670203359859,
          0.11759504862953139,
          0.11759504862953139,
          0.11803713527851459,
          0.11803713527851459,
          0.1184792219274978,
          0.1184792219274978,
          0.11892130857648099,
          0.11892130857648099,
          0.11936339522546419,
          0.12024756852343059,
          0.12157382847038019,
          0.12157382847038019,
          0.12245800176834659,
          0.12245800176834659,
          0.123342175066313,
          0.123342175066313,
          0.1246684350132626,
          0.1246684350132626,
          0.125552608311229,
          0.125552608311229,
          0.1259946949602122,
          0.1259946949602122,
          0.1268788682581786,
          0.1268788682581786,
          0.1273209549071618,
          0.1273209549071618,
          0.127763041556145,
          0.127763041556145,
          0.1290893015030946,
          0.1290893015030946,
          0.1304155614500442,
          0.1304155614500442,
          0.13085764809902742,
          0.13085764809902742,
          0.13218390804597702,
          0.13218390804597702,
          0.13262599469496023,
          0.13262599469496023,
          0.13704686118479223,
          0.13704686118479223,
          0.1374889478337754,
          0.1374889478337754,
          0.138815207780725,
          0.138815207780725,
          0.13925729442970822,
          0.13925729442970822,
          0.14146772767462423,
          0.14146772767462423,
          0.14279398762157383,
          0.14279398762157383,
          0.14412024756852343,
          0.14412024756852343,
          0.14500442086648982,
          0.14500442086648982,
          0.14544650751547303,
          0.14544650751547303,
          0.14633068081343945,
          0.14721485411140584,
          0.14809902740937222,
          0.14809902740937222,
          0.14854111405835543,
          0.14854111405835543,
          0.14898320070733864,
          0.14898320070733864,
          0.14986737400530503,
          0.15075154730327145,
          0.15119363395225463,
          0.15119363395225463,
          0.15207780725022105,
          0.15207780725022105,
          0.15251989389920426,
          0.15251989389920426,
          0.15251989389920426,
          0.15384615384615385,
          0.15384615384615385,
          0.15473032714412024,
          0.15473032714412024,
          0.15473032714412024,
          0.15561450044208666,
          0.15561450044208666,
          0.15870910698496907,
          0.15870910698496907,
          0.15915119363395225,
          0.15915119363395225,
          0.16003536693191867,
          0.16003536693191867,
          0.16003536693191867,
          0.16136162687886826,
          0.16136162687886826,
          0.16136162687886826,
          0.16312997347480107,
          0.16312997347480107,
          0.16357206012378425,
          0.16357206012378425,
          0.16489832007073385,
          0.16489832007073385,
          0.16578249336870027,
          0.16578249336870027,
          0.16666666666666666,
          0.16666666666666666,
          0.16710875331564987,
          0.16710875331564987,
          0.16931918656056588,
          0.16931918656056588,
          0.17285587975243147,
          0.17285587975243147,
          0.17418213969938107,
          0.17418213969938107,
          0.1755083996463307,
          0.1755083996463307,
          0.1799292661361627,
          0.1799292661361627,
          0.1808134394341291,
          0.1808134394341291,
          0.1825817860300619,
          0.1825817860300619,
          0.1830238726790451,
          0.1830238726790451,
          0.1839080459770115,
          0.1839080459770115,
          0.1852343059239611,
          0.1852343059239611,
          0.1852343059239611,
          0.1861184792219275,
          0.1861184792219275,
          0.1874447391688771,
          0.1874447391688771,
          0.1887709991158267,
          0.1887709991158267,
          0.1905393457117595,
          0.1905393457117595,
          0.1914235190097259,
          0.1914235190097259,
          0.1918656056587091,
          0.1918656056587091,
          0.1940760389036251,
          0.1940760389036251,
          0.1962864721485411,
          0.1962864721485411,
          0.19849690539345713,
          0.19849690539345713,
          0.19982316534040673,
          0.19982316534040673,
          0.20380194518125552,
          0.20380194518125552,
          0.20557029177718833,
          0.20557029177718833,
          0.20645446507515472,
          0.20645446507515472,
          0.20689655172413793,
          0.20689655172413793,
          0.20778072502210435,
          0.20778072502210435,
          0.20866489832007074,
          0.20866489832007074,
          0.20954907161803712,
          0.20954907161803712,
          0.20999115826702033,
          0.20999115826702033,
          0.21175950486295314,
          0.21175950486295314,
          0.21264367816091953,
          0.21264367816091953,
          0.21396993810786913,
          0.21396993810786913,
          0.21529619805481875,
          0.21529619805481875,
          0.21750663129973474,
          0.21750663129973474,
          0.21927497789566755,
          0.21927497789566755,
          0.21971706454465076,
          0.22060123784261715,
          0.22148541114058357,
          0.22148541114058357,
          0.22413793103448276,
          0.22413793103448276,
          0.22546419098143236,
          0.22546419098143236,
          0.22767462422634838,
          0.22767462422634838,
          0.22811671087533156,
          0.22811671087533156,
          0.22855879752431477,
          0.22855879752431477,
          0.23076923076923078,
          0.23076923076923078,
          0.23076923076923078,
          0.2369584438549956,
          0.2369584438549956,
          0.23784261715296198,
          0.23784261715296198,
          0.23872679045092837,
          0.23872679045092837,
          0.2396109637488948,
          0.2396109637488948,
          0.2413793103448276,
          0.242263483642794,
          0.242263483642794,
          0.24314765694076038,
          0.24314765694076038,
          0.2475685234305924,
          0.2475685234305924,
          0.2480106100795756,
          0.2480106100795756,
          0.2502210433244916,
          0.251105216622458,
          0.251105216622458,
          0.2524314765694076,
          0.2524314765694076,
          0.2550839964633068,
          0.2550839964633068,
          0.25596816976127323,
          0.2568523430592396,
          0.2581786030061892,
          0.2581786030061892,
          0.25906277630415564,
          0.25906277630415564,
          0.2595048629531388,
          0.2595048629531388,
          0.2661361626878868,
          0.2661361626878868,
          0.2696728558797524,
          0.2696728558797524,
          0.2723253757736516,
          0.2723253757736516,
          0.28116710875331563,
          0.28116710875331563,
          0.2838196286472148,
          0.2838196286472148,
          0.2891246684350133,
          0.29000884173297964,
          0.2926613616268789,
          0.2926613616268789,
          0.29929266136162685,
          0.29929266136162685,
          0.3001768346595933,
          0.3010610079575597,
          0.3019451812555261,
          0.3032714412024757,
          0.3032714412024757,
          0.3112290008841733,
          0.3112290008841733,
          0.3116710875331565,
          0.3116710875331565,
          0.3129973474801061,
          0.3129973474801061,
          0.3187444739168877,
          0.3187444739168877,
          0.3196286472148541,
          0.3196286472148541,
          0.3196286472148541,
          0.3249336870026525,
          0.32581786030061893,
          0.33510167992926615,
          0.3359858532272325,
          0.33687002652519893,
          0.33775419982316535,
          0.33819628647214856,
          0.33819628647214856,
          0.3505747126436782,
          0.3505747126436782,
          0.35587975243147657,
          0.35587975243147657,
          0.36427939876215737,
          0.3651635720601238,
          0.3673740053050398,
          0.3673740053050398,
          0.3687002652519894,
          0.3687002652519894,
          0.3740053050397878,
          0.3740053050397878,
          0.3762157382847038,
          0.3762157382847038,
          0.3775419982316534,
          0.3775419982316534,
          0.38992042440318303,
          0.38992042440318303,
          0.3925729442970822,
          0.3925729442970822,
          0.3947833775419982,
          0.3947833775419982,
          0.40583554376657827,
          0.40583554376657827,
          0.41954022988505746,
          0.41954022988505746,
          0.4270557029177719,
          0.42793987621573826,
          0.42838196286472147,
          0.42838196286472147,
          0.4292661361626879,
          0.4292661361626879,
          0.4451812555260831,
          0.44606542882404954,
          0.45490716180371354,
          0.45490716180371354,
          0.46109637488947836,
          0.4619805481874447,
          0.47214854111405835,
          0.47214854111405835,
          0.47789566755083995,
          0.47789566755083995,
          0.4792219274977896,
          0.48010610079575594,
          0.4849690539345712,
          0.4858532272325376,
          0.4946949602122016,
          0.4946949602122016,
          0.4982316534040672,
          0.4982316534040672,
          0.4995579133510168,
          0.5004420866489832,
          0.5013262599469496,
          0.5013262599469496,
          0.5075154730327144,
          0.5083996463306808,
          0.5137046861184792,
          0.5137046861184792,
          0.5278514588859416,
          0.5278514588859416,
          0.5459770114942529,
          0.5459770114942529,
          0.5592396109637489,
          0.5592396109637489,
          0.5623342175066313,
          0.5623342175066313,
          0.5729442970822282,
          0.5729442970822282,
          0.5751547303271441,
          0.5760389036251106,
          0.5786914235190097,
          0.5795755968169761,
          0.5928381962864722,
          0.5928381962864722,
          0.5963748894783377,
          0.5963748894783377,
          0.6038903625110522,
          0.6047745358090185,
          0.6096374889478338,
          0.6096374889478338,
          0.6335101679929266,
          0.634394341290893,
          0.6374889478337754,
          0.6374889478337754,
          0.6414677276746242,
          0.6423519009725907,
          0.6666666666666666,
          0.6666666666666666,
          0.6724137931034483,
          0.6724137931034483,
          0.6755083996463307,
          0.6755083996463307,
          0.6825817860300619,
          0.6825817860300619,
          0.6878868258178603,
          0.6878868258178603,
          0.6954022988505747,
          0.6954022988505747,
          0.7011494252873564,
          0.7011494252873564,
          0.7020335985853228,
          0.7029177718832891,
          0.7086648983200707,
          0.7095490716180372,
          0.7099911582670203,
          0.7099911582670203,
          0.7161803713527851,
          0.7161803713527851,
          0.7170645446507515,
          0.717948717948718,
          0.7219274977895668,
          0.7219274977895668,
          0.7387267904509284,
          0.7396109637488948,
          0.764367816091954,
          0.7652519893899205,
          0.7670203359858532,
          0.7679045092838196,
          0.7855879752431476,
          0.786472148541114,
          0.8059239610963749,
          0.8068081343943413,
          0.8152077807250221,
          0.8160919540229885,
          0.8333333333333334,
          0.8342175066312998,
          0.8386383731211318,
          0.8395225464190982,
          0.850132625994695,
          0.8510167992926614,
          0.8572060123784262,
          0.8580901856763926,
          0.8748894783377542,
          0.8757736516357206,
          0.8775419982316534,
          0.8784261715296198,
          0.8797524314765695,
          0.8797524314765695,
          0.9098143236074271,
          0.9098143236074271,
          0.9398762157382847,
          0.9407603890362511,
          1
         ],
         "y": [
          0,
          0.0013550135501355014,
          0.005420054200542005,
          0.008130081300813009,
          0.009485094850948509,
          0.02032520325203252,
          0.02168021680216802,
          0.02710027100271003,
          0.028455284552845527,
          0.03116531165311653,
          0.04065040650406504,
          0.04065040650406504,
          0.04065040650406504,
          0.04065040650406504,
          0.04065040650406504,
          0.04065040650406504,
          0.044715447154471545,
          0.044715447154471545,
          0.04742547425474255,
          0.04742547425474255,
          0.04878048780487805,
          0.04878048780487805,
          0.052845528455284556,
          0.05420054200542006,
          0.05420054200542006,
          0.056910569105691054,
          0.056910569105691054,
          0.058265582655826556,
          0.058265582655826556,
          0.06233062330623306,
          0.06233062330623306,
          0.06639566395663957,
          0.06910569105691057,
          0.06910569105691057,
          0.07046070460704607,
          0.07046070460704607,
          0.07452574525745258,
          0.07452574525745258,
          0.07588075880758807,
          0.07588075880758807,
          0.07859078590785908,
          0.07859078590785908,
          0.07994579945799458,
          0.07994579945799458,
          0.08265582655826559,
          0.08265582655826559,
          0.08807588075880758,
          0.08943089430894309,
          0.08943089430894309,
          0.09078590785907859,
          0.09078590785907859,
          0.09349593495934959,
          0.09349593495934959,
          0.0975609756097561,
          0.0975609756097561,
          0.1002710027100271,
          0.1002710027100271,
          0.1016260162601626,
          0.1016260162601626,
          0.1043360433604336,
          0.10840108401084012,
          0.10975609756097561,
          0.11246612466124661,
          0.11246612466124661,
          0.11517615176151762,
          0.11517615176151762,
          0.11653116531165311,
          0.11653116531165311,
          0.11788617886178862,
          0.11788617886178862,
          0.12059620596205962,
          0.12059620596205962,
          0.12195121951219512,
          0.12195121951219512,
          0.12466124661246612,
          0.12466124661246612,
          0.12601626016260162,
          0.12872628726287264,
          0.13008130081300814,
          0.13008130081300814,
          0.13143631436314362,
          0.13143631436314362,
          0.13279132791327913,
          0.13279132791327913,
          0.13550135501355012,
          0.13550135501355012,
          0.14363143631436315,
          0.14634146341463414,
          0.14634146341463414,
          0.14769647696476965,
          0.14769647696476965,
          0.15040650406504066,
          0.15311653116531165,
          0.15447154471544716,
          0.15718157181571815,
          0.15853658536585366,
          0.15853658536585366,
          0.15989159891598917,
          0.15989159891598917,
          0.16260162601626016,
          0.16395663956639567,
          0.16395663956639567,
          0.16802168021680217,
          0.16802168021680217,
          0.17073170731707318,
          0.17073170731707318,
          0.17208672086720866,
          0.17479674796747968,
          0.17615176151761516,
          0.17615176151761516,
          0.18157181571815717,
          0.18157181571815717,
          0.18834688346883469,
          0.18834688346883469,
          0.19241192411924118,
          0.1937669376693767,
          0.1937669376693767,
          0.1978319783197832,
          0.1978319783197832,
          0.1991869918699187,
          0.1991869918699187,
          0.1991869918699187,
          0.2005420054200542,
          0.2005420054200542,
          0.2032520325203252,
          0.20596205962059622,
          0.2086720867208672,
          0.2086720867208672,
          0.21002710027100271,
          0.21002710027100271,
          0.21138211382113822,
          0.21138211382113822,
          0.21680216802168023,
          0.21680216802168023,
          0.21951219512195122,
          0.22086720867208673,
          0.22086720867208673,
          0.2222222222222222,
          0.2222222222222222,
          0.22357723577235772,
          0.22357723577235772,
          0.22764227642276422,
          0.22764227642276422,
          0.23035230352303523,
          0.23035230352303523,
          0.23170731707317074,
          0.23170731707317074,
          0.23306233062330622,
          0.23306233062330622,
          0.23441734417344173,
          0.23441734417344173,
          0.24119241192411925,
          0.24119241192411925,
          0.24390243902439024,
          0.24390243902439024,
          0.24390243902439024,
          0.24525745257452575,
          0.24525745257452575,
          0.24932249322493225,
          0.24932249322493225,
          0.25203252032520324,
          0.25203252032520324,
          0.2588075880758808,
          0.2588075880758808,
          0.26151761517615174,
          0.26151761517615174,
          0.2669376693766938,
          0.2669376693766938,
          0.2682926829268293,
          0.27100271002710025,
          0.27235772357723576,
          0.2750677506775068,
          0.2750677506775068,
          0.2804878048780488,
          0.2804878048780488,
          0.2859078590785908,
          0.2859078590785908,
          0.2872628726287263,
          0.2872628726287263,
          0.2886178861788618,
          0.29132791327913277,
          0.29132791327913277,
          0.2940379403794038,
          0.2940379403794038,
          0.3035230352303523,
          0.3062330623306233,
          0.3062330623306233,
          0.3157181571815718,
          0.31842818428184283,
          0.31842818428184283,
          0.31978319783197834,
          0.31978319783197834,
          0.3224932249322493,
          0.3224932249322493,
          0.3252032520325203,
          0.33062330623306235,
          0.3333333333333333,
          0.3333333333333333,
          0.33875338753387535,
          0.33875338753387535,
          0.34146341463414637,
          0.34146341463414637,
          0.34552845528455284,
          0.34552845528455284,
          0.34688346883468835,
          0.34959349593495936,
          0.34959349593495936,
          0.35501355013550134,
          0.35636856368563685,
          0.35636856368563685,
          0.35772357723577236,
          0.35772357723577236,
          0.3617886178861789,
          0.36449864498644985,
          0.36585365853658536,
          0.3699186991869919,
          0.37262872628726285,
          0.37262872628726285,
          0.3875338753387534,
          0.3875338753387534,
          0.3915989159891599,
          0.3915989159891599,
          0.39295392953929537,
          0.3956639566395664,
          0.3956639566395664,
          0.3970189701897019,
          0.4010840108401084,
          0.4010840108401084,
          0.4024390243902439,
          0.4051490514905149,
          0.4051490514905149,
          0.4078590785907859,
          0.4078590785907859,
          0.4105691056910569,
          0.4132791327913279,
          0.4132791327913279,
          0.4146341463414634,
          0.4173441734417344,
          0.4173441734417344,
          0.42140921409214094,
          0.42140921409214094,
          0.42276422764227645,
          0.42276422764227645,
          0.42953929539295393,
          0.43224932249322495,
          0.43224932249322495,
          0.43902439024390244,
          0.44173441734417346,
          0.44308943089430897,
          0.44308943089430897,
          0.4444444444444444,
          0.4444444444444444,
          0.44579945799457993,
          0.44579945799457993,
          0.44850948509485095,
          0.45121951219512196,
          0.45257452574525747,
          0.45257452574525747,
          0.453929539295393,
          0.453929539295393,
          0.45528455284552843,
          0.45799457994579945,
          0.45799457994579945,
          0.4634146341463415,
          0.4634146341463415,
          0.46747967479674796,
          0.46747967479674796,
          0.46883468834688347,
          0.46883468834688347,
          0.470189701897019,
          0.470189701897019,
          0.4715447154471545,
          0.4715447154471545,
          0.4742547425474255,
          0.4742547425474255,
          0.47831978319783197,
          0.481029810298103,
          0.4823848238482385,
          0.4823848238482385,
          0.489159891598916,
          0.489159891598916,
          0.4905149051490515,
          0.4905149051490515,
          0.4959349593495935,
          0.4959349593495935,
          0.5013550135501355,
          0.5013550135501355,
          0.5040650406504065,
          0.5067750677506775,
          0.510840108401084,
          0.510840108401084,
          0.513550135501355,
          0.513550135501355,
          0.516260162601626,
          0.5203252032520326,
          0.5203252032520326,
          0.521680216802168,
          0.521680216802168,
          0.5230352303523035,
          0.5230352303523035,
          0.5257452574525745,
          0.5257452574525745,
          0.5284552845528455,
          0.532520325203252,
          0.535230352303523,
          0.535230352303523,
          0.5365853658536586,
          0.5365853658536586,
          0.540650406504065,
          0.540650406504065,
          0.5447154471544715,
          0.5474254742547425,
          0.5487804878048781,
          0.5487804878048781,
          0.5501355013550135,
          0.5528455284552846,
          0.559620596205962,
          0.559620596205962,
          0.5609756097560976,
          0.5609756097560976,
          0.5609756097560976,
          0.5663956639566395,
          0.5691056910569106,
          0.573170731707317,
          0.573170731707317,
          0.5785907859078591,
          0.5785907859078591,
          0.5813008130081301,
          0.5826558265582655,
          0.5826558265582655,
          0.5853658536585366,
          0.5853658536585366,
          0.5867208672086721,
          0.5867208672086721,
          0.5907859078590786,
          0.5907859078590786,
          0.5934959349593496,
          0.5934959349593496,
          0.5948509485094851,
          0.5948509485094851,
          0.5962059620596206,
          0.5962059620596206,
          0.6056910569105691,
          0.6084010840108401,
          0.6084010840108401,
          0.6124661246612466,
          0.6192411924119241,
          0.6192411924119241,
          0.6205962059620597,
          0.6205962059620597,
          0.6219512195121951,
          0.6219512195121951,
          0.6233062330623306,
          0.6260162601626016,
          0.6273712737127372,
          0.6273712737127372,
          0.6300813008130082,
          0.6300813008130082,
          0.6355013550135501,
          0.6355013550135501,
          0.6355013550135501,
          0.6368563685636857,
          0.6395663956639567,
          0.6422764227642277,
          0.6422764227642277,
          0.6436314363143631,
          0.6436314363143631,
          0.6449864498644986,
          0.6449864498644986,
          0.6476964769647696,
          0.6490514905149052,
          0.6490514905149052,
          0.6531165311653117,
          0.6544715447154471,
          0.6544715447154471,
          0.6571815718157181,
          0.6571815718157181,
          0.6585365853658537,
          0.6612466124661247,
          0.6612466124661247,
          0.6626016260162602,
          0.6653116531165312,
          0.6693766937669376,
          0.6693766937669376,
          0.6720867208672087,
          0.6720867208672087,
          0.6747967479674797,
          0.6761517615176151,
          0.6761517615176151,
          0.6775067750677507,
          0.6775067750677507,
          0.6802168021680217,
          0.6815718157181572,
          0.6815718157181572,
          0.6842818428184282,
          0.6869918699186992,
          0.6869918699186992,
          0.6897018970189702,
          0.6910569105691057,
          0.6910569105691057,
          0.6937669376693767,
          0.6937669376693767,
          0.6964769647696477,
          0.6964769647696477,
          0.7032520325203252,
          0.7032520325203252,
          0.7059620596205962,
          0.7059620596205962,
          0.7059620596205962,
          0.7059620596205962,
          0.7086720867208672,
          0.7086720867208672,
          0.7100271002710027,
          0.7100271002710027,
          0.7113821138211383,
          0.7113821138211383,
          0.7140921409214093,
          0.7140921409214093,
          0.7154471544715447,
          0.7154471544715447,
          0.7168021680216802,
          0.7168021680216802,
          0.7181571815718157,
          0.7181571815718157,
          0.7195121951219512,
          0.7195121951219512,
          0.7208672086720868,
          0.7208672086720868,
          0.7222222222222222,
          0.7222222222222222,
          0.7235772357723578,
          0.7235772357723578,
          0.7276422764227642,
          0.7276422764227642,
          0.7289972899728997,
          0.7289972899728997,
          0.7303523035230353,
          0.7303523035230353,
          0.7317073170731707,
          0.7317073170731707,
          0.7371273712737128,
          0.7371273712737128,
          0.7384823848238482,
          0.7384823848238482,
          0.7398373983739838,
          0.7398373983739838,
          0.7425474254742548,
          0.7425474254742548,
          0.7466124661246613,
          0.7466124661246613,
          0.7479674796747967,
          0.7479674796747967,
          0.7493224932249323,
          0.7493224932249323,
          0.7506775067750677,
          0.7506775067750677,
          0.7506775067750677,
          0.7506775067750677,
          0.7520325203252033,
          0.7520325203252033,
          0.7547425474254743,
          0.7547425474254743,
          0.7560975609756098,
          0.7560975609756098,
          0.7560975609756098,
          0.7560975609756098,
          0.7588075880758808,
          0.7588075880758808,
          0.7601626016260162,
          0.7601626016260162,
          0.7628726287262872,
          0.7655826558265583,
          0.7655826558265583,
          0.7682926829268293,
          0.7682926829268293,
          0.7710027100271003,
          0.7750677506775068,
          0.7750677506775068,
          0.7764227642276422,
          0.7764227642276422,
          0.7777777777777778,
          0.7777777777777778,
          0.7791327913279132,
          0.7791327913279132,
          0.7804878048780488,
          0.7831978319783198,
          0.7831978319783198,
          0.7859078590785907,
          0.7886178861788617,
          0.7886178861788617,
          0.7899728997289973,
          0.7899728997289973,
          0.7913279132791328,
          0.7913279132791328,
          0.7926829268292683,
          0.7926829268292683,
          0.7940379403794038,
          0.7940379403794038,
          0.7953929539295393,
          0.7953929539295393,
          0.7967479674796748,
          0.7967479674796748,
          0.7994579945799458,
          0.7994579945799458,
          0.8008130081300813,
          0.8008130081300813,
          0.8035230352303523,
          0.8035230352303523,
          0.8048780487804879,
          0.8048780487804879,
          0.8062330623306233,
          0.8062330623306233,
          0.8075880758807588,
          0.8075880758807588,
          0.8089430894308943,
          0.8089430894308943,
          0.8143631436314364,
          0.8143631436314364,
          0.8157181571815718,
          0.8157181571815718,
          0.8170731707317073,
          0.8197831978319783,
          0.8197831978319783,
          0.8224932249322493,
          0.8224932249322493,
          0.8238482384823849,
          0.8238482384823849,
          0.8252032520325203,
          0.8252032520325203,
          0.8292682926829268,
          0.8292682926829268,
          0.8306233062330624,
          0.8306233062330624,
          0.8319783197831978,
          0.8319783197831978,
          0.8387533875338753,
          0.8387533875338753,
          0.8414634146341463,
          0.8414634146341463,
          0.8441734417344173,
          0.8441734417344173,
          0.8455284552845529,
          0.8455284552845529,
          0.8468834688346883,
          0.8468834688346883,
          0.8482384823848238,
          0.8482384823848238,
          0.8495934959349594,
          0.8495934959349594,
          0.8509485094850948,
          0.8509485094850948,
          0.8523035230352304,
          0.8523035230352304,
          0.8536585365853658,
          0.8536585365853658,
          0.8563685636856369,
          0.8563685636856369,
          0.8577235772357723,
          0.8577235772357723,
          0.8590785907859079,
          0.8590785907859079,
          0.8604336043360433,
          0.8604336043360433,
          0.8617886178861789,
          0.8617886178861789,
          0.8631436314363143,
          0.8631436314363143,
          0.8644986449864499,
          0.8644986449864499,
          0.8658536585365854,
          0.8658536585365854,
          0.8658536585365854,
          0.8658536585365854,
          0.8672086720867209,
          0.8672086720867209,
          0.8685636856368564,
          0.8685636856368564,
          0.8699186991869918,
          0.8699186991869918,
          0.8712737127371274,
          0.8712737127371274,
          0.8726287262872628,
          0.8726287262872628,
          0.8739837398373984,
          0.8739837398373984,
          0.8766937669376694,
          0.8794037940379403,
          0.8794037940379403,
          0.8807588075880759,
          0.8807588075880759,
          0.8821138211382114,
          0.8821138211382114,
          0.8834688346883469,
          0.8834688346883469,
          0.8848238482384824,
          0.8848238482384824,
          0.8848238482384824,
          0.8861788617886179,
          0.8861788617886179,
          0.8875338753387534,
          0.8875338753387534,
          0.8888888888888888,
          0.8888888888888888,
          0.8902439024390244,
          0.8902439024390244,
          0.8902439024390244,
          0.8915989159891599,
          0.8915989159891599,
          0.8929539295392954,
          0.8929539295392954,
          0.8943089430894309,
          0.8943089430894309,
          0.8943089430894309,
          0.8943089430894309,
          0.8956639566395664,
          0.8956639566395664,
          0.8983739837398373,
          0.8983739837398373,
          0.8997289972899729,
          0.8997289972899729,
          0.9051490514905149,
          0.9051490514905149,
          0.907859078590786,
          0.907859078590786,
          0.9092140921409214,
          0.9092140921409214,
          0.9105691056910569,
          0.9105691056910569,
          0.9132791327913279,
          0.9132791327913279,
          0.9132791327913279,
          0.9132791327913279,
          0.9146341463414634,
          0.9146341463414634,
          0.9159891598915989,
          0.9159891598915989,
          0.9159891598915989,
          0.9159891598915989,
          0.9159891598915989,
          0.9173441734417345,
          0.9173441734417345,
          0.9186991869918699,
          0.9186991869918699,
          0.9200542005420054,
          0.9200542005420054,
          0.9214092140921409,
          0.9214092140921409,
          0.9227642276422764,
          0.9227642276422764,
          0.924119241192412,
          0.926829268292683,
          0.926829268292683,
          0.926829268292683,
          0.926829268292683,
          0.926829268292683,
          0.926829268292683,
          0.926829268292683,
          0.926829268292683,
          0.9281842818428184,
          0.9281842818428184,
          0.9308943089430894,
          0.9308943089430894,
          0.9322493224932249,
          0.9322493224932249,
          0.9322493224932249,
          0.9322493224932249,
          0.9349593495934959,
          0.9349593495934959,
          0.9376693766937669,
          0.9376693766937669,
          0.9390243902439024,
          0.9390243902439024,
          0.940379403794038,
          0.940379403794038,
          0.943089430894309,
          0.943089430894309,
          0.9444444444444444,
          0.9444444444444444,
          0.94579945799458,
          0.94579945799458,
          0.9471544715447154,
          0.9471544715447154,
          0.9498644986449865,
          0.9498644986449865,
          0.9512195121951219,
          0.9512195121951219,
          0.9512195121951219,
          0.9512195121951219,
          0.9525745257452575,
          0.9525745257452575,
          0.9539295392953929,
          0.9539295392953929,
          0.9539295392953929,
          0.9539295392953929,
          0.9552845528455285,
          0.9552845528455285,
          0.9552845528455285,
          0.9552845528455285,
          0.959349593495935,
          0.959349593495935,
          0.9607046070460704,
          0.9607046070460704,
          0.9607046070460704,
          0.9607046070460704,
          0.9607046070460704,
          0.9607046070460704,
          0.962059620596206,
          0.962059620596206,
          0.9634146341463414,
          0.9634146341463414,
          0.9634146341463414,
          0.9634146341463414,
          0.964769647696477,
          0.964769647696477,
          0.964769647696477,
          0.964769647696477,
          0.9661246612466124,
          0.9661246612466124,
          0.967479674796748,
          0.967479674796748,
          0.9688346883468835,
          0.9688346883468835,
          0.9701897018970189,
          0.9701897018970189,
          0.9715447154471545,
          0.9715447154471545,
          0.9728997289972899,
          0.9728997289972899,
          0.9728997289972899,
          0.9728997289972899,
          0.9728997289972899,
          0.9728997289972899,
          0.9742547425474255,
          0.9742547425474255,
          0.975609756097561,
          0.975609756097561,
          0.975609756097561,
          0.975609756097561,
          0.978319783197832,
          0.978319783197832,
          0.978319783197832,
          0.978319783197832,
          0.9796747967479674,
          0.9796747967479674,
          0.9796747967479674,
          0.9796747967479674,
          0.981029810298103,
          0.981029810298103,
          0.983739837398374,
          0.983739837398374,
          0.9850948509485095,
          0.9850948509485095,
          0.986449864498645,
          0.986449864498645,
          0.9878048780487805,
          0.9878048780487805,
          0.989159891598916,
          0.989159891598916,
          0.9905149051490515,
          0.9905149051490515,
          0.9905149051490515,
          0.9905149051490515,
          0.9905149051490515,
          0.9905149051490515,
          0.9932249322493225,
          0.9932249322493225,
          0.9959349593495935,
          0.9959349593495935,
          0.9959349593495935,
          0.9959349593495935,
          0.997289972899729,
          0.997289972899729,
          0.997289972899729,
          0.997289972899729,
          0.997289972899729,
          0.997289972899729,
          0.997289972899729,
          0.997289972899729,
          0.997289972899729,
          0.997289972899729,
          0.997289972899729,
          0.997289972899729,
          0.997289972899729,
          0.997289972899729,
          0.997289972899729,
          0.997289972899729,
          0.997289972899729,
          0.997289972899729,
          0.997289972899729,
          0.997289972899729,
          0.997289972899729,
          0.997289972899729,
          0.997289972899729,
          0.997289972899729,
          0.997289972899729,
          0.997289972899729,
          0.9986449864498645,
          0.9986449864498645,
          1,
          1,
          1,
          1
         ]
        },
        {
         "line": {
          "color": "black",
          "dash": "dot",
          "width": 1.5
         },
         "type": "scatter",
         "x": [
          0,
          1
         ],
         "y": [
          0,
          1
         ]
        }
       ],
       "layout": {
        "template": {
         "data": {
          "bar": [
           {
            "error_x": {
             "color": "#2a3f5f"
            },
            "error_y": {
             "color": "#2a3f5f"
            },
            "marker": {
             "line": {
              "color": "#E5ECF6",
              "width": 0.5
             }
            },
            "type": "bar"
           }
          ],
          "barpolar": [
           {
            "marker": {
             "line": {
              "color": "#E5ECF6",
              "width": 0.5
             }
            },
            "type": "barpolar"
           }
          ],
          "carpet": [
           {
            "aaxis": {
             "endlinecolor": "#2a3f5f",
             "gridcolor": "white",
             "linecolor": "white",
             "minorgridcolor": "white",
             "startlinecolor": "#2a3f5f"
            },
            "baxis": {
             "endlinecolor": "#2a3f5f",
             "gridcolor": "white",
             "linecolor": "white",
             "minorgridcolor": "white",
             "startlinecolor": "#2a3f5f"
            },
            "type": "carpet"
           }
          ],
          "choropleth": [
           {
            "colorbar": {
             "outlinewidth": 0,
             "ticks": ""
            },
            "type": "choropleth"
           }
          ],
          "contour": [
           {
            "colorbar": {
             "outlinewidth": 0,
             "ticks": ""
            },
            "colorscale": [
             [
              0,
              "#0d0887"
             ],
             [
              0.1111111111111111,
              "#46039f"
             ],
             [
              0.2222222222222222,
              "#7201a8"
             ],
             [
              0.3333333333333333,
              "#9c179e"
             ],
             [
              0.4444444444444444,
              "#bd3786"
             ],
             [
              0.5555555555555556,
              "#d8576b"
             ],
             [
              0.6666666666666666,
              "#ed7953"
             ],
             [
              0.7777777777777778,
              "#fb9f3a"
             ],
             [
              0.8888888888888888,
              "#fdca26"
             ],
             [
              1,
              "#f0f921"
             ]
            ],
            "type": "contour"
           }
          ],
          "contourcarpet": [
           {
            "colorbar": {
             "outlinewidth": 0,
             "ticks": ""
            },
            "type": "contourcarpet"
           }
          ],
          "heatmap": [
           {
            "colorbar": {
             "outlinewidth": 0,
             "ticks": ""
            },
            "colorscale": [
             [
              0,
              "#0d0887"
             ],
             [
              0.1111111111111111,
              "#46039f"
             ],
             [
              0.2222222222222222,
              "#7201a8"
             ],
             [
              0.3333333333333333,
              "#9c179e"
             ],
             [
              0.4444444444444444,
              "#bd3786"
             ],
             [
              0.5555555555555556,
              "#d8576b"
             ],
             [
              0.6666666666666666,
              "#ed7953"
             ],
             [
              0.7777777777777778,
              "#fb9f3a"
             ],
             [
              0.8888888888888888,
              "#fdca26"
             ],
             [
              1,
              "#f0f921"
             ]
            ],
            "type": "heatmap"
           }
          ],
          "heatmapgl": [
           {
            "colorbar": {
             "outlinewidth": 0,
             "ticks": ""
            },
            "colorscale": [
             [
              0,
              "#0d0887"
             ],
             [
              0.1111111111111111,
              "#46039f"
             ],
             [
              0.2222222222222222,
              "#7201a8"
             ],
             [
              0.3333333333333333,
              "#9c179e"
             ],
             [
              0.4444444444444444,
              "#bd3786"
             ],
             [
              0.5555555555555556,
              "#d8576b"
             ],
             [
              0.6666666666666666,
              "#ed7953"
             ],
             [
              0.7777777777777778,
              "#fb9f3a"
             ],
             [
              0.8888888888888888,
              "#fdca26"
             ],
             [
              1,
              "#f0f921"
             ]
            ],
            "type": "heatmapgl"
           }
          ],
          "histogram": [
           {
            "marker": {
             "colorbar": {
              "outlinewidth": 0,
              "ticks": ""
             }
            },
            "type": "histogram"
           }
          ],
          "histogram2d": [
           {
            "colorbar": {
             "outlinewidth": 0,
             "ticks": ""
            },
            "colorscale": [
             [
              0,
              "#0d0887"
             ],
             [
              0.1111111111111111,
              "#46039f"
             ],
             [
              0.2222222222222222,
              "#7201a8"
             ],
             [
              0.3333333333333333,
              "#9c179e"
             ],
             [
              0.4444444444444444,
              "#bd3786"
             ],
             [
              0.5555555555555556,
              "#d8576b"
             ],
             [
              0.6666666666666666,
              "#ed7953"
             ],
             [
              0.7777777777777778,
              "#fb9f3a"
             ],
             [
              0.8888888888888888,
              "#fdca26"
             ],
             [
              1,
              "#f0f921"
             ]
            ],
            "type": "histogram2d"
           }
          ],
          "histogram2dcontour": [
           {
            "colorbar": {
             "outlinewidth": 0,
             "ticks": ""
            },
            "colorscale": [
             [
              0,
              "#0d0887"
             ],
             [
              0.1111111111111111,
              "#46039f"
             ],
             [
              0.2222222222222222,
              "#7201a8"
             ],
             [
              0.3333333333333333,
              "#9c179e"
             ],
             [
              0.4444444444444444,
              "#bd3786"
             ],
             [
              0.5555555555555556,
              "#d8576b"
             ],
             [
              0.6666666666666666,
              "#ed7953"
             ],
             [
              0.7777777777777778,
              "#fb9f3a"
             ],
             [
              0.8888888888888888,
              "#fdca26"
             ],
             [
              1,
              "#f0f921"
             ]
            ],
            "type": "histogram2dcontour"
           }
          ],
          "mesh3d": [
           {
            "colorbar": {
             "outlinewidth": 0,
             "ticks": ""
            },
            "type": "mesh3d"
           }
          ],
          "parcoords": [
           {
            "line": {
             "colorbar": {
              "outlinewidth": 0,
              "ticks": ""
             }
            },
            "type": "parcoords"
           }
          ],
          "pie": [
           {
            "automargin": true,
            "type": "pie"
           }
          ],
          "scatter": [
           {
            "marker": {
             "colorbar": {
              "outlinewidth": 0,
              "ticks": ""
             }
            },
            "type": "scatter"
           }
          ],
          "scatter3d": [
           {
            "line": {
             "colorbar": {
              "outlinewidth": 0,
              "ticks": ""
             }
            },
            "marker": {
             "colorbar": {
              "outlinewidth": 0,
              "ticks": ""
             }
            },
            "type": "scatter3d"
           }
          ],
          "scattercarpet": [
           {
            "marker": {
             "colorbar": {
              "outlinewidth": 0,
              "ticks": ""
             }
            },
            "type": "scattercarpet"
           }
          ],
          "scattergeo": [
           {
            "marker": {
             "colorbar": {
              "outlinewidth": 0,
              "ticks": ""
             }
            },
            "type": "scattergeo"
           }
          ],
          "scattergl": [
           {
            "marker": {
             "colorbar": {
              "outlinewidth": 0,
              "ticks": ""
             }
            },
            "type": "scattergl"
           }
          ],
          "scattermapbox": [
           {
            "marker": {
             "colorbar": {
              "outlinewidth": 0,
              "ticks": ""
             }
            },
            "type": "scattermapbox"
           }
          ],
          "scatterpolar": [
           {
            "marker": {
             "colorbar": {
              "outlinewidth": 0,
              "ticks": ""
             }
            },
            "type": "scatterpolar"
           }
          ],
          "scatterpolargl": [
           {
            "marker": {
             "colorbar": {
              "outlinewidth": 0,
              "ticks": ""
             }
            },
            "type": "scatterpolargl"
           }
          ],
          "scatterternary": [
           {
            "marker": {
             "colorbar": {
              "outlinewidth": 0,
              "ticks": ""
             }
            },
            "type": "scatterternary"
           }
          ],
          "surface": [
           {
            "colorbar": {
             "outlinewidth": 0,
             "ticks": ""
            },
            "colorscale": [
             [
              0,
              "#0d0887"
             ],
             [
              0.1111111111111111,
              "#46039f"
             ],
             [
              0.2222222222222222,
              "#7201a8"
             ],
             [
              0.3333333333333333,
              "#9c179e"
             ],
             [
              0.4444444444444444,
              "#bd3786"
             ],
             [
              0.5555555555555556,
              "#d8576b"
             ],
             [
              0.6666666666666666,
              "#ed7953"
             ],
             [
              0.7777777777777778,
              "#fb9f3a"
             ],
             [
              0.8888888888888888,
              "#fdca26"
             ],
             [
              1,
              "#f0f921"
             ]
            ],
            "type": "surface"
           }
          ],
          "table": [
           {
            "cells": {
             "fill": {
              "color": "#EBF0F8"
             },
             "line": {
              "color": "white"
             }
            },
            "header": {
             "fill": {
              "color": "#C8D4E3"
             },
             "line": {
              "color": "white"
             }
            },
            "type": "table"
           }
          ]
         },
         "layout": {
          "annotationdefaults": {
           "arrowcolor": "#2a3f5f",
           "arrowhead": 0,
           "arrowwidth": 1
          },
          "autotypenumbers": "strict",
          "coloraxis": {
           "colorbar": {
            "outlinewidth": 0,
            "ticks": ""
           }
          },
          "colorscale": {
           "diverging": [
            [
             0,
             "#8e0152"
            ],
            [
             0.1,
             "#c51b7d"
            ],
            [
             0.2,
             "#de77ae"
            ],
            [
             0.3,
             "#f1b6da"
            ],
            [
             0.4,
             "#fde0ef"
            ],
            [
             0.5,
             "#f7f7f7"
            ],
            [
             0.6,
             "#e6f5d0"
            ],
            [
             0.7,
             "#b8e186"
            ],
            [
             0.8,
             "#7fbc41"
            ],
            [
             0.9,
             "#4d9221"
            ],
            [
             1,
             "#276419"
            ]
           ],
           "sequential": [
            [
             0,
             "#0d0887"
            ],
            [
             0.1111111111111111,
             "#46039f"
            ],
            [
             0.2222222222222222,
             "#7201a8"
            ],
            [
             0.3333333333333333,
             "#9c179e"
            ],
            [
             0.4444444444444444,
             "#bd3786"
            ],
            [
             0.5555555555555556,
             "#d8576b"
            ],
            [
             0.6666666666666666,
             "#ed7953"
            ],
            [
             0.7777777777777778,
             "#fb9f3a"
            ],
            [
             0.8888888888888888,
             "#fdca26"
            ],
            [
             1,
             "#f0f921"
            ]
           ],
           "sequentialminus": [
            [
             0,
             "#0d0887"
            ],
            [
             0.1111111111111111,
             "#46039f"
            ],
            [
             0.2222222222222222,
             "#7201a8"
            ],
            [
             0.3333333333333333,
             "#9c179e"
            ],
            [
             0.4444444444444444,
             "#bd3786"
            ],
            [
             0.5555555555555556,
             "#d8576b"
            ],
            [
             0.6666666666666666,
             "#ed7953"
            ],
            [
             0.7777777777777778,
             "#fb9f3a"
            ],
            [
             0.8888888888888888,
             "#fdca26"
            ],
            [
             1,
             "#f0f921"
            ]
           ]
          },
          "colorway": [
           "#636efa",
           "#EF553B",
           "#00cc96",
           "#ab63fa",
           "#FFA15A",
           "#19d3f3",
           "#FF6692",
           "#B6E880",
           "#FF97FF",
           "#FECB52"
          ],
          "font": {
           "color": "#2a3f5f"
          },
          "geo": {
           "bgcolor": "white",
           "lakecolor": "white",
           "landcolor": "#E5ECF6",
           "showlakes": true,
           "showland": true,
           "subunitcolor": "white"
          },
          "hoverlabel": {
           "align": "left"
          },
          "hovermode": "closest",
          "mapbox": {
           "style": "light"
          },
          "paper_bgcolor": "white",
          "plot_bgcolor": "#E5ECF6",
          "polar": {
           "angularaxis": {
            "gridcolor": "white",
            "linecolor": "white",
            "ticks": ""
           },
           "bgcolor": "#E5ECF6",
           "radialaxis": {
            "gridcolor": "white",
            "linecolor": "white",
            "ticks": ""
           }
          },
          "scene": {
           "xaxis": {
            "backgroundcolor": "#E5ECF6",
            "gridcolor": "white",
            "gridwidth": 2,
            "linecolor": "white",
            "showbackground": true,
            "ticks": "",
            "zerolinecolor": "white"
           },
           "yaxis": {
            "backgroundcolor": "#E5ECF6",
            "gridcolor": "white",
            "gridwidth": 2,
            "linecolor": "white",
            "showbackground": true,
            "ticks": "",
            "zerolinecolor": "white"
           },
           "zaxis": {
            "backgroundcolor": "#E5ECF6",
            "gridcolor": "white",
            "gridwidth": 2,
            "linecolor": "white",
            "showbackground": true,
            "ticks": "",
            "zerolinecolor": "white"
           }
          },
          "shapedefaults": {
           "line": {
            "color": "#2a3f5f"
           }
          },
          "ternary": {
           "aaxis": {
            "gridcolor": "white",
            "linecolor": "white",
            "ticks": ""
           },
           "baxis": {
            "gridcolor": "white",
            "linecolor": "white",
            "ticks": ""
           },
           "bgcolor": "#E5ECF6",
           "caxis": {
            "gridcolor": "white",
            "linecolor": "white",
            "ticks": ""
           }
          },
          "title": {
           "x": 0.05
          },
          "xaxis": {
           "automargin": true,
           "gridcolor": "white",
           "linecolor": "white",
           "ticks": "",
           "title": {
            "standoff": 15
           },
           "zerolinecolor": "white",
           "zerolinewidth": 2
          },
          "yaxis": {
           "automargin": true,
           "gridcolor": "white",
           "linecolor": "white",
           "ticks": "",
           "title": {
            "standoff": 15
           },
           "zerolinecolor": "white",
           "zerolinewidth": 2
          }
         }
        },
        "title": {
         "text": "ROC Curve (0.879)"
        },
        "xaxis": {
         "title": {
          "text": "false positive rate"
         }
        },
        "yaxis": {
         "title": {
          "text": "true positive rate"
         }
        }
       }
      },
      "text/html": [
       "<div>                            <div id=\"df899448-8f8a-4c3f-a902-cb30eeffe12f\" class=\"plotly-graph-div\" style=\"height:525px; width:100%;\"></div>            <script type=\"text/javascript\">                require([\"plotly\"], function(Plotly) {                    window.PLOTLYENV=window.PLOTLYENV || {};                                    if (document.getElementById(\"df899448-8f8a-4c3f-a902-cb30eeffe12f\")) {                    Plotly.newPlot(                        \"df899448-8f8a-4c3f-a902-cb30eeffe12f\",                        [{\"fill\": \"tozeroy\", \"line\": {\"color\": \"rgb(22,96,167)\", \"width\": 2}, \"name\": \"Roc:\", \"type\": \"scatter\", \"x\": [0.0, 0.0, 0.0, 0.0, 0.0, 0.0, 0.0, 0.0, 0.0, 0.0, 0.0, 0.0004420866489832007, 0.001326259946949602, 0.003978779840848806, 0.004862953138815208, 0.005747126436781609, 0.005747126436781609, 0.00618921308576481, 0.00618921308576481, 0.007073386383731211, 0.007073386383731211, 0.007515473032714412, 0.007515473032714412, 0.007515473032714412, 0.007957559681697613, 0.007957559681697613, 0.008841732979664015, 0.008841732979664015, 0.009725906277630416, 0.009725906277630416, 0.010167992926613616, 0.010167992926613616, 0.010167992926613616, 0.010610079575596816, 0.010610079575596816, 0.011052166224580018, 0.011052166224580018, 0.011494252873563218, 0.011494252873563218, 0.011936339522546418, 0.011936339522546418, 0.01237842617152962, 0.01237842617152962, 0.01282051282051282, 0.01282051282051282, 0.014588859416445624, 0.014588859416445624, 0.014588859416445624, 0.015030946065428824, 0.015030946065428824, 0.015915119363395226, 0.015915119363395226, 0.016357206012378427, 0.016357206012378427, 0.016799292661361626, 0.016799292661361626, 0.018125552608311227, 0.018125552608311227, 0.01856763925729443, 0.01856763925729443, 0.01856763925729443, 0.01856763925729443, 0.01856763925729443, 0.01900972590627763, 0.01900972590627763, 0.019451812555260833, 0.019451812555260833, 0.020335985853227233, 0.020335985853227233, 0.020778072502210435, 0.020778072502210435, 0.021662245800176835, 0.021662245800176835, 0.022104332449160036, 0.022104332449160036, 0.022546419098143235, 0.022546419098143235, 0.022546419098143235, 0.022546419098143235, 0.023430592396109638, 0.023430592396109638, 0.023872679045092837, 0.023872679045092837, 0.02475685234305924, 0.02475685234305924, 0.025198938992042442, 0.025198938992042442, 0.025198938992042442, 0.02564102564102564, 0.02564102564102564, 0.026083112290008842, 0.026083112290008842, 0.026083112290008842, 0.026083112290008842, 0.026083112290008842, 0.026083112290008842, 0.026525198938992044, 0.026525198938992044, 0.026967285587975242, 0.026967285587975242, 0.026967285587975242, 0.028735632183908046, 0.028735632183908046, 0.02961980548187445, 0.02961980548187445, 0.030061892130857647, 0.030061892130857647, 0.030061892130857647, 0.030061892130857647, 0.03050397877984085, 0.03050397877984085, 0.03094606542882405, 0.03094606542882405, 0.03138815207780725, 0.03138815207780725, 0.03138815207780725, 0.03227232537577365, 0.03227232537577365, 0.032714412024756855, 0.032714412024756855, 0.03359858532272325, 0.034482758620689655, 0.034482758620689655, 0.034924845269672856, 0.034924845269672856, 0.034924845269672856, 0.034924845269672856, 0.03536693191865606, 0.03536693191865606, 0.03580901856763926, 0.03580901856763926, 0.03669319186560566, 0.03669319186560566, 0.03713527851458886, 0.03713527851458886, 0.03713527851458886, 0.03757736516357206, 0.03757736516357206, 0.03801945181255526, 0.03801945181255526, 0.040229885057471264, 0.040229885057471264, 0.040671971706454466, 0.040671971706454466, 0.04111405835543767, 0.04111405835543767, 0.04155614500442087, 0.04155614500442087, 0.042440318302387266, 0.042440318302387266, 0.04332449160035367, 0.04332449160035367, 0.04376657824933687, 0.04376657824933687, 0.044650751547303275, 0.04509283819628647, 0.04509283819628647, 0.04553492484526967, 0.04553492484526967, 0.04597701149425287, 0.04597701149425287, 0.046419098143236075, 0.046419098143236075, 0.046861184792219276, 0.046861184792219276, 0.04730327144120248, 0.04730327144120248, 0.04774535809018567, 0.04774535809018567, 0.04774535809018567, 0.04774535809018567, 0.04774535809018567, 0.048187444739168875, 0.048187444739168875, 0.04862953138815208, 0.04862953138815208, 0.04951370468611848, 0.04951370468611848, 0.04995579133510168, 0.04995579133510168, 0.04995579133510168, 0.050397877984084884, 0.050397877984084884, 0.05083996463306808, 0.05083996463306808, 0.05083996463306808, 0.05128205128205128, 0.05128205128205128, 0.05128205128205128, 0.05172413793103448, 0.05172413793103448, 0.052608311229000886, 0.052608311229000886, 0.05349248452696728, 0.05349248452696728, 0.05349248452696728, 0.05349248452696728, 0.053934571175950484, 0.053934571175950484, 0.05481874447391689, 0.05481874447391689, 0.05526083112290009, 0.05526083112290009, 0.05614500442086649, 0.05614500442086649, 0.05614500442086649, 0.05658709106984969, 0.05658709106984969, 0.05658709106984969, 0.05702917771883289, 0.05702917771883289, 0.05747126436781609, 0.05747126436781609, 0.05747126436781609, 0.05747126436781609, 0.05747126436781609, 0.05747126436781609, 0.05791335101679929, 0.05791335101679929, 0.058355437665782495, 0.058355437665782495, 0.058797524314765696, 0.058797524314765696, 0.058797524314765696, 0.0592396109637489, 0.0592396109637489, 0.0592396109637489, 0.05968169761273209, 0.05968169761273209, 0.05968169761273209, 0.0605658709106985, 0.0605658709106985, 0.0610079575596817, 0.0610079575596817, 0.0610079575596817, 0.0614500442086649, 0.0614500442086649, 0.0614500442086649, 0.0618921308576481, 0.0618921308576481, 0.0623342175066313, 0.0623342175066313, 0.0627763041556145, 0.0627763041556145, 0.0627763041556145, 0.06321839080459771, 0.06321839080459771, 0.06321839080459771, 0.06321839080459771, 0.0645446507515473, 0.0645446507515473, 0.0649867374005305, 0.0649867374005305, 0.06542882404951371, 0.06542882404951371, 0.06542882404951371, 0.06542882404951371, 0.06631299734748011, 0.06631299734748011, 0.06763925729442971, 0.06763925729442971, 0.06763925729442971, 0.0680813439434129, 0.0680813439434129, 0.06896551724137931, 0.06896551724137931, 0.06984969053934571, 0.06984969053934571, 0.07073386383731212, 0.07073386383731212, 0.07117595048629531, 0.07117595048629531, 0.07206012378426171, 0.07206012378426171, 0.07338638373121131, 0.07338638373121131, 0.07338638373121131, 0.07338638373121131, 0.07427055702917772, 0.07427055702917772, 0.07471264367816093, 0.07471264367816093, 0.07603890362511052, 0.07603890362511052, 0.07648099027409372, 0.07648099027409372, 0.07692307692307693, 0.07692307692307693, 0.07692307692307693, 0.07692307692307693, 0.07736516357206012, 0.07736516357206012, 0.07824933687002653, 0.07824933687002653, 0.07824933687002653, 0.07913351016799293, 0.07913351016799293, 0.08090185676392574, 0.08090185676392574, 0.08134394341290893, 0.08134394341290893, 0.08178603006189213, 0.08178603006189213, 0.08178603006189213, 0.08178603006189213, 0.08222811671087533, 0.08222811671087533, 0.08267020335985853, 0.08267020335985853, 0.08443854995579134, 0.08443854995579134, 0.08443854995579134, 0.08443854995579134, 0.08532272325375774, 0.08532272325375774, 0.08532272325375774, 0.08532272325375774, 0.08620689655172414, 0.08620689655172414, 0.08885941644562334, 0.08974358974358974, 0.08974358974358974, 0.08974358974358974, 0.08974358974358974, 0.09018567639257294, 0.09018567639257294, 0.09062776304155615, 0.09062776304155615, 0.09062776304155615, 0.09106984969053934, 0.09106984969053934, 0.09151193633952255, 0.09151193633952255, 0.09195402298850575, 0.09195402298850575, 0.09239610963748895, 0.09239610963748895, 0.09283819628647215, 0.09283819628647215, 0.09372236958443855, 0.09372236958443855, 0.09416445623342175, 0.09416445623342175, 0.09416445623342175, 0.09504862953138815, 0.09504862953138815, 0.09504862953138815, 0.09549071618037135, 0.09549071618037135, 0.09593280282935455, 0.09593280282935455, 0.09637488947833775, 0.09637488947833775, 0.09637488947833775, 0.09637488947833775, 0.09858532272325375, 0.09858532272325375, 0.10035366931918656, 0.10035366931918656, 0.10123784261715296, 0.10167992926613616, 0.10167992926613616, 0.10167992926613616, 0.10167992926613616, 0.10344827586206896, 0.10344827586206896, 0.10389036251105217, 0.10389036251105217, 0.10433244916003537, 0.10433244916003537, 0.10433244916003537, 0.10610079575596817, 0.10610079575596817, 0.10610079575596817, 0.10698496905393456, 0.10698496905393456, 0.10786914235190097, 0.10786914235190097, 0.10786914235190097, 0.10831122900088418, 0.10831122900088418, 0.10831122900088418, 0.10831122900088418, 0.11140583554376658, 0.11140583554376658, 0.11229000884173299, 0.11229000884173299, 0.11229000884173299, 0.11361626878868258, 0.11361626878868258, 0.11405835543766578, 0.11405835543766578, 0.11405835543766578, 0.11538461538461539, 0.11538461538461539, 0.11538461538461539, 0.11582670203359859, 0.11582670203359859, 0.11582670203359859, 0.11759504862953139, 0.11759504862953139, 0.11803713527851459, 0.11803713527851459, 0.1184792219274978, 0.1184792219274978, 0.11892130857648099, 0.11892130857648099, 0.11936339522546419, 0.12024756852343059, 0.12157382847038019, 0.12157382847038019, 0.12245800176834659, 0.12245800176834659, 0.123342175066313, 0.123342175066313, 0.1246684350132626, 0.1246684350132626, 0.125552608311229, 0.125552608311229, 0.1259946949602122, 0.1259946949602122, 0.1268788682581786, 0.1268788682581786, 0.1273209549071618, 0.1273209549071618, 0.127763041556145, 0.127763041556145, 0.1290893015030946, 0.1290893015030946, 0.1304155614500442, 0.1304155614500442, 0.13085764809902742, 0.13085764809902742, 0.13218390804597702, 0.13218390804597702, 0.13262599469496023, 0.13262599469496023, 0.13704686118479223, 0.13704686118479223, 0.1374889478337754, 0.1374889478337754, 0.138815207780725, 0.138815207780725, 0.13925729442970822, 0.13925729442970822, 0.14146772767462423, 0.14146772767462423, 0.14279398762157383, 0.14279398762157383, 0.14412024756852343, 0.14412024756852343, 0.14500442086648982, 0.14500442086648982, 0.14544650751547303, 0.14544650751547303, 0.14633068081343945, 0.14721485411140584, 0.14809902740937222, 0.14809902740937222, 0.14854111405835543, 0.14854111405835543, 0.14898320070733864, 0.14898320070733864, 0.14986737400530503, 0.15075154730327145, 0.15119363395225463, 0.15119363395225463, 0.15207780725022105, 0.15207780725022105, 0.15251989389920426, 0.15251989389920426, 0.15251989389920426, 0.15384615384615385, 0.15384615384615385, 0.15473032714412024, 0.15473032714412024, 0.15473032714412024, 0.15561450044208666, 0.15561450044208666, 0.15870910698496907, 0.15870910698496907, 0.15915119363395225, 0.15915119363395225, 0.16003536693191867, 0.16003536693191867, 0.16003536693191867, 0.16136162687886826, 0.16136162687886826, 0.16136162687886826, 0.16312997347480107, 0.16312997347480107, 0.16357206012378425, 0.16357206012378425, 0.16489832007073385, 0.16489832007073385, 0.16578249336870027, 0.16578249336870027, 0.16666666666666666, 0.16666666666666666, 0.16710875331564987, 0.16710875331564987, 0.16931918656056588, 0.16931918656056588, 0.17285587975243147, 0.17285587975243147, 0.17418213969938107, 0.17418213969938107, 0.1755083996463307, 0.1755083996463307, 0.1799292661361627, 0.1799292661361627, 0.1808134394341291, 0.1808134394341291, 0.1825817860300619, 0.1825817860300619, 0.1830238726790451, 0.1830238726790451, 0.1839080459770115, 0.1839080459770115, 0.1852343059239611, 0.1852343059239611, 0.1852343059239611, 0.1861184792219275, 0.1861184792219275, 0.1874447391688771, 0.1874447391688771, 0.1887709991158267, 0.1887709991158267, 0.1905393457117595, 0.1905393457117595, 0.1914235190097259, 0.1914235190097259, 0.1918656056587091, 0.1918656056587091, 0.1940760389036251, 0.1940760389036251, 0.1962864721485411, 0.1962864721485411, 0.19849690539345713, 0.19849690539345713, 0.19982316534040673, 0.19982316534040673, 0.20380194518125552, 0.20380194518125552, 0.20557029177718833, 0.20557029177718833, 0.20645446507515472, 0.20645446507515472, 0.20689655172413793, 0.20689655172413793, 0.20778072502210435, 0.20778072502210435, 0.20866489832007074, 0.20866489832007074, 0.20954907161803712, 0.20954907161803712, 0.20999115826702033, 0.20999115826702033, 0.21175950486295314, 0.21175950486295314, 0.21264367816091953, 0.21264367816091953, 0.21396993810786913, 0.21396993810786913, 0.21529619805481875, 0.21529619805481875, 0.21750663129973474, 0.21750663129973474, 0.21927497789566755, 0.21927497789566755, 0.21971706454465076, 0.22060123784261715, 0.22148541114058357, 0.22148541114058357, 0.22413793103448276, 0.22413793103448276, 0.22546419098143236, 0.22546419098143236, 0.22767462422634838, 0.22767462422634838, 0.22811671087533156, 0.22811671087533156, 0.22855879752431477, 0.22855879752431477, 0.23076923076923078, 0.23076923076923078, 0.23076923076923078, 0.2369584438549956, 0.2369584438549956, 0.23784261715296198, 0.23784261715296198, 0.23872679045092837, 0.23872679045092837, 0.2396109637488948, 0.2396109637488948, 0.2413793103448276, 0.242263483642794, 0.242263483642794, 0.24314765694076038, 0.24314765694076038, 0.2475685234305924, 0.2475685234305924, 0.2480106100795756, 0.2480106100795756, 0.2502210433244916, 0.251105216622458, 0.251105216622458, 0.2524314765694076, 0.2524314765694076, 0.2550839964633068, 0.2550839964633068, 0.25596816976127323, 0.2568523430592396, 0.2581786030061892, 0.2581786030061892, 0.25906277630415564, 0.25906277630415564, 0.2595048629531388, 0.2595048629531388, 0.2661361626878868, 0.2661361626878868, 0.2696728558797524, 0.2696728558797524, 0.2723253757736516, 0.2723253757736516, 0.28116710875331563, 0.28116710875331563, 0.2838196286472148, 0.2838196286472148, 0.2891246684350133, 0.29000884173297964, 0.2926613616268789, 0.2926613616268789, 0.29929266136162685, 0.29929266136162685, 0.3001768346595933, 0.3010610079575597, 0.3019451812555261, 0.3032714412024757, 0.3032714412024757, 0.3112290008841733, 0.3112290008841733, 0.3116710875331565, 0.3116710875331565, 0.3129973474801061, 0.3129973474801061, 0.3187444739168877, 0.3187444739168877, 0.3196286472148541, 0.3196286472148541, 0.3196286472148541, 0.3249336870026525, 0.32581786030061893, 0.33510167992926615, 0.3359858532272325, 0.33687002652519893, 0.33775419982316535, 0.33819628647214856, 0.33819628647214856, 0.3505747126436782, 0.3505747126436782, 0.35587975243147657, 0.35587975243147657, 0.36427939876215737, 0.3651635720601238, 0.3673740053050398, 0.3673740053050398, 0.3687002652519894, 0.3687002652519894, 0.3740053050397878, 0.3740053050397878, 0.3762157382847038, 0.3762157382847038, 0.3775419982316534, 0.3775419982316534, 0.38992042440318303, 0.38992042440318303, 0.3925729442970822, 0.3925729442970822, 0.3947833775419982, 0.3947833775419982, 0.40583554376657827, 0.40583554376657827, 0.41954022988505746, 0.41954022988505746, 0.4270557029177719, 0.42793987621573826, 0.42838196286472147, 0.42838196286472147, 0.4292661361626879, 0.4292661361626879, 0.4451812555260831, 0.44606542882404954, 0.45490716180371354, 0.45490716180371354, 0.46109637488947836, 0.4619805481874447, 0.47214854111405835, 0.47214854111405835, 0.47789566755083995, 0.47789566755083995, 0.4792219274977896, 0.48010610079575594, 0.4849690539345712, 0.4858532272325376, 0.4946949602122016, 0.4946949602122016, 0.4982316534040672, 0.4982316534040672, 0.4995579133510168, 0.5004420866489832, 0.5013262599469496, 0.5013262599469496, 0.5075154730327144, 0.5083996463306808, 0.5137046861184792, 0.5137046861184792, 0.5278514588859416, 0.5278514588859416, 0.5459770114942529, 0.5459770114942529, 0.5592396109637489, 0.5592396109637489, 0.5623342175066313, 0.5623342175066313, 0.5729442970822282, 0.5729442970822282, 0.5751547303271441, 0.5760389036251106, 0.5786914235190097, 0.5795755968169761, 0.5928381962864722, 0.5928381962864722, 0.5963748894783377, 0.5963748894783377, 0.6038903625110522, 0.6047745358090185, 0.6096374889478338, 0.6096374889478338, 0.6335101679929266, 0.634394341290893, 0.6374889478337754, 0.6374889478337754, 0.6414677276746242, 0.6423519009725907, 0.6666666666666666, 0.6666666666666666, 0.6724137931034483, 0.6724137931034483, 0.6755083996463307, 0.6755083996463307, 0.6825817860300619, 0.6825817860300619, 0.6878868258178603, 0.6878868258178603, 0.6954022988505747, 0.6954022988505747, 0.7011494252873564, 0.7011494252873564, 0.7020335985853228, 0.7029177718832891, 0.7086648983200707, 0.7095490716180372, 0.7099911582670203, 0.7099911582670203, 0.7161803713527851, 0.7161803713527851, 0.7170645446507515, 0.717948717948718, 0.7219274977895668, 0.7219274977895668, 0.7387267904509284, 0.7396109637488948, 0.764367816091954, 0.7652519893899205, 0.7670203359858532, 0.7679045092838196, 0.7855879752431476, 0.786472148541114, 0.8059239610963749, 0.8068081343943413, 0.8152077807250221, 0.8160919540229885, 0.8333333333333334, 0.8342175066312998, 0.8386383731211318, 0.8395225464190982, 0.850132625994695, 0.8510167992926614, 0.8572060123784262, 0.8580901856763926, 0.8748894783377542, 0.8757736516357206, 0.8775419982316534, 0.8784261715296198, 0.8797524314765695, 0.8797524314765695, 0.9098143236074271, 0.9098143236074271, 0.9398762157382847, 0.9407603890362511, 1.0], \"y\": [0.0, 0.0013550135501355014, 0.005420054200542005, 0.008130081300813009, 0.009485094850948509, 0.02032520325203252, 0.02168021680216802, 0.02710027100271003, 0.028455284552845527, 0.03116531165311653, 0.04065040650406504, 0.04065040650406504, 0.04065040650406504, 0.04065040650406504, 0.04065040650406504, 0.04065040650406504, 0.044715447154471545, 0.044715447154471545, 0.04742547425474255, 0.04742547425474255, 0.04878048780487805, 0.04878048780487805, 0.052845528455284556, 0.05420054200542006, 0.05420054200542006, 0.056910569105691054, 0.056910569105691054, 0.058265582655826556, 0.058265582655826556, 0.06233062330623306, 0.06233062330623306, 0.06639566395663957, 0.06910569105691057, 0.06910569105691057, 0.07046070460704607, 0.07046070460704607, 0.07452574525745258, 0.07452574525745258, 0.07588075880758807, 0.07588075880758807, 0.07859078590785908, 0.07859078590785908, 0.07994579945799458, 0.07994579945799458, 0.08265582655826559, 0.08265582655826559, 0.08807588075880758, 0.08943089430894309, 0.08943089430894309, 0.09078590785907859, 0.09078590785907859, 0.09349593495934959, 0.09349593495934959, 0.0975609756097561, 0.0975609756097561, 0.1002710027100271, 0.1002710027100271, 0.1016260162601626, 0.1016260162601626, 0.1043360433604336, 0.10840108401084012, 0.10975609756097561, 0.11246612466124661, 0.11246612466124661, 0.11517615176151762, 0.11517615176151762, 0.11653116531165311, 0.11653116531165311, 0.11788617886178862, 0.11788617886178862, 0.12059620596205962, 0.12059620596205962, 0.12195121951219512, 0.12195121951219512, 0.12466124661246612, 0.12466124661246612, 0.12601626016260162, 0.12872628726287264, 0.13008130081300814, 0.13008130081300814, 0.13143631436314362, 0.13143631436314362, 0.13279132791327913, 0.13279132791327913, 0.13550135501355012, 0.13550135501355012, 0.14363143631436315, 0.14634146341463414, 0.14634146341463414, 0.14769647696476965, 0.14769647696476965, 0.15040650406504066, 0.15311653116531165, 0.15447154471544716, 0.15718157181571815, 0.15853658536585366, 0.15853658536585366, 0.15989159891598917, 0.15989159891598917, 0.16260162601626016, 0.16395663956639567, 0.16395663956639567, 0.16802168021680217, 0.16802168021680217, 0.17073170731707318, 0.17073170731707318, 0.17208672086720866, 0.17479674796747968, 0.17615176151761516, 0.17615176151761516, 0.18157181571815717, 0.18157181571815717, 0.18834688346883469, 0.18834688346883469, 0.19241192411924118, 0.1937669376693767, 0.1937669376693767, 0.1978319783197832, 0.1978319783197832, 0.1991869918699187, 0.1991869918699187, 0.1991869918699187, 0.2005420054200542, 0.2005420054200542, 0.2032520325203252, 0.20596205962059622, 0.2086720867208672, 0.2086720867208672, 0.21002710027100271, 0.21002710027100271, 0.21138211382113822, 0.21138211382113822, 0.21680216802168023, 0.21680216802168023, 0.21951219512195122, 0.22086720867208673, 0.22086720867208673, 0.2222222222222222, 0.2222222222222222, 0.22357723577235772, 0.22357723577235772, 0.22764227642276422, 0.22764227642276422, 0.23035230352303523, 0.23035230352303523, 0.23170731707317074, 0.23170731707317074, 0.23306233062330622, 0.23306233062330622, 0.23441734417344173, 0.23441734417344173, 0.24119241192411925, 0.24119241192411925, 0.24390243902439024, 0.24390243902439024, 0.24390243902439024, 0.24525745257452575, 0.24525745257452575, 0.24932249322493225, 0.24932249322493225, 0.25203252032520324, 0.25203252032520324, 0.2588075880758808, 0.2588075880758808, 0.26151761517615174, 0.26151761517615174, 0.2669376693766938, 0.2669376693766938, 0.2682926829268293, 0.27100271002710025, 0.27235772357723576, 0.2750677506775068, 0.2750677506775068, 0.2804878048780488, 0.2804878048780488, 0.2859078590785908, 0.2859078590785908, 0.2872628726287263, 0.2872628726287263, 0.2886178861788618, 0.29132791327913277, 0.29132791327913277, 0.2940379403794038, 0.2940379403794038, 0.3035230352303523, 0.3062330623306233, 0.3062330623306233, 0.3157181571815718, 0.31842818428184283, 0.31842818428184283, 0.31978319783197834, 0.31978319783197834, 0.3224932249322493, 0.3224932249322493, 0.3252032520325203, 0.33062330623306235, 0.3333333333333333, 0.3333333333333333, 0.33875338753387535, 0.33875338753387535, 0.34146341463414637, 0.34146341463414637, 0.34552845528455284, 0.34552845528455284, 0.34688346883468835, 0.34959349593495936, 0.34959349593495936, 0.35501355013550134, 0.35636856368563685, 0.35636856368563685, 0.35772357723577236, 0.35772357723577236, 0.3617886178861789, 0.36449864498644985, 0.36585365853658536, 0.3699186991869919, 0.37262872628726285, 0.37262872628726285, 0.3875338753387534, 0.3875338753387534, 0.3915989159891599, 0.3915989159891599, 0.39295392953929537, 0.3956639566395664, 0.3956639566395664, 0.3970189701897019, 0.4010840108401084, 0.4010840108401084, 0.4024390243902439, 0.4051490514905149, 0.4051490514905149, 0.4078590785907859, 0.4078590785907859, 0.4105691056910569, 0.4132791327913279, 0.4132791327913279, 0.4146341463414634, 0.4173441734417344, 0.4173441734417344, 0.42140921409214094, 0.42140921409214094, 0.42276422764227645, 0.42276422764227645, 0.42953929539295393, 0.43224932249322495, 0.43224932249322495, 0.43902439024390244, 0.44173441734417346, 0.44308943089430897, 0.44308943089430897, 0.4444444444444444, 0.4444444444444444, 0.44579945799457993, 0.44579945799457993, 0.44850948509485095, 0.45121951219512196, 0.45257452574525747, 0.45257452574525747, 0.453929539295393, 0.453929539295393, 0.45528455284552843, 0.45799457994579945, 0.45799457994579945, 0.4634146341463415, 0.4634146341463415, 0.46747967479674796, 0.46747967479674796, 0.46883468834688347, 0.46883468834688347, 0.470189701897019, 0.470189701897019, 0.4715447154471545, 0.4715447154471545, 0.4742547425474255, 0.4742547425474255, 0.47831978319783197, 0.481029810298103, 0.4823848238482385, 0.4823848238482385, 0.489159891598916, 0.489159891598916, 0.4905149051490515, 0.4905149051490515, 0.4959349593495935, 0.4959349593495935, 0.5013550135501355, 0.5013550135501355, 0.5040650406504065, 0.5067750677506775, 0.510840108401084, 0.510840108401084, 0.513550135501355, 0.513550135501355, 0.516260162601626, 0.5203252032520326, 0.5203252032520326, 0.521680216802168, 0.521680216802168, 0.5230352303523035, 0.5230352303523035, 0.5257452574525745, 0.5257452574525745, 0.5284552845528455, 0.532520325203252, 0.535230352303523, 0.535230352303523, 0.5365853658536586, 0.5365853658536586, 0.540650406504065, 0.540650406504065, 0.5447154471544715, 0.5474254742547425, 0.5487804878048781, 0.5487804878048781, 0.5501355013550135, 0.5528455284552846, 0.559620596205962, 0.559620596205962, 0.5609756097560976, 0.5609756097560976, 0.5609756097560976, 0.5663956639566395, 0.5691056910569106, 0.573170731707317, 0.573170731707317, 0.5785907859078591, 0.5785907859078591, 0.5813008130081301, 0.5826558265582655, 0.5826558265582655, 0.5853658536585366, 0.5853658536585366, 0.5867208672086721, 0.5867208672086721, 0.5907859078590786, 0.5907859078590786, 0.5934959349593496, 0.5934959349593496, 0.5948509485094851, 0.5948509485094851, 0.5962059620596206, 0.5962059620596206, 0.6056910569105691, 0.6084010840108401, 0.6084010840108401, 0.6124661246612466, 0.6192411924119241, 0.6192411924119241, 0.6205962059620597, 0.6205962059620597, 0.6219512195121951, 0.6219512195121951, 0.6233062330623306, 0.6260162601626016, 0.6273712737127372, 0.6273712737127372, 0.6300813008130082, 0.6300813008130082, 0.6355013550135501, 0.6355013550135501, 0.6355013550135501, 0.6368563685636857, 0.6395663956639567, 0.6422764227642277, 0.6422764227642277, 0.6436314363143631, 0.6436314363143631, 0.6449864498644986, 0.6449864498644986, 0.6476964769647696, 0.6490514905149052, 0.6490514905149052, 0.6531165311653117, 0.6544715447154471, 0.6544715447154471, 0.6571815718157181, 0.6571815718157181, 0.6585365853658537, 0.6612466124661247, 0.6612466124661247, 0.6626016260162602, 0.6653116531165312, 0.6693766937669376, 0.6693766937669376, 0.6720867208672087, 0.6720867208672087, 0.6747967479674797, 0.6761517615176151, 0.6761517615176151, 0.6775067750677507, 0.6775067750677507, 0.6802168021680217, 0.6815718157181572, 0.6815718157181572, 0.6842818428184282, 0.6869918699186992, 0.6869918699186992, 0.6897018970189702, 0.6910569105691057, 0.6910569105691057, 0.6937669376693767, 0.6937669376693767, 0.6964769647696477, 0.6964769647696477, 0.7032520325203252, 0.7032520325203252, 0.7059620596205962, 0.7059620596205962, 0.7059620596205962, 0.7059620596205962, 0.7086720867208672, 0.7086720867208672, 0.7100271002710027, 0.7100271002710027, 0.7113821138211383, 0.7113821138211383, 0.7140921409214093, 0.7140921409214093, 0.7154471544715447, 0.7154471544715447, 0.7168021680216802, 0.7168021680216802, 0.7181571815718157, 0.7181571815718157, 0.7195121951219512, 0.7195121951219512, 0.7208672086720868, 0.7208672086720868, 0.7222222222222222, 0.7222222222222222, 0.7235772357723578, 0.7235772357723578, 0.7276422764227642, 0.7276422764227642, 0.7289972899728997, 0.7289972899728997, 0.7303523035230353, 0.7303523035230353, 0.7317073170731707, 0.7317073170731707, 0.7371273712737128, 0.7371273712737128, 0.7384823848238482, 0.7384823848238482, 0.7398373983739838, 0.7398373983739838, 0.7425474254742548, 0.7425474254742548, 0.7466124661246613, 0.7466124661246613, 0.7479674796747967, 0.7479674796747967, 0.7493224932249323, 0.7493224932249323, 0.7506775067750677, 0.7506775067750677, 0.7506775067750677, 0.7506775067750677, 0.7520325203252033, 0.7520325203252033, 0.7547425474254743, 0.7547425474254743, 0.7560975609756098, 0.7560975609756098, 0.7560975609756098, 0.7560975609756098, 0.7588075880758808, 0.7588075880758808, 0.7601626016260162, 0.7601626016260162, 0.7628726287262872, 0.7655826558265583, 0.7655826558265583, 0.7682926829268293, 0.7682926829268293, 0.7710027100271003, 0.7750677506775068, 0.7750677506775068, 0.7764227642276422, 0.7764227642276422, 0.7777777777777778, 0.7777777777777778, 0.7791327913279132, 0.7791327913279132, 0.7804878048780488, 0.7831978319783198, 0.7831978319783198, 0.7859078590785907, 0.7886178861788617, 0.7886178861788617, 0.7899728997289973, 0.7899728997289973, 0.7913279132791328, 0.7913279132791328, 0.7926829268292683, 0.7926829268292683, 0.7940379403794038, 0.7940379403794038, 0.7953929539295393, 0.7953929539295393, 0.7967479674796748, 0.7967479674796748, 0.7994579945799458, 0.7994579945799458, 0.8008130081300813, 0.8008130081300813, 0.8035230352303523, 0.8035230352303523, 0.8048780487804879, 0.8048780487804879, 0.8062330623306233, 0.8062330623306233, 0.8075880758807588, 0.8075880758807588, 0.8089430894308943, 0.8089430894308943, 0.8143631436314364, 0.8143631436314364, 0.8157181571815718, 0.8157181571815718, 0.8170731707317073, 0.8197831978319783, 0.8197831978319783, 0.8224932249322493, 0.8224932249322493, 0.8238482384823849, 0.8238482384823849, 0.8252032520325203, 0.8252032520325203, 0.8292682926829268, 0.8292682926829268, 0.8306233062330624, 0.8306233062330624, 0.8319783197831978, 0.8319783197831978, 0.8387533875338753, 0.8387533875338753, 0.8414634146341463, 0.8414634146341463, 0.8441734417344173, 0.8441734417344173, 0.8455284552845529, 0.8455284552845529, 0.8468834688346883, 0.8468834688346883, 0.8482384823848238, 0.8482384823848238, 0.8495934959349594, 0.8495934959349594, 0.8509485094850948, 0.8509485094850948, 0.8523035230352304, 0.8523035230352304, 0.8536585365853658, 0.8536585365853658, 0.8563685636856369, 0.8563685636856369, 0.8577235772357723, 0.8577235772357723, 0.8590785907859079, 0.8590785907859079, 0.8604336043360433, 0.8604336043360433, 0.8617886178861789, 0.8617886178861789, 0.8631436314363143, 0.8631436314363143, 0.8644986449864499, 0.8644986449864499, 0.8658536585365854, 0.8658536585365854, 0.8658536585365854, 0.8658536585365854, 0.8672086720867209, 0.8672086720867209, 0.8685636856368564, 0.8685636856368564, 0.8699186991869918, 0.8699186991869918, 0.8712737127371274, 0.8712737127371274, 0.8726287262872628, 0.8726287262872628, 0.8739837398373984, 0.8739837398373984, 0.8766937669376694, 0.8794037940379403, 0.8794037940379403, 0.8807588075880759, 0.8807588075880759, 0.8821138211382114, 0.8821138211382114, 0.8834688346883469, 0.8834688346883469, 0.8848238482384824, 0.8848238482384824, 0.8848238482384824, 0.8861788617886179, 0.8861788617886179, 0.8875338753387534, 0.8875338753387534, 0.8888888888888888, 0.8888888888888888, 0.8902439024390244, 0.8902439024390244, 0.8902439024390244, 0.8915989159891599, 0.8915989159891599, 0.8929539295392954, 0.8929539295392954, 0.8943089430894309, 0.8943089430894309, 0.8943089430894309, 0.8943089430894309, 0.8956639566395664, 0.8956639566395664, 0.8983739837398373, 0.8983739837398373, 0.8997289972899729, 0.8997289972899729, 0.9051490514905149, 0.9051490514905149, 0.907859078590786, 0.907859078590786, 0.9092140921409214, 0.9092140921409214, 0.9105691056910569, 0.9105691056910569, 0.9132791327913279, 0.9132791327913279, 0.9132791327913279, 0.9132791327913279, 0.9146341463414634, 0.9146341463414634, 0.9159891598915989, 0.9159891598915989, 0.9159891598915989, 0.9159891598915989, 0.9159891598915989, 0.9173441734417345, 0.9173441734417345, 0.9186991869918699, 0.9186991869918699, 0.9200542005420054, 0.9200542005420054, 0.9214092140921409, 0.9214092140921409, 0.9227642276422764, 0.9227642276422764, 0.924119241192412, 0.926829268292683, 0.926829268292683, 0.926829268292683, 0.926829268292683, 0.926829268292683, 0.926829268292683, 0.926829268292683, 0.926829268292683, 0.9281842818428184, 0.9281842818428184, 0.9308943089430894, 0.9308943089430894, 0.9322493224932249, 0.9322493224932249, 0.9322493224932249, 0.9322493224932249, 0.9349593495934959, 0.9349593495934959, 0.9376693766937669, 0.9376693766937669, 0.9390243902439024, 0.9390243902439024, 0.940379403794038, 0.940379403794038, 0.943089430894309, 0.943089430894309, 0.9444444444444444, 0.9444444444444444, 0.94579945799458, 0.94579945799458, 0.9471544715447154, 0.9471544715447154, 0.9498644986449865, 0.9498644986449865, 0.9512195121951219, 0.9512195121951219, 0.9512195121951219, 0.9512195121951219, 0.9525745257452575, 0.9525745257452575, 0.9539295392953929, 0.9539295392953929, 0.9539295392953929, 0.9539295392953929, 0.9552845528455285, 0.9552845528455285, 0.9552845528455285, 0.9552845528455285, 0.959349593495935, 0.959349593495935, 0.9607046070460704, 0.9607046070460704, 0.9607046070460704, 0.9607046070460704, 0.9607046070460704, 0.9607046070460704, 0.962059620596206, 0.962059620596206, 0.9634146341463414, 0.9634146341463414, 0.9634146341463414, 0.9634146341463414, 0.964769647696477, 0.964769647696477, 0.964769647696477, 0.964769647696477, 0.9661246612466124, 0.9661246612466124, 0.967479674796748, 0.967479674796748, 0.9688346883468835, 0.9688346883468835, 0.9701897018970189, 0.9701897018970189, 0.9715447154471545, 0.9715447154471545, 0.9728997289972899, 0.9728997289972899, 0.9728997289972899, 0.9728997289972899, 0.9728997289972899, 0.9728997289972899, 0.9742547425474255, 0.9742547425474255, 0.975609756097561, 0.975609756097561, 0.975609756097561, 0.975609756097561, 0.978319783197832, 0.978319783197832, 0.978319783197832, 0.978319783197832, 0.9796747967479674, 0.9796747967479674, 0.9796747967479674, 0.9796747967479674, 0.981029810298103, 0.981029810298103, 0.983739837398374, 0.983739837398374, 0.9850948509485095, 0.9850948509485095, 0.986449864498645, 0.986449864498645, 0.9878048780487805, 0.9878048780487805, 0.989159891598916, 0.989159891598916, 0.9905149051490515, 0.9905149051490515, 0.9905149051490515, 0.9905149051490515, 0.9905149051490515, 0.9905149051490515, 0.9932249322493225, 0.9932249322493225, 0.9959349593495935, 0.9959349593495935, 0.9959349593495935, 0.9959349593495935, 0.997289972899729, 0.997289972899729, 0.997289972899729, 0.997289972899729, 0.997289972899729, 0.997289972899729, 0.997289972899729, 0.997289972899729, 0.997289972899729, 0.997289972899729, 0.997289972899729, 0.997289972899729, 0.997289972899729, 0.997289972899729, 0.997289972899729, 0.997289972899729, 0.997289972899729, 0.997289972899729, 0.997289972899729, 0.997289972899729, 0.997289972899729, 0.997289972899729, 0.997289972899729, 0.997289972899729, 0.997289972899729, 0.997289972899729, 0.9986449864498645, 0.9986449864498645, 1.0, 1.0, 1.0, 1.0]}, {\"line\": {\"color\": \"black\", \"dash\": \"dot\", \"width\": 1.5}, \"type\": \"scatter\", \"x\": [0, 1], \"y\": [0, 1]}],                        {\"template\": {\"data\": {\"bar\": [{\"error_x\": {\"color\": \"#2a3f5f\"}, \"error_y\": {\"color\": \"#2a3f5f\"}, \"marker\": {\"line\": {\"color\": \"#E5ECF6\", \"width\": 0.5}}, \"type\": \"bar\"}], \"barpolar\": [{\"marker\": {\"line\": {\"color\": \"#E5ECF6\", \"width\": 0.5}}, \"type\": \"barpolar\"}], \"carpet\": [{\"aaxis\": {\"endlinecolor\": \"#2a3f5f\", \"gridcolor\": \"white\", \"linecolor\": \"white\", \"minorgridcolor\": \"white\", \"startlinecolor\": \"#2a3f5f\"}, \"baxis\": {\"endlinecolor\": \"#2a3f5f\", \"gridcolor\": \"white\", \"linecolor\": \"white\", \"minorgridcolor\": \"white\", \"startlinecolor\": \"#2a3f5f\"}, \"type\": \"carpet\"}], \"choropleth\": [{\"colorbar\": {\"outlinewidth\": 0, \"ticks\": \"\"}, \"type\": \"choropleth\"}], \"contour\": [{\"colorbar\": {\"outlinewidth\": 0, \"ticks\": \"\"}, \"colorscale\": [[0.0, \"#0d0887\"], [0.1111111111111111, \"#46039f\"], [0.2222222222222222, \"#7201a8\"], [0.3333333333333333, \"#9c179e\"], [0.4444444444444444, \"#bd3786\"], [0.5555555555555556, \"#d8576b\"], [0.6666666666666666, \"#ed7953\"], [0.7777777777777778, \"#fb9f3a\"], [0.8888888888888888, \"#fdca26\"], [1.0, \"#f0f921\"]], \"type\": \"contour\"}], \"contourcarpet\": [{\"colorbar\": {\"outlinewidth\": 0, \"ticks\": \"\"}, \"type\": \"contourcarpet\"}], \"heatmap\": [{\"colorbar\": {\"outlinewidth\": 0, \"ticks\": \"\"}, \"colorscale\": [[0.0, \"#0d0887\"], [0.1111111111111111, \"#46039f\"], [0.2222222222222222, \"#7201a8\"], [0.3333333333333333, \"#9c179e\"], [0.4444444444444444, \"#bd3786\"], [0.5555555555555556, \"#d8576b\"], [0.6666666666666666, \"#ed7953\"], [0.7777777777777778, \"#fb9f3a\"], [0.8888888888888888, \"#fdca26\"], [1.0, \"#f0f921\"]], \"type\": \"heatmap\"}], \"heatmapgl\": [{\"colorbar\": {\"outlinewidth\": 0, \"ticks\": \"\"}, \"colorscale\": [[0.0, \"#0d0887\"], [0.1111111111111111, \"#46039f\"], [0.2222222222222222, \"#7201a8\"], [0.3333333333333333, \"#9c179e\"], [0.4444444444444444, \"#bd3786\"], [0.5555555555555556, \"#d8576b\"], [0.6666666666666666, \"#ed7953\"], [0.7777777777777778, \"#fb9f3a\"], [0.8888888888888888, \"#fdca26\"], [1.0, \"#f0f921\"]], \"type\": \"heatmapgl\"}], \"histogram\": [{\"marker\": {\"colorbar\": {\"outlinewidth\": 0, \"ticks\": \"\"}}, \"type\": \"histogram\"}], \"histogram2d\": [{\"colorbar\": {\"outlinewidth\": 0, \"ticks\": \"\"}, \"colorscale\": [[0.0, \"#0d0887\"], [0.1111111111111111, \"#46039f\"], [0.2222222222222222, \"#7201a8\"], [0.3333333333333333, \"#9c179e\"], [0.4444444444444444, \"#bd3786\"], [0.5555555555555556, \"#d8576b\"], [0.6666666666666666, \"#ed7953\"], [0.7777777777777778, \"#fb9f3a\"], [0.8888888888888888, \"#fdca26\"], [1.0, \"#f0f921\"]], \"type\": \"histogram2d\"}], \"histogram2dcontour\": [{\"colorbar\": {\"outlinewidth\": 0, \"ticks\": \"\"}, \"colorscale\": [[0.0, \"#0d0887\"], [0.1111111111111111, \"#46039f\"], [0.2222222222222222, \"#7201a8\"], [0.3333333333333333, \"#9c179e\"], [0.4444444444444444, \"#bd3786\"], [0.5555555555555556, \"#d8576b\"], [0.6666666666666666, \"#ed7953\"], [0.7777777777777778, \"#fb9f3a\"], [0.8888888888888888, \"#fdca26\"], [1.0, \"#f0f921\"]], \"type\": \"histogram2dcontour\"}], \"mesh3d\": [{\"colorbar\": {\"outlinewidth\": 0, \"ticks\": \"\"}, \"type\": \"mesh3d\"}], \"parcoords\": [{\"line\": {\"colorbar\": {\"outlinewidth\": 0, \"ticks\": \"\"}}, \"type\": \"parcoords\"}], \"pie\": [{\"automargin\": true, \"type\": \"pie\"}], \"scatter\": [{\"marker\": {\"colorbar\": {\"outlinewidth\": 0, \"ticks\": \"\"}}, \"type\": \"scatter\"}], \"scatter3d\": [{\"line\": {\"colorbar\": {\"outlinewidth\": 0, \"ticks\": \"\"}}, \"marker\": {\"colorbar\": {\"outlinewidth\": 0, \"ticks\": \"\"}}, \"type\": \"scatter3d\"}], \"scattercarpet\": [{\"marker\": {\"colorbar\": {\"outlinewidth\": 0, \"ticks\": \"\"}}, \"type\": \"scattercarpet\"}], \"scattergeo\": [{\"marker\": {\"colorbar\": {\"outlinewidth\": 0, \"ticks\": \"\"}}, \"type\": \"scattergeo\"}], \"scattergl\": [{\"marker\": {\"colorbar\": {\"outlinewidth\": 0, \"ticks\": \"\"}}, \"type\": \"scattergl\"}], \"scattermapbox\": [{\"marker\": {\"colorbar\": {\"outlinewidth\": 0, \"ticks\": \"\"}}, \"type\": \"scattermapbox\"}], \"scatterpolar\": [{\"marker\": {\"colorbar\": {\"outlinewidth\": 0, \"ticks\": \"\"}}, \"type\": \"scatterpolar\"}], \"scatterpolargl\": [{\"marker\": {\"colorbar\": {\"outlinewidth\": 0, \"ticks\": \"\"}}, \"type\": \"scatterpolargl\"}], \"scatterternary\": [{\"marker\": {\"colorbar\": {\"outlinewidth\": 0, \"ticks\": \"\"}}, \"type\": \"scatterternary\"}], \"surface\": [{\"colorbar\": {\"outlinewidth\": 0, \"ticks\": \"\"}, \"colorscale\": [[0.0, \"#0d0887\"], [0.1111111111111111, \"#46039f\"], [0.2222222222222222, \"#7201a8\"], [0.3333333333333333, \"#9c179e\"], [0.4444444444444444, \"#bd3786\"], [0.5555555555555556, \"#d8576b\"], [0.6666666666666666, \"#ed7953\"], [0.7777777777777778, \"#fb9f3a\"], [0.8888888888888888, \"#fdca26\"], [1.0, \"#f0f921\"]], \"type\": \"surface\"}], \"table\": [{\"cells\": {\"fill\": {\"color\": \"#EBF0F8\"}, \"line\": {\"color\": \"white\"}}, \"header\": {\"fill\": {\"color\": \"#C8D4E3\"}, \"line\": {\"color\": \"white\"}}, \"type\": \"table\"}]}, \"layout\": {\"annotationdefaults\": {\"arrowcolor\": \"#2a3f5f\", \"arrowhead\": 0, \"arrowwidth\": 1}, \"autotypenumbers\": \"strict\", \"coloraxis\": {\"colorbar\": {\"outlinewidth\": 0, \"ticks\": \"\"}}, \"colorscale\": {\"diverging\": [[0, \"#8e0152\"], [0.1, \"#c51b7d\"], [0.2, \"#de77ae\"], [0.3, \"#f1b6da\"], [0.4, \"#fde0ef\"], [0.5, \"#f7f7f7\"], [0.6, \"#e6f5d0\"], [0.7, \"#b8e186\"], [0.8, \"#7fbc41\"], [0.9, \"#4d9221\"], [1, \"#276419\"]], \"sequential\": [[0.0, \"#0d0887\"], [0.1111111111111111, \"#46039f\"], [0.2222222222222222, \"#7201a8\"], [0.3333333333333333, \"#9c179e\"], [0.4444444444444444, \"#bd3786\"], [0.5555555555555556, \"#d8576b\"], [0.6666666666666666, \"#ed7953\"], [0.7777777777777778, \"#fb9f3a\"], [0.8888888888888888, \"#fdca26\"], [1.0, \"#f0f921\"]], \"sequentialminus\": [[0.0, \"#0d0887\"], [0.1111111111111111, \"#46039f\"], [0.2222222222222222, \"#7201a8\"], [0.3333333333333333, \"#9c179e\"], [0.4444444444444444, \"#bd3786\"], [0.5555555555555556, \"#d8576b\"], [0.6666666666666666, \"#ed7953\"], [0.7777777777777778, \"#fb9f3a\"], [0.8888888888888888, \"#fdca26\"], [1.0, \"#f0f921\"]]}, \"colorway\": [\"#636efa\", \"#EF553B\", \"#00cc96\", \"#ab63fa\", \"#FFA15A\", \"#19d3f3\", \"#FF6692\", \"#B6E880\", \"#FF97FF\", \"#FECB52\"], \"font\": {\"color\": \"#2a3f5f\"}, \"geo\": {\"bgcolor\": \"white\", \"lakecolor\": \"white\", \"landcolor\": \"#E5ECF6\", \"showlakes\": true, \"showland\": true, \"subunitcolor\": \"white\"}, \"hoverlabel\": {\"align\": \"left\"}, \"hovermode\": \"closest\", \"mapbox\": {\"style\": \"light\"}, \"paper_bgcolor\": \"white\", \"plot_bgcolor\": \"#E5ECF6\", \"polar\": {\"angularaxis\": {\"gridcolor\": \"white\", \"linecolor\": \"white\", \"ticks\": \"\"}, \"bgcolor\": \"#E5ECF6\", \"radialaxis\": {\"gridcolor\": \"white\", \"linecolor\": \"white\", \"ticks\": \"\"}}, \"scene\": {\"xaxis\": {\"backgroundcolor\": \"#E5ECF6\", \"gridcolor\": \"white\", \"gridwidth\": 2, \"linecolor\": \"white\", \"showbackground\": true, \"ticks\": \"\", \"zerolinecolor\": \"white\"}, \"yaxis\": {\"backgroundcolor\": \"#E5ECF6\", \"gridcolor\": \"white\", \"gridwidth\": 2, \"linecolor\": \"white\", \"showbackground\": true, \"ticks\": \"\", \"zerolinecolor\": \"white\"}, \"zaxis\": {\"backgroundcolor\": \"#E5ECF6\", \"gridcolor\": \"white\", \"gridwidth\": 2, \"linecolor\": \"white\", \"showbackground\": true, \"ticks\": \"\", \"zerolinecolor\": \"white\"}}, \"shapedefaults\": {\"line\": {\"color\": \"#2a3f5f\"}}, \"ternary\": {\"aaxis\": {\"gridcolor\": \"white\", \"linecolor\": \"white\", \"ticks\": \"\"}, \"baxis\": {\"gridcolor\": \"white\", \"linecolor\": \"white\", \"ticks\": \"\"}, \"bgcolor\": \"#E5ECF6\", \"caxis\": {\"gridcolor\": \"white\", \"linecolor\": \"white\", \"ticks\": \"\"}}, \"title\": {\"x\": 0.05}, \"xaxis\": {\"automargin\": true, \"gridcolor\": \"white\", \"linecolor\": \"white\", \"ticks\": \"\", \"title\": {\"standoff\": 15}, \"zerolinecolor\": \"white\", \"zerolinewidth\": 2}, \"yaxis\": {\"automargin\": true, \"gridcolor\": \"white\", \"linecolor\": \"white\", \"ticks\": \"\", \"title\": {\"standoff\": 15}, \"zerolinecolor\": \"white\", \"zerolinewidth\": 2}}}, \"title\": {\"text\": \"ROC Curve (0.879)\"}, \"xaxis\": {\"title\": {\"text\": \"false positive rate\"}}, \"yaxis\": {\"title\": {\"text\": \"true positive rate\"}}},                        {\"responsive\": true}                    ).then(function(){\n",
       "                            \n",
       "var gd = document.getElementById('df899448-8f8a-4c3f-a902-cb30eeffe12f');\n",
       "var x = new MutationObserver(function (mutations, observer) {{\n",
       "        var display = window.getComputedStyle(gd).display;\n",
       "        if (!display || display === 'none') {{\n",
       "            console.log([gd, 'removed!']);\n",
       "            Plotly.purge(gd);\n",
       "            observer.disconnect();\n",
       "        }}\n",
       "}});\n",
       "\n",
       "// Listen for the removal of the full notebook cells\n",
       "var notebookContainer = gd.closest('#notebook-container');\n",
       "if (notebookContainer) {{\n",
       "    x.observe(notebookContainer, {childList: true});\n",
       "}}\n",
       "\n",
       "// Listen for the clearing of the current output cell\n",
       "var outputEl = gd.closest('.output');\n",
       "if (outputEl) {{\n",
       "    x.observe(outputEl, {childList: true});\n",
       "}}\n",
       "\n",
       "                        })                };                });            </script>        </div>"
      ]
     },
     "metadata": {},
     "output_type": "display_data"
    }
   ],
   "source": [
    "# Decision Tree\n",
    "from sklearn.tree import DecisionTreeClassifier\n",
    "\n",
    "model = DecisionTreeClassifier()\n",
    "model.fit(X_train,Y_train)\n",
    "\n",
    "Y_score = model.predict_proba(X_test)[:,1]\n",
    "y_pred = model.predict(X_test)\n",
    "\n",
    "print('Logistic Regression')\n",
    "print('acc:',accuracy_score(Y_test,y_pred))\n",
    "print('recall:',recall_score(Y_test,y_pred))\n",
    "print('f1:',f1_score(Y_test,y_pred))\n",
    "\n",
    "roccurve()"
   ]
  },
  {
   "cell_type": "code",
   "execution_count": 24,
   "metadata": {},
   "outputs": [
    {
     "name": "stdout",
     "output_type": "stream",
     "text": [
      "Random Forest\n",
      "acc: 0.9143333333333333\n",
      "recall: 0.6612466124661247\n",
      "f1: 0.7915652879156528\n"
     ]
    },
    {
     "data": {
      "application/vnd.plotly.v1+json": {
       "config": {
        "linkText": "Export to plot.ly",
        "plotlyServerURL": "https://plot.ly",
        "showLink": false
       },
       "data": [
        {
         "fill": "tozeroy",
         "line": {
          "color": "rgb(22,96,167)",
          "width": 2
         },
         "name": "Roc:",
         "type": "scatter",
         "x": [
          0,
          0,
          0,
          0,
          0,
          0,
          0,
          0,
          0,
          0,
          0,
          0.0004420866489832007,
          0.001326259946949602,
          0.003978779840848806,
          0.004862953138815208,
          0.005747126436781609,
          0.005747126436781609,
          0.00618921308576481,
          0.00618921308576481,
          0.007073386383731211,
          0.007073386383731211,
          0.007515473032714412,
          0.007515473032714412,
          0.007515473032714412,
          0.007957559681697613,
          0.007957559681697613,
          0.008841732979664015,
          0.008841732979664015,
          0.009725906277630416,
          0.009725906277630416,
          0.010167992926613616,
          0.010167992926613616,
          0.010167992926613616,
          0.010610079575596816,
          0.010610079575596816,
          0.011052166224580018,
          0.011052166224580018,
          0.011494252873563218,
          0.011494252873563218,
          0.011936339522546418,
          0.011936339522546418,
          0.01237842617152962,
          0.01237842617152962,
          0.01282051282051282,
          0.01282051282051282,
          0.014588859416445624,
          0.014588859416445624,
          0.014588859416445624,
          0.015030946065428824,
          0.015030946065428824,
          0.015915119363395226,
          0.015915119363395226,
          0.016357206012378427,
          0.016357206012378427,
          0.016799292661361626,
          0.016799292661361626,
          0.018125552608311227,
          0.018125552608311227,
          0.01856763925729443,
          0.01856763925729443,
          0.01856763925729443,
          0.01856763925729443,
          0.01856763925729443,
          0.01900972590627763,
          0.01900972590627763,
          0.019451812555260833,
          0.019451812555260833,
          0.020335985853227233,
          0.020335985853227233,
          0.020778072502210435,
          0.020778072502210435,
          0.021662245800176835,
          0.021662245800176835,
          0.022104332449160036,
          0.022104332449160036,
          0.022546419098143235,
          0.022546419098143235,
          0.022546419098143235,
          0.022546419098143235,
          0.023430592396109638,
          0.023430592396109638,
          0.023872679045092837,
          0.023872679045092837,
          0.02475685234305924,
          0.02475685234305924,
          0.025198938992042442,
          0.025198938992042442,
          0.025198938992042442,
          0.02564102564102564,
          0.02564102564102564,
          0.026083112290008842,
          0.026083112290008842,
          0.026083112290008842,
          0.026083112290008842,
          0.026083112290008842,
          0.026083112290008842,
          0.026525198938992044,
          0.026525198938992044,
          0.026967285587975242,
          0.026967285587975242,
          0.026967285587975242,
          0.028735632183908046,
          0.028735632183908046,
          0.02961980548187445,
          0.02961980548187445,
          0.030061892130857647,
          0.030061892130857647,
          0.030061892130857647,
          0.030061892130857647,
          0.03050397877984085,
          0.03050397877984085,
          0.03094606542882405,
          0.03094606542882405,
          0.03138815207780725,
          0.03138815207780725,
          0.03138815207780725,
          0.03227232537577365,
          0.03227232537577365,
          0.032714412024756855,
          0.032714412024756855,
          0.03359858532272325,
          0.034482758620689655,
          0.034482758620689655,
          0.034924845269672856,
          0.034924845269672856,
          0.034924845269672856,
          0.034924845269672856,
          0.03536693191865606,
          0.03536693191865606,
          0.03580901856763926,
          0.03580901856763926,
          0.03669319186560566,
          0.03669319186560566,
          0.03713527851458886,
          0.03713527851458886,
          0.03713527851458886,
          0.03757736516357206,
          0.03757736516357206,
          0.03801945181255526,
          0.03801945181255526,
          0.040229885057471264,
          0.040229885057471264,
          0.040671971706454466,
          0.040671971706454466,
          0.04111405835543767,
          0.04111405835543767,
          0.04155614500442087,
          0.04155614500442087,
          0.042440318302387266,
          0.042440318302387266,
          0.04332449160035367,
          0.04332449160035367,
          0.04376657824933687,
          0.04376657824933687,
          0.044650751547303275,
          0.04509283819628647,
          0.04509283819628647,
          0.04553492484526967,
          0.04553492484526967,
          0.04597701149425287,
          0.04597701149425287,
          0.046419098143236075,
          0.046419098143236075,
          0.046861184792219276,
          0.046861184792219276,
          0.04730327144120248,
          0.04730327144120248,
          0.04774535809018567,
          0.04774535809018567,
          0.04774535809018567,
          0.04774535809018567,
          0.04774535809018567,
          0.048187444739168875,
          0.048187444739168875,
          0.04862953138815208,
          0.04862953138815208,
          0.04951370468611848,
          0.04951370468611848,
          0.04995579133510168,
          0.04995579133510168,
          0.04995579133510168,
          0.050397877984084884,
          0.050397877984084884,
          0.05083996463306808,
          0.05083996463306808,
          0.05083996463306808,
          0.05128205128205128,
          0.05128205128205128,
          0.05128205128205128,
          0.05172413793103448,
          0.05172413793103448,
          0.052608311229000886,
          0.052608311229000886,
          0.05349248452696728,
          0.05349248452696728,
          0.05349248452696728,
          0.05349248452696728,
          0.053934571175950484,
          0.053934571175950484,
          0.05481874447391689,
          0.05481874447391689,
          0.05526083112290009,
          0.05526083112290009,
          0.05614500442086649,
          0.05614500442086649,
          0.05614500442086649,
          0.05658709106984969,
          0.05658709106984969,
          0.05658709106984969,
          0.05702917771883289,
          0.05702917771883289,
          0.05747126436781609,
          0.05747126436781609,
          0.05747126436781609,
          0.05747126436781609,
          0.05747126436781609,
          0.05747126436781609,
          0.05791335101679929,
          0.05791335101679929,
          0.058355437665782495,
          0.058355437665782495,
          0.058797524314765696,
          0.058797524314765696,
          0.058797524314765696,
          0.0592396109637489,
          0.0592396109637489,
          0.0592396109637489,
          0.05968169761273209,
          0.05968169761273209,
          0.05968169761273209,
          0.0605658709106985,
          0.0605658709106985,
          0.0610079575596817,
          0.0610079575596817,
          0.0610079575596817,
          0.0614500442086649,
          0.0614500442086649,
          0.0614500442086649,
          0.0618921308576481,
          0.0618921308576481,
          0.0623342175066313,
          0.0623342175066313,
          0.0627763041556145,
          0.0627763041556145,
          0.0627763041556145,
          0.06321839080459771,
          0.06321839080459771,
          0.06321839080459771,
          0.06321839080459771,
          0.0645446507515473,
          0.0645446507515473,
          0.0649867374005305,
          0.0649867374005305,
          0.06542882404951371,
          0.06542882404951371,
          0.06542882404951371,
          0.06542882404951371,
          0.06631299734748011,
          0.06631299734748011,
          0.06763925729442971,
          0.06763925729442971,
          0.06763925729442971,
          0.0680813439434129,
          0.0680813439434129,
          0.06896551724137931,
          0.06896551724137931,
          0.06984969053934571,
          0.06984969053934571,
          0.07073386383731212,
          0.07073386383731212,
          0.07117595048629531,
          0.07117595048629531,
          0.07206012378426171,
          0.07206012378426171,
          0.07338638373121131,
          0.07338638373121131,
          0.07338638373121131,
          0.07338638373121131,
          0.07427055702917772,
          0.07427055702917772,
          0.07471264367816093,
          0.07471264367816093,
          0.07603890362511052,
          0.07603890362511052,
          0.07648099027409372,
          0.07648099027409372,
          0.07692307692307693,
          0.07692307692307693,
          0.07692307692307693,
          0.07692307692307693,
          0.07736516357206012,
          0.07736516357206012,
          0.07824933687002653,
          0.07824933687002653,
          0.07824933687002653,
          0.07913351016799293,
          0.07913351016799293,
          0.08090185676392574,
          0.08090185676392574,
          0.08134394341290893,
          0.08134394341290893,
          0.08178603006189213,
          0.08178603006189213,
          0.08178603006189213,
          0.08178603006189213,
          0.08222811671087533,
          0.08222811671087533,
          0.08267020335985853,
          0.08267020335985853,
          0.08443854995579134,
          0.08443854995579134,
          0.08443854995579134,
          0.08443854995579134,
          0.08532272325375774,
          0.08532272325375774,
          0.08532272325375774,
          0.08532272325375774,
          0.08620689655172414,
          0.08620689655172414,
          0.08885941644562334,
          0.08974358974358974,
          0.08974358974358974,
          0.08974358974358974,
          0.08974358974358974,
          0.09018567639257294,
          0.09018567639257294,
          0.09062776304155615,
          0.09062776304155615,
          0.09062776304155615,
          0.09106984969053934,
          0.09106984969053934,
          0.09151193633952255,
          0.09151193633952255,
          0.09195402298850575,
          0.09195402298850575,
          0.09239610963748895,
          0.09239610963748895,
          0.09283819628647215,
          0.09283819628647215,
          0.09372236958443855,
          0.09372236958443855,
          0.09416445623342175,
          0.09416445623342175,
          0.09416445623342175,
          0.09504862953138815,
          0.09504862953138815,
          0.09504862953138815,
          0.09549071618037135,
          0.09549071618037135,
          0.09593280282935455,
          0.09593280282935455,
          0.09637488947833775,
          0.09637488947833775,
          0.09637488947833775,
          0.09637488947833775,
          0.09858532272325375,
          0.09858532272325375,
          0.10035366931918656,
          0.10035366931918656,
          0.10123784261715296,
          0.10167992926613616,
          0.10167992926613616,
          0.10167992926613616,
          0.10167992926613616,
          0.10344827586206896,
          0.10344827586206896,
          0.10389036251105217,
          0.10389036251105217,
          0.10433244916003537,
          0.10433244916003537,
          0.10433244916003537,
          0.10610079575596817,
          0.10610079575596817,
          0.10610079575596817,
          0.10698496905393456,
          0.10698496905393456,
          0.10786914235190097,
          0.10786914235190097,
          0.10786914235190097,
          0.10831122900088418,
          0.10831122900088418,
          0.10831122900088418,
          0.10831122900088418,
          0.11140583554376658,
          0.11140583554376658,
          0.11229000884173299,
          0.11229000884173299,
          0.11229000884173299,
          0.11361626878868258,
          0.11361626878868258,
          0.11405835543766578,
          0.11405835543766578,
          0.11405835543766578,
          0.11538461538461539,
          0.11538461538461539,
          0.11538461538461539,
          0.11582670203359859,
          0.11582670203359859,
          0.11582670203359859,
          0.11759504862953139,
          0.11759504862953139,
          0.11803713527851459,
          0.11803713527851459,
          0.1184792219274978,
          0.1184792219274978,
          0.11892130857648099,
          0.11892130857648099,
          0.11936339522546419,
          0.12024756852343059,
          0.12157382847038019,
          0.12157382847038019,
          0.12245800176834659,
          0.12245800176834659,
          0.123342175066313,
          0.123342175066313,
          0.1246684350132626,
          0.1246684350132626,
          0.125552608311229,
          0.125552608311229,
          0.1259946949602122,
          0.1259946949602122,
          0.1268788682581786,
          0.1268788682581786,
          0.1273209549071618,
          0.1273209549071618,
          0.127763041556145,
          0.127763041556145,
          0.1290893015030946,
          0.1290893015030946,
          0.1304155614500442,
          0.1304155614500442,
          0.13085764809902742,
          0.13085764809902742,
          0.13218390804597702,
          0.13218390804597702,
          0.13262599469496023,
          0.13262599469496023,
          0.13704686118479223,
          0.13704686118479223,
          0.1374889478337754,
          0.1374889478337754,
          0.138815207780725,
          0.138815207780725,
          0.13925729442970822,
          0.13925729442970822,
          0.14146772767462423,
          0.14146772767462423,
          0.14279398762157383,
          0.14279398762157383,
          0.14412024756852343,
          0.14412024756852343,
          0.14500442086648982,
          0.14500442086648982,
          0.14544650751547303,
          0.14544650751547303,
          0.14633068081343945,
          0.14721485411140584,
          0.14809902740937222,
          0.14809902740937222,
          0.14854111405835543,
          0.14854111405835543,
          0.14898320070733864,
          0.14898320070733864,
          0.14986737400530503,
          0.15075154730327145,
          0.15119363395225463,
          0.15119363395225463,
          0.15207780725022105,
          0.15207780725022105,
          0.15251989389920426,
          0.15251989389920426,
          0.15251989389920426,
          0.15384615384615385,
          0.15384615384615385,
          0.15473032714412024,
          0.15473032714412024,
          0.15473032714412024,
          0.15561450044208666,
          0.15561450044208666,
          0.15870910698496907,
          0.15870910698496907,
          0.15915119363395225,
          0.15915119363395225,
          0.16003536693191867,
          0.16003536693191867,
          0.16003536693191867,
          0.16136162687886826,
          0.16136162687886826,
          0.16136162687886826,
          0.16312997347480107,
          0.16312997347480107,
          0.16357206012378425,
          0.16357206012378425,
          0.16489832007073385,
          0.16489832007073385,
          0.16578249336870027,
          0.16578249336870027,
          0.16666666666666666,
          0.16666666666666666,
          0.16710875331564987,
          0.16710875331564987,
          0.16931918656056588,
          0.16931918656056588,
          0.17285587975243147,
          0.17285587975243147,
          0.17418213969938107,
          0.17418213969938107,
          0.1755083996463307,
          0.1755083996463307,
          0.1799292661361627,
          0.1799292661361627,
          0.1808134394341291,
          0.1808134394341291,
          0.1825817860300619,
          0.1825817860300619,
          0.1830238726790451,
          0.1830238726790451,
          0.1839080459770115,
          0.1839080459770115,
          0.1852343059239611,
          0.1852343059239611,
          0.1852343059239611,
          0.1861184792219275,
          0.1861184792219275,
          0.1874447391688771,
          0.1874447391688771,
          0.1887709991158267,
          0.1887709991158267,
          0.1905393457117595,
          0.1905393457117595,
          0.1914235190097259,
          0.1914235190097259,
          0.1918656056587091,
          0.1918656056587091,
          0.1940760389036251,
          0.1940760389036251,
          0.1962864721485411,
          0.1962864721485411,
          0.19849690539345713,
          0.19849690539345713,
          0.19982316534040673,
          0.19982316534040673,
          0.20380194518125552,
          0.20380194518125552,
          0.20557029177718833,
          0.20557029177718833,
          0.20645446507515472,
          0.20645446507515472,
          0.20689655172413793,
          0.20689655172413793,
          0.20778072502210435,
          0.20778072502210435,
          0.20866489832007074,
          0.20866489832007074,
          0.20954907161803712,
          0.20954907161803712,
          0.20999115826702033,
          0.20999115826702033,
          0.21175950486295314,
          0.21175950486295314,
          0.21264367816091953,
          0.21264367816091953,
          0.21396993810786913,
          0.21396993810786913,
          0.21529619805481875,
          0.21529619805481875,
          0.21750663129973474,
          0.21750663129973474,
          0.21927497789566755,
          0.21927497789566755,
          0.21971706454465076,
          0.22060123784261715,
          0.22148541114058357,
          0.22148541114058357,
          0.22413793103448276,
          0.22413793103448276,
          0.22546419098143236,
          0.22546419098143236,
          0.22767462422634838,
          0.22767462422634838,
          0.22811671087533156,
          0.22811671087533156,
          0.22855879752431477,
          0.22855879752431477,
          0.23076923076923078,
          0.23076923076923078,
          0.23076923076923078,
          0.2369584438549956,
          0.2369584438549956,
          0.23784261715296198,
          0.23784261715296198,
          0.23872679045092837,
          0.23872679045092837,
          0.2396109637488948,
          0.2396109637488948,
          0.2413793103448276,
          0.242263483642794,
          0.242263483642794,
          0.24314765694076038,
          0.24314765694076038,
          0.2475685234305924,
          0.2475685234305924,
          0.2480106100795756,
          0.2480106100795756,
          0.2502210433244916,
          0.251105216622458,
          0.251105216622458,
          0.2524314765694076,
          0.2524314765694076,
          0.2550839964633068,
          0.2550839964633068,
          0.25596816976127323,
          0.2568523430592396,
          0.2581786030061892,
          0.2581786030061892,
          0.25906277630415564,
          0.25906277630415564,
          0.2595048629531388,
          0.2595048629531388,
          0.2661361626878868,
          0.2661361626878868,
          0.2696728558797524,
          0.2696728558797524,
          0.2723253757736516,
          0.2723253757736516,
          0.28116710875331563,
          0.28116710875331563,
          0.2838196286472148,
          0.2838196286472148,
          0.2891246684350133,
          0.29000884173297964,
          0.2926613616268789,
          0.2926613616268789,
          0.29929266136162685,
          0.29929266136162685,
          0.3001768346595933,
          0.3010610079575597,
          0.3019451812555261,
          0.3032714412024757,
          0.3032714412024757,
          0.3112290008841733,
          0.3112290008841733,
          0.3116710875331565,
          0.3116710875331565,
          0.3129973474801061,
          0.3129973474801061,
          0.3187444739168877,
          0.3187444739168877,
          0.3196286472148541,
          0.3196286472148541,
          0.3196286472148541,
          0.3249336870026525,
          0.32581786030061893,
          0.33510167992926615,
          0.3359858532272325,
          0.33687002652519893,
          0.33775419982316535,
          0.33819628647214856,
          0.33819628647214856,
          0.3505747126436782,
          0.3505747126436782,
          0.35587975243147657,
          0.35587975243147657,
          0.36427939876215737,
          0.3651635720601238,
          0.3673740053050398,
          0.3673740053050398,
          0.3687002652519894,
          0.3687002652519894,
          0.3740053050397878,
          0.3740053050397878,
          0.3762157382847038,
          0.3762157382847038,
          0.3775419982316534,
          0.3775419982316534,
          0.38992042440318303,
          0.38992042440318303,
          0.3925729442970822,
          0.3925729442970822,
          0.3947833775419982,
          0.3947833775419982,
          0.40583554376657827,
          0.40583554376657827,
          0.41954022988505746,
          0.41954022988505746,
          0.4270557029177719,
          0.42793987621573826,
          0.42838196286472147,
          0.42838196286472147,
          0.4292661361626879,
          0.4292661361626879,
          0.4451812555260831,
          0.44606542882404954,
          0.45490716180371354,
          0.45490716180371354,
          0.46109637488947836,
          0.4619805481874447,
          0.47214854111405835,
          0.47214854111405835,
          0.47789566755083995,
          0.47789566755083995,
          0.4792219274977896,
          0.48010610079575594,
          0.4849690539345712,
          0.4858532272325376,
          0.4946949602122016,
          0.4946949602122016,
          0.4982316534040672,
          0.4982316534040672,
          0.4995579133510168,
          0.5004420866489832,
          0.5013262599469496,
          0.5013262599469496,
          0.5075154730327144,
          0.5083996463306808,
          0.5137046861184792,
          0.5137046861184792,
          0.5278514588859416,
          0.5278514588859416,
          0.5459770114942529,
          0.5459770114942529,
          0.5592396109637489,
          0.5592396109637489,
          0.5623342175066313,
          0.5623342175066313,
          0.5729442970822282,
          0.5729442970822282,
          0.5751547303271441,
          0.5760389036251106,
          0.5786914235190097,
          0.5795755968169761,
          0.5928381962864722,
          0.5928381962864722,
          0.5963748894783377,
          0.5963748894783377,
          0.6038903625110522,
          0.6047745358090185,
          0.6096374889478338,
          0.6096374889478338,
          0.6335101679929266,
          0.634394341290893,
          0.6374889478337754,
          0.6374889478337754,
          0.6414677276746242,
          0.6423519009725907,
          0.6666666666666666,
          0.6666666666666666,
          0.6724137931034483,
          0.6724137931034483,
          0.6755083996463307,
          0.6755083996463307,
          0.6825817860300619,
          0.6825817860300619,
          0.6878868258178603,
          0.6878868258178603,
          0.6954022988505747,
          0.6954022988505747,
          0.7011494252873564,
          0.7011494252873564,
          0.7020335985853228,
          0.7029177718832891,
          0.7086648983200707,
          0.7095490716180372,
          0.7099911582670203,
          0.7099911582670203,
          0.7161803713527851,
          0.7161803713527851,
          0.7170645446507515,
          0.717948717948718,
          0.7219274977895668,
          0.7219274977895668,
          0.7387267904509284,
          0.7396109637488948,
          0.764367816091954,
          0.7652519893899205,
          0.7670203359858532,
          0.7679045092838196,
          0.7855879752431476,
          0.786472148541114,
          0.8059239610963749,
          0.8068081343943413,
          0.8152077807250221,
          0.8160919540229885,
          0.8333333333333334,
          0.8342175066312998,
          0.8386383731211318,
          0.8395225464190982,
          0.850132625994695,
          0.8510167992926614,
          0.8572060123784262,
          0.8580901856763926,
          0.8748894783377542,
          0.8757736516357206,
          0.8775419982316534,
          0.8784261715296198,
          0.8797524314765695,
          0.8797524314765695,
          0.9098143236074271,
          0.9098143236074271,
          0.9398762157382847,
          0.9407603890362511,
          1
         ],
         "y": [
          0,
          0.0013550135501355014,
          0.005420054200542005,
          0.008130081300813009,
          0.009485094850948509,
          0.02032520325203252,
          0.02168021680216802,
          0.02710027100271003,
          0.028455284552845527,
          0.03116531165311653,
          0.04065040650406504,
          0.04065040650406504,
          0.04065040650406504,
          0.04065040650406504,
          0.04065040650406504,
          0.04065040650406504,
          0.044715447154471545,
          0.044715447154471545,
          0.04742547425474255,
          0.04742547425474255,
          0.04878048780487805,
          0.04878048780487805,
          0.052845528455284556,
          0.05420054200542006,
          0.05420054200542006,
          0.056910569105691054,
          0.056910569105691054,
          0.058265582655826556,
          0.058265582655826556,
          0.06233062330623306,
          0.06233062330623306,
          0.06639566395663957,
          0.06910569105691057,
          0.06910569105691057,
          0.07046070460704607,
          0.07046070460704607,
          0.07452574525745258,
          0.07452574525745258,
          0.07588075880758807,
          0.07588075880758807,
          0.07859078590785908,
          0.07859078590785908,
          0.07994579945799458,
          0.07994579945799458,
          0.08265582655826559,
          0.08265582655826559,
          0.08807588075880758,
          0.08943089430894309,
          0.08943089430894309,
          0.09078590785907859,
          0.09078590785907859,
          0.09349593495934959,
          0.09349593495934959,
          0.0975609756097561,
          0.0975609756097561,
          0.1002710027100271,
          0.1002710027100271,
          0.1016260162601626,
          0.1016260162601626,
          0.1043360433604336,
          0.10840108401084012,
          0.10975609756097561,
          0.11246612466124661,
          0.11246612466124661,
          0.11517615176151762,
          0.11517615176151762,
          0.11653116531165311,
          0.11653116531165311,
          0.11788617886178862,
          0.11788617886178862,
          0.12059620596205962,
          0.12059620596205962,
          0.12195121951219512,
          0.12195121951219512,
          0.12466124661246612,
          0.12466124661246612,
          0.12601626016260162,
          0.12872628726287264,
          0.13008130081300814,
          0.13008130081300814,
          0.13143631436314362,
          0.13143631436314362,
          0.13279132791327913,
          0.13279132791327913,
          0.13550135501355012,
          0.13550135501355012,
          0.14363143631436315,
          0.14634146341463414,
          0.14634146341463414,
          0.14769647696476965,
          0.14769647696476965,
          0.15040650406504066,
          0.15311653116531165,
          0.15447154471544716,
          0.15718157181571815,
          0.15853658536585366,
          0.15853658536585366,
          0.15989159891598917,
          0.15989159891598917,
          0.16260162601626016,
          0.16395663956639567,
          0.16395663956639567,
          0.16802168021680217,
          0.16802168021680217,
          0.17073170731707318,
          0.17073170731707318,
          0.17208672086720866,
          0.17479674796747968,
          0.17615176151761516,
          0.17615176151761516,
          0.18157181571815717,
          0.18157181571815717,
          0.18834688346883469,
          0.18834688346883469,
          0.19241192411924118,
          0.1937669376693767,
          0.1937669376693767,
          0.1978319783197832,
          0.1978319783197832,
          0.1991869918699187,
          0.1991869918699187,
          0.1991869918699187,
          0.2005420054200542,
          0.2005420054200542,
          0.2032520325203252,
          0.20596205962059622,
          0.2086720867208672,
          0.2086720867208672,
          0.21002710027100271,
          0.21002710027100271,
          0.21138211382113822,
          0.21138211382113822,
          0.21680216802168023,
          0.21680216802168023,
          0.21951219512195122,
          0.22086720867208673,
          0.22086720867208673,
          0.2222222222222222,
          0.2222222222222222,
          0.22357723577235772,
          0.22357723577235772,
          0.22764227642276422,
          0.22764227642276422,
          0.23035230352303523,
          0.23035230352303523,
          0.23170731707317074,
          0.23170731707317074,
          0.23306233062330622,
          0.23306233062330622,
          0.23441734417344173,
          0.23441734417344173,
          0.24119241192411925,
          0.24119241192411925,
          0.24390243902439024,
          0.24390243902439024,
          0.24390243902439024,
          0.24525745257452575,
          0.24525745257452575,
          0.24932249322493225,
          0.24932249322493225,
          0.25203252032520324,
          0.25203252032520324,
          0.2588075880758808,
          0.2588075880758808,
          0.26151761517615174,
          0.26151761517615174,
          0.2669376693766938,
          0.2669376693766938,
          0.2682926829268293,
          0.27100271002710025,
          0.27235772357723576,
          0.2750677506775068,
          0.2750677506775068,
          0.2804878048780488,
          0.2804878048780488,
          0.2859078590785908,
          0.2859078590785908,
          0.2872628726287263,
          0.2872628726287263,
          0.2886178861788618,
          0.29132791327913277,
          0.29132791327913277,
          0.2940379403794038,
          0.2940379403794038,
          0.3035230352303523,
          0.3062330623306233,
          0.3062330623306233,
          0.3157181571815718,
          0.31842818428184283,
          0.31842818428184283,
          0.31978319783197834,
          0.31978319783197834,
          0.3224932249322493,
          0.3224932249322493,
          0.3252032520325203,
          0.33062330623306235,
          0.3333333333333333,
          0.3333333333333333,
          0.33875338753387535,
          0.33875338753387535,
          0.34146341463414637,
          0.34146341463414637,
          0.34552845528455284,
          0.34552845528455284,
          0.34688346883468835,
          0.34959349593495936,
          0.34959349593495936,
          0.35501355013550134,
          0.35636856368563685,
          0.35636856368563685,
          0.35772357723577236,
          0.35772357723577236,
          0.3617886178861789,
          0.36449864498644985,
          0.36585365853658536,
          0.3699186991869919,
          0.37262872628726285,
          0.37262872628726285,
          0.3875338753387534,
          0.3875338753387534,
          0.3915989159891599,
          0.3915989159891599,
          0.39295392953929537,
          0.3956639566395664,
          0.3956639566395664,
          0.3970189701897019,
          0.4010840108401084,
          0.4010840108401084,
          0.4024390243902439,
          0.4051490514905149,
          0.4051490514905149,
          0.4078590785907859,
          0.4078590785907859,
          0.4105691056910569,
          0.4132791327913279,
          0.4132791327913279,
          0.4146341463414634,
          0.4173441734417344,
          0.4173441734417344,
          0.42140921409214094,
          0.42140921409214094,
          0.42276422764227645,
          0.42276422764227645,
          0.42953929539295393,
          0.43224932249322495,
          0.43224932249322495,
          0.43902439024390244,
          0.44173441734417346,
          0.44308943089430897,
          0.44308943089430897,
          0.4444444444444444,
          0.4444444444444444,
          0.44579945799457993,
          0.44579945799457993,
          0.44850948509485095,
          0.45121951219512196,
          0.45257452574525747,
          0.45257452574525747,
          0.453929539295393,
          0.453929539295393,
          0.45528455284552843,
          0.45799457994579945,
          0.45799457994579945,
          0.4634146341463415,
          0.4634146341463415,
          0.46747967479674796,
          0.46747967479674796,
          0.46883468834688347,
          0.46883468834688347,
          0.470189701897019,
          0.470189701897019,
          0.4715447154471545,
          0.4715447154471545,
          0.4742547425474255,
          0.4742547425474255,
          0.47831978319783197,
          0.481029810298103,
          0.4823848238482385,
          0.4823848238482385,
          0.489159891598916,
          0.489159891598916,
          0.4905149051490515,
          0.4905149051490515,
          0.4959349593495935,
          0.4959349593495935,
          0.5013550135501355,
          0.5013550135501355,
          0.5040650406504065,
          0.5067750677506775,
          0.510840108401084,
          0.510840108401084,
          0.513550135501355,
          0.513550135501355,
          0.516260162601626,
          0.5203252032520326,
          0.5203252032520326,
          0.521680216802168,
          0.521680216802168,
          0.5230352303523035,
          0.5230352303523035,
          0.5257452574525745,
          0.5257452574525745,
          0.5284552845528455,
          0.532520325203252,
          0.535230352303523,
          0.535230352303523,
          0.5365853658536586,
          0.5365853658536586,
          0.540650406504065,
          0.540650406504065,
          0.5447154471544715,
          0.5474254742547425,
          0.5487804878048781,
          0.5487804878048781,
          0.5501355013550135,
          0.5528455284552846,
          0.559620596205962,
          0.559620596205962,
          0.5609756097560976,
          0.5609756097560976,
          0.5609756097560976,
          0.5663956639566395,
          0.5691056910569106,
          0.573170731707317,
          0.573170731707317,
          0.5785907859078591,
          0.5785907859078591,
          0.5813008130081301,
          0.5826558265582655,
          0.5826558265582655,
          0.5853658536585366,
          0.5853658536585366,
          0.5867208672086721,
          0.5867208672086721,
          0.5907859078590786,
          0.5907859078590786,
          0.5934959349593496,
          0.5934959349593496,
          0.5948509485094851,
          0.5948509485094851,
          0.5962059620596206,
          0.5962059620596206,
          0.6056910569105691,
          0.6084010840108401,
          0.6084010840108401,
          0.6124661246612466,
          0.6192411924119241,
          0.6192411924119241,
          0.6205962059620597,
          0.6205962059620597,
          0.6219512195121951,
          0.6219512195121951,
          0.6233062330623306,
          0.6260162601626016,
          0.6273712737127372,
          0.6273712737127372,
          0.6300813008130082,
          0.6300813008130082,
          0.6355013550135501,
          0.6355013550135501,
          0.6355013550135501,
          0.6368563685636857,
          0.6395663956639567,
          0.6422764227642277,
          0.6422764227642277,
          0.6436314363143631,
          0.6436314363143631,
          0.6449864498644986,
          0.6449864498644986,
          0.6476964769647696,
          0.6490514905149052,
          0.6490514905149052,
          0.6531165311653117,
          0.6544715447154471,
          0.6544715447154471,
          0.6571815718157181,
          0.6571815718157181,
          0.6585365853658537,
          0.6612466124661247,
          0.6612466124661247,
          0.6626016260162602,
          0.6653116531165312,
          0.6693766937669376,
          0.6693766937669376,
          0.6720867208672087,
          0.6720867208672087,
          0.6747967479674797,
          0.6761517615176151,
          0.6761517615176151,
          0.6775067750677507,
          0.6775067750677507,
          0.6802168021680217,
          0.6815718157181572,
          0.6815718157181572,
          0.6842818428184282,
          0.6869918699186992,
          0.6869918699186992,
          0.6897018970189702,
          0.6910569105691057,
          0.6910569105691057,
          0.6937669376693767,
          0.6937669376693767,
          0.6964769647696477,
          0.6964769647696477,
          0.7032520325203252,
          0.7032520325203252,
          0.7059620596205962,
          0.7059620596205962,
          0.7059620596205962,
          0.7059620596205962,
          0.7086720867208672,
          0.7086720867208672,
          0.7100271002710027,
          0.7100271002710027,
          0.7113821138211383,
          0.7113821138211383,
          0.7140921409214093,
          0.7140921409214093,
          0.7154471544715447,
          0.7154471544715447,
          0.7168021680216802,
          0.7168021680216802,
          0.7181571815718157,
          0.7181571815718157,
          0.7195121951219512,
          0.7195121951219512,
          0.7208672086720868,
          0.7208672086720868,
          0.7222222222222222,
          0.7222222222222222,
          0.7235772357723578,
          0.7235772357723578,
          0.7276422764227642,
          0.7276422764227642,
          0.7289972899728997,
          0.7289972899728997,
          0.7303523035230353,
          0.7303523035230353,
          0.7317073170731707,
          0.7317073170731707,
          0.7371273712737128,
          0.7371273712737128,
          0.7384823848238482,
          0.7384823848238482,
          0.7398373983739838,
          0.7398373983739838,
          0.7425474254742548,
          0.7425474254742548,
          0.7466124661246613,
          0.7466124661246613,
          0.7479674796747967,
          0.7479674796747967,
          0.7493224932249323,
          0.7493224932249323,
          0.7506775067750677,
          0.7506775067750677,
          0.7506775067750677,
          0.7506775067750677,
          0.7520325203252033,
          0.7520325203252033,
          0.7547425474254743,
          0.7547425474254743,
          0.7560975609756098,
          0.7560975609756098,
          0.7560975609756098,
          0.7560975609756098,
          0.7588075880758808,
          0.7588075880758808,
          0.7601626016260162,
          0.7601626016260162,
          0.7628726287262872,
          0.7655826558265583,
          0.7655826558265583,
          0.7682926829268293,
          0.7682926829268293,
          0.7710027100271003,
          0.7750677506775068,
          0.7750677506775068,
          0.7764227642276422,
          0.7764227642276422,
          0.7777777777777778,
          0.7777777777777778,
          0.7791327913279132,
          0.7791327913279132,
          0.7804878048780488,
          0.7831978319783198,
          0.7831978319783198,
          0.7859078590785907,
          0.7886178861788617,
          0.7886178861788617,
          0.7899728997289973,
          0.7899728997289973,
          0.7913279132791328,
          0.7913279132791328,
          0.7926829268292683,
          0.7926829268292683,
          0.7940379403794038,
          0.7940379403794038,
          0.7953929539295393,
          0.7953929539295393,
          0.7967479674796748,
          0.7967479674796748,
          0.7994579945799458,
          0.7994579945799458,
          0.8008130081300813,
          0.8008130081300813,
          0.8035230352303523,
          0.8035230352303523,
          0.8048780487804879,
          0.8048780487804879,
          0.8062330623306233,
          0.8062330623306233,
          0.8075880758807588,
          0.8075880758807588,
          0.8089430894308943,
          0.8089430894308943,
          0.8143631436314364,
          0.8143631436314364,
          0.8157181571815718,
          0.8157181571815718,
          0.8170731707317073,
          0.8197831978319783,
          0.8197831978319783,
          0.8224932249322493,
          0.8224932249322493,
          0.8238482384823849,
          0.8238482384823849,
          0.8252032520325203,
          0.8252032520325203,
          0.8292682926829268,
          0.8292682926829268,
          0.8306233062330624,
          0.8306233062330624,
          0.8319783197831978,
          0.8319783197831978,
          0.8387533875338753,
          0.8387533875338753,
          0.8414634146341463,
          0.8414634146341463,
          0.8441734417344173,
          0.8441734417344173,
          0.8455284552845529,
          0.8455284552845529,
          0.8468834688346883,
          0.8468834688346883,
          0.8482384823848238,
          0.8482384823848238,
          0.8495934959349594,
          0.8495934959349594,
          0.8509485094850948,
          0.8509485094850948,
          0.8523035230352304,
          0.8523035230352304,
          0.8536585365853658,
          0.8536585365853658,
          0.8563685636856369,
          0.8563685636856369,
          0.8577235772357723,
          0.8577235772357723,
          0.8590785907859079,
          0.8590785907859079,
          0.8604336043360433,
          0.8604336043360433,
          0.8617886178861789,
          0.8617886178861789,
          0.8631436314363143,
          0.8631436314363143,
          0.8644986449864499,
          0.8644986449864499,
          0.8658536585365854,
          0.8658536585365854,
          0.8658536585365854,
          0.8658536585365854,
          0.8672086720867209,
          0.8672086720867209,
          0.8685636856368564,
          0.8685636856368564,
          0.8699186991869918,
          0.8699186991869918,
          0.8712737127371274,
          0.8712737127371274,
          0.8726287262872628,
          0.8726287262872628,
          0.8739837398373984,
          0.8739837398373984,
          0.8766937669376694,
          0.8794037940379403,
          0.8794037940379403,
          0.8807588075880759,
          0.8807588075880759,
          0.8821138211382114,
          0.8821138211382114,
          0.8834688346883469,
          0.8834688346883469,
          0.8848238482384824,
          0.8848238482384824,
          0.8848238482384824,
          0.8861788617886179,
          0.8861788617886179,
          0.8875338753387534,
          0.8875338753387534,
          0.8888888888888888,
          0.8888888888888888,
          0.8902439024390244,
          0.8902439024390244,
          0.8902439024390244,
          0.8915989159891599,
          0.8915989159891599,
          0.8929539295392954,
          0.8929539295392954,
          0.8943089430894309,
          0.8943089430894309,
          0.8943089430894309,
          0.8943089430894309,
          0.8956639566395664,
          0.8956639566395664,
          0.8983739837398373,
          0.8983739837398373,
          0.8997289972899729,
          0.8997289972899729,
          0.9051490514905149,
          0.9051490514905149,
          0.907859078590786,
          0.907859078590786,
          0.9092140921409214,
          0.9092140921409214,
          0.9105691056910569,
          0.9105691056910569,
          0.9132791327913279,
          0.9132791327913279,
          0.9132791327913279,
          0.9132791327913279,
          0.9146341463414634,
          0.9146341463414634,
          0.9159891598915989,
          0.9159891598915989,
          0.9159891598915989,
          0.9159891598915989,
          0.9159891598915989,
          0.9173441734417345,
          0.9173441734417345,
          0.9186991869918699,
          0.9186991869918699,
          0.9200542005420054,
          0.9200542005420054,
          0.9214092140921409,
          0.9214092140921409,
          0.9227642276422764,
          0.9227642276422764,
          0.924119241192412,
          0.926829268292683,
          0.926829268292683,
          0.926829268292683,
          0.926829268292683,
          0.926829268292683,
          0.926829268292683,
          0.926829268292683,
          0.926829268292683,
          0.9281842818428184,
          0.9281842818428184,
          0.9308943089430894,
          0.9308943089430894,
          0.9322493224932249,
          0.9322493224932249,
          0.9322493224932249,
          0.9322493224932249,
          0.9349593495934959,
          0.9349593495934959,
          0.9376693766937669,
          0.9376693766937669,
          0.9390243902439024,
          0.9390243902439024,
          0.940379403794038,
          0.940379403794038,
          0.943089430894309,
          0.943089430894309,
          0.9444444444444444,
          0.9444444444444444,
          0.94579945799458,
          0.94579945799458,
          0.9471544715447154,
          0.9471544715447154,
          0.9498644986449865,
          0.9498644986449865,
          0.9512195121951219,
          0.9512195121951219,
          0.9512195121951219,
          0.9512195121951219,
          0.9525745257452575,
          0.9525745257452575,
          0.9539295392953929,
          0.9539295392953929,
          0.9539295392953929,
          0.9539295392953929,
          0.9552845528455285,
          0.9552845528455285,
          0.9552845528455285,
          0.9552845528455285,
          0.959349593495935,
          0.959349593495935,
          0.9607046070460704,
          0.9607046070460704,
          0.9607046070460704,
          0.9607046070460704,
          0.9607046070460704,
          0.9607046070460704,
          0.962059620596206,
          0.962059620596206,
          0.9634146341463414,
          0.9634146341463414,
          0.9634146341463414,
          0.9634146341463414,
          0.964769647696477,
          0.964769647696477,
          0.964769647696477,
          0.964769647696477,
          0.9661246612466124,
          0.9661246612466124,
          0.967479674796748,
          0.967479674796748,
          0.9688346883468835,
          0.9688346883468835,
          0.9701897018970189,
          0.9701897018970189,
          0.9715447154471545,
          0.9715447154471545,
          0.9728997289972899,
          0.9728997289972899,
          0.9728997289972899,
          0.9728997289972899,
          0.9728997289972899,
          0.9728997289972899,
          0.9742547425474255,
          0.9742547425474255,
          0.975609756097561,
          0.975609756097561,
          0.975609756097561,
          0.975609756097561,
          0.978319783197832,
          0.978319783197832,
          0.978319783197832,
          0.978319783197832,
          0.9796747967479674,
          0.9796747967479674,
          0.9796747967479674,
          0.9796747967479674,
          0.981029810298103,
          0.981029810298103,
          0.983739837398374,
          0.983739837398374,
          0.9850948509485095,
          0.9850948509485095,
          0.986449864498645,
          0.986449864498645,
          0.9878048780487805,
          0.9878048780487805,
          0.989159891598916,
          0.989159891598916,
          0.9905149051490515,
          0.9905149051490515,
          0.9905149051490515,
          0.9905149051490515,
          0.9905149051490515,
          0.9905149051490515,
          0.9932249322493225,
          0.9932249322493225,
          0.9959349593495935,
          0.9959349593495935,
          0.9959349593495935,
          0.9959349593495935,
          0.997289972899729,
          0.997289972899729,
          0.997289972899729,
          0.997289972899729,
          0.997289972899729,
          0.997289972899729,
          0.997289972899729,
          0.997289972899729,
          0.997289972899729,
          0.997289972899729,
          0.997289972899729,
          0.997289972899729,
          0.997289972899729,
          0.997289972899729,
          0.997289972899729,
          0.997289972899729,
          0.997289972899729,
          0.997289972899729,
          0.997289972899729,
          0.997289972899729,
          0.997289972899729,
          0.997289972899729,
          0.997289972899729,
          0.997289972899729,
          0.997289972899729,
          0.997289972899729,
          0.9986449864498645,
          0.9986449864498645,
          1,
          1,
          1,
          1
         ]
        },
        {
         "line": {
          "color": "black",
          "dash": "dot",
          "width": 1.5
         },
         "type": "scatter",
         "x": [
          0,
          1
         ],
         "y": [
          0,
          1
         ]
        }
       ],
       "layout": {
        "template": {
         "data": {
          "bar": [
           {
            "error_x": {
             "color": "#2a3f5f"
            },
            "error_y": {
             "color": "#2a3f5f"
            },
            "marker": {
             "line": {
              "color": "#E5ECF6",
              "width": 0.5
             }
            },
            "type": "bar"
           }
          ],
          "barpolar": [
           {
            "marker": {
             "line": {
              "color": "#E5ECF6",
              "width": 0.5
             }
            },
            "type": "barpolar"
           }
          ],
          "carpet": [
           {
            "aaxis": {
             "endlinecolor": "#2a3f5f",
             "gridcolor": "white",
             "linecolor": "white",
             "minorgridcolor": "white",
             "startlinecolor": "#2a3f5f"
            },
            "baxis": {
             "endlinecolor": "#2a3f5f",
             "gridcolor": "white",
             "linecolor": "white",
             "minorgridcolor": "white",
             "startlinecolor": "#2a3f5f"
            },
            "type": "carpet"
           }
          ],
          "choropleth": [
           {
            "colorbar": {
             "outlinewidth": 0,
             "ticks": ""
            },
            "type": "choropleth"
           }
          ],
          "contour": [
           {
            "colorbar": {
             "outlinewidth": 0,
             "ticks": ""
            },
            "colorscale": [
             [
              0,
              "#0d0887"
             ],
             [
              0.1111111111111111,
              "#46039f"
             ],
             [
              0.2222222222222222,
              "#7201a8"
             ],
             [
              0.3333333333333333,
              "#9c179e"
             ],
             [
              0.4444444444444444,
              "#bd3786"
             ],
             [
              0.5555555555555556,
              "#d8576b"
             ],
             [
              0.6666666666666666,
              "#ed7953"
             ],
             [
              0.7777777777777778,
              "#fb9f3a"
             ],
             [
              0.8888888888888888,
              "#fdca26"
             ],
             [
              1,
              "#f0f921"
             ]
            ],
            "type": "contour"
           }
          ],
          "contourcarpet": [
           {
            "colorbar": {
             "outlinewidth": 0,
             "ticks": ""
            },
            "type": "contourcarpet"
           }
          ],
          "heatmap": [
           {
            "colorbar": {
             "outlinewidth": 0,
             "ticks": ""
            },
            "colorscale": [
             [
              0,
              "#0d0887"
             ],
             [
              0.1111111111111111,
              "#46039f"
             ],
             [
              0.2222222222222222,
              "#7201a8"
             ],
             [
              0.3333333333333333,
              "#9c179e"
             ],
             [
              0.4444444444444444,
              "#bd3786"
             ],
             [
              0.5555555555555556,
              "#d8576b"
             ],
             [
              0.6666666666666666,
              "#ed7953"
             ],
             [
              0.7777777777777778,
              "#fb9f3a"
             ],
             [
              0.8888888888888888,
              "#fdca26"
             ],
             [
              1,
              "#f0f921"
             ]
            ],
            "type": "heatmap"
           }
          ],
          "heatmapgl": [
           {
            "colorbar": {
             "outlinewidth": 0,
             "ticks": ""
            },
            "colorscale": [
             [
              0,
              "#0d0887"
             ],
             [
              0.1111111111111111,
              "#46039f"
             ],
             [
              0.2222222222222222,
              "#7201a8"
             ],
             [
              0.3333333333333333,
              "#9c179e"
             ],
             [
              0.4444444444444444,
              "#bd3786"
             ],
             [
              0.5555555555555556,
              "#d8576b"
             ],
             [
              0.6666666666666666,
              "#ed7953"
             ],
             [
              0.7777777777777778,
              "#fb9f3a"
             ],
             [
              0.8888888888888888,
              "#fdca26"
             ],
             [
              1,
              "#f0f921"
             ]
            ],
            "type": "heatmapgl"
           }
          ],
          "histogram": [
           {
            "marker": {
             "colorbar": {
              "outlinewidth": 0,
              "ticks": ""
             }
            },
            "type": "histogram"
           }
          ],
          "histogram2d": [
           {
            "colorbar": {
             "outlinewidth": 0,
             "ticks": ""
            },
            "colorscale": [
             [
              0,
              "#0d0887"
             ],
             [
              0.1111111111111111,
              "#46039f"
             ],
             [
              0.2222222222222222,
              "#7201a8"
             ],
             [
              0.3333333333333333,
              "#9c179e"
             ],
             [
              0.4444444444444444,
              "#bd3786"
             ],
             [
              0.5555555555555556,
              "#d8576b"
             ],
             [
              0.6666666666666666,
              "#ed7953"
             ],
             [
              0.7777777777777778,
              "#fb9f3a"
             ],
             [
              0.8888888888888888,
              "#fdca26"
             ],
             [
              1,
              "#f0f921"
             ]
            ],
            "type": "histogram2d"
           }
          ],
          "histogram2dcontour": [
           {
            "colorbar": {
             "outlinewidth": 0,
             "ticks": ""
            },
            "colorscale": [
             [
              0,
              "#0d0887"
             ],
             [
              0.1111111111111111,
              "#46039f"
             ],
             [
              0.2222222222222222,
              "#7201a8"
             ],
             [
              0.3333333333333333,
              "#9c179e"
             ],
             [
              0.4444444444444444,
              "#bd3786"
             ],
             [
              0.5555555555555556,
              "#d8576b"
             ],
             [
              0.6666666666666666,
              "#ed7953"
             ],
             [
              0.7777777777777778,
              "#fb9f3a"
             ],
             [
              0.8888888888888888,
              "#fdca26"
             ],
             [
              1,
              "#f0f921"
             ]
            ],
            "type": "histogram2dcontour"
           }
          ],
          "mesh3d": [
           {
            "colorbar": {
             "outlinewidth": 0,
             "ticks": ""
            },
            "type": "mesh3d"
           }
          ],
          "parcoords": [
           {
            "line": {
             "colorbar": {
              "outlinewidth": 0,
              "ticks": ""
             }
            },
            "type": "parcoords"
           }
          ],
          "pie": [
           {
            "automargin": true,
            "type": "pie"
           }
          ],
          "scatter": [
           {
            "marker": {
             "colorbar": {
              "outlinewidth": 0,
              "ticks": ""
             }
            },
            "type": "scatter"
           }
          ],
          "scatter3d": [
           {
            "line": {
             "colorbar": {
              "outlinewidth": 0,
              "ticks": ""
             }
            },
            "marker": {
             "colorbar": {
              "outlinewidth": 0,
              "ticks": ""
             }
            },
            "type": "scatter3d"
           }
          ],
          "scattercarpet": [
           {
            "marker": {
             "colorbar": {
              "outlinewidth": 0,
              "ticks": ""
             }
            },
            "type": "scattercarpet"
           }
          ],
          "scattergeo": [
           {
            "marker": {
             "colorbar": {
              "outlinewidth": 0,
              "ticks": ""
             }
            },
            "type": "scattergeo"
           }
          ],
          "scattergl": [
           {
            "marker": {
             "colorbar": {
              "outlinewidth": 0,
              "ticks": ""
             }
            },
            "type": "scattergl"
           }
          ],
          "scattermapbox": [
           {
            "marker": {
             "colorbar": {
              "outlinewidth": 0,
              "ticks": ""
             }
            },
            "type": "scattermapbox"
           }
          ],
          "scatterpolar": [
           {
            "marker": {
             "colorbar": {
              "outlinewidth": 0,
              "ticks": ""
             }
            },
            "type": "scatterpolar"
           }
          ],
          "scatterpolargl": [
           {
            "marker": {
             "colorbar": {
              "outlinewidth": 0,
              "ticks": ""
             }
            },
            "type": "scatterpolargl"
           }
          ],
          "scatterternary": [
           {
            "marker": {
             "colorbar": {
              "outlinewidth": 0,
              "ticks": ""
             }
            },
            "type": "scatterternary"
           }
          ],
          "surface": [
           {
            "colorbar": {
             "outlinewidth": 0,
             "ticks": ""
            },
            "colorscale": [
             [
              0,
              "#0d0887"
             ],
             [
              0.1111111111111111,
              "#46039f"
             ],
             [
              0.2222222222222222,
              "#7201a8"
             ],
             [
              0.3333333333333333,
              "#9c179e"
             ],
             [
              0.4444444444444444,
              "#bd3786"
             ],
             [
              0.5555555555555556,
              "#d8576b"
             ],
             [
              0.6666666666666666,
              "#ed7953"
             ],
             [
              0.7777777777777778,
              "#fb9f3a"
             ],
             [
              0.8888888888888888,
              "#fdca26"
             ],
             [
              1,
              "#f0f921"
             ]
            ],
            "type": "surface"
           }
          ],
          "table": [
           {
            "cells": {
             "fill": {
              "color": "#EBF0F8"
             },
             "line": {
              "color": "white"
             }
            },
            "header": {
             "fill": {
              "color": "#C8D4E3"
             },
             "line": {
              "color": "white"
             }
            },
            "type": "table"
           }
          ]
         },
         "layout": {
          "annotationdefaults": {
           "arrowcolor": "#2a3f5f",
           "arrowhead": 0,
           "arrowwidth": 1
          },
          "autotypenumbers": "strict",
          "coloraxis": {
           "colorbar": {
            "outlinewidth": 0,
            "ticks": ""
           }
          },
          "colorscale": {
           "diverging": [
            [
             0,
             "#8e0152"
            ],
            [
             0.1,
             "#c51b7d"
            ],
            [
             0.2,
             "#de77ae"
            ],
            [
             0.3,
             "#f1b6da"
            ],
            [
             0.4,
             "#fde0ef"
            ],
            [
             0.5,
             "#f7f7f7"
            ],
            [
             0.6,
             "#e6f5d0"
            ],
            [
             0.7,
             "#b8e186"
            ],
            [
             0.8,
             "#7fbc41"
            ],
            [
             0.9,
             "#4d9221"
            ],
            [
             1,
             "#276419"
            ]
           ],
           "sequential": [
            [
             0,
             "#0d0887"
            ],
            [
             0.1111111111111111,
             "#46039f"
            ],
            [
             0.2222222222222222,
             "#7201a8"
            ],
            [
             0.3333333333333333,
             "#9c179e"
            ],
            [
             0.4444444444444444,
             "#bd3786"
            ],
            [
             0.5555555555555556,
             "#d8576b"
            ],
            [
             0.6666666666666666,
             "#ed7953"
            ],
            [
             0.7777777777777778,
             "#fb9f3a"
            ],
            [
             0.8888888888888888,
             "#fdca26"
            ],
            [
             1,
             "#f0f921"
            ]
           ],
           "sequentialminus": [
            [
             0,
             "#0d0887"
            ],
            [
             0.1111111111111111,
             "#46039f"
            ],
            [
             0.2222222222222222,
             "#7201a8"
            ],
            [
             0.3333333333333333,
             "#9c179e"
            ],
            [
             0.4444444444444444,
             "#bd3786"
            ],
            [
             0.5555555555555556,
             "#d8576b"
            ],
            [
             0.6666666666666666,
             "#ed7953"
            ],
            [
             0.7777777777777778,
             "#fb9f3a"
            ],
            [
             0.8888888888888888,
             "#fdca26"
            ],
            [
             1,
             "#f0f921"
            ]
           ]
          },
          "colorway": [
           "#636efa",
           "#EF553B",
           "#00cc96",
           "#ab63fa",
           "#FFA15A",
           "#19d3f3",
           "#FF6692",
           "#B6E880",
           "#FF97FF",
           "#FECB52"
          ],
          "font": {
           "color": "#2a3f5f"
          },
          "geo": {
           "bgcolor": "white",
           "lakecolor": "white",
           "landcolor": "#E5ECF6",
           "showlakes": true,
           "showland": true,
           "subunitcolor": "white"
          },
          "hoverlabel": {
           "align": "left"
          },
          "hovermode": "closest",
          "mapbox": {
           "style": "light"
          },
          "paper_bgcolor": "white",
          "plot_bgcolor": "#E5ECF6",
          "polar": {
           "angularaxis": {
            "gridcolor": "white",
            "linecolor": "white",
            "ticks": ""
           },
           "bgcolor": "#E5ECF6",
           "radialaxis": {
            "gridcolor": "white",
            "linecolor": "white",
            "ticks": ""
           }
          },
          "scene": {
           "xaxis": {
            "backgroundcolor": "#E5ECF6",
            "gridcolor": "white",
            "gridwidth": 2,
            "linecolor": "white",
            "showbackground": true,
            "ticks": "",
            "zerolinecolor": "white"
           },
           "yaxis": {
            "backgroundcolor": "#E5ECF6",
            "gridcolor": "white",
            "gridwidth": 2,
            "linecolor": "white",
            "showbackground": true,
            "ticks": "",
            "zerolinecolor": "white"
           },
           "zaxis": {
            "backgroundcolor": "#E5ECF6",
            "gridcolor": "white",
            "gridwidth": 2,
            "linecolor": "white",
            "showbackground": true,
            "ticks": "",
            "zerolinecolor": "white"
           }
          },
          "shapedefaults": {
           "line": {
            "color": "#2a3f5f"
           }
          },
          "ternary": {
           "aaxis": {
            "gridcolor": "white",
            "linecolor": "white",
            "ticks": ""
           },
           "baxis": {
            "gridcolor": "white",
            "linecolor": "white",
            "ticks": ""
           },
           "bgcolor": "#E5ECF6",
           "caxis": {
            "gridcolor": "white",
            "linecolor": "white",
            "ticks": ""
           }
          },
          "title": {
           "x": 0.05
          },
          "xaxis": {
           "automargin": true,
           "gridcolor": "white",
           "linecolor": "white",
           "ticks": "",
           "title": {
            "standoff": 15
           },
           "zerolinecolor": "white",
           "zerolinewidth": 2
          },
          "yaxis": {
           "automargin": true,
           "gridcolor": "white",
           "linecolor": "white",
           "ticks": "",
           "title": {
            "standoff": 15
           },
           "zerolinecolor": "white",
           "zerolinewidth": 2
          }
         }
        },
        "title": {
         "text": "ROC Curve (0.879)"
        },
        "xaxis": {
         "title": {
          "text": "false positive rate"
         }
        },
        "yaxis": {
         "title": {
          "text": "true positive rate"
         }
        }
       }
      },
      "text/html": [
       "<div>                            <div id=\"3a30d025-2f7a-41b7-bc6f-3d55315d4a5e\" class=\"plotly-graph-div\" style=\"height:525px; width:100%;\"></div>            <script type=\"text/javascript\">                require([\"plotly\"], function(Plotly) {                    window.PLOTLYENV=window.PLOTLYENV || {};                                    if (document.getElementById(\"3a30d025-2f7a-41b7-bc6f-3d55315d4a5e\")) {                    Plotly.newPlot(                        \"3a30d025-2f7a-41b7-bc6f-3d55315d4a5e\",                        [{\"fill\": \"tozeroy\", \"line\": {\"color\": \"rgb(22,96,167)\", \"width\": 2}, \"name\": \"Roc:\", \"type\": \"scatter\", \"x\": [0.0, 0.0, 0.0, 0.0, 0.0, 0.0, 0.0, 0.0, 0.0, 0.0, 0.0, 0.0004420866489832007, 0.001326259946949602, 0.003978779840848806, 0.004862953138815208, 0.005747126436781609, 0.005747126436781609, 0.00618921308576481, 0.00618921308576481, 0.007073386383731211, 0.007073386383731211, 0.007515473032714412, 0.007515473032714412, 0.007515473032714412, 0.007957559681697613, 0.007957559681697613, 0.008841732979664015, 0.008841732979664015, 0.009725906277630416, 0.009725906277630416, 0.010167992926613616, 0.010167992926613616, 0.010167992926613616, 0.010610079575596816, 0.010610079575596816, 0.011052166224580018, 0.011052166224580018, 0.011494252873563218, 0.011494252873563218, 0.011936339522546418, 0.011936339522546418, 0.01237842617152962, 0.01237842617152962, 0.01282051282051282, 0.01282051282051282, 0.014588859416445624, 0.014588859416445624, 0.014588859416445624, 0.015030946065428824, 0.015030946065428824, 0.015915119363395226, 0.015915119363395226, 0.016357206012378427, 0.016357206012378427, 0.016799292661361626, 0.016799292661361626, 0.018125552608311227, 0.018125552608311227, 0.01856763925729443, 0.01856763925729443, 0.01856763925729443, 0.01856763925729443, 0.01856763925729443, 0.01900972590627763, 0.01900972590627763, 0.019451812555260833, 0.019451812555260833, 0.020335985853227233, 0.020335985853227233, 0.020778072502210435, 0.020778072502210435, 0.021662245800176835, 0.021662245800176835, 0.022104332449160036, 0.022104332449160036, 0.022546419098143235, 0.022546419098143235, 0.022546419098143235, 0.022546419098143235, 0.023430592396109638, 0.023430592396109638, 0.023872679045092837, 0.023872679045092837, 0.02475685234305924, 0.02475685234305924, 0.025198938992042442, 0.025198938992042442, 0.025198938992042442, 0.02564102564102564, 0.02564102564102564, 0.026083112290008842, 0.026083112290008842, 0.026083112290008842, 0.026083112290008842, 0.026083112290008842, 0.026083112290008842, 0.026525198938992044, 0.026525198938992044, 0.026967285587975242, 0.026967285587975242, 0.026967285587975242, 0.028735632183908046, 0.028735632183908046, 0.02961980548187445, 0.02961980548187445, 0.030061892130857647, 0.030061892130857647, 0.030061892130857647, 0.030061892130857647, 0.03050397877984085, 0.03050397877984085, 0.03094606542882405, 0.03094606542882405, 0.03138815207780725, 0.03138815207780725, 0.03138815207780725, 0.03227232537577365, 0.03227232537577365, 0.032714412024756855, 0.032714412024756855, 0.03359858532272325, 0.034482758620689655, 0.034482758620689655, 0.034924845269672856, 0.034924845269672856, 0.034924845269672856, 0.034924845269672856, 0.03536693191865606, 0.03536693191865606, 0.03580901856763926, 0.03580901856763926, 0.03669319186560566, 0.03669319186560566, 0.03713527851458886, 0.03713527851458886, 0.03713527851458886, 0.03757736516357206, 0.03757736516357206, 0.03801945181255526, 0.03801945181255526, 0.040229885057471264, 0.040229885057471264, 0.040671971706454466, 0.040671971706454466, 0.04111405835543767, 0.04111405835543767, 0.04155614500442087, 0.04155614500442087, 0.042440318302387266, 0.042440318302387266, 0.04332449160035367, 0.04332449160035367, 0.04376657824933687, 0.04376657824933687, 0.044650751547303275, 0.04509283819628647, 0.04509283819628647, 0.04553492484526967, 0.04553492484526967, 0.04597701149425287, 0.04597701149425287, 0.046419098143236075, 0.046419098143236075, 0.046861184792219276, 0.046861184792219276, 0.04730327144120248, 0.04730327144120248, 0.04774535809018567, 0.04774535809018567, 0.04774535809018567, 0.04774535809018567, 0.04774535809018567, 0.048187444739168875, 0.048187444739168875, 0.04862953138815208, 0.04862953138815208, 0.04951370468611848, 0.04951370468611848, 0.04995579133510168, 0.04995579133510168, 0.04995579133510168, 0.050397877984084884, 0.050397877984084884, 0.05083996463306808, 0.05083996463306808, 0.05083996463306808, 0.05128205128205128, 0.05128205128205128, 0.05128205128205128, 0.05172413793103448, 0.05172413793103448, 0.052608311229000886, 0.052608311229000886, 0.05349248452696728, 0.05349248452696728, 0.05349248452696728, 0.05349248452696728, 0.053934571175950484, 0.053934571175950484, 0.05481874447391689, 0.05481874447391689, 0.05526083112290009, 0.05526083112290009, 0.05614500442086649, 0.05614500442086649, 0.05614500442086649, 0.05658709106984969, 0.05658709106984969, 0.05658709106984969, 0.05702917771883289, 0.05702917771883289, 0.05747126436781609, 0.05747126436781609, 0.05747126436781609, 0.05747126436781609, 0.05747126436781609, 0.05747126436781609, 0.05791335101679929, 0.05791335101679929, 0.058355437665782495, 0.058355437665782495, 0.058797524314765696, 0.058797524314765696, 0.058797524314765696, 0.0592396109637489, 0.0592396109637489, 0.0592396109637489, 0.05968169761273209, 0.05968169761273209, 0.05968169761273209, 0.0605658709106985, 0.0605658709106985, 0.0610079575596817, 0.0610079575596817, 0.0610079575596817, 0.0614500442086649, 0.0614500442086649, 0.0614500442086649, 0.0618921308576481, 0.0618921308576481, 0.0623342175066313, 0.0623342175066313, 0.0627763041556145, 0.0627763041556145, 0.0627763041556145, 0.06321839080459771, 0.06321839080459771, 0.06321839080459771, 0.06321839080459771, 0.0645446507515473, 0.0645446507515473, 0.0649867374005305, 0.0649867374005305, 0.06542882404951371, 0.06542882404951371, 0.06542882404951371, 0.06542882404951371, 0.06631299734748011, 0.06631299734748011, 0.06763925729442971, 0.06763925729442971, 0.06763925729442971, 0.0680813439434129, 0.0680813439434129, 0.06896551724137931, 0.06896551724137931, 0.06984969053934571, 0.06984969053934571, 0.07073386383731212, 0.07073386383731212, 0.07117595048629531, 0.07117595048629531, 0.07206012378426171, 0.07206012378426171, 0.07338638373121131, 0.07338638373121131, 0.07338638373121131, 0.07338638373121131, 0.07427055702917772, 0.07427055702917772, 0.07471264367816093, 0.07471264367816093, 0.07603890362511052, 0.07603890362511052, 0.07648099027409372, 0.07648099027409372, 0.07692307692307693, 0.07692307692307693, 0.07692307692307693, 0.07692307692307693, 0.07736516357206012, 0.07736516357206012, 0.07824933687002653, 0.07824933687002653, 0.07824933687002653, 0.07913351016799293, 0.07913351016799293, 0.08090185676392574, 0.08090185676392574, 0.08134394341290893, 0.08134394341290893, 0.08178603006189213, 0.08178603006189213, 0.08178603006189213, 0.08178603006189213, 0.08222811671087533, 0.08222811671087533, 0.08267020335985853, 0.08267020335985853, 0.08443854995579134, 0.08443854995579134, 0.08443854995579134, 0.08443854995579134, 0.08532272325375774, 0.08532272325375774, 0.08532272325375774, 0.08532272325375774, 0.08620689655172414, 0.08620689655172414, 0.08885941644562334, 0.08974358974358974, 0.08974358974358974, 0.08974358974358974, 0.08974358974358974, 0.09018567639257294, 0.09018567639257294, 0.09062776304155615, 0.09062776304155615, 0.09062776304155615, 0.09106984969053934, 0.09106984969053934, 0.09151193633952255, 0.09151193633952255, 0.09195402298850575, 0.09195402298850575, 0.09239610963748895, 0.09239610963748895, 0.09283819628647215, 0.09283819628647215, 0.09372236958443855, 0.09372236958443855, 0.09416445623342175, 0.09416445623342175, 0.09416445623342175, 0.09504862953138815, 0.09504862953138815, 0.09504862953138815, 0.09549071618037135, 0.09549071618037135, 0.09593280282935455, 0.09593280282935455, 0.09637488947833775, 0.09637488947833775, 0.09637488947833775, 0.09637488947833775, 0.09858532272325375, 0.09858532272325375, 0.10035366931918656, 0.10035366931918656, 0.10123784261715296, 0.10167992926613616, 0.10167992926613616, 0.10167992926613616, 0.10167992926613616, 0.10344827586206896, 0.10344827586206896, 0.10389036251105217, 0.10389036251105217, 0.10433244916003537, 0.10433244916003537, 0.10433244916003537, 0.10610079575596817, 0.10610079575596817, 0.10610079575596817, 0.10698496905393456, 0.10698496905393456, 0.10786914235190097, 0.10786914235190097, 0.10786914235190097, 0.10831122900088418, 0.10831122900088418, 0.10831122900088418, 0.10831122900088418, 0.11140583554376658, 0.11140583554376658, 0.11229000884173299, 0.11229000884173299, 0.11229000884173299, 0.11361626878868258, 0.11361626878868258, 0.11405835543766578, 0.11405835543766578, 0.11405835543766578, 0.11538461538461539, 0.11538461538461539, 0.11538461538461539, 0.11582670203359859, 0.11582670203359859, 0.11582670203359859, 0.11759504862953139, 0.11759504862953139, 0.11803713527851459, 0.11803713527851459, 0.1184792219274978, 0.1184792219274978, 0.11892130857648099, 0.11892130857648099, 0.11936339522546419, 0.12024756852343059, 0.12157382847038019, 0.12157382847038019, 0.12245800176834659, 0.12245800176834659, 0.123342175066313, 0.123342175066313, 0.1246684350132626, 0.1246684350132626, 0.125552608311229, 0.125552608311229, 0.1259946949602122, 0.1259946949602122, 0.1268788682581786, 0.1268788682581786, 0.1273209549071618, 0.1273209549071618, 0.127763041556145, 0.127763041556145, 0.1290893015030946, 0.1290893015030946, 0.1304155614500442, 0.1304155614500442, 0.13085764809902742, 0.13085764809902742, 0.13218390804597702, 0.13218390804597702, 0.13262599469496023, 0.13262599469496023, 0.13704686118479223, 0.13704686118479223, 0.1374889478337754, 0.1374889478337754, 0.138815207780725, 0.138815207780725, 0.13925729442970822, 0.13925729442970822, 0.14146772767462423, 0.14146772767462423, 0.14279398762157383, 0.14279398762157383, 0.14412024756852343, 0.14412024756852343, 0.14500442086648982, 0.14500442086648982, 0.14544650751547303, 0.14544650751547303, 0.14633068081343945, 0.14721485411140584, 0.14809902740937222, 0.14809902740937222, 0.14854111405835543, 0.14854111405835543, 0.14898320070733864, 0.14898320070733864, 0.14986737400530503, 0.15075154730327145, 0.15119363395225463, 0.15119363395225463, 0.15207780725022105, 0.15207780725022105, 0.15251989389920426, 0.15251989389920426, 0.15251989389920426, 0.15384615384615385, 0.15384615384615385, 0.15473032714412024, 0.15473032714412024, 0.15473032714412024, 0.15561450044208666, 0.15561450044208666, 0.15870910698496907, 0.15870910698496907, 0.15915119363395225, 0.15915119363395225, 0.16003536693191867, 0.16003536693191867, 0.16003536693191867, 0.16136162687886826, 0.16136162687886826, 0.16136162687886826, 0.16312997347480107, 0.16312997347480107, 0.16357206012378425, 0.16357206012378425, 0.16489832007073385, 0.16489832007073385, 0.16578249336870027, 0.16578249336870027, 0.16666666666666666, 0.16666666666666666, 0.16710875331564987, 0.16710875331564987, 0.16931918656056588, 0.16931918656056588, 0.17285587975243147, 0.17285587975243147, 0.17418213969938107, 0.17418213969938107, 0.1755083996463307, 0.1755083996463307, 0.1799292661361627, 0.1799292661361627, 0.1808134394341291, 0.1808134394341291, 0.1825817860300619, 0.1825817860300619, 0.1830238726790451, 0.1830238726790451, 0.1839080459770115, 0.1839080459770115, 0.1852343059239611, 0.1852343059239611, 0.1852343059239611, 0.1861184792219275, 0.1861184792219275, 0.1874447391688771, 0.1874447391688771, 0.1887709991158267, 0.1887709991158267, 0.1905393457117595, 0.1905393457117595, 0.1914235190097259, 0.1914235190097259, 0.1918656056587091, 0.1918656056587091, 0.1940760389036251, 0.1940760389036251, 0.1962864721485411, 0.1962864721485411, 0.19849690539345713, 0.19849690539345713, 0.19982316534040673, 0.19982316534040673, 0.20380194518125552, 0.20380194518125552, 0.20557029177718833, 0.20557029177718833, 0.20645446507515472, 0.20645446507515472, 0.20689655172413793, 0.20689655172413793, 0.20778072502210435, 0.20778072502210435, 0.20866489832007074, 0.20866489832007074, 0.20954907161803712, 0.20954907161803712, 0.20999115826702033, 0.20999115826702033, 0.21175950486295314, 0.21175950486295314, 0.21264367816091953, 0.21264367816091953, 0.21396993810786913, 0.21396993810786913, 0.21529619805481875, 0.21529619805481875, 0.21750663129973474, 0.21750663129973474, 0.21927497789566755, 0.21927497789566755, 0.21971706454465076, 0.22060123784261715, 0.22148541114058357, 0.22148541114058357, 0.22413793103448276, 0.22413793103448276, 0.22546419098143236, 0.22546419098143236, 0.22767462422634838, 0.22767462422634838, 0.22811671087533156, 0.22811671087533156, 0.22855879752431477, 0.22855879752431477, 0.23076923076923078, 0.23076923076923078, 0.23076923076923078, 0.2369584438549956, 0.2369584438549956, 0.23784261715296198, 0.23784261715296198, 0.23872679045092837, 0.23872679045092837, 0.2396109637488948, 0.2396109637488948, 0.2413793103448276, 0.242263483642794, 0.242263483642794, 0.24314765694076038, 0.24314765694076038, 0.2475685234305924, 0.2475685234305924, 0.2480106100795756, 0.2480106100795756, 0.2502210433244916, 0.251105216622458, 0.251105216622458, 0.2524314765694076, 0.2524314765694076, 0.2550839964633068, 0.2550839964633068, 0.25596816976127323, 0.2568523430592396, 0.2581786030061892, 0.2581786030061892, 0.25906277630415564, 0.25906277630415564, 0.2595048629531388, 0.2595048629531388, 0.2661361626878868, 0.2661361626878868, 0.2696728558797524, 0.2696728558797524, 0.2723253757736516, 0.2723253757736516, 0.28116710875331563, 0.28116710875331563, 0.2838196286472148, 0.2838196286472148, 0.2891246684350133, 0.29000884173297964, 0.2926613616268789, 0.2926613616268789, 0.29929266136162685, 0.29929266136162685, 0.3001768346595933, 0.3010610079575597, 0.3019451812555261, 0.3032714412024757, 0.3032714412024757, 0.3112290008841733, 0.3112290008841733, 0.3116710875331565, 0.3116710875331565, 0.3129973474801061, 0.3129973474801061, 0.3187444739168877, 0.3187444739168877, 0.3196286472148541, 0.3196286472148541, 0.3196286472148541, 0.3249336870026525, 0.32581786030061893, 0.33510167992926615, 0.3359858532272325, 0.33687002652519893, 0.33775419982316535, 0.33819628647214856, 0.33819628647214856, 0.3505747126436782, 0.3505747126436782, 0.35587975243147657, 0.35587975243147657, 0.36427939876215737, 0.3651635720601238, 0.3673740053050398, 0.3673740053050398, 0.3687002652519894, 0.3687002652519894, 0.3740053050397878, 0.3740053050397878, 0.3762157382847038, 0.3762157382847038, 0.3775419982316534, 0.3775419982316534, 0.38992042440318303, 0.38992042440318303, 0.3925729442970822, 0.3925729442970822, 0.3947833775419982, 0.3947833775419982, 0.40583554376657827, 0.40583554376657827, 0.41954022988505746, 0.41954022988505746, 0.4270557029177719, 0.42793987621573826, 0.42838196286472147, 0.42838196286472147, 0.4292661361626879, 0.4292661361626879, 0.4451812555260831, 0.44606542882404954, 0.45490716180371354, 0.45490716180371354, 0.46109637488947836, 0.4619805481874447, 0.47214854111405835, 0.47214854111405835, 0.47789566755083995, 0.47789566755083995, 0.4792219274977896, 0.48010610079575594, 0.4849690539345712, 0.4858532272325376, 0.4946949602122016, 0.4946949602122016, 0.4982316534040672, 0.4982316534040672, 0.4995579133510168, 0.5004420866489832, 0.5013262599469496, 0.5013262599469496, 0.5075154730327144, 0.5083996463306808, 0.5137046861184792, 0.5137046861184792, 0.5278514588859416, 0.5278514588859416, 0.5459770114942529, 0.5459770114942529, 0.5592396109637489, 0.5592396109637489, 0.5623342175066313, 0.5623342175066313, 0.5729442970822282, 0.5729442970822282, 0.5751547303271441, 0.5760389036251106, 0.5786914235190097, 0.5795755968169761, 0.5928381962864722, 0.5928381962864722, 0.5963748894783377, 0.5963748894783377, 0.6038903625110522, 0.6047745358090185, 0.6096374889478338, 0.6096374889478338, 0.6335101679929266, 0.634394341290893, 0.6374889478337754, 0.6374889478337754, 0.6414677276746242, 0.6423519009725907, 0.6666666666666666, 0.6666666666666666, 0.6724137931034483, 0.6724137931034483, 0.6755083996463307, 0.6755083996463307, 0.6825817860300619, 0.6825817860300619, 0.6878868258178603, 0.6878868258178603, 0.6954022988505747, 0.6954022988505747, 0.7011494252873564, 0.7011494252873564, 0.7020335985853228, 0.7029177718832891, 0.7086648983200707, 0.7095490716180372, 0.7099911582670203, 0.7099911582670203, 0.7161803713527851, 0.7161803713527851, 0.7170645446507515, 0.717948717948718, 0.7219274977895668, 0.7219274977895668, 0.7387267904509284, 0.7396109637488948, 0.764367816091954, 0.7652519893899205, 0.7670203359858532, 0.7679045092838196, 0.7855879752431476, 0.786472148541114, 0.8059239610963749, 0.8068081343943413, 0.8152077807250221, 0.8160919540229885, 0.8333333333333334, 0.8342175066312998, 0.8386383731211318, 0.8395225464190982, 0.850132625994695, 0.8510167992926614, 0.8572060123784262, 0.8580901856763926, 0.8748894783377542, 0.8757736516357206, 0.8775419982316534, 0.8784261715296198, 0.8797524314765695, 0.8797524314765695, 0.9098143236074271, 0.9098143236074271, 0.9398762157382847, 0.9407603890362511, 1.0], \"y\": [0.0, 0.0013550135501355014, 0.005420054200542005, 0.008130081300813009, 0.009485094850948509, 0.02032520325203252, 0.02168021680216802, 0.02710027100271003, 0.028455284552845527, 0.03116531165311653, 0.04065040650406504, 0.04065040650406504, 0.04065040650406504, 0.04065040650406504, 0.04065040650406504, 0.04065040650406504, 0.044715447154471545, 0.044715447154471545, 0.04742547425474255, 0.04742547425474255, 0.04878048780487805, 0.04878048780487805, 0.052845528455284556, 0.05420054200542006, 0.05420054200542006, 0.056910569105691054, 0.056910569105691054, 0.058265582655826556, 0.058265582655826556, 0.06233062330623306, 0.06233062330623306, 0.06639566395663957, 0.06910569105691057, 0.06910569105691057, 0.07046070460704607, 0.07046070460704607, 0.07452574525745258, 0.07452574525745258, 0.07588075880758807, 0.07588075880758807, 0.07859078590785908, 0.07859078590785908, 0.07994579945799458, 0.07994579945799458, 0.08265582655826559, 0.08265582655826559, 0.08807588075880758, 0.08943089430894309, 0.08943089430894309, 0.09078590785907859, 0.09078590785907859, 0.09349593495934959, 0.09349593495934959, 0.0975609756097561, 0.0975609756097561, 0.1002710027100271, 0.1002710027100271, 0.1016260162601626, 0.1016260162601626, 0.1043360433604336, 0.10840108401084012, 0.10975609756097561, 0.11246612466124661, 0.11246612466124661, 0.11517615176151762, 0.11517615176151762, 0.11653116531165311, 0.11653116531165311, 0.11788617886178862, 0.11788617886178862, 0.12059620596205962, 0.12059620596205962, 0.12195121951219512, 0.12195121951219512, 0.12466124661246612, 0.12466124661246612, 0.12601626016260162, 0.12872628726287264, 0.13008130081300814, 0.13008130081300814, 0.13143631436314362, 0.13143631436314362, 0.13279132791327913, 0.13279132791327913, 0.13550135501355012, 0.13550135501355012, 0.14363143631436315, 0.14634146341463414, 0.14634146341463414, 0.14769647696476965, 0.14769647696476965, 0.15040650406504066, 0.15311653116531165, 0.15447154471544716, 0.15718157181571815, 0.15853658536585366, 0.15853658536585366, 0.15989159891598917, 0.15989159891598917, 0.16260162601626016, 0.16395663956639567, 0.16395663956639567, 0.16802168021680217, 0.16802168021680217, 0.17073170731707318, 0.17073170731707318, 0.17208672086720866, 0.17479674796747968, 0.17615176151761516, 0.17615176151761516, 0.18157181571815717, 0.18157181571815717, 0.18834688346883469, 0.18834688346883469, 0.19241192411924118, 0.1937669376693767, 0.1937669376693767, 0.1978319783197832, 0.1978319783197832, 0.1991869918699187, 0.1991869918699187, 0.1991869918699187, 0.2005420054200542, 0.2005420054200542, 0.2032520325203252, 0.20596205962059622, 0.2086720867208672, 0.2086720867208672, 0.21002710027100271, 0.21002710027100271, 0.21138211382113822, 0.21138211382113822, 0.21680216802168023, 0.21680216802168023, 0.21951219512195122, 0.22086720867208673, 0.22086720867208673, 0.2222222222222222, 0.2222222222222222, 0.22357723577235772, 0.22357723577235772, 0.22764227642276422, 0.22764227642276422, 0.23035230352303523, 0.23035230352303523, 0.23170731707317074, 0.23170731707317074, 0.23306233062330622, 0.23306233062330622, 0.23441734417344173, 0.23441734417344173, 0.24119241192411925, 0.24119241192411925, 0.24390243902439024, 0.24390243902439024, 0.24390243902439024, 0.24525745257452575, 0.24525745257452575, 0.24932249322493225, 0.24932249322493225, 0.25203252032520324, 0.25203252032520324, 0.2588075880758808, 0.2588075880758808, 0.26151761517615174, 0.26151761517615174, 0.2669376693766938, 0.2669376693766938, 0.2682926829268293, 0.27100271002710025, 0.27235772357723576, 0.2750677506775068, 0.2750677506775068, 0.2804878048780488, 0.2804878048780488, 0.2859078590785908, 0.2859078590785908, 0.2872628726287263, 0.2872628726287263, 0.2886178861788618, 0.29132791327913277, 0.29132791327913277, 0.2940379403794038, 0.2940379403794038, 0.3035230352303523, 0.3062330623306233, 0.3062330623306233, 0.3157181571815718, 0.31842818428184283, 0.31842818428184283, 0.31978319783197834, 0.31978319783197834, 0.3224932249322493, 0.3224932249322493, 0.3252032520325203, 0.33062330623306235, 0.3333333333333333, 0.3333333333333333, 0.33875338753387535, 0.33875338753387535, 0.34146341463414637, 0.34146341463414637, 0.34552845528455284, 0.34552845528455284, 0.34688346883468835, 0.34959349593495936, 0.34959349593495936, 0.35501355013550134, 0.35636856368563685, 0.35636856368563685, 0.35772357723577236, 0.35772357723577236, 0.3617886178861789, 0.36449864498644985, 0.36585365853658536, 0.3699186991869919, 0.37262872628726285, 0.37262872628726285, 0.3875338753387534, 0.3875338753387534, 0.3915989159891599, 0.3915989159891599, 0.39295392953929537, 0.3956639566395664, 0.3956639566395664, 0.3970189701897019, 0.4010840108401084, 0.4010840108401084, 0.4024390243902439, 0.4051490514905149, 0.4051490514905149, 0.4078590785907859, 0.4078590785907859, 0.4105691056910569, 0.4132791327913279, 0.4132791327913279, 0.4146341463414634, 0.4173441734417344, 0.4173441734417344, 0.42140921409214094, 0.42140921409214094, 0.42276422764227645, 0.42276422764227645, 0.42953929539295393, 0.43224932249322495, 0.43224932249322495, 0.43902439024390244, 0.44173441734417346, 0.44308943089430897, 0.44308943089430897, 0.4444444444444444, 0.4444444444444444, 0.44579945799457993, 0.44579945799457993, 0.44850948509485095, 0.45121951219512196, 0.45257452574525747, 0.45257452574525747, 0.453929539295393, 0.453929539295393, 0.45528455284552843, 0.45799457994579945, 0.45799457994579945, 0.4634146341463415, 0.4634146341463415, 0.46747967479674796, 0.46747967479674796, 0.46883468834688347, 0.46883468834688347, 0.470189701897019, 0.470189701897019, 0.4715447154471545, 0.4715447154471545, 0.4742547425474255, 0.4742547425474255, 0.47831978319783197, 0.481029810298103, 0.4823848238482385, 0.4823848238482385, 0.489159891598916, 0.489159891598916, 0.4905149051490515, 0.4905149051490515, 0.4959349593495935, 0.4959349593495935, 0.5013550135501355, 0.5013550135501355, 0.5040650406504065, 0.5067750677506775, 0.510840108401084, 0.510840108401084, 0.513550135501355, 0.513550135501355, 0.516260162601626, 0.5203252032520326, 0.5203252032520326, 0.521680216802168, 0.521680216802168, 0.5230352303523035, 0.5230352303523035, 0.5257452574525745, 0.5257452574525745, 0.5284552845528455, 0.532520325203252, 0.535230352303523, 0.535230352303523, 0.5365853658536586, 0.5365853658536586, 0.540650406504065, 0.540650406504065, 0.5447154471544715, 0.5474254742547425, 0.5487804878048781, 0.5487804878048781, 0.5501355013550135, 0.5528455284552846, 0.559620596205962, 0.559620596205962, 0.5609756097560976, 0.5609756097560976, 0.5609756097560976, 0.5663956639566395, 0.5691056910569106, 0.573170731707317, 0.573170731707317, 0.5785907859078591, 0.5785907859078591, 0.5813008130081301, 0.5826558265582655, 0.5826558265582655, 0.5853658536585366, 0.5853658536585366, 0.5867208672086721, 0.5867208672086721, 0.5907859078590786, 0.5907859078590786, 0.5934959349593496, 0.5934959349593496, 0.5948509485094851, 0.5948509485094851, 0.5962059620596206, 0.5962059620596206, 0.6056910569105691, 0.6084010840108401, 0.6084010840108401, 0.6124661246612466, 0.6192411924119241, 0.6192411924119241, 0.6205962059620597, 0.6205962059620597, 0.6219512195121951, 0.6219512195121951, 0.6233062330623306, 0.6260162601626016, 0.6273712737127372, 0.6273712737127372, 0.6300813008130082, 0.6300813008130082, 0.6355013550135501, 0.6355013550135501, 0.6355013550135501, 0.6368563685636857, 0.6395663956639567, 0.6422764227642277, 0.6422764227642277, 0.6436314363143631, 0.6436314363143631, 0.6449864498644986, 0.6449864498644986, 0.6476964769647696, 0.6490514905149052, 0.6490514905149052, 0.6531165311653117, 0.6544715447154471, 0.6544715447154471, 0.6571815718157181, 0.6571815718157181, 0.6585365853658537, 0.6612466124661247, 0.6612466124661247, 0.6626016260162602, 0.6653116531165312, 0.6693766937669376, 0.6693766937669376, 0.6720867208672087, 0.6720867208672087, 0.6747967479674797, 0.6761517615176151, 0.6761517615176151, 0.6775067750677507, 0.6775067750677507, 0.6802168021680217, 0.6815718157181572, 0.6815718157181572, 0.6842818428184282, 0.6869918699186992, 0.6869918699186992, 0.6897018970189702, 0.6910569105691057, 0.6910569105691057, 0.6937669376693767, 0.6937669376693767, 0.6964769647696477, 0.6964769647696477, 0.7032520325203252, 0.7032520325203252, 0.7059620596205962, 0.7059620596205962, 0.7059620596205962, 0.7059620596205962, 0.7086720867208672, 0.7086720867208672, 0.7100271002710027, 0.7100271002710027, 0.7113821138211383, 0.7113821138211383, 0.7140921409214093, 0.7140921409214093, 0.7154471544715447, 0.7154471544715447, 0.7168021680216802, 0.7168021680216802, 0.7181571815718157, 0.7181571815718157, 0.7195121951219512, 0.7195121951219512, 0.7208672086720868, 0.7208672086720868, 0.7222222222222222, 0.7222222222222222, 0.7235772357723578, 0.7235772357723578, 0.7276422764227642, 0.7276422764227642, 0.7289972899728997, 0.7289972899728997, 0.7303523035230353, 0.7303523035230353, 0.7317073170731707, 0.7317073170731707, 0.7371273712737128, 0.7371273712737128, 0.7384823848238482, 0.7384823848238482, 0.7398373983739838, 0.7398373983739838, 0.7425474254742548, 0.7425474254742548, 0.7466124661246613, 0.7466124661246613, 0.7479674796747967, 0.7479674796747967, 0.7493224932249323, 0.7493224932249323, 0.7506775067750677, 0.7506775067750677, 0.7506775067750677, 0.7506775067750677, 0.7520325203252033, 0.7520325203252033, 0.7547425474254743, 0.7547425474254743, 0.7560975609756098, 0.7560975609756098, 0.7560975609756098, 0.7560975609756098, 0.7588075880758808, 0.7588075880758808, 0.7601626016260162, 0.7601626016260162, 0.7628726287262872, 0.7655826558265583, 0.7655826558265583, 0.7682926829268293, 0.7682926829268293, 0.7710027100271003, 0.7750677506775068, 0.7750677506775068, 0.7764227642276422, 0.7764227642276422, 0.7777777777777778, 0.7777777777777778, 0.7791327913279132, 0.7791327913279132, 0.7804878048780488, 0.7831978319783198, 0.7831978319783198, 0.7859078590785907, 0.7886178861788617, 0.7886178861788617, 0.7899728997289973, 0.7899728997289973, 0.7913279132791328, 0.7913279132791328, 0.7926829268292683, 0.7926829268292683, 0.7940379403794038, 0.7940379403794038, 0.7953929539295393, 0.7953929539295393, 0.7967479674796748, 0.7967479674796748, 0.7994579945799458, 0.7994579945799458, 0.8008130081300813, 0.8008130081300813, 0.8035230352303523, 0.8035230352303523, 0.8048780487804879, 0.8048780487804879, 0.8062330623306233, 0.8062330623306233, 0.8075880758807588, 0.8075880758807588, 0.8089430894308943, 0.8089430894308943, 0.8143631436314364, 0.8143631436314364, 0.8157181571815718, 0.8157181571815718, 0.8170731707317073, 0.8197831978319783, 0.8197831978319783, 0.8224932249322493, 0.8224932249322493, 0.8238482384823849, 0.8238482384823849, 0.8252032520325203, 0.8252032520325203, 0.8292682926829268, 0.8292682926829268, 0.8306233062330624, 0.8306233062330624, 0.8319783197831978, 0.8319783197831978, 0.8387533875338753, 0.8387533875338753, 0.8414634146341463, 0.8414634146341463, 0.8441734417344173, 0.8441734417344173, 0.8455284552845529, 0.8455284552845529, 0.8468834688346883, 0.8468834688346883, 0.8482384823848238, 0.8482384823848238, 0.8495934959349594, 0.8495934959349594, 0.8509485094850948, 0.8509485094850948, 0.8523035230352304, 0.8523035230352304, 0.8536585365853658, 0.8536585365853658, 0.8563685636856369, 0.8563685636856369, 0.8577235772357723, 0.8577235772357723, 0.8590785907859079, 0.8590785907859079, 0.8604336043360433, 0.8604336043360433, 0.8617886178861789, 0.8617886178861789, 0.8631436314363143, 0.8631436314363143, 0.8644986449864499, 0.8644986449864499, 0.8658536585365854, 0.8658536585365854, 0.8658536585365854, 0.8658536585365854, 0.8672086720867209, 0.8672086720867209, 0.8685636856368564, 0.8685636856368564, 0.8699186991869918, 0.8699186991869918, 0.8712737127371274, 0.8712737127371274, 0.8726287262872628, 0.8726287262872628, 0.8739837398373984, 0.8739837398373984, 0.8766937669376694, 0.8794037940379403, 0.8794037940379403, 0.8807588075880759, 0.8807588075880759, 0.8821138211382114, 0.8821138211382114, 0.8834688346883469, 0.8834688346883469, 0.8848238482384824, 0.8848238482384824, 0.8848238482384824, 0.8861788617886179, 0.8861788617886179, 0.8875338753387534, 0.8875338753387534, 0.8888888888888888, 0.8888888888888888, 0.8902439024390244, 0.8902439024390244, 0.8902439024390244, 0.8915989159891599, 0.8915989159891599, 0.8929539295392954, 0.8929539295392954, 0.8943089430894309, 0.8943089430894309, 0.8943089430894309, 0.8943089430894309, 0.8956639566395664, 0.8956639566395664, 0.8983739837398373, 0.8983739837398373, 0.8997289972899729, 0.8997289972899729, 0.9051490514905149, 0.9051490514905149, 0.907859078590786, 0.907859078590786, 0.9092140921409214, 0.9092140921409214, 0.9105691056910569, 0.9105691056910569, 0.9132791327913279, 0.9132791327913279, 0.9132791327913279, 0.9132791327913279, 0.9146341463414634, 0.9146341463414634, 0.9159891598915989, 0.9159891598915989, 0.9159891598915989, 0.9159891598915989, 0.9159891598915989, 0.9173441734417345, 0.9173441734417345, 0.9186991869918699, 0.9186991869918699, 0.9200542005420054, 0.9200542005420054, 0.9214092140921409, 0.9214092140921409, 0.9227642276422764, 0.9227642276422764, 0.924119241192412, 0.926829268292683, 0.926829268292683, 0.926829268292683, 0.926829268292683, 0.926829268292683, 0.926829268292683, 0.926829268292683, 0.926829268292683, 0.9281842818428184, 0.9281842818428184, 0.9308943089430894, 0.9308943089430894, 0.9322493224932249, 0.9322493224932249, 0.9322493224932249, 0.9322493224932249, 0.9349593495934959, 0.9349593495934959, 0.9376693766937669, 0.9376693766937669, 0.9390243902439024, 0.9390243902439024, 0.940379403794038, 0.940379403794038, 0.943089430894309, 0.943089430894309, 0.9444444444444444, 0.9444444444444444, 0.94579945799458, 0.94579945799458, 0.9471544715447154, 0.9471544715447154, 0.9498644986449865, 0.9498644986449865, 0.9512195121951219, 0.9512195121951219, 0.9512195121951219, 0.9512195121951219, 0.9525745257452575, 0.9525745257452575, 0.9539295392953929, 0.9539295392953929, 0.9539295392953929, 0.9539295392953929, 0.9552845528455285, 0.9552845528455285, 0.9552845528455285, 0.9552845528455285, 0.959349593495935, 0.959349593495935, 0.9607046070460704, 0.9607046070460704, 0.9607046070460704, 0.9607046070460704, 0.9607046070460704, 0.9607046070460704, 0.962059620596206, 0.962059620596206, 0.9634146341463414, 0.9634146341463414, 0.9634146341463414, 0.9634146341463414, 0.964769647696477, 0.964769647696477, 0.964769647696477, 0.964769647696477, 0.9661246612466124, 0.9661246612466124, 0.967479674796748, 0.967479674796748, 0.9688346883468835, 0.9688346883468835, 0.9701897018970189, 0.9701897018970189, 0.9715447154471545, 0.9715447154471545, 0.9728997289972899, 0.9728997289972899, 0.9728997289972899, 0.9728997289972899, 0.9728997289972899, 0.9728997289972899, 0.9742547425474255, 0.9742547425474255, 0.975609756097561, 0.975609756097561, 0.975609756097561, 0.975609756097561, 0.978319783197832, 0.978319783197832, 0.978319783197832, 0.978319783197832, 0.9796747967479674, 0.9796747967479674, 0.9796747967479674, 0.9796747967479674, 0.981029810298103, 0.981029810298103, 0.983739837398374, 0.983739837398374, 0.9850948509485095, 0.9850948509485095, 0.986449864498645, 0.986449864498645, 0.9878048780487805, 0.9878048780487805, 0.989159891598916, 0.989159891598916, 0.9905149051490515, 0.9905149051490515, 0.9905149051490515, 0.9905149051490515, 0.9905149051490515, 0.9905149051490515, 0.9932249322493225, 0.9932249322493225, 0.9959349593495935, 0.9959349593495935, 0.9959349593495935, 0.9959349593495935, 0.997289972899729, 0.997289972899729, 0.997289972899729, 0.997289972899729, 0.997289972899729, 0.997289972899729, 0.997289972899729, 0.997289972899729, 0.997289972899729, 0.997289972899729, 0.997289972899729, 0.997289972899729, 0.997289972899729, 0.997289972899729, 0.997289972899729, 0.997289972899729, 0.997289972899729, 0.997289972899729, 0.997289972899729, 0.997289972899729, 0.997289972899729, 0.997289972899729, 0.997289972899729, 0.997289972899729, 0.997289972899729, 0.997289972899729, 0.9986449864498645, 0.9986449864498645, 1.0, 1.0, 1.0, 1.0]}, {\"line\": {\"color\": \"black\", \"dash\": \"dot\", \"width\": 1.5}, \"type\": \"scatter\", \"x\": [0, 1], \"y\": [0, 1]}],                        {\"template\": {\"data\": {\"bar\": [{\"error_x\": {\"color\": \"#2a3f5f\"}, \"error_y\": {\"color\": \"#2a3f5f\"}, \"marker\": {\"line\": {\"color\": \"#E5ECF6\", \"width\": 0.5}}, \"type\": \"bar\"}], \"barpolar\": [{\"marker\": {\"line\": {\"color\": \"#E5ECF6\", \"width\": 0.5}}, \"type\": \"barpolar\"}], \"carpet\": [{\"aaxis\": {\"endlinecolor\": \"#2a3f5f\", \"gridcolor\": \"white\", \"linecolor\": \"white\", \"minorgridcolor\": \"white\", \"startlinecolor\": \"#2a3f5f\"}, \"baxis\": {\"endlinecolor\": \"#2a3f5f\", \"gridcolor\": \"white\", \"linecolor\": \"white\", \"minorgridcolor\": \"white\", \"startlinecolor\": \"#2a3f5f\"}, \"type\": \"carpet\"}], \"choropleth\": [{\"colorbar\": {\"outlinewidth\": 0, \"ticks\": \"\"}, \"type\": \"choropleth\"}], \"contour\": [{\"colorbar\": {\"outlinewidth\": 0, \"ticks\": \"\"}, \"colorscale\": [[0.0, \"#0d0887\"], [0.1111111111111111, \"#46039f\"], [0.2222222222222222, \"#7201a8\"], [0.3333333333333333, \"#9c179e\"], [0.4444444444444444, \"#bd3786\"], [0.5555555555555556, \"#d8576b\"], [0.6666666666666666, \"#ed7953\"], [0.7777777777777778, \"#fb9f3a\"], [0.8888888888888888, \"#fdca26\"], [1.0, \"#f0f921\"]], \"type\": \"contour\"}], \"contourcarpet\": [{\"colorbar\": {\"outlinewidth\": 0, \"ticks\": \"\"}, \"type\": \"contourcarpet\"}], \"heatmap\": [{\"colorbar\": {\"outlinewidth\": 0, \"ticks\": \"\"}, \"colorscale\": [[0.0, \"#0d0887\"], [0.1111111111111111, \"#46039f\"], [0.2222222222222222, \"#7201a8\"], [0.3333333333333333, \"#9c179e\"], [0.4444444444444444, \"#bd3786\"], [0.5555555555555556, \"#d8576b\"], [0.6666666666666666, \"#ed7953\"], [0.7777777777777778, \"#fb9f3a\"], [0.8888888888888888, \"#fdca26\"], [1.0, \"#f0f921\"]], \"type\": \"heatmap\"}], \"heatmapgl\": [{\"colorbar\": {\"outlinewidth\": 0, \"ticks\": \"\"}, \"colorscale\": [[0.0, \"#0d0887\"], [0.1111111111111111, \"#46039f\"], [0.2222222222222222, \"#7201a8\"], [0.3333333333333333, \"#9c179e\"], [0.4444444444444444, \"#bd3786\"], [0.5555555555555556, \"#d8576b\"], [0.6666666666666666, \"#ed7953\"], [0.7777777777777778, \"#fb9f3a\"], [0.8888888888888888, \"#fdca26\"], [1.0, \"#f0f921\"]], \"type\": \"heatmapgl\"}], \"histogram\": [{\"marker\": {\"colorbar\": {\"outlinewidth\": 0, \"ticks\": \"\"}}, \"type\": \"histogram\"}], \"histogram2d\": [{\"colorbar\": {\"outlinewidth\": 0, \"ticks\": \"\"}, \"colorscale\": [[0.0, \"#0d0887\"], [0.1111111111111111, \"#46039f\"], [0.2222222222222222, \"#7201a8\"], [0.3333333333333333, \"#9c179e\"], [0.4444444444444444, \"#bd3786\"], [0.5555555555555556, \"#d8576b\"], [0.6666666666666666, \"#ed7953\"], [0.7777777777777778, \"#fb9f3a\"], [0.8888888888888888, \"#fdca26\"], [1.0, \"#f0f921\"]], \"type\": \"histogram2d\"}], \"histogram2dcontour\": [{\"colorbar\": {\"outlinewidth\": 0, \"ticks\": \"\"}, \"colorscale\": [[0.0, \"#0d0887\"], [0.1111111111111111, \"#46039f\"], [0.2222222222222222, \"#7201a8\"], [0.3333333333333333, \"#9c179e\"], [0.4444444444444444, \"#bd3786\"], [0.5555555555555556, \"#d8576b\"], [0.6666666666666666, \"#ed7953\"], [0.7777777777777778, \"#fb9f3a\"], [0.8888888888888888, \"#fdca26\"], [1.0, \"#f0f921\"]], \"type\": \"histogram2dcontour\"}], \"mesh3d\": [{\"colorbar\": {\"outlinewidth\": 0, \"ticks\": \"\"}, \"type\": \"mesh3d\"}], \"parcoords\": [{\"line\": {\"colorbar\": {\"outlinewidth\": 0, \"ticks\": \"\"}}, \"type\": \"parcoords\"}], \"pie\": [{\"automargin\": true, \"type\": \"pie\"}], \"scatter\": [{\"marker\": {\"colorbar\": {\"outlinewidth\": 0, \"ticks\": \"\"}}, \"type\": \"scatter\"}], \"scatter3d\": [{\"line\": {\"colorbar\": {\"outlinewidth\": 0, \"ticks\": \"\"}}, \"marker\": {\"colorbar\": {\"outlinewidth\": 0, \"ticks\": \"\"}}, \"type\": \"scatter3d\"}], \"scattercarpet\": [{\"marker\": {\"colorbar\": {\"outlinewidth\": 0, \"ticks\": \"\"}}, \"type\": \"scattercarpet\"}], \"scattergeo\": [{\"marker\": {\"colorbar\": {\"outlinewidth\": 0, \"ticks\": \"\"}}, \"type\": \"scattergeo\"}], \"scattergl\": [{\"marker\": {\"colorbar\": {\"outlinewidth\": 0, \"ticks\": \"\"}}, \"type\": \"scattergl\"}], \"scattermapbox\": [{\"marker\": {\"colorbar\": {\"outlinewidth\": 0, \"ticks\": \"\"}}, \"type\": \"scattermapbox\"}], \"scatterpolar\": [{\"marker\": {\"colorbar\": {\"outlinewidth\": 0, \"ticks\": \"\"}}, \"type\": \"scatterpolar\"}], \"scatterpolargl\": [{\"marker\": {\"colorbar\": {\"outlinewidth\": 0, \"ticks\": \"\"}}, \"type\": \"scatterpolargl\"}], \"scatterternary\": [{\"marker\": {\"colorbar\": {\"outlinewidth\": 0, \"ticks\": \"\"}}, \"type\": \"scatterternary\"}], \"surface\": [{\"colorbar\": {\"outlinewidth\": 0, \"ticks\": \"\"}, \"colorscale\": [[0.0, \"#0d0887\"], [0.1111111111111111, \"#46039f\"], [0.2222222222222222, \"#7201a8\"], [0.3333333333333333, \"#9c179e\"], [0.4444444444444444, \"#bd3786\"], [0.5555555555555556, \"#d8576b\"], [0.6666666666666666, \"#ed7953\"], [0.7777777777777778, \"#fb9f3a\"], [0.8888888888888888, \"#fdca26\"], [1.0, \"#f0f921\"]], \"type\": \"surface\"}], \"table\": [{\"cells\": {\"fill\": {\"color\": \"#EBF0F8\"}, \"line\": {\"color\": \"white\"}}, \"header\": {\"fill\": {\"color\": \"#C8D4E3\"}, \"line\": {\"color\": \"white\"}}, \"type\": \"table\"}]}, \"layout\": {\"annotationdefaults\": {\"arrowcolor\": \"#2a3f5f\", \"arrowhead\": 0, \"arrowwidth\": 1}, \"autotypenumbers\": \"strict\", \"coloraxis\": {\"colorbar\": {\"outlinewidth\": 0, \"ticks\": \"\"}}, \"colorscale\": {\"diverging\": [[0, \"#8e0152\"], [0.1, \"#c51b7d\"], [0.2, \"#de77ae\"], [0.3, \"#f1b6da\"], [0.4, \"#fde0ef\"], [0.5, \"#f7f7f7\"], [0.6, \"#e6f5d0\"], [0.7, \"#b8e186\"], [0.8, \"#7fbc41\"], [0.9, \"#4d9221\"], [1, \"#276419\"]], \"sequential\": [[0.0, \"#0d0887\"], [0.1111111111111111, \"#46039f\"], [0.2222222222222222, \"#7201a8\"], [0.3333333333333333, \"#9c179e\"], [0.4444444444444444, \"#bd3786\"], [0.5555555555555556, \"#d8576b\"], [0.6666666666666666, \"#ed7953\"], [0.7777777777777778, \"#fb9f3a\"], [0.8888888888888888, \"#fdca26\"], [1.0, \"#f0f921\"]], \"sequentialminus\": [[0.0, \"#0d0887\"], [0.1111111111111111, \"#46039f\"], [0.2222222222222222, \"#7201a8\"], [0.3333333333333333, \"#9c179e\"], [0.4444444444444444, \"#bd3786\"], [0.5555555555555556, \"#d8576b\"], [0.6666666666666666, \"#ed7953\"], [0.7777777777777778, \"#fb9f3a\"], [0.8888888888888888, \"#fdca26\"], [1.0, \"#f0f921\"]]}, \"colorway\": [\"#636efa\", \"#EF553B\", \"#00cc96\", \"#ab63fa\", \"#FFA15A\", \"#19d3f3\", \"#FF6692\", \"#B6E880\", \"#FF97FF\", \"#FECB52\"], \"font\": {\"color\": \"#2a3f5f\"}, \"geo\": {\"bgcolor\": \"white\", \"lakecolor\": \"white\", \"landcolor\": \"#E5ECF6\", \"showlakes\": true, \"showland\": true, \"subunitcolor\": \"white\"}, \"hoverlabel\": {\"align\": \"left\"}, \"hovermode\": \"closest\", \"mapbox\": {\"style\": \"light\"}, \"paper_bgcolor\": \"white\", \"plot_bgcolor\": \"#E5ECF6\", \"polar\": {\"angularaxis\": {\"gridcolor\": \"white\", \"linecolor\": \"white\", \"ticks\": \"\"}, \"bgcolor\": \"#E5ECF6\", \"radialaxis\": {\"gridcolor\": \"white\", \"linecolor\": \"white\", \"ticks\": \"\"}}, \"scene\": {\"xaxis\": {\"backgroundcolor\": \"#E5ECF6\", \"gridcolor\": \"white\", \"gridwidth\": 2, \"linecolor\": \"white\", \"showbackground\": true, \"ticks\": \"\", \"zerolinecolor\": \"white\"}, \"yaxis\": {\"backgroundcolor\": \"#E5ECF6\", \"gridcolor\": \"white\", \"gridwidth\": 2, \"linecolor\": \"white\", \"showbackground\": true, \"ticks\": \"\", \"zerolinecolor\": \"white\"}, \"zaxis\": {\"backgroundcolor\": \"#E5ECF6\", \"gridcolor\": \"white\", \"gridwidth\": 2, \"linecolor\": \"white\", \"showbackground\": true, \"ticks\": \"\", \"zerolinecolor\": \"white\"}}, \"shapedefaults\": {\"line\": {\"color\": \"#2a3f5f\"}}, \"ternary\": {\"aaxis\": {\"gridcolor\": \"white\", \"linecolor\": \"white\", \"ticks\": \"\"}, \"baxis\": {\"gridcolor\": \"white\", \"linecolor\": \"white\", \"ticks\": \"\"}, \"bgcolor\": \"#E5ECF6\", \"caxis\": {\"gridcolor\": \"white\", \"linecolor\": \"white\", \"ticks\": \"\"}}, \"title\": {\"x\": 0.05}, \"xaxis\": {\"automargin\": true, \"gridcolor\": \"white\", \"linecolor\": \"white\", \"ticks\": \"\", \"title\": {\"standoff\": 15}, \"zerolinecolor\": \"white\", \"zerolinewidth\": 2}, \"yaxis\": {\"automargin\": true, \"gridcolor\": \"white\", \"linecolor\": \"white\", \"ticks\": \"\", \"title\": {\"standoff\": 15}, \"zerolinecolor\": \"white\", \"zerolinewidth\": 2}}}, \"title\": {\"text\": \"ROC Curve (0.879)\"}, \"xaxis\": {\"title\": {\"text\": \"false positive rate\"}}, \"yaxis\": {\"title\": {\"text\": \"true positive rate\"}}},                        {\"responsive\": true}                    ).then(function(){\n",
       "                            \n",
       "var gd = document.getElementById('3a30d025-2f7a-41b7-bc6f-3d55315d4a5e');\n",
       "var x = new MutationObserver(function (mutations, observer) {{\n",
       "        var display = window.getComputedStyle(gd).display;\n",
       "        if (!display || display === 'none') {{\n",
       "            console.log([gd, 'removed!']);\n",
       "            Plotly.purge(gd);\n",
       "            observer.disconnect();\n",
       "        }}\n",
       "}});\n",
       "\n",
       "// Listen for the removal of the full notebook cells\n",
       "var notebookContainer = gd.closest('#notebook-container');\n",
       "if (notebookContainer) {{\n",
       "    x.observe(notebookContainer, {childList: true});\n",
       "}}\n",
       "\n",
       "// Listen for the clearing of the current output cell\n",
       "var outputEl = gd.closest('.output');\n",
       "if (outputEl) {{\n",
       "    x.observe(outputEl, {childList: true});\n",
       "}}\n",
       "\n",
       "                        })                };                });            </script>        </div>"
      ]
     },
     "metadata": {},
     "output_type": "display_data"
    }
   ],
   "source": [
    "from sklearn.ensemble import RandomForestClassifier\n",
    "\n",
    "model = RandomForestClassifier(max_depth = 5,random_state = 42,n_estimators=200)\n",
    "model.fit(X_train,Y_train)\n",
    "\n",
    "Y_score = model.predict_proba(X_test)[:,1]\n",
    "y_pred = model.predict(X_test)\n",
    "\n",
    "print('Random Forest')\n",
    "print('acc:',accuracy_score(Y_test,y_pred))\n",
    "print('recall:',recall_score(Y_test,y_pred))\n",
    "print('f1:',f1_score(Y_test,y_pred))\n",
    "\n",
    "roccurve()"
   ]
  }
 ],
 "metadata": {
  "kernel_info": {
   "name": "python3"
  },
  "kernelspec": {
   "display_name": "Python 3",
   "language": "python",
   "name": "python3"
  },
  "language_info": {
   "codemirror_mode": {
    "name": "ipython",
    "version": 3
   },
   "file_extension": ".py",
   "mimetype": "text/x-python",
   "name": "python",
   "nbconvert_exporter": "python",
   "pygments_lexer": "ipython3",
   "version": "3.7.3"
  },
  "nteract": {
   "version": "0.15.0"
  }
 },
 "nbformat": 4,
 "nbformat_minor": 2
}
